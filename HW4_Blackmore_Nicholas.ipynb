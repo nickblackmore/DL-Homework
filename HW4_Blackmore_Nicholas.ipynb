{
  "nbformat": 4,
  "nbformat_minor": 0,
  "metadata": {
    "colab": {
      "name": "HW4_Blackmore_Nicholas.ipynb",
      "provenance": [],
      "collapsed_sections": [],
      "machine_shape": "hm"
    },
    "kernelspec": {
      "name": "python3",
      "display_name": "Python 3"
    },
    "language_info": {
      "name": "python"
    },
    "accelerator": "GPU"
  },
  "cells": [
    {
      "cell_type": "code",
      "execution_count": 41,
      "metadata": {
        "colab": {
          "base_uri": "https://localhost:8080/"
        },
        "id": "q-OzGz2sSKlP",
        "outputId": "39cce339-09dd-4279-90cd-4933b7ea8ae6"
      },
      "outputs": [
        {
          "output_type": "stream",
          "name": "stdout",
          "text": [
            "Drive already mounted at /content/drive; to attempt to forcibly remount, call drive.mount(\"/content/drive\", force_remount=True).\n"
          ]
        }
      ],
      "source": [
        "from google.colab import drive\n",
        "import sys\n",
        "\n",
        "# Mount Google Drive\n",
        "drive.mount('/content/drive')\n",
        "\n",
        "data_path = '/content/drive/My Drive/Statistical Deep Learning/HW4/GoogleNews-vectors-negative300.magnitude'"
      ]
    },
    {
      "cell_type": "code",
      "source": [
        "# Install Magnitude on Google Colab\n",
        "! echo \"Installing Magnitude.... (please wait, can take a while)\"\n",
        "! (curl https://raw.githubusercontent.com/plasticityai/magnitude/master/install-colab.sh | /bin/bash 1>/dev/null 2>/dev/null)\n",
        "! echo \"Done installing Magnitude.\""
      ],
      "metadata": {
        "colab": {
          "base_uri": "https://localhost:8080/"
        },
        "id": "bvzRi6Xgf4IZ",
        "outputId": "6e552c24-c5a3-4169-ba5e-cb1394187a76"
      },
      "execution_count": 42,
      "outputs": [
        {
          "output_type": "stream",
          "name": "stdout",
          "text": [
            "Installing Magnitude.... (please wait, can take a while)\n",
            "  % Total    % Received % Xferd  Average Speed   Time    Time     Time  Current\n",
            "                                 Dload  Upload   Total   Spent    Left  Speed\n",
            "100   137  100   137    0     0   1201      0 --:--:-- --:--:-- --:--:--  1201\n",
            "Done installing Magnitude.\n"
          ]
        }
      ]
    },
    {
      "cell_type": "code",
      "source": [
        "from pymagnitude import *"
      ],
      "metadata": {
        "id": "zu-9X3SvSmdV"
      },
      "execution_count": 43,
      "outputs": []
    },
    {
      "cell_type": "code",
      "source": [
        "vectors = Magnitude(data_path)"
      ],
      "metadata": {
        "id": "dM3_ZipQrZPS"
      },
      "execution_count": 44,
      "outputs": []
    },
    {
      "cell_type": "markdown",
      "source": [
        "# Questions\n",
        "\n",
        "### Question 1: What is the dimensionality of these word embeddings? Provide and integer answer.\n",
        "\n",
        "### Answer: 300. Each word has a corresponding vector of length 300"
      ],
      "metadata": {
        "id": "kMysXQWEus_Q"
      }
    },
    {
      "cell_type": "code",
      "source": [
        "# Two ways of finding the dimension of the vector.\n",
        "\n",
        "print(vectors.dim)\n",
        "print(len(vectors[42][1]))"
      ],
      "metadata": {
        "colab": {
          "base_uri": "https://localhost:8080/"
        },
        "id": "lRNDmtV6rZRk",
        "outputId": "122db1a5-a9d5-4276-ffbc-04e37ae9f003"
      },
      "execution_count": 45,
      "outputs": [
        {
          "output_type": "stream",
          "name": "stdout",
          "text": [
            "300\n",
            "300\n"
          ]
        }
      ]
    },
    {
      "cell_type": "markdown",
      "source": [
        "### Question 2: What are the top-5 most similar words to picnic (not including picnic itself)?\n",
        "\n",
        "### Answer: 'cookout', 'Hiking_biking_camping', 'barbeque', 'barbecue', 'pig_roast'. I interpreted this question to mean the top 5 most similar words that do not have the sequence of letters \"p-i-c-n-i-c\" in it. This eliminated some of the phrases like \"picnics\" or \"potluck_picnic\"."
      ],
      "metadata": {
        "id": "GuXbv-ZT4O7x"
      }
    },
    {
      "cell_type": "code",
      "source": [
        "picnic_similar = vectors.most_similar('picnic', topn = 20) \n",
        "\n",
        "most_sim = []\n",
        "i = 0\n",
        "while len(most_sim) < 5:\n",
        "  word = picnic_similar[i][0]\n",
        "  if \"picnic\" not in word.lower():\n",
        "    most_sim.append(word)\n",
        "  i += 1\n",
        "\n",
        "print(most_sim)"
      ],
      "metadata": {
        "colab": {
          "base_uri": "https://localhost:8080/"
        },
        "id": "RHzWF-F_uix3",
        "outputId": "15895742-d827-4efa-965e-cc1349e1b175"
      },
      "execution_count": 46,
      "outputs": [
        {
          "output_type": "stream",
          "name": "stdout",
          "text": [
            "['cookout', 'Hiking_biking_camping', 'barbeque', 'barbecue', 'pig_roast']\n"
          ]
        }
      ]
    },
    {
      "cell_type": "code",
      "source": [
        "most_sim"
      ],
      "metadata": {
        "colab": {
          "base_uri": "https://localhost:8080/"
        },
        "id": "T6YiroP5rhLQ",
        "outputId": "127c4c40-cc02-4ab1-f5f9-62fe9838624c"
      },
      "execution_count": 47,
      "outputs": [
        {
          "output_type": "execute_result",
          "data": {
            "text/plain": [
              "['cookout', 'Hiking_biking_camping', 'barbeque', 'barbecue', 'pig_roast']"
            ]
          },
          "metadata": {},
          "execution_count": 47
        }
      ]
    },
    {
      "cell_type": "markdown",
      "source": [
        "### Question 3: According to the word embeddings, which of these words is not like the others? ['tissue', 'papyrus', 'manila', 'newsprint', 'parchment', 'gazette']\n",
        "\n",
        "### Answer: tissue\n",
        "I am assuming the doesnt_match function uses some sort of average similarity score to calculate this. For example, for each word it calculates the the similarity to each other word and averages them. This would run in 6 choose 2 time if programmed correctly."
      ],
      "metadata": {
        "id": "21vfBTuij-am"
      }
    },
    {
      "cell_type": "code",
      "source": [
        "vectors.doesnt_match(['tissue', 'papyrus', 'manila', 'newsprint', 'parchment', 'gazette'])"
      ],
      "metadata": {
        "colab": {
          "base_uri": "https://localhost:8080/",
          "height": 35
        },
        "id": "Xp5F6KlPkkus",
        "outputId": "b415c85a-b3c6-406f-c420-79c6bed1e082"
      },
      "execution_count": 48,
      "outputs": [
        {
          "output_type": "execute_result",
          "data": {
            "text/plain": [
              "'tissue'"
            ],
            "application/vnd.google.colaboratory.intrinsic+json": {
              "type": "string"
            }
          },
          "metadata": {},
          "execution_count": 48
        }
      ]
    },
    {
      "cell_type": "markdown",
      "source": [
        "### Question 4: Solve the following analogy: leg is to jump as X is to throw.\n",
        "\n",
        "### Answer: See code below."
      ],
      "metadata": {
        "id": "RgylfCOIlhW6"
      }
    },
    {
      "cell_type": "code",
      "source": [
        "results = vectors.most_similar(positive = [\"leg\", \"throw\"], negative = [\"jump\"])\n",
        "results"
      ],
      "metadata": {
        "colab": {
          "base_uri": "https://localhost:8080/"
        },
        "id": "fK0w76NRnJ4h",
        "outputId": "4bfda6fd-7838-4f29-9414-67782c1526a6"
      },
      "execution_count": 49,
      "outputs": [
        {
          "output_type": "execute_result",
          "data": {
            "text/plain": [
              "[('forearm', 0.48294652),\n",
              " ('shin', 0.47376165),\n",
              " ('elbow', 0.4679689),\n",
              " ('metacarpal_bone', 0.46781474),\n",
              " ('metacarpal_bones', 0.46605822),\n",
              " ('ankle', 0.46434426),\n",
              " ('shoulder', 0.46183354),\n",
              " ('thigh', 0.45393682),\n",
              " ('knee', 0.4455707),\n",
              " ('ulna_bone', 0.4423491)]"
            ]
          },
          "metadata": {},
          "execution_count": 49
        }
      ]
    },
    {
      "cell_type": "code",
      "source": [
        "import pandas as pd\n",
        "\n",
        "results_df = pd.DataFrame(np.array(results), columns=['word', 'similarity'])\n",
        "import plotly.express as px\n",
        "\n",
        "fig = px.bar(results_df, x='word', y='similarity')\n",
        "fig.show()"
      ],
      "metadata": {
        "colab": {
          "base_uri": "https://localhost:8080/",
          "height": 542
        },
        "id": "t9WVRLAzXTVV",
        "outputId": "5e52226f-555e-46e6-f54f-fb86459bac4b"
      },
      "execution_count": 50,
      "outputs": [
        {
          "output_type": "display_data",
          "data": {
            "text/html": [
              "<html>\n",
              "<head><meta charset=\"utf-8\" /></head>\n",
              "<body>\n",
              "    <div>            <script src=\"https://cdnjs.cloudflare.com/ajax/libs/mathjax/2.7.5/MathJax.js?config=TeX-AMS-MML_SVG\"></script><script type=\"text/javascript\">if (window.MathJax) {MathJax.Hub.Config({SVG: {font: \"STIX-Web\"}});}</script>                <script type=\"text/javascript\">window.PlotlyConfig = {MathJaxConfig: 'local'};</script>\n",
              "        <script src=\"https://cdn.plot.ly/plotly-2.8.3.min.js\"></script>                <div id=\"000d432c-c39f-4019-b590-d66eca8a6cad\" class=\"plotly-graph-div\" style=\"height:525px; width:100%;\"></div>            <script type=\"text/javascript\">                                    window.PLOTLYENV=window.PLOTLYENV || {};                                    if (document.getElementById(\"000d432c-c39f-4019-b590-d66eca8a6cad\")) {                    Plotly.newPlot(                        \"000d432c-c39f-4019-b590-d66eca8a6cad\",                        [{\"alignmentgroup\":\"True\",\"hovertemplate\":\"word=%{x}<br>similarity=%{y}<extra></extra>\",\"legendgroup\":\"\",\"marker\":{\"color\":\"#636efa\",\"pattern\":{\"shape\":\"\"}},\"name\":\"\",\"offsetgroup\":\"\",\"orientation\":\"v\",\"showlegend\":false,\"textposition\":\"auto\",\"x\":[\"forearm\",\"shin\",\"elbow\",\"metacarpal_bone\",\"metacarpal_bones\",\"ankle\",\"shoulder\",\"thigh\",\"knee\",\"ulna_bone\"],\"xaxis\":\"x\",\"y\":[\"0.48294652\",\"0.47376165\",\"0.4679689\",\"0.46781474\",\"0.46605822\",\"0.46434426\",\"0.46183354\",\"0.45393682\",\"0.4455707\",\"0.4423491\"],\"yaxis\":\"y\",\"type\":\"bar\"}],                        {\"template\":{\"data\":{\"bar\":[{\"error_x\":{\"color\":\"#2a3f5f\"},\"error_y\":{\"color\":\"#2a3f5f\"},\"marker\":{\"line\":{\"color\":\"#E5ECF6\",\"width\":0.5},\"pattern\":{\"fillmode\":\"overlay\",\"size\":10,\"solidity\":0.2}},\"type\":\"bar\"}],\"barpolar\":[{\"marker\":{\"line\":{\"color\":\"#E5ECF6\",\"width\":0.5},\"pattern\":{\"fillmode\":\"overlay\",\"size\":10,\"solidity\":0.2}},\"type\":\"barpolar\"}],\"carpet\":[{\"aaxis\":{\"endlinecolor\":\"#2a3f5f\",\"gridcolor\":\"white\",\"linecolor\":\"white\",\"minorgridcolor\":\"white\",\"startlinecolor\":\"#2a3f5f\"},\"baxis\":{\"endlinecolor\":\"#2a3f5f\",\"gridcolor\":\"white\",\"linecolor\":\"white\",\"minorgridcolor\":\"white\",\"startlinecolor\":\"#2a3f5f\"},\"type\":\"carpet\"}],\"choropleth\":[{\"colorbar\":{\"outlinewidth\":0,\"ticks\":\"\"},\"type\":\"choropleth\"}],\"contour\":[{\"colorbar\":{\"outlinewidth\":0,\"ticks\":\"\"},\"colorscale\":[[0.0,\"#0d0887\"],[0.1111111111111111,\"#46039f\"],[0.2222222222222222,\"#7201a8\"],[0.3333333333333333,\"#9c179e\"],[0.4444444444444444,\"#bd3786\"],[0.5555555555555556,\"#d8576b\"],[0.6666666666666666,\"#ed7953\"],[0.7777777777777778,\"#fb9f3a\"],[0.8888888888888888,\"#fdca26\"],[1.0,\"#f0f921\"]],\"type\":\"contour\"}],\"contourcarpet\":[{\"colorbar\":{\"outlinewidth\":0,\"ticks\":\"\"},\"type\":\"contourcarpet\"}],\"heatmap\":[{\"colorbar\":{\"outlinewidth\":0,\"ticks\":\"\"},\"colorscale\":[[0.0,\"#0d0887\"],[0.1111111111111111,\"#46039f\"],[0.2222222222222222,\"#7201a8\"],[0.3333333333333333,\"#9c179e\"],[0.4444444444444444,\"#bd3786\"],[0.5555555555555556,\"#d8576b\"],[0.6666666666666666,\"#ed7953\"],[0.7777777777777778,\"#fb9f3a\"],[0.8888888888888888,\"#fdca26\"],[1.0,\"#f0f921\"]],\"type\":\"heatmap\"}],\"heatmapgl\":[{\"colorbar\":{\"outlinewidth\":0,\"ticks\":\"\"},\"colorscale\":[[0.0,\"#0d0887\"],[0.1111111111111111,\"#46039f\"],[0.2222222222222222,\"#7201a8\"],[0.3333333333333333,\"#9c179e\"],[0.4444444444444444,\"#bd3786\"],[0.5555555555555556,\"#d8576b\"],[0.6666666666666666,\"#ed7953\"],[0.7777777777777778,\"#fb9f3a\"],[0.8888888888888888,\"#fdca26\"],[1.0,\"#f0f921\"]],\"type\":\"heatmapgl\"}],\"histogram\":[{\"marker\":{\"pattern\":{\"fillmode\":\"overlay\",\"size\":10,\"solidity\":0.2}},\"type\":\"histogram\"}],\"histogram2d\":[{\"colorbar\":{\"outlinewidth\":0,\"ticks\":\"\"},\"colorscale\":[[0.0,\"#0d0887\"],[0.1111111111111111,\"#46039f\"],[0.2222222222222222,\"#7201a8\"],[0.3333333333333333,\"#9c179e\"],[0.4444444444444444,\"#bd3786\"],[0.5555555555555556,\"#d8576b\"],[0.6666666666666666,\"#ed7953\"],[0.7777777777777778,\"#fb9f3a\"],[0.8888888888888888,\"#fdca26\"],[1.0,\"#f0f921\"]],\"type\":\"histogram2d\"}],\"histogram2dcontour\":[{\"colorbar\":{\"outlinewidth\":0,\"ticks\":\"\"},\"colorscale\":[[0.0,\"#0d0887\"],[0.1111111111111111,\"#46039f\"],[0.2222222222222222,\"#7201a8\"],[0.3333333333333333,\"#9c179e\"],[0.4444444444444444,\"#bd3786\"],[0.5555555555555556,\"#d8576b\"],[0.6666666666666666,\"#ed7953\"],[0.7777777777777778,\"#fb9f3a\"],[0.8888888888888888,\"#fdca26\"],[1.0,\"#f0f921\"]],\"type\":\"histogram2dcontour\"}],\"mesh3d\":[{\"colorbar\":{\"outlinewidth\":0,\"ticks\":\"\"},\"type\":\"mesh3d\"}],\"parcoords\":[{\"line\":{\"colorbar\":{\"outlinewidth\":0,\"ticks\":\"\"}},\"type\":\"parcoords\"}],\"pie\":[{\"automargin\":true,\"type\":\"pie\"}],\"scatter\":[{\"marker\":{\"colorbar\":{\"outlinewidth\":0,\"ticks\":\"\"}},\"type\":\"scatter\"}],\"scatter3d\":[{\"line\":{\"colorbar\":{\"outlinewidth\":0,\"ticks\":\"\"}},\"marker\":{\"colorbar\":{\"outlinewidth\":0,\"ticks\":\"\"}},\"type\":\"scatter3d\"}],\"scattercarpet\":[{\"marker\":{\"colorbar\":{\"outlinewidth\":0,\"ticks\":\"\"}},\"type\":\"scattercarpet\"}],\"scattergeo\":[{\"marker\":{\"colorbar\":{\"outlinewidth\":0,\"ticks\":\"\"}},\"type\":\"scattergeo\"}],\"scattergl\":[{\"marker\":{\"colorbar\":{\"outlinewidth\":0,\"ticks\":\"\"}},\"type\":\"scattergl\"}],\"scattermapbox\":[{\"marker\":{\"colorbar\":{\"outlinewidth\":0,\"ticks\":\"\"}},\"type\":\"scattermapbox\"}],\"scatterpolar\":[{\"marker\":{\"colorbar\":{\"outlinewidth\":0,\"ticks\":\"\"}},\"type\":\"scatterpolar\"}],\"scatterpolargl\":[{\"marker\":{\"colorbar\":{\"outlinewidth\":0,\"ticks\":\"\"}},\"type\":\"scatterpolargl\"}],\"scatterternary\":[{\"marker\":{\"colorbar\":{\"outlinewidth\":0,\"ticks\":\"\"}},\"type\":\"scatterternary\"}],\"surface\":[{\"colorbar\":{\"outlinewidth\":0,\"ticks\":\"\"},\"colorscale\":[[0.0,\"#0d0887\"],[0.1111111111111111,\"#46039f\"],[0.2222222222222222,\"#7201a8\"],[0.3333333333333333,\"#9c179e\"],[0.4444444444444444,\"#bd3786\"],[0.5555555555555556,\"#d8576b\"],[0.6666666666666666,\"#ed7953\"],[0.7777777777777778,\"#fb9f3a\"],[0.8888888888888888,\"#fdca26\"],[1.0,\"#f0f921\"]],\"type\":\"surface\"}],\"table\":[{\"cells\":{\"fill\":{\"color\":\"#EBF0F8\"},\"line\":{\"color\":\"white\"}},\"header\":{\"fill\":{\"color\":\"#C8D4E3\"},\"line\":{\"color\":\"white\"}},\"type\":\"table\"}]},\"layout\":{\"annotationdefaults\":{\"arrowcolor\":\"#2a3f5f\",\"arrowhead\":0,\"arrowwidth\":1},\"autotypenumbers\":\"strict\",\"coloraxis\":{\"colorbar\":{\"outlinewidth\":0,\"ticks\":\"\"}},\"colorscale\":{\"diverging\":[[0,\"#8e0152\"],[0.1,\"#c51b7d\"],[0.2,\"#de77ae\"],[0.3,\"#f1b6da\"],[0.4,\"#fde0ef\"],[0.5,\"#f7f7f7\"],[0.6,\"#e6f5d0\"],[0.7,\"#b8e186\"],[0.8,\"#7fbc41\"],[0.9,\"#4d9221\"],[1,\"#276419\"]],\"sequential\":[[0.0,\"#0d0887\"],[0.1111111111111111,\"#46039f\"],[0.2222222222222222,\"#7201a8\"],[0.3333333333333333,\"#9c179e\"],[0.4444444444444444,\"#bd3786\"],[0.5555555555555556,\"#d8576b\"],[0.6666666666666666,\"#ed7953\"],[0.7777777777777778,\"#fb9f3a\"],[0.8888888888888888,\"#fdca26\"],[1.0,\"#f0f921\"]],\"sequentialminus\":[[0.0,\"#0d0887\"],[0.1111111111111111,\"#46039f\"],[0.2222222222222222,\"#7201a8\"],[0.3333333333333333,\"#9c179e\"],[0.4444444444444444,\"#bd3786\"],[0.5555555555555556,\"#d8576b\"],[0.6666666666666666,\"#ed7953\"],[0.7777777777777778,\"#fb9f3a\"],[0.8888888888888888,\"#fdca26\"],[1.0,\"#f0f921\"]]},\"colorway\":[\"#636efa\",\"#EF553B\",\"#00cc96\",\"#ab63fa\",\"#FFA15A\",\"#19d3f3\",\"#FF6692\",\"#B6E880\",\"#FF97FF\",\"#FECB52\"],\"font\":{\"color\":\"#2a3f5f\"},\"geo\":{\"bgcolor\":\"white\",\"lakecolor\":\"white\",\"landcolor\":\"#E5ECF6\",\"showlakes\":true,\"showland\":true,\"subunitcolor\":\"white\"},\"hoverlabel\":{\"align\":\"left\"},\"hovermode\":\"closest\",\"mapbox\":{\"style\":\"light\"},\"paper_bgcolor\":\"white\",\"plot_bgcolor\":\"#E5ECF6\",\"polar\":{\"angularaxis\":{\"gridcolor\":\"white\",\"linecolor\":\"white\",\"ticks\":\"\"},\"bgcolor\":\"#E5ECF6\",\"radialaxis\":{\"gridcolor\":\"white\",\"linecolor\":\"white\",\"ticks\":\"\"}},\"scene\":{\"xaxis\":{\"backgroundcolor\":\"#E5ECF6\",\"gridcolor\":\"white\",\"gridwidth\":2,\"linecolor\":\"white\",\"showbackground\":true,\"ticks\":\"\",\"zerolinecolor\":\"white\"},\"yaxis\":{\"backgroundcolor\":\"#E5ECF6\",\"gridcolor\":\"white\",\"gridwidth\":2,\"linecolor\":\"white\",\"showbackground\":true,\"ticks\":\"\",\"zerolinecolor\":\"white\"},\"zaxis\":{\"backgroundcolor\":\"#E5ECF6\",\"gridcolor\":\"white\",\"gridwidth\":2,\"linecolor\":\"white\",\"showbackground\":true,\"ticks\":\"\",\"zerolinecolor\":\"white\"}},\"shapedefaults\":{\"line\":{\"color\":\"#2a3f5f\"}},\"ternary\":{\"aaxis\":{\"gridcolor\":\"white\",\"linecolor\":\"white\",\"ticks\":\"\"},\"baxis\":{\"gridcolor\":\"white\",\"linecolor\":\"white\",\"ticks\":\"\"},\"bgcolor\":\"#E5ECF6\",\"caxis\":{\"gridcolor\":\"white\",\"linecolor\":\"white\",\"ticks\":\"\"}},\"title\":{\"x\":0.05},\"xaxis\":{\"automargin\":true,\"gridcolor\":\"white\",\"linecolor\":\"white\",\"ticks\":\"\",\"title\":{\"standoff\":15},\"zerolinecolor\":\"white\",\"zerolinewidth\":2},\"yaxis\":{\"automargin\":true,\"gridcolor\":\"white\",\"linecolor\":\"white\",\"ticks\":\"\",\"title\":{\"standoff\":15},\"zerolinecolor\":\"white\",\"zerolinewidth\":2}}},\"xaxis\":{\"anchor\":\"y\",\"domain\":[0.0,1.0],\"title\":{\"text\":\"word\"}},\"yaxis\":{\"anchor\":\"x\",\"domain\":[0.0,1.0],\"title\":{\"text\":\"similarity\"}},\"legend\":{\"tracegroupgap\":0},\"margin\":{\"t\":60},\"barmode\":\"relative\"},                        {\"responsive\": true}                    ).then(function(){\n",
              "                            \n",
              "var gd = document.getElementById('000d432c-c39f-4019-b590-d66eca8a6cad');\n",
              "var x = new MutationObserver(function (mutations, observer) {{\n",
              "        var display = window.getComputedStyle(gd).display;\n",
              "        if (!display || display === 'none') {{\n",
              "            console.log([gd, 'removed!']);\n",
              "            Plotly.purge(gd);\n",
              "            observer.disconnect();\n",
              "        }}\n",
              "}});\n",
              "\n",
              "// Listen for the removal of the full notebook cells\n",
              "var notebookContainer = gd.closest('#notebook-container');\n",
              "if (notebookContainer) {{\n",
              "    x.observe(notebookContainer, {childList: true});\n",
              "}}\n",
              "\n",
              "// Listen for the clearing of the current output cell\n",
              "var outputEl = gd.closest('.output');\n",
              "if (outputEl) {{\n",
              "    x.observe(outputEl, {childList: true});\n",
              "}}\n",
              "\n",
              "                        })                };                            </script>        </div>\n",
              "</body>\n",
              "</html>"
            ]
          },
          "metadata": {}
        }
      ]
    },
    {
      "cell_type": "markdown",
      "source": [
        "### Plotting\n",
        "I experimented with displaying the association between the vectors with each word in a way that preserves associations. \n",
        "\n",
        "I used Principal Component Analysis to decompose the 3000000 by 300 matrix of word vectors into their principal components. I then transformed several of the word vectors using the top two principal components (eigenvectors corresponding to the top two eigenvalues). I then plotted these transformed word vectors to see if the closeness matched the doesnt_match function from the problem 3. \n",
        "\n",
        "Note that due to RAM constraints I actually randomly sampled 500,000 of the 3 million words to create the covariance matrix for PCA. Therefore, this PCA is technically \"sample PCA\" and there is sample uncertainty associated with the estimate."
      ],
      "metadata": {
        "id": "DmGwzmUTBcPp"
      }
    },
    {
      "cell_type": "code",
      "source": [
        "import numpy as np\n",
        "from sklearn.decomposition import PCA"
      ],
      "metadata": {
        "id": "b3FgSPZds6WY"
      },
      "execution_count": 51,
      "outputs": []
    },
    {
      "cell_type": "code",
      "source": [
        "vec_array = np.zeros(shape = (3000000, 300))\n",
        "for i in range(3000000):\n",
        "  if i % 10000 == 0:\n",
        "    print(\"Step: \", i,\"Complete\")\n",
        "  vec_array[i] = vectors[i][1].astype(\"int\")\n",
        "\n",
        "vec_array"
      ],
      "metadata": {
        "colab": {
          "base_uri": "https://localhost:8080/"
        },
        "id": "0Cfuj4mXDNe3",
        "outputId": "06489d7f-2b4d-405b-cb1f-d5b7699756a5"
      },
      "execution_count": 52,
      "outputs": [
        {
          "output_type": "stream",
          "name": "stdout",
          "text": [
            "Step:  0 Complete\n",
            "Step:  10000 Complete\n",
            "Step:  20000 Complete\n",
            "Step:  30000 Complete\n",
            "Step:  40000 Complete\n",
            "Step:  50000 Complete\n",
            "Step:  60000 Complete\n",
            "Step:  70000 Complete\n",
            "Step:  80000 Complete\n",
            "Step:  90000 Complete\n",
            "Step:  100000 Complete\n",
            "Step:  110000 Complete\n",
            "Step:  120000 Complete\n",
            "Step:  130000 Complete\n",
            "Step:  140000 Complete\n",
            "Step:  150000 Complete\n",
            "Step:  160000 Complete\n",
            "Step:  170000 Complete\n",
            "Step:  180000 Complete\n",
            "Step:  190000 Complete\n",
            "Step:  200000 Complete\n",
            "Step:  210000 Complete\n",
            "Step:  220000 Complete\n",
            "Step:  230000 Complete\n",
            "Step:  240000 Complete\n",
            "Step:  250000 Complete\n",
            "Step:  260000 Complete\n",
            "Step:  270000 Complete\n",
            "Step:  280000 Complete\n",
            "Step:  290000 Complete\n",
            "Step:  300000 Complete\n",
            "Step:  310000 Complete\n",
            "Step:  320000 Complete\n",
            "Step:  330000 Complete\n",
            "Step:  340000 Complete\n",
            "Step:  350000 Complete\n",
            "Step:  360000 Complete\n",
            "Step:  370000 Complete\n",
            "Step:  380000 Complete\n",
            "Step:  390000 Complete\n",
            "Step:  400000 Complete\n",
            "Step:  410000 Complete\n",
            "Step:  420000 Complete\n",
            "Step:  430000 Complete\n",
            "Step:  440000 Complete\n",
            "Step:  450000 Complete\n",
            "Step:  460000 Complete\n",
            "Step:  470000 Complete\n",
            "Step:  480000 Complete\n",
            "Step:  490000 Complete\n",
            "Step:  500000 Complete\n",
            "Step:  510000 Complete\n",
            "Step:  520000 Complete\n",
            "Step:  530000 Complete\n",
            "Step:  540000 Complete\n",
            "Step:  550000 Complete\n",
            "Step:  560000 Complete\n",
            "Step:  570000 Complete\n",
            "Step:  580000 Complete\n",
            "Step:  590000 Complete\n",
            "Step:  600000 Complete\n",
            "Step:  610000 Complete\n",
            "Step:  620000 Complete\n",
            "Step:  630000 Complete\n",
            "Step:  640000 Complete\n",
            "Step:  650000 Complete\n",
            "Step:  660000 Complete\n",
            "Step:  670000 Complete\n",
            "Step:  680000 Complete\n",
            "Step:  690000 Complete\n",
            "Step:  700000 Complete\n",
            "Step:  710000 Complete\n",
            "Step:  720000 Complete\n",
            "Step:  730000 Complete\n",
            "Step:  740000 Complete\n",
            "Step:  750000 Complete\n",
            "Step:  760000 Complete\n",
            "Step:  770000 Complete\n",
            "Step:  780000 Complete\n",
            "Step:  790000 Complete\n",
            "Step:  800000 Complete\n",
            "Step:  810000 Complete\n",
            "Step:  820000 Complete\n",
            "Step:  830000 Complete\n",
            "Step:  840000 Complete\n",
            "Step:  850000 Complete\n",
            "Step:  860000 Complete\n",
            "Step:  870000 Complete\n",
            "Step:  880000 Complete\n",
            "Step:  890000 Complete\n",
            "Step:  900000 Complete\n",
            "Step:  910000 Complete\n",
            "Step:  920000 Complete\n",
            "Step:  930000 Complete\n",
            "Step:  940000 Complete\n",
            "Step:  950000 Complete\n",
            "Step:  960000 Complete\n",
            "Step:  970000 Complete\n",
            "Step:  980000 Complete\n",
            "Step:  990000 Complete\n",
            "Step:  1000000 Complete\n",
            "Step:  1010000 Complete\n",
            "Step:  1020000 Complete\n",
            "Step:  1030000 Complete\n",
            "Step:  1040000 Complete\n",
            "Step:  1050000 Complete\n",
            "Step:  1060000 Complete\n",
            "Step:  1070000 Complete\n",
            "Step:  1080000 Complete\n",
            "Step:  1090000 Complete\n",
            "Step:  1100000 Complete\n",
            "Step:  1110000 Complete\n",
            "Step:  1120000 Complete\n",
            "Step:  1130000 Complete\n",
            "Step:  1140000 Complete\n",
            "Step:  1150000 Complete\n",
            "Step:  1160000 Complete\n",
            "Step:  1170000 Complete\n",
            "Step:  1180000 Complete\n",
            "Step:  1190000 Complete\n",
            "Step:  1200000 Complete\n",
            "Step:  1210000 Complete\n",
            "Step:  1220000 Complete\n",
            "Step:  1230000 Complete\n",
            "Step:  1240000 Complete\n",
            "Step:  1250000 Complete\n",
            "Step:  1260000 Complete\n",
            "Step:  1270000 Complete\n",
            "Step:  1280000 Complete\n",
            "Step:  1290000 Complete\n",
            "Step:  1300000 Complete\n",
            "Step:  1310000 Complete\n",
            "Step:  1320000 Complete\n",
            "Step:  1330000 Complete\n",
            "Step:  1340000 Complete\n",
            "Step:  1350000 Complete\n",
            "Step:  1360000 Complete\n",
            "Step:  1370000 Complete\n",
            "Step:  1380000 Complete\n",
            "Step:  1390000 Complete\n",
            "Step:  1400000 Complete\n",
            "Step:  1410000 Complete\n",
            "Step:  1420000 Complete\n",
            "Step:  1430000 Complete\n",
            "Step:  1440000 Complete\n",
            "Step:  1450000 Complete\n",
            "Step:  1460000 Complete\n",
            "Step:  1470000 Complete\n",
            "Step:  1480000 Complete\n",
            "Step:  1490000 Complete\n",
            "Step:  1500000 Complete\n",
            "Step:  1510000 Complete\n",
            "Step:  1520000 Complete\n",
            "Step:  1530000 Complete\n",
            "Step:  1540000 Complete\n",
            "Step:  1550000 Complete\n",
            "Step:  1560000 Complete\n",
            "Step:  1570000 Complete\n",
            "Step:  1580000 Complete\n",
            "Step:  1590000 Complete\n",
            "Step:  1600000 Complete\n",
            "Step:  1610000 Complete\n",
            "Step:  1620000 Complete\n",
            "Step:  1630000 Complete\n",
            "Step:  1640000 Complete\n",
            "Step:  1650000 Complete\n",
            "Step:  1660000 Complete\n",
            "Step:  1670000 Complete\n",
            "Step:  1680000 Complete\n",
            "Step:  1690000 Complete\n",
            "Step:  1700000 Complete\n",
            "Step:  1710000 Complete\n",
            "Step:  1720000 Complete\n",
            "Step:  1730000 Complete\n",
            "Step:  1740000 Complete\n",
            "Step:  1750000 Complete\n",
            "Step:  1760000 Complete\n",
            "Step:  1770000 Complete\n",
            "Step:  1780000 Complete\n",
            "Step:  1790000 Complete\n",
            "Step:  1800000 Complete\n",
            "Step:  1810000 Complete\n",
            "Step:  1820000 Complete\n",
            "Step:  1830000 Complete\n",
            "Step:  1840000 Complete\n",
            "Step:  1850000 Complete\n",
            "Step:  1860000 Complete\n",
            "Step:  1870000 Complete\n",
            "Step:  1880000 Complete\n",
            "Step:  1890000 Complete\n",
            "Step:  1900000 Complete\n",
            "Step:  1910000 Complete\n",
            "Step:  1920000 Complete\n",
            "Step:  1930000 Complete\n",
            "Step:  1940000 Complete\n",
            "Step:  1950000 Complete\n",
            "Step:  1960000 Complete\n",
            "Step:  1970000 Complete\n",
            "Step:  1980000 Complete\n",
            "Step:  1990000 Complete\n",
            "Step:  2000000 Complete\n",
            "Step:  2010000 Complete\n",
            "Step:  2020000 Complete\n",
            "Step:  2030000 Complete\n",
            "Step:  2040000 Complete\n",
            "Step:  2050000 Complete\n",
            "Step:  2060000 Complete\n",
            "Step:  2070000 Complete\n",
            "Step:  2080000 Complete\n",
            "Step:  2090000 Complete\n",
            "Step:  2100000 Complete\n",
            "Step:  2110000 Complete\n",
            "Step:  2120000 Complete\n",
            "Step:  2130000 Complete\n",
            "Step:  2140000 Complete\n",
            "Step:  2150000 Complete\n",
            "Step:  2160000 Complete\n",
            "Step:  2170000 Complete\n",
            "Step:  2180000 Complete\n",
            "Step:  2190000 Complete\n",
            "Step:  2200000 Complete\n",
            "Step:  2210000 Complete\n",
            "Step:  2220000 Complete\n",
            "Step:  2230000 Complete\n",
            "Step:  2240000 Complete\n",
            "Step:  2250000 Complete\n",
            "Step:  2260000 Complete\n",
            "Step:  2270000 Complete\n",
            "Step:  2280000 Complete\n",
            "Step:  2290000 Complete\n",
            "Step:  2300000 Complete\n",
            "Step:  2310000 Complete\n",
            "Step:  2320000 Complete\n",
            "Step:  2330000 Complete\n",
            "Step:  2340000 Complete\n",
            "Step:  2350000 Complete\n",
            "Step:  2360000 Complete\n",
            "Step:  2370000 Complete\n",
            "Step:  2380000 Complete\n",
            "Step:  2390000 Complete\n",
            "Step:  2400000 Complete\n",
            "Step:  2410000 Complete\n",
            "Step:  2420000 Complete\n",
            "Step:  2430000 Complete\n",
            "Step:  2440000 Complete\n",
            "Step:  2450000 Complete\n",
            "Step:  2460000 Complete\n",
            "Step:  2470000 Complete\n",
            "Step:  2480000 Complete\n",
            "Step:  2490000 Complete\n",
            "Step:  2500000 Complete\n",
            "Step:  2510000 Complete\n",
            "Step:  2520000 Complete\n",
            "Step:  2530000 Complete\n",
            "Step:  2540000 Complete\n",
            "Step:  2550000 Complete\n",
            "Step:  2560000 Complete\n",
            "Step:  2570000 Complete\n",
            "Step:  2580000 Complete\n",
            "Step:  2590000 Complete\n",
            "Step:  2600000 Complete\n",
            "Step:  2610000 Complete\n",
            "Step:  2620000 Complete\n",
            "Step:  2630000 Complete\n",
            "Step:  2640000 Complete\n",
            "Step:  2650000 Complete\n",
            "Step:  2660000 Complete\n",
            "Step:  2670000 Complete\n",
            "Step:  2680000 Complete\n",
            "Step:  2690000 Complete\n",
            "Step:  2700000 Complete\n",
            "Step:  2710000 Complete\n",
            "Step:  2720000 Complete\n",
            "Step:  2730000 Complete\n",
            "Step:  2740000 Complete\n",
            "Step:  2750000 Complete\n",
            "Step:  2760000 Complete\n",
            "Step:  2770000 Complete\n",
            "Step:  2780000 Complete\n",
            "Step:  2790000 Complete\n",
            "Step:  2800000 Complete\n",
            "Step:  2810000 Complete\n",
            "Step:  2820000 Complete\n",
            "Step:  2830000 Complete\n",
            "Step:  2840000 Complete\n",
            "Step:  2850000 Complete\n",
            "Step:  2860000 Complete\n",
            "Step:  2870000 Complete\n",
            "Step:  2880000 Complete\n",
            "Step:  2890000 Complete\n",
            "Step:  2900000 Complete\n",
            "Step:  2910000 Complete\n",
            "Step:  2920000 Complete\n",
            "Step:  2930000 Complete\n",
            "Step:  2940000 Complete\n",
            "Step:  2950000 Complete\n",
            "Step:  2960000 Complete\n",
            "Step:  2970000 Complete\n",
            "Step:  2980000 Complete\n",
            "Step:  2990000 Complete\n"
          ]
        },
        {
          "output_type": "execute_result",
          "data": {
            "text/plain": [
              "array([[0., 0., 0., ..., 0., 0., 0.],\n",
              "       [0., 0., 0., ..., 0., 0., 0.],\n",
              "       [0., 0., 0., ..., 0., 0., 0.],\n",
              "       ...,\n",
              "       [0., 0., 0., ..., 0., 0., 0.],\n",
              "       [0., 0., 0., ..., 0., 0., 0.],\n",
              "       [0., 0., 0., ..., 0., 0., 0.]])"
            ]
          },
          "metadata": {},
          "execution_count": 52
        }
      ]
    },
    {
      "cell_type": "code",
      "source": [
        "idx = np.random.choice(3000000, 400000, replace=False)\n",
        "print(type(idx[0]))\n",
        "vec_array = vec_array[idx]\n",
        "\n",
        "del idx"
      ],
      "metadata": {
        "colab": {
          "base_uri": "https://localhost:8080/"
        },
        "id": "ZR8Mx9BmZXLS",
        "outputId": "af309dec-3da4-41ec-8d5a-57480677bdaf"
      },
      "execution_count": 53,
      "outputs": [
        {
          "output_type": "stream",
          "name": "stdout",
          "text": [
            "<class 'numpy.int64'>\n"
          ]
        }
      ]
    },
    {
      "cell_type": "code",
      "source": [
        "words = ['tissue', 'papyrus', 'manila', 'newsprint', 'parchment', 'gazette']\n",
        "word_vecs = [vectors.query(word) for word in words]\n",
        "\n",
        "pca = PCA(n_components=2)\n",
        "\n",
        "pca.fit(vec_array)\n",
        "del vec_array # invoking garbage collection since there are RAM limitations\n",
        "\n",
        "plotting_array = []\n",
        "for i in range(len(words)):\n",
        "  word_vec = word_vecs[i]\n",
        "  vec_2d = pca.transform(np.array([word_vec]))\n",
        "  print(vec_2d)\n",
        "  plotting_array.append((vec_2d[0][0], vec_2d[0][1], words[i]))\n",
        "\n",
        "import pandas as pd\n",
        "plotting_df = pd.DataFrame(np.array(plotting_array), columns=['X', 'Y', \"Word\"])"
      ],
      "metadata": {
        "colab": {
          "base_uri": "https://localhost:8080/"
        },
        "id": "BJBrpowbDRAa",
        "outputId": "2912a988-1027-41db-ec36-79332b242be4"
      },
      "execution_count": 54,
      "outputs": [
        {
          "output_type": "stream",
          "name": "stdout",
          "text": [
            "[[-0.068577   0.0755747]]\n",
            "[[0.13307419 0.0836466 ]]\n",
            "[[-0.0633838  0.0175465]]\n",
            "[[0.0304885 0.0316318]]\n",
            "[[0.0599903 0.044931 ]]\n",
            "[[-0.0019478  0.0181685]]\n"
          ]
        },
        {
          "output_type": "stream",
          "name": "stderr",
          "text": [
            "/usr/local/lib/python3.7/dist-packages/sklearn/decomposition/_pca.py:595: RuntimeWarning:\n",
            "\n",
            "invalid value encountered in true_divide\n",
            "\n"
          ]
        }
      ]
    },
    {
      "cell_type": "code",
      "source": [
        "import matplotlib.pyplot as plt\n",
        "import numpy as np\n",
        "\n",
        "ax = plt.axes()\n",
        "# For x-axis limit\n",
        "ax.set_xlim(-.15, .2)\n",
        "\n",
        "# For y-axis limit\n",
        "ax.set_ylim(-.05, .2)\n",
        "\n",
        "for data in plotting_array:\n",
        "  ax.text(data[0], data[1], data[2])\n",
        "\n",
        "ax.set_title(\"PCA Projected Similarity Between Words\")\n",
        "ax.set_xlabel(\"First Principal Component\")\n",
        "ax.set_ylabel(\"Second Principal Component\")\n",
        "\n",
        "plt.show()"
      ],
      "metadata": {
        "colab": {
          "base_uri": "https://localhost:8080/",
          "height": 295
        },
        "id": "gmfs97jJRIkJ",
        "outputId": "0b132993-716a-4682-c87f-a64e37c02943"
      },
      "execution_count": 55,
      "outputs": [
        {
          "output_type": "display_data",
          "data": {
            "text/plain": [
              "<Figure size 432x288 with 1 Axes>"
            ],
            "image/png": "[encoded data removed]"
          },
          "metadata": {
            "needs_background": "light"
          }
        }
      ]
    },
    {
      "cell_type": "markdown",
      "source": [
        "We can see in the plot above that tissue does seem to be the furthest from the other words, confirming what we had suspected to be the case in question 3."
      ],
      "metadata": {
        "id": "_cbIMa07f6he"
      }
    }
  ]
}