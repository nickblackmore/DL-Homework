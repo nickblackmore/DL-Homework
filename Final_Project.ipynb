{
  "cells": [
    {
      "cell_type": "code",
      "execution_count": null,
      "metadata": {
        "colab": {
          "base_uri": "https://localhost:8080/"
        },
        "id": "YzKBTtw-Z8kU",
        "outputId": "c5b73b6b-8de2-43dc-8f18-54eef398702b"
      },
      "outputs": [
        {
          "output_type": "stream",
          "name": "stdout",
          "text": [
            "Drive already mounted at /content/drive; to attempt to forcibly remount, call drive.mount(\"/content/drive\", force_remount=True).\n"
          ]
        }
      ],
      "source": [
        "from google.colab import drive\n",
        "import sys\n",
        "\n",
        "# Mount Google Drive\n",
        "drive.mount('/content/drive')\n",
        "abs_path = '/content/drive/My Drive/Statistical Deep Learning/Final Project/'\n",
        "data_path = '/content/drive/My Drive/Statistical Deep Learning/Final Project/data'"
      ]
    },
    {
      "cell_type": "markdown",
      "source": [
        "# Autorship Identification\n",
        "By Nick Blackmore and Samuel Homan"
      ],
      "metadata": {
        "id": "ByUg0eUG1yhp"
      }
    },
    {
      "cell_type": "code",
      "execution_count": null,
      "metadata": {
        "id": "E0EBUT96axkn"
      },
      "outputs": [],
      "source": [
        "import math\n",
        "import matplotlib.pyplot as plt\n",
        "import keras\n",
        "import pandas as pd\n",
        "import numpy as np\n",
        "import os\n",
        "from keras.models import Sequential\n",
        "from keras.layers import Dense\n",
        "from keras.layers import LSTM\n",
        "from keras.layers import Dropout\n",
        "from keras.layers import *\n",
        "from sklearn.preprocessing import MinMaxScaler\n",
        "from sklearn.metrics import mean_squared_error\n",
        "from sklearn.metrics import mean_absolute_error\n",
        "from sklearn.model_selection import train_test_split\n",
        "from keras.callbacks import EarlyStopping\n",
        "\n",
        "from scipy.stats import logistic"
      ]
    },
    {
      "cell_type": "code",
      "execution_count": null,
      "metadata": {
        "id": "tjZjQhpNa5J7"
      },
      "outputs": [],
      "source": [
        "import tensorflow_datasets as tfds\n",
        "import tensorflow as tf\n",
        "\n",
        "tfds.disable_progress_bar()"
      ]
    },
    {
      "cell_type": "markdown",
      "source": [
        "## 1. Pre-Processing"
      ],
      "metadata": {
        "id": "EWmqnZ4Y2ftt"
      }
    },
    {
      "cell_type": "markdown",
      "metadata": {
        "id": "xZmxhIQQPdJN"
      },
      "source": [
        "### Creating the Training and Validation sets.\n",
        "\n",
        "The training data will consist of 14 novels written by five authors. Each novel will be broken up into random selections (of about 5 lines each) of the 15 novels and lablels correpsonding to their respective authors. Ten percent of the data will be held out for validation during training. The testing data will be created from different novels entirely to see how each of the models will generalize. This is a scenario that is somewhat unique to authorship identification. In fact, we expect our model to overfit the training data compared to the testing data, bu our model should do well compared to the validation data. "
      ]
    },
    {
      "cell_type": "code",
      "execution_count": null,
      "metadata": {
        "colab": {
          "base_uri": "https://localhost:8080/"
        },
        "id": "juCxzKjTF2Hd",
        "outputId": "a6d232fb-9695-4586-c7fa-82002c6f8415"
      },
      "outputs": [
        {
          "output_type": "stream",
          "name": "stdout",
          "text": [
            "['callofwild.txt', 'gatsby.txt', 'greenhills.txt', 'huckfinn.txt', 'littlewomen.txt', 'oldfashionedgirl.txt', 'oldmanandthesea.txt', 'pickles', 'princeandpauper.txt', 'seawolf.txt', 'sunalsorises.txt', 'tenderisthenight.txt', 'tomsawyer.txt', 'whitefang.txt']\n"
          ]
        },
        {
          "output_type": "execute_result",
          "data": {
            "text/plain": [
              "{'callofwild': 0,\n",
              " 'gatsby': 1,\n",
              " 'greenhills': 2,\n",
              " 'huckfinn': 3,\n",
              " 'littlewomen': 4,\n",
              " 'oldfashionedgirl': 4,\n",
              " 'oldmanandthesea': 2,\n",
              " 'pickles': 3,\n",
              " 'princeandpauper': 0,\n",
              " 'seawolf': 2,\n",
              " 'sunalsorises': 1,\n",
              " 'tenderisthenight': 3,\n",
              " 'tomsawyer': 0,\n",
              " 'whitefang': 0}"
            ]
          },
          "metadata": {},
          "execution_count": 7
        }
      ],
      "source": [
        "titles = os.listdir(data_path)\n",
        "titles.sort()\n",
        "titles.remove(\"test\")\n",
        "print(titles)\n",
        "titles = [i.split(\".\")[0] for i in titles]\n",
        "authors = [0,1,2,3,4,4,2,3,0,2,1,3,0,0]\n",
        "titles_dict = dict(zip(titles, authors))\n",
        "titles_dict"
      ]
    },
    {
      "cell_type": "code",
      "execution_count": null,
      "metadata": {
        "id": "FBB2emkpbGxr"
      },
      "outputs": [],
      "source": [
        "titles = os.listdir(data_path)\n",
        "titles.sort()"
      ]
    },
    {
      "cell_type": "markdown",
      "source": [
        "### Reading in the Text Files"
      ],
      "metadata": {
        "id": "kxNfuo7j2rLG"
      }
    },
    {
      "cell_type": "code",
      "execution_count": null,
      "metadata": {
        "colab": {
          "base_uri": "https://localhost:8080/"
        },
        "id": "XffMq1fAEAb6",
        "outputId": "4c27ab84-c076-4f55-85cf-15db603c277e"
      },
      "outputs": [
        {
          "output_type": "stream",
          "name": "stdout",
          "text": [
            "3031\n",
            "4632\n",
            "5988\n",
            "9096\n",
            "16449\n",
            "8809\n",
            "2202\n",
            "6172\n",
            "9109\n",
            "6769\n",
            "10364\n",
            "6384\n",
            "6235\n",
            "129\n"
          ]
        }
      ],
      "source": [
        "master_label_list = []\n",
        "word_vectors = []\n",
        "\n",
        "max_len = 0\n",
        "\n",
        "for file in titles:\n",
        "  \n",
        "  if os.path.isfile(os.path.join(data_path, file)):\n",
        "    try:\n",
        "      with open(os.path.join(data_path, file), encoding = \"utf-8\") as f:\n",
        "        lines = f.readlines()\n",
        "        \n",
        "    except:\n",
        "      try:\n",
        "        with open(os.path.join(data_path, file), encoding = \"ISO-8859-1\") as f:\n",
        "          lines = f.readlines()\n",
        "      except:\n",
        "        pass \n",
        "\n",
        "    \n",
        "    num_lines = len(lines)\n",
        "    print(num_lines)\n",
        "    indices_sample = np.random.randint(0, num_lines - 5, size=2000)\n",
        "    author = titles_dict[file.split(\".\")[0]]\n",
        "\n",
        "    for i in indices_sample:\n",
        "      lines_sample = lines[i:i+5]\n",
        "      length = len(lines_sample)\n",
        "      if length > max_len:\n",
        "        max_len = length\n",
        "      lines_together = \" \".join(lines_sample)\n",
        "      lines_together = lines_together.replace(\"\\n\", \"\")\n",
        "      lines_together = lines_together.replace(\"“\", \"\")\n",
        "      lines_together = lines_together.replace(\"”\", \"\")\n",
        "      lines_together = lines_together.replace(\"’\", \"'\")\n",
        "\n",
        "      word_vectors.append(lines_together)\n",
        "\n",
        "      length = len(lines_together.split(\" \"))\n",
        "      if length > max_len:\n",
        "        max_len = length\n",
        "\n",
        "      master_label_list.append(author)\n",
        "\n",
        "print(max_len)"
      ]
    },
    {
      "cell_type": "markdown",
      "source": [
        "### Training and Validation Data"
      ],
      "metadata": {
        "id": "_sDhZFKs2w6i"
      }
    },
    {
      "cell_type": "code",
      "execution_count": null,
      "metadata": {
        "id": "tY6UAvkc9KAo"
      },
      "outputs": [],
      "source": [
        "X_train, X_val, y_train, y_val = train_test_split(word_vectors, master_label_list, test_size=0.1, random_state=41)"
      ]
    },
    {
      "cell_type": "code",
      "execution_count": null,
      "metadata": {
        "id": "ivcKv9w8_EF0"
      },
      "outputs": [],
      "source": [
        "train_ds = tf.data.Dataset.from_tensor_slices((X_train, y_train)) \n",
        "val_ds = tf.data.Dataset.from_tensor_slices((X_val, y_val))"
      ]
    },
    {
      "cell_type": "code",
      "execution_count": null,
      "metadata": {
        "colab": {
          "base_uri": "https://localhost:8080/"
        },
        "id": "BdIa5wG5Gj_F",
        "outputId": "9fd9f326-8687-41fb-d515-af02b119f867"
      },
      "outputs": [
        {
          "output_type": "stream",
          "name": "stdout",
          "text": [
            "(<tf.Tensor: shape=(), dtype=string, numpy=b'silent except for the dip of the oars.  They spread apart after they were out of the mouth of the harbour and each one headed for the part of the ocean where he hoped to find fish.  The old man knew he was going far out and he left the smell of the land behind and rowed out into the clean early morning smell of the ocean.  He saw the'>, <tf.Tensor: shape=(), dtype=int32, numpy=2>)\n",
            "(<tf.Tensor: shape=(), dtype=string, numpy=b'that he must submit to the will of this new master, obey his every whim and fancy. CHAPTER III THE REIGN OF HATE Under the tutelage of the mad god, White Fang became a fiend. He was'>, <tf.Tensor: shape=(), dtype=int32, numpy=0>)\n",
            "(<tf.Tensor: shape=(), dtype=string, numpy=b'rum and lighted cigarettes for him.  Then the negro, after the rum, would try for a tremendous effort and once he had the old man, who was not an old man then but was Santiago El Campeon, nearly three inches off balance.  But the old man had raised his hand up to dead even again.  He was sure then that he had the negro, who was a fine man and'>, <tf.Tensor: shape=(), dtype=int32, numpy=2>)\n",
            "(<tf.Tensor: shape=(), dtype=string, numpy=b'The might was even a chillier horror than the ghostly laughter, it so confessed a perishing hope. The children stood still and listened; but there was no result. Tom turned upon the back track at once, and hurried his steps. It was but a little while before a certain indecision in his manner revealed another fearful fact to Becky\\xe2\\x80\\x94he could not find his way'>, <tf.Tensor: shape=(), dtype=int32, numpy=0>)\n",
            "(<tf.Tensor: shape=(), dtype=string, numpy=b\"theater-actor--tragedy, you know; take a turn to mesmerism and phrenology when there's a chance; teach singing-geography school for a change; sling a lecture sometimes--oh, I do lots of things--most anything that comes handy, so it ain't work. What's your lay? I've done considerble in the doctoring way in my time. Layin' on o'\">, <tf.Tensor: shape=(), dtype=int32, numpy=3>)\n",
            "(<tf.Tensor: shape=(), dtype=string, numpy=b\"and milk in my hand waiting for it to be cool enough to drink. 'Morning,' I said. 'Morning,' he answered in that husky whisper. 'Sleep?' 'Very well. Feeling fit?'\">, <tf.Tensor: shape=(), dtype=int32, numpy=2>)\n",
            "(<tf.Tensor: shape=(), dtype=string, numpy=b'footsteps. Suddenly Nicole interrupted in succinct Chicagoese: \"Bull!\" \"That\\'s a very vulgar expression.\" \"What about it?\" she flared up. \"You don\\'t think I\\'ve got any common sense--before I was sick I didn\\'t have any, but I have now. And if I don\\'t know you\\'re the most attractive man I ever met you must think I\\'m'>, <tf.Tensor: shape=(), dtype=int32, numpy=3>)\n",
            "(<tf.Tensor: shape=(), dtype=string, numpy=b'\"I know,\" the old man said.  \"It is quite normal.\" \"He hasn\\'t much faith.\" \"No,\" the old man said.  \"But we have.  Haven\\'t we?\" \"Yes,\" the boy said.  \"Can I offer you a beer on the Terrace and then we\\'ll take the stuff home.\"'>, <tf.Tensor: shape=(), dtype=int32, numpy=2>)\n",
            "(<tf.Tensor: shape=(), dtype=string, numpy=b'these ickle durls and dance with them in the afternoon?\" \"What would I say to them?\" Her low almost harsh voice rose a few notes, simulating a plaintive coquetry: \"Say: \\'Ickle durl, oo is de pwettiest sing.\\' What do you think you say?\"'>, <tf.Tensor: shape=(), dtype=int32, numpy=3>)\n",
            "(<tf.Tensor: shape=(), dtype=string, numpy=b'bat and tapered like a rapier and he rose his full length from the water and then re-entered it, smoothly, like a diver and the old man saw the great scythe-blade of his tail go under and the line commenced to race out. \"He is two feet longer than the skiff,\" the old man said.  The line was'>, <tf.Tensor: shape=(), dtype=int32, numpy=2>)\n"
          ]
        }
      ],
      "source": [
        "for i in train_ds.take(10):\n",
        "  print(i)"
      ]
    },
    {
      "cell_type": "markdown",
      "metadata": {
        "id": "gfRveu_1Qjtd"
      },
      "source": [
        "### Creating the testing dataset.\n",
        "Will be contructed in a similar way as the training and validation data, but with different novels. "
      ]
    },
    {
      "cell_type": "code",
      "execution_count": null,
      "metadata": {
        "colab": {
          "base_uri": "https://localhost:8080/"
        },
        "id": "Nkiup4MrQuQ8",
        "outputId": "21b3977f-eb20-4d81-e313-d762dcfb9cdb"
      },
      "outputs": [
        {
          "output_type": "stream",
          "name": "stdout",
          "text": [
            "['belltolls.txt', 'littlemen.txt', 'martineden.txt', 'puddnhead.txt', 'thissideparadise.txt']\n",
            "15905\n",
            "9080\n",
            "12155\n",
            "4552\n",
            "8728\n",
            "Max is 363\n",
            "(<tf.Tensor: shape=(), dtype=string, numpy=b'He lay flat on the brown, pine-needled floor of the forest, his chin on his folded arms, and high overhead the wind blew in the tops of the pine trees. The mountainside sloped gently where he lay; but below it was steep and he could see the dark of the oiled road winding through the pass. There was a stream alongside the road and far down the pass he saw'>, <tf.Tensor: shape=(), dtype=int32, numpy=2>)\n",
            "(<tf.Tensor: shape=(), dtype=string, numpy=b'a mill beside the stream and the falling water of the dam, white in the summer sunlight. Is that the mill? he asked. Yes. I do not remember it.'>, <tf.Tensor: shape=(), dtype=int32, numpy=2>)\n",
            "(<tf.Tensor: shape=(), dtype=string, numpy=b\"It was built since you were here. The old mill is farther down; much below the pass. He spread the photostated military map out on the forest floor and looked at it carefully. The old man looked over his shoulder. He was a short and solid old man in a black peasant's smock and gray iron-stiff\">, <tf.Tensor: shape=(), dtype=int32, numpy=2>)\n",
            "(<tf.Tensor: shape=(), dtype=string, numpy=b'trousers and he wore rope-soled shoes. He was breathing heavily from the climb and his hand rested on one of the two heavy packs they had been carrying. Then you cannot see the bridge from here. No, the old man said. This is the easy country of the pass where the'>, <tf.Tensor: shape=(), dtype=int32, numpy=2>)\n",
            "(<tf.Tensor: shape=(), dtype=string, numpy=b'stream flows gently. Below, where the road turns out of sight in the trees, it drops suddenly and there is a steep gorge\\xe2\\x80\\x94\\xe2\\x80\\x94 I remember. Across the gorge is the bridge. And where are their posts?'>, <tf.Tensor: shape=(), dtype=int32, numpy=2>)\n"
          ]
        }
      ],
      "source": [
        "data_path_test = os.path.join(data_path, \"test\")\n",
        "\n",
        "titles = os.listdir(os.path.join(data_path, \"test\"))\n",
        "titles.sort()\n",
        "print(titles)\n",
        "titles = [i.split(\".\")[0] for i in titles]\n",
        "authors = [2,4,0,3,1]\n",
        "titles_dict = dict(zip(titles, authors))\n",
        "titles_dict\n",
        "\n",
        "master_label_list = []\n",
        "word_vectors = []\n",
        "\n",
        "titles = os.listdir(os.path.join(data_path,\"test\"))\n",
        "titles.sort()\n",
        "\n",
        "for file in titles:\n",
        "  try:\n",
        "    with open(os.path.join(data_path_test, file), encoding = \"utf-8\") as f:\n",
        "      lines = f.readlines()\n",
        "\n",
        "  except:\n",
        "    with open(os.path.join(data_path_test, file), encoding = \"ISO-8859-1\") as f:\n",
        "      lines = f.readlines()\n",
        "  \n",
        "  num_lines = len(lines)\n",
        "  print(num_lines)\n",
        "  indices_sample = np.random.randint(0, num_lines - 5, size=1000)\n",
        "  author = titles_dict[file.split(\".\")[0]]\n",
        "\n",
        "  spacings = num_lines // (num_lines // 5)\n",
        "  for i in range(0, 5000 , 5):\n",
        "    lines_sample = lines[i:i+5]\n",
        "    lines_together = \" \".join(lines_sample)\n",
        "    lines_together = lines_together.replace(\"\\n\", \"\")\n",
        "    lines_together = lines_together.replace(\"“\", \"\")\n",
        "    lines_together = lines_together.replace(\"”\", \"\")\n",
        "    lines_together = lines_together.replace(\"’\", \"'\")\n",
        "\n",
        "    length = len(lines_together)\n",
        "    if length > max_len:\n",
        "      max_len = length\n",
        "\n",
        "    word_vectors.append(lines_together)\n",
        "    master_label_list.append(author)\n",
        "\n",
        "print(\"Max is\",max_len)\n",
        "\n",
        "X_test = word_vectors\n",
        "y_test = master_label_list\n",
        "\n",
        "test_ds = tf.data.Dataset.from_tensor_slices((X_test, y_test)) \n",
        "\n",
        "for i in test_ds.take(5):\n",
        "  print(i)"
      ]
    },
    {
      "cell_type": "markdown",
      "source": [
        "### Convert Our Data to Tensorflow Datasets and create batches"
      ],
      "metadata": {
        "id": "_OXrwlWt26u9"
      }
    },
    {
      "cell_type": "code",
      "execution_count": null,
      "metadata": {
        "id": "pr4WXE2Ybr-S"
      },
      "outputs": [],
      "source": [
        "train_ds = train_ds.batch(64).shuffle(100).prefetch(tf.data.AUTOTUNE)\n",
        "val_ds = val_ds.batch(64).prefetch(tf.data.AUTOTUNE)\n"
      ]
    },
    {
      "cell_type": "code",
      "execution_count": null,
      "metadata": {
        "id": "r3OR8GQMS3l1"
      },
      "outputs": [],
      "source": [
        "test_ds = test_ds.batch(64).prefetch(tf.data.AUTOTUNE)"
      ]
    },
    {
      "cell_type": "markdown",
      "source": [
        "## 2. Model 1"
      ],
      "metadata": {
        "id": "uJSnQynS3C5y"
      }
    },
    {
      "cell_type": "code",
      "execution_count": null,
      "metadata": {
        "id": "W6v7Cb3gaJss"
      },
      "outputs": [],
      "source": [
        "callback = tf.keras.callbacks.EarlyStopping(monitor='loss', patience=2)\n",
        "\n",
        "# creating the word embedding\n",
        "VOCAB_SIZE = 10000\n",
        "encoder = tf.keras.layers.TextVectorization(\n",
        "    max_tokens=VOCAB_SIZE)\n",
        "encoder.adapt(train_ds.map(lambda text, label: text))\n",
        "\n",
        "\n",
        "model = tf.keras.Sequential([\n",
        "    encoder,\n",
        "    tf.keras.layers.Embedding(\n",
        "        input_dim=len(encoder.get_vocabulary()),\n",
        "        output_dim=64,\n",
        "        mask_zero=True),\n",
        "    tf.keras.layers.Bidirectional(tf.keras.layers.LSTM(64, return_sequences=True)),\n",
        "    tf.keras.layers.Bidirectional(tf.keras.layers.LSTM(32)),\n",
        "    tf.keras.layers.Dense(16, activation='relu'),\n",
        "    tf.keras.layers.Dropout(.2),\n",
        "    tf.keras.layers.Dense(5)\n",
        "])\n",
        "\n",
        "model.compile(loss=\"sparse_categorical_crossentropy\",\n",
        "              optimizer=tf.keras.optimizers.Adam(1e-4),\n",
        "              metrics=['sparse_categorical_accuracy'])"
      ]
    },
    {
      "cell_type": "code",
      "execution_count": null,
      "metadata": {
        "colab": {
          "base_uri": "https://localhost:8080/"
        },
        "id": "j3_p7AOAbTeZ",
        "outputId": "60d66dcb-67ff-4541-f9fa-c1a28a782526"
      },
      "outputs": [
        {
          "output_type": "stream",
          "name": "stdout",
          "text": [
            "Epoch 1/25\n",
            "366/366 [==============================] - 28s 41ms/step - loss: 1.9022 - sparse_categorical_accuracy: 0.2623 - val_loss: 1.5617 - val_sparse_categorical_accuracy: 0.3050\n",
            "Epoch 2/25\n",
            "366/366 [==============================] - 10s 28ms/step - loss: 1.5681 - sparse_categorical_accuracy: 0.3088 - val_loss: 1.5359 - val_sparse_categorical_accuracy: 0.3158\n",
            "Epoch 3/25\n",
            "366/366 [==============================] - 11s 29ms/step - loss: 1.5031 - sparse_categorical_accuracy: 0.3483 - val_loss: 1.4190 - val_sparse_categorical_accuracy: 0.3915\n",
            "Epoch 4/25\n",
            "366/366 [==============================] - 10s 28ms/step - loss: 1.3156 - sparse_categorical_accuracy: 0.4492 - val_loss: 1.1202 - val_sparse_categorical_accuracy: 0.5750\n",
            "Epoch 5/25\n",
            "366/366 [==============================] - 10s 28ms/step - loss: 1.2491 - sparse_categorical_accuracy: 0.5172 - val_loss: 1.0861 - val_sparse_categorical_accuracy: 0.5977\n",
            "Epoch 6/25\n",
            "366/366 [==============================] - 10s 29ms/step - loss: 1.0868 - sparse_categorical_accuracy: 0.5883 - val_loss: 1.1845 - val_sparse_categorical_accuracy: 0.4785\n",
            "Epoch 7/25\n",
            "366/366 [==============================] - 11s 29ms/step - loss: 1.0193 - sparse_categorical_accuracy: 0.5583 - val_loss: 0.9531 - val_sparse_categorical_accuracy: 0.6192\n",
            "Epoch 8/25\n",
            "366/366 [==============================] - 10s 28ms/step - loss: 0.9257 - sparse_categorical_accuracy: 0.6470 - val_loss: 0.8944 - val_sparse_categorical_accuracy: 0.7154\n",
            "Epoch 9/25\n",
            "366/366 [==============================] - 10s 26ms/step - loss: 0.8569 - sparse_categorical_accuracy: 0.6832 - val_loss: 0.8758 - val_sparse_categorical_accuracy: 0.7181\n",
            "Epoch 10/25\n",
            "366/366 [==============================] - 10s 26ms/step - loss: 0.8026 - sparse_categorical_accuracy: 0.7051 - val_loss: 0.8320 - val_sparse_categorical_accuracy: 0.7292\n",
            "Epoch 11/25\n",
            "366/366 [==============================] - 9s 26ms/step - loss: 0.7758 - sparse_categorical_accuracy: 0.7318 - val_loss: 0.7945 - val_sparse_categorical_accuracy: 0.7631\n",
            "Epoch 12/25\n",
            "366/366 [==============================] - 10s 26ms/step - loss: 0.7236 - sparse_categorical_accuracy: 0.7588 - val_loss: 0.7650 - val_sparse_categorical_accuracy: 0.7962\n",
            "Epoch 13/25\n",
            "366/366 [==============================] - 10s 26ms/step - loss: 0.6644 - sparse_categorical_accuracy: 0.7906 - val_loss: 0.7323 - val_sparse_categorical_accuracy: 0.8185\n",
            "Epoch 14/25\n",
            "366/366 [==============================] - 10s 26ms/step - loss: 0.5981 - sparse_categorical_accuracy: 0.8265 - val_loss: 0.6779 - val_sparse_categorical_accuracy: 0.8600\n",
            "Epoch 15/25\n",
            "366/366 [==============================] - 10s 26ms/step - loss: 0.5292 - sparse_categorical_accuracy: 0.8580 - val_loss: 0.6098 - val_sparse_categorical_accuracy: 0.8777\n",
            "Epoch 16/25\n",
            "366/366 [==============================] - 10s 26ms/step - loss: 0.4684 - sparse_categorical_accuracy: 0.8894 - val_loss: 0.5776 - val_sparse_categorical_accuracy: 0.8873\n",
            "Epoch 17/25\n",
            "366/366 [==============================] - 10s 26ms/step - loss: 0.4321 - sparse_categorical_accuracy: 0.9022 - val_loss: 0.5605 - val_sparse_categorical_accuracy: 0.8962\n",
            "Epoch 18/25\n",
            "366/366 [==============================] - 10s 26ms/step - loss: 0.3619 - sparse_categorical_accuracy: 0.9259 - val_loss: 0.4746 - val_sparse_categorical_accuracy: 0.9196\n",
            "Epoch 19/25\n",
            "366/366 [==============================] - 9s 26ms/step - loss: 0.3073 - sparse_categorical_accuracy: 0.9380 - val_loss: 0.4771 - val_sparse_categorical_accuracy: 0.9277\n",
            "Epoch 20/25\n",
            "366/366 [==============================] - 10s 26ms/step - loss: 0.4981 - sparse_categorical_accuracy: 0.9115 - val_loss: 0.4469 - val_sparse_categorical_accuracy: 0.9219\n",
            "Epoch 21/25\n",
            "366/366 [==============================] - 10s 26ms/step - loss: 0.2416 - sparse_categorical_accuracy: 0.9519 - val_loss: 0.4719 - val_sparse_categorical_accuracy: 0.9304\n",
            "Epoch 22/25\n",
            "366/366 [==============================] - 10s 26ms/step - loss: 0.6175 - sparse_categorical_accuracy: 0.8842 - val_loss: 0.5494 - val_sparse_categorical_accuracy: 0.9073\n",
            "Epoch 23/25\n",
            "366/366 [==============================] - 10s 26ms/step - loss: 0.3558 - sparse_categorical_accuracy: 0.9422 - val_loss: 0.5228 - val_sparse_categorical_accuracy: 0.9242\n"
          ]
        }
      ],
      "source": [
        "history_1 = model.fit(train_ds, epochs=25,\n",
        "                    validation_data=val_ds,\n",
        "                    callbacks=[callback])"
      ]
    },
    {
      "cell_type": "markdown",
      "source": [
        "### Saving the model so we don't have to run it every time"
      ],
      "metadata": {
        "id": "Egocyxt93KCI"
      }
    },
    {
      "cell_type": "code",
      "execution_count": null,
      "metadata": {
        "id": "YDiJ1UX4Qr9e"
      },
      "outputs": [],
      "source": [
        "models_path = os.path.join(abs_path, \"models\")\n",
        "model_1_path = os.path.join(models_path, \"model1\")\n",
        "# Save the entire model as a SavedModel.\n",
        "# model.save(model_1_path)\n",
        "\n",
        "model1 = tf.keras.models.load_model(model_1_path)"
      ]
    },
    {
      "cell_type": "code",
      "execution_count": null,
      "metadata": {
        "colab": {
          "base_uri": "https://localhost:8080/"
        },
        "id": "YMEAVsC9EYj9",
        "outputId": "11819ed8-1e27-4cbb-9a3c-bd45bc582520"
      },
      "outputs": [
        {
          "output_type": "stream",
          "name": "stdout",
          "text": [
            "79/79 [==============================] - 1s 15ms/step - loss: 3.2075 - sparse_categorical_accuracy: 0.5162\n",
            "Test Loss: 3.2074942588806152\n",
            "Test Accuracy: 0.5162000060081482\n"
          ]
        }
      ],
      "source": [
        "test_loss, test_acc = model1.evaluate(test_ds)\n",
        "\n",
        "print('Test Loss:', test_loss)\n",
        "print('Test Accuracy:', test_acc)"
      ]
    },
    {
      "cell_type": "markdown",
      "source": [
        "### Model Results and Visualizations"
      ],
      "metadata": {
        "id": "uQWrLv6rxamS"
      }
    },
    {
      "cell_type": "code",
      "source": [
        "from sklearn.metrics import confusion_matrix, classification_report\n",
        "\n",
        "predict_x = model1.predict(test_ds) \n",
        "predictions = np.argmax(predict_x, axis=1)\n",
        "\n",
        "y_test_labels = {0:\"London\", 1:\"Fitzgerald\", 2:\"Hemingway\", 3:\"Twain\", 4:\"Alcott\"}\n",
        "labels = list(y_test_labels.values())\n",
        "\n",
        "print(classification_report(np.array(y_test), predictions))\n",
        "conf_matrix = pd.DataFrame(confusion_matrix(np.array(y_test), predictions), index=labels, columns=labels)\n",
        "conf_matrix = conf_matrix.astype('float') / conf_matrix.sum(axis=1)[:, np.newaxis]\n",
        "conf_matrix"
      ],
      "metadata": {
        "colab": {
          "base_uri": "https://localhost:8080/",
          "height": 476
        },
        "id": "-4TcVyDNY61y",
        "outputId": "422025d3-0e6b-4bc2-d9f5-9519076cdac6"
      },
      "execution_count": null,
      "outputs": [
        {
          "output_type": "stream",
          "name": "stdout",
          "text": [
            "              precision    recall  f1-score   support\n",
            "\n",
            "           0       0.51      0.34      0.41      1000\n",
            "           1       0.37      0.59      0.46      1000\n",
            "           2       0.53      0.54      0.53      1000\n",
            "           3       0.54      0.51      0.52      1000\n",
            "           4       0.78      0.61      0.68      1000\n",
            "\n",
            "    accuracy                           0.52      5000\n",
            "   macro avg       0.54      0.52      0.52      5000\n",
            "weighted avg       0.54      0.52      0.52      5000\n",
            "\n"
          ]
        },
        {
          "output_type": "stream",
          "name": "stderr",
          "text": [
            "/usr/local/lib/python3.7/dist-packages/ipykernel_launcher.py:11: FutureWarning: Support for multi-dimensional indexing (e.g. `obj[:, None]`) is deprecated and will be removed in a future version.  Convert to a numpy array before indexing instead.\n",
            "  # This is added back by InteractiveShellApp.init_path()\n"
          ]
        },
        {
          "output_type": "execute_result",
          "data": {
            "text/plain": [
              "            London  Fitzgerald  Hemingway  Twain  Alcott\n",
              "London       0.340       0.384      0.147  0.079   0.050\n",
              "Fitzgerald   0.111       0.590      0.105  0.139   0.055\n",
              "Hemingway    0.108       0.248      0.535  0.076   0.033\n",
              "Twain        0.063       0.248      0.143  0.509   0.037\n",
              "Alcott       0.041       0.117      0.088  0.147   0.607"
            ],
            "text/html": [
              "\n",
              "  <div id=\"df-bd455155-45cc-48c1-9d01-30b73460d4fc\">\n",
              "    <div class=\"colab-df-container\">\n",
              "      <div>\n",
              "<style scoped>\n",
              "    .dataframe tbody tr th:only-of-type {\n",
              "        vertical-align: middle;\n",
              "    }\n",
              "\n",
              "    .dataframe tbody tr th {\n",
              "        vertical-align: top;\n",
              "    }\n",
              "\n",
              "    .dataframe thead th {\n",
              "        text-align: right;\n",
              "    }\n",
              "</style>\n",
              "<table border=\"1\" class=\"dataframe\">\n",
              "  <thead>\n",
              "    <tr style=\"text-align: right;\">\n",
              "      <th></th>\n",
              "      <th>London</th>\n",
              "      <th>Fitzgerald</th>\n",
              "      <th>Hemingway</th>\n",
              "      <th>Twain</th>\n",
              "      <th>Alcott</th>\n",
              "    </tr>\n",
              "  </thead>\n",
              "  <tbody>\n",
              "    <tr>\n",
              "      <th>London</th>\n",
              "      <td>0.340</td>\n",
              "      <td>0.384</td>\n",
              "      <td>0.147</td>\n",
              "      <td>0.079</td>\n",
              "      <td>0.050</td>\n",
              "    </tr>\n",
              "    <tr>\n",
              "      <th>Fitzgerald</th>\n",
              "      <td>0.111</td>\n",
              "      <td>0.590</td>\n",
              "      <td>0.105</td>\n",
              "      <td>0.139</td>\n",
              "      <td>0.055</td>\n",
              "    </tr>\n",
              "    <tr>\n",
              "      <th>Hemingway</th>\n",
              "      <td>0.108</td>\n",
              "      <td>0.248</td>\n",
              "      <td>0.535</td>\n",
              "      <td>0.076</td>\n",
              "      <td>0.033</td>\n",
              "    </tr>\n",
              "    <tr>\n",
              "      <th>Twain</th>\n",
              "      <td>0.063</td>\n",
              "      <td>0.248</td>\n",
              "      <td>0.143</td>\n",
              "      <td>0.509</td>\n",
              "      <td>0.037</td>\n",
              "    </tr>\n",
              "    <tr>\n",
              "      <th>Alcott</th>\n",
              "      <td>0.041</td>\n",
              "      <td>0.117</td>\n",
              "      <td>0.088</td>\n",
              "      <td>0.147</td>\n",
              "      <td>0.607</td>\n",
              "    </tr>\n",
              "  </tbody>\n",
              "</table>\n",
              "</div>\n",
              "      <button class=\"colab-df-convert\" onclick=\"convertToInteractive('df-bd455155-45cc-48c1-9d01-30b73460d4fc')\"\n",
              "              title=\"Convert this dataframe to an interactive table.\"\n",
              "              style=\"display:none;\">\n",
              "        \n",
              "  <svg xmlns=\"http://www.w3.org/2000/svg\" height=\"24px\"viewBox=\"0 0 24 24\"\n",
              "       width=\"24px\">\n",
              "    <path d=\"M0 0h24v24H0V0z\" fill=\"none\"/>\n",
              "    <path d=\"M18.56 5.44l.94 2.06.94-2.06 2.06-.94-2.06-.94-.94-2.06-.94 2.06-2.06.94zm-11 1L8.5 8.5l.94-2.06 2.06-.94-2.06-.94L8.5 2.5l-.94 2.06-2.06.94zm10 10l.94 2.06.94-2.06 2.06-.94-2.06-.94-.94-2.06-.94 2.06-2.06.94z\"/><path d=\"M17.41 7.96l-1.37-1.37c-.4-.4-.92-.59-1.43-.59-.52 0-1.04.2-1.43.59L10.3 9.45l-7.72 7.72c-.78.78-.78 2.05 0 2.83L4 21.41c.39.39.9.59 1.41.59.51 0 1.02-.2 1.41-.59l7.78-7.78 2.81-2.81c.8-.78.8-2.07 0-2.86zM5.41 20L4 18.59l7.72-7.72 1.47 1.35L5.41 20z\"/>\n",
              "  </svg>\n",
              "      </button>\n",
              "      \n",
              "  <style>\n",
              "    .colab-df-container {\n",
              "      display:flex;\n",
              "      flex-wrap:wrap;\n",
              "      gap: 12px;\n",
              "    }\n",
              "\n",
              "    .colab-df-convert {\n",
              "      background-color: #E8F0FE;\n",
              "      border: none;\n",
              "      border-radius: 50%;\n",
              "      cursor: pointer;\n",
              "      display: none;\n",
              "      fill: #1967D2;\n",
              "      height: 32px;\n",
              "      padding: 0 0 0 0;\n",
              "      width: 32px;\n",
              "    }\n",
              "\n",
              "    .colab-df-convert:hover {\n",
              "      background-color: #E2EBFA;\n",
              "      box-shadow: 0px 1px 2px rgba(60, 64, 67, 0.3), 0px 1px 3px 1px rgba(60, 64, 67, 0.15);\n",
              "      fill: #174EA6;\n",
              "    }\n",
              "\n",
              "    [theme=dark] .colab-df-convert {\n",
              "      background-color: #3B4455;\n",
              "      fill: #D2E3FC;\n",
              "    }\n",
              "\n",
              "    [theme=dark] .colab-df-convert:hover {\n",
              "      background-color: #434B5C;\n",
              "      box-shadow: 0px 1px 3px 1px rgba(0, 0, 0, 0.15);\n",
              "      filter: drop-shadow(0px 1px 2px rgba(0, 0, 0, 0.3));\n",
              "      fill: #FFFFFF;\n",
              "    }\n",
              "  </style>\n",
              "\n",
              "      <script>\n",
              "        const buttonEl =\n",
              "          document.querySelector('#df-bd455155-45cc-48c1-9d01-30b73460d4fc button.colab-df-convert');\n",
              "        buttonEl.style.display =\n",
              "          google.colab.kernel.accessAllowed ? 'block' : 'none';\n",
              "\n",
              "        async function convertToInteractive(key) {\n",
              "          const element = document.querySelector('#df-bd455155-45cc-48c1-9d01-30b73460d4fc');\n",
              "          const dataTable =\n",
              "            await google.colab.kernel.invokeFunction('convertToInteractive',\n",
              "                                                     [key], {});\n",
              "          if (!dataTable) return;\n",
              "\n",
              "          const docLinkHtml = 'Like what you see? Visit the ' +\n",
              "            '<a target=\"_blank\" href=https://colab.research.google.com/notebooks/data_table.ipynb>data table notebook</a>'\n",
              "            + ' to learn more about interactive tables.';\n",
              "          element.innerHTML = '';\n",
              "          dataTable['output_type'] = 'display_data';\n",
              "          await google.colab.output.renderOutput(dataTable, element);\n",
              "          const docLink = document.createElement('div');\n",
              "          docLink.innerHTML = docLinkHtml;\n",
              "          element.appendChild(docLink);\n",
              "        }\n",
              "      </script>\n",
              "    </div>\n",
              "  </div>\n",
              "  "
            ]
          },
          "metadata": {},
          "execution_count": 19
        }
      ]
    },
    {
      "cell_type": "code",
      "source": [
        "import plotly.express as px\n",
        "fig = px.imshow(conf_matrix,\n",
        "                labels=dict(x=\"Predictions\", y=\"Ground Truth\", color=\"Accuracy\"),\n",
        "                x=labels,\n",
        "                y=labels,\n",
        "                text_auto=True\n",
        "               )\n",
        "fig.update_xaxes(side=\"top\")\n",
        "fig.show()"
      ],
      "metadata": {
        "colab": {
          "base_uri": "https://localhost:8080/",
          "height": 542
        },
        "id": "ksE-zFcKY7Dq",
        "outputId": "1ffa6db8-8038-413d-cfc1-d8f73688cad1"
      },
      "execution_count": null,
      "outputs": [
        {
          "output_type": "display_data",
          "data": {
            "text/html": [
              "<html>\n",
              "<head><meta charset=\"utf-8\" /></head>\n",
              "<body>\n",
              "    <div>            <script src=\"https://cdnjs.cloudflare.com/ajax/libs/mathjax/2.7.5/MathJax.js?config=TeX-AMS-MML_SVG\"></script><script type=\"text/javascript\">if (window.MathJax) {MathJax.Hub.Config({SVG: {font: \"STIX-Web\"}});}</script>                <script type=\"text/javascript\">window.PlotlyConfig = {MathJaxConfig: 'local'};</script>\n",
              "        <script src=\"https://cdn.plot.ly/plotly-2.8.3.min.js\"></script>                <div id=\"70a5bf0e-4ff4-4b1b-a99c-f6a237beab86\" class=\"plotly-graph-div\" style=\"height:525px; width:100%;\"></div>            <script type=\"text/javascript\">                                    window.PLOTLYENV=window.PLOTLYENV || {};                                    if (document.getElementById(\"70a5bf0e-4ff4-4b1b-a99c-f6a237beab86\")) {                    Plotly.newPlot(                        \"70a5bf0e-4ff4-4b1b-a99c-f6a237beab86\",                        [{\"coloraxis\":\"coloraxis\",\"name\":\"0\",\"texttemplate\":\"%{z}\",\"x\":[\"London\",\"Fitzgerald\",\"Hemingway\",\"Twain\",\"Alcott\"],\"y\":[\"London\",\"Fitzgerald\",\"Hemingway\",\"Twain\",\"Alcott\"],\"z\":[[0.34,0.384,0.147,0.079,0.05],[0.111,0.59,0.105,0.139,0.055],[0.108,0.248,0.535,0.076,0.033],[0.063,0.248,0.143,0.509,0.037],[0.041,0.117,0.088,0.147,0.607]],\"type\":\"heatmap\",\"xaxis\":\"x\",\"yaxis\":\"y\",\"hovertemplate\":\"Predictions: %{x}<br>Ground Truth: %{y}<br>Accuracy: %{z}<extra></extra>\"}],                        {\"template\":{\"data\":{\"bar\":[{\"error_x\":{\"color\":\"#2a3f5f\"},\"error_y\":{\"color\":\"#2a3f5f\"},\"marker\":{\"line\":{\"color\":\"#E5ECF6\",\"width\":0.5},\"pattern\":{\"fillmode\":\"overlay\",\"size\":10,\"solidity\":0.2}},\"type\":\"bar\"}],\"barpolar\":[{\"marker\":{\"line\":{\"color\":\"#E5ECF6\",\"width\":0.5},\"pattern\":{\"fillmode\":\"overlay\",\"size\":10,\"solidity\":0.2}},\"type\":\"barpolar\"}],\"carpet\":[{\"aaxis\":{\"endlinecolor\":\"#2a3f5f\",\"gridcolor\":\"white\",\"linecolor\":\"white\",\"minorgridcolor\":\"white\",\"startlinecolor\":\"#2a3f5f\"},\"baxis\":{\"endlinecolor\":\"#2a3f5f\",\"gridcolor\":\"white\",\"linecolor\":\"white\",\"minorgridcolor\":\"white\",\"startlinecolor\":\"#2a3f5f\"},\"type\":\"carpet\"}],\"choropleth\":[{\"colorbar\":{\"outlinewidth\":0,\"ticks\":\"\"},\"type\":\"choropleth\"}],\"contour\":[{\"colorbar\":{\"outlinewidth\":0,\"ticks\":\"\"},\"colorscale\":[[0.0,\"#0d0887\"],[0.1111111111111111,\"#46039f\"],[0.2222222222222222,\"#7201a8\"],[0.3333333333333333,\"#9c179e\"],[0.4444444444444444,\"#bd3786\"],[0.5555555555555556,\"#d8576b\"],[0.6666666666666666,\"#ed7953\"],[0.7777777777777778,\"#fb9f3a\"],[0.8888888888888888,\"#fdca26\"],[1.0,\"#f0f921\"]],\"type\":\"contour\"}],\"contourcarpet\":[{\"colorbar\":{\"outlinewidth\":0,\"ticks\":\"\"},\"type\":\"contourcarpet\"}],\"heatmap\":[{\"colorbar\":{\"outlinewidth\":0,\"ticks\":\"\"},\"colorscale\":[[0.0,\"#0d0887\"],[0.1111111111111111,\"#46039f\"],[0.2222222222222222,\"#7201a8\"],[0.3333333333333333,\"#9c179e\"],[0.4444444444444444,\"#bd3786\"],[0.5555555555555556,\"#d8576b\"],[0.6666666666666666,\"#ed7953\"],[0.7777777777777778,\"#fb9f3a\"],[0.8888888888888888,\"#fdca26\"],[1.0,\"#f0f921\"]],\"type\":\"heatmap\"}],\"heatmapgl\":[{\"colorbar\":{\"outlinewidth\":0,\"ticks\":\"\"},\"colorscale\":[[0.0,\"#0d0887\"],[0.1111111111111111,\"#46039f\"],[0.2222222222222222,\"#7201a8\"],[0.3333333333333333,\"#9c179e\"],[0.4444444444444444,\"#bd3786\"],[0.5555555555555556,\"#d8576b\"],[0.6666666666666666,\"#ed7953\"],[0.7777777777777778,\"#fb9f3a\"],[0.8888888888888888,\"#fdca26\"],[1.0,\"#f0f921\"]],\"type\":\"heatmapgl\"}],\"histogram\":[{\"marker\":{\"pattern\":{\"fillmode\":\"overlay\",\"size\":10,\"solidity\":0.2}},\"type\":\"histogram\"}],\"histogram2d\":[{\"colorbar\":{\"outlinewidth\":0,\"ticks\":\"\"},\"colorscale\":[[0.0,\"#0d0887\"],[0.1111111111111111,\"#46039f\"],[0.2222222222222222,\"#7201a8\"],[0.3333333333333333,\"#9c179e\"],[0.4444444444444444,\"#bd3786\"],[0.5555555555555556,\"#d8576b\"],[0.6666666666666666,\"#ed7953\"],[0.7777777777777778,\"#fb9f3a\"],[0.8888888888888888,\"#fdca26\"],[1.0,\"#f0f921\"]],\"type\":\"histogram2d\"}],\"histogram2dcontour\":[{\"colorbar\":{\"outlinewidth\":0,\"ticks\":\"\"},\"colorscale\":[[0.0,\"#0d0887\"],[0.1111111111111111,\"#46039f\"],[0.2222222222222222,\"#7201a8\"],[0.3333333333333333,\"#9c179e\"],[0.4444444444444444,\"#bd3786\"],[0.5555555555555556,\"#d8576b\"],[0.6666666666666666,\"#ed7953\"],[0.7777777777777778,\"#fb9f3a\"],[0.8888888888888888,\"#fdca26\"],[1.0,\"#f0f921\"]],\"type\":\"histogram2dcontour\"}],\"mesh3d\":[{\"colorbar\":{\"outlinewidth\":0,\"ticks\":\"\"},\"type\":\"mesh3d\"}],\"parcoords\":[{\"line\":{\"colorbar\":{\"outlinewidth\":0,\"ticks\":\"\"}},\"type\":\"parcoords\"}],\"pie\":[{\"automargin\":true,\"type\":\"pie\"}],\"scatter\":[{\"marker\":{\"colorbar\":{\"outlinewidth\":0,\"ticks\":\"\"}},\"type\":\"scatter\"}],\"scatter3d\":[{\"line\":{\"colorbar\":{\"outlinewidth\":0,\"ticks\":\"\"}},\"marker\":{\"colorbar\":{\"outlinewidth\":0,\"ticks\":\"\"}},\"type\":\"scatter3d\"}],\"scattercarpet\":[{\"marker\":{\"colorbar\":{\"outlinewidth\":0,\"ticks\":\"\"}},\"type\":\"scattercarpet\"}],\"scattergeo\":[{\"marker\":{\"colorbar\":{\"outlinewidth\":0,\"ticks\":\"\"}},\"type\":\"scattergeo\"}],\"scattergl\":[{\"marker\":{\"colorbar\":{\"outlinewidth\":0,\"ticks\":\"\"}},\"type\":\"scattergl\"}],\"scattermapbox\":[{\"marker\":{\"colorbar\":{\"outlinewidth\":0,\"ticks\":\"\"}},\"type\":\"scattermapbox\"}],\"scatterpolar\":[{\"marker\":{\"colorbar\":{\"outlinewidth\":0,\"ticks\":\"\"}},\"type\":\"scatterpolar\"}],\"scatterpolargl\":[{\"marker\":{\"colorbar\":{\"outlinewidth\":0,\"ticks\":\"\"}},\"type\":\"scatterpolargl\"}],\"scatterternary\":[{\"marker\":{\"colorbar\":{\"outlinewidth\":0,\"ticks\":\"\"}},\"type\":\"scatterternary\"}],\"surface\":[{\"colorbar\":{\"outlinewidth\":0,\"ticks\":\"\"},\"colorscale\":[[0.0,\"#0d0887\"],[0.1111111111111111,\"#46039f\"],[0.2222222222222222,\"#7201a8\"],[0.3333333333333333,\"#9c179e\"],[0.4444444444444444,\"#bd3786\"],[0.5555555555555556,\"#d8576b\"],[0.6666666666666666,\"#ed7953\"],[0.7777777777777778,\"#fb9f3a\"],[0.8888888888888888,\"#fdca26\"],[1.0,\"#f0f921\"]],\"type\":\"surface\"}],\"table\":[{\"cells\":{\"fill\":{\"color\":\"#EBF0F8\"},\"line\":{\"color\":\"white\"}},\"header\":{\"fill\":{\"color\":\"#C8D4E3\"},\"line\":{\"color\":\"white\"}},\"type\":\"table\"}]},\"layout\":{\"annotationdefaults\":{\"arrowcolor\":\"#2a3f5f\",\"arrowhead\":0,\"arrowwidth\":1},\"autotypenumbers\":\"strict\",\"coloraxis\":{\"colorbar\":{\"outlinewidth\":0,\"ticks\":\"\"}},\"colorscale\":{\"diverging\":[[0,\"#8e0152\"],[0.1,\"#c51b7d\"],[0.2,\"#de77ae\"],[0.3,\"#f1b6da\"],[0.4,\"#fde0ef\"],[0.5,\"#f7f7f7\"],[0.6,\"#e6f5d0\"],[0.7,\"#b8e186\"],[0.8,\"#7fbc41\"],[0.9,\"#4d9221\"],[1,\"#276419\"]],\"sequential\":[[0.0,\"#0d0887\"],[0.1111111111111111,\"#46039f\"],[0.2222222222222222,\"#7201a8\"],[0.3333333333333333,\"#9c179e\"],[0.4444444444444444,\"#bd3786\"],[0.5555555555555556,\"#d8576b\"],[0.6666666666666666,\"#ed7953\"],[0.7777777777777778,\"#fb9f3a\"],[0.8888888888888888,\"#fdca26\"],[1.0,\"#f0f921\"]],\"sequentialminus\":[[0.0,\"#0d0887\"],[0.1111111111111111,\"#46039f\"],[0.2222222222222222,\"#7201a8\"],[0.3333333333333333,\"#9c179e\"],[0.4444444444444444,\"#bd3786\"],[0.5555555555555556,\"#d8576b\"],[0.6666666666666666,\"#ed7953\"],[0.7777777777777778,\"#fb9f3a\"],[0.8888888888888888,\"#fdca26\"],[1.0,\"#f0f921\"]]},\"colorway\":[\"#636efa\",\"#EF553B\",\"#00cc96\",\"#ab63fa\",\"#FFA15A\",\"#19d3f3\",\"#FF6692\",\"#B6E880\",\"#FF97FF\",\"#FECB52\"],\"font\":{\"color\":\"#2a3f5f\"},\"geo\":{\"bgcolor\":\"white\",\"lakecolor\":\"white\",\"landcolor\":\"#E5ECF6\",\"showlakes\":true,\"showland\":true,\"subunitcolor\":\"white\"},\"hoverlabel\":{\"align\":\"left\"},\"hovermode\":\"closest\",\"mapbox\":{\"style\":\"light\"},\"paper_bgcolor\":\"white\",\"plot_bgcolor\":\"#E5ECF6\",\"polar\":{\"angularaxis\":{\"gridcolor\":\"white\",\"linecolor\":\"white\",\"ticks\":\"\"},\"bgcolor\":\"#E5ECF6\",\"radialaxis\":{\"gridcolor\":\"white\",\"linecolor\":\"white\",\"ticks\":\"\"}},\"scene\":{\"xaxis\":{\"backgroundcolor\":\"#E5ECF6\",\"gridcolor\":\"white\",\"gridwidth\":2,\"linecolor\":\"white\",\"showbackground\":true,\"ticks\":\"\",\"zerolinecolor\":\"white\"},\"yaxis\":{\"backgroundcolor\":\"#E5ECF6\",\"gridcolor\":\"white\",\"gridwidth\":2,\"linecolor\":\"white\",\"showbackground\":true,\"ticks\":\"\",\"zerolinecolor\":\"white\"},\"zaxis\":{\"backgroundcolor\":\"#E5ECF6\",\"gridcolor\":\"white\",\"gridwidth\":2,\"linecolor\":\"white\",\"showbackground\":true,\"ticks\":\"\",\"zerolinecolor\":\"white\"}},\"shapedefaults\":{\"line\":{\"color\":\"#2a3f5f\"}},\"ternary\":{\"aaxis\":{\"gridcolor\":\"white\",\"linecolor\":\"white\",\"ticks\":\"\"},\"baxis\":{\"gridcolor\":\"white\",\"linecolor\":\"white\",\"ticks\":\"\"},\"bgcolor\":\"#E5ECF6\",\"caxis\":{\"gridcolor\":\"white\",\"linecolor\":\"white\",\"ticks\":\"\"}},\"title\":{\"x\":0.05},\"xaxis\":{\"automargin\":true,\"gridcolor\":\"white\",\"linecolor\":\"white\",\"ticks\":\"\",\"title\":{\"standoff\":15},\"zerolinecolor\":\"white\",\"zerolinewidth\":2},\"yaxis\":{\"automargin\":true,\"gridcolor\":\"white\",\"linecolor\":\"white\",\"ticks\":\"\",\"title\":{\"standoff\":15},\"zerolinecolor\":\"white\",\"zerolinewidth\":2}}},\"xaxis\":{\"anchor\":\"y\",\"domain\":[0.0,1.0],\"scaleanchor\":\"y\",\"constrain\":\"domain\",\"title\":{\"text\":\"Predictions\"},\"side\":\"top\"},\"yaxis\":{\"anchor\":\"x\",\"domain\":[0.0,1.0],\"autorange\":\"reversed\",\"constrain\":\"domain\",\"title\":{\"text\":\"Ground Truth\"}},\"coloraxis\":{\"colorbar\":{\"title\":{\"text\":\"Accuracy\"}},\"colorscale\":[[0.0,\"#0d0887\"],[0.1111111111111111,\"#46039f\"],[0.2222222222222222,\"#7201a8\"],[0.3333333333333333,\"#9c179e\"],[0.4444444444444444,\"#bd3786\"],[0.5555555555555556,\"#d8576b\"],[0.6666666666666666,\"#ed7953\"],[0.7777777777777778,\"#fb9f3a\"],[0.8888888888888888,\"#fdca26\"],[1.0,\"#f0f921\"]]},\"margin\":{\"t\":60}},                        {\"responsive\": true}                    ).then(function(){\n",
              "                            \n",
              "var gd = document.getElementById('70a5bf0e-4ff4-4b1b-a99c-f6a237beab86');\n",
              "var x = new MutationObserver(function (mutations, observer) {{\n",
              "        var display = window.getComputedStyle(gd).display;\n",
              "        if (!display || display === 'none') {{\n",
              "            console.log([gd, 'removed!']);\n",
              "            Plotly.purge(gd);\n",
              "            observer.disconnect();\n",
              "        }}\n",
              "}});\n",
              "\n",
              "// Listen for the removal of the full notebook cells\n",
              "var notebookContainer = gd.closest('#notebook-container');\n",
              "if (notebookContainer) {{\n",
              "    x.observe(notebookContainer, {childList: true});\n",
              "}}\n",
              "\n",
              "// Listen for the clearing of the current output cell\n",
              "var outputEl = gd.closest('.output');\n",
              "if (outputEl) {{\n",
              "    x.observe(outputEl, {childList: true});\n",
              "}}\n",
              "\n",
              "                        })                };                            </script>        </div>\n",
              "</body>\n",
              "</html>"
            ]
          },
          "metadata": {}
        }
      ]
    },
    {
      "cell_type": "code",
      "source": [
        "# Validation Predictions\n",
        "\n",
        "predict_x_val = model.predict(val_ds) \n",
        "predictions_val = np.argmax(predict_x_val, axis=1)\n",
        "\n",
        "y_test_labels = {0:\"London\", 1:\"Fitzgerald\", 2:\"Hemingway\", 3:\"Twain\", 4:\"Alcott\"}\n",
        "labels = list(y_test_labels.values())\n",
        "\n",
        "print(classification_report(np.array(y_val), predictions_val))\n",
        "conf_matrix = pd.DataFrame(confusion_matrix(np.array(y_val), predictions_val), index=labels, columns=labels)\n",
        "conf_matrix = conf_matrix.astype('float') / conf_matrix.sum(axis=1)[:, np.newaxis]\n",
        "conf_matrix\n",
        "\n",
        "import plotly.express as px\n",
        "fig = px.imshow(conf_matrix,\n",
        "                labels=dict(x=\"Validation Predictions\", y=\"Ground Truth\", color=\"Accuracy\"),\n",
        "                x=labels,\n",
        "                y=labels,\n",
        "                text_auto=True\n",
        "               )\n",
        "fig.update_xaxes(side=\"top\")\n",
        "fig.show()"
      ],
      "metadata": {
        "colab": {
          "base_uri": "https://localhost:8080/",
          "height": 848
        },
        "id": "3sZztHE_sYmq",
        "outputId": "ea5027c3-6d66-4661-aef0-cdbdb05288b9"
      },
      "execution_count": null,
      "outputs": [
        {
          "output_type": "stream",
          "name": "stdout",
          "text": [
            "              precision    recall  f1-score   support\n",
            "\n",
            "           0       0.96      0.96      0.96       796\n",
            "           1       0.90      0.82      0.86       404\n",
            "           2       0.90      0.93      0.92       604\n",
            "           3       0.89      0.92      0.91       398\n",
            "           4       0.95      0.94      0.95       398\n",
            "\n",
            "    accuracy                           0.92      2600\n",
            "   macro avg       0.92      0.92      0.92      2600\n",
            "weighted avg       0.92      0.92      0.92      2600\n",
            "\n"
          ]
        },
        {
          "output_type": "stream",
          "name": "stderr",
          "text": [
            "/usr/local/lib/python3.7/dist-packages/ipykernel_launcher.py:11: FutureWarning:\n",
            "\n",
            "Support for multi-dimensional indexing (e.g. `obj[:, None]`) is deprecated and will be removed in a future version.  Convert to a numpy array before indexing instead.\n",
            "\n"
          ]
        },
        {
          "output_type": "display_data",
          "data": {
            "text/html": [
              "<html>\n",
              "<head><meta charset=\"utf-8\" /></head>\n",
              "<body>\n",
              "    <div>            <script src=\"https://cdnjs.cloudflare.com/ajax/libs/mathjax/2.7.5/MathJax.js?config=TeX-AMS-MML_SVG\"></script><script type=\"text/javascript\">if (window.MathJax) {MathJax.Hub.Config({SVG: {font: \"STIX-Web\"}});}</script>                <script type=\"text/javascript\">window.PlotlyConfig = {MathJaxConfig: 'local'};</script>\n",
              "        <script src=\"https://cdn.plot.ly/plotly-2.8.3.min.js\"></script>                <div id=\"73124032-e423-47f0-bf6e-d8d75c9d0c9d\" class=\"plotly-graph-div\" style=\"height:525px; width:100%;\"></div>            <script type=\"text/javascript\">                                    window.PLOTLYENV=window.PLOTLYENV || {};                                    if (document.getElementById(\"73124032-e423-47f0-bf6e-d8d75c9d0c9d\")) {                    Plotly.newPlot(                        \"73124032-e423-47f0-bf6e-d8d75c9d0c9d\",                        [{\"coloraxis\":\"coloraxis\",\"name\":\"0\",\"texttemplate\":\"%{z}\",\"x\":[\"London\",\"Fitzgerald\",\"Hemingway\",\"Twain\",\"Alcott\"],\"y\":[\"London\",\"Fitzgerald\",\"Hemingway\",\"Twain\",\"Alcott\"],\"z\":[[0.9623115577889447,0.00628140703517588,0.01507537688442211,0.01507537688442211,0.001256281407035176],[0.012376237623762377,0.8217821782178217,0.08168316831683169,0.05693069306930693,0.027227722772277228],[0.019867549668874173,0.0347682119205298,0.9288079470198676,0.013245033112582781,0.0033112582781456954],[0.022613065326633167,0.01507537688442211,0.020100502512562814,0.9246231155778895,0.017587939698492462],[0.01507537688442211,0.01507537688442211,0.020100502512562814,0.005025125628140704,0.9447236180904522]],\"type\":\"heatmap\",\"xaxis\":\"x\",\"yaxis\":\"y\",\"hovertemplate\":\"Validation Predictions: %{x}<br>Ground Truth: %{y}<br>Accuracy: %{z}<extra></extra>\"}],                        {\"template\":{\"data\":{\"bar\":[{\"error_x\":{\"color\":\"#2a3f5f\"},\"error_y\":{\"color\":\"#2a3f5f\"},\"marker\":{\"line\":{\"color\":\"#E5ECF6\",\"width\":0.5},\"pattern\":{\"fillmode\":\"overlay\",\"size\":10,\"solidity\":0.2}},\"type\":\"bar\"}],\"barpolar\":[{\"marker\":{\"line\":{\"color\":\"#E5ECF6\",\"width\":0.5},\"pattern\":{\"fillmode\":\"overlay\",\"size\":10,\"solidity\":0.2}},\"type\":\"barpolar\"}],\"carpet\":[{\"aaxis\":{\"endlinecolor\":\"#2a3f5f\",\"gridcolor\":\"white\",\"linecolor\":\"white\",\"minorgridcolor\":\"white\",\"startlinecolor\":\"#2a3f5f\"},\"baxis\":{\"endlinecolor\":\"#2a3f5f\",\"gridcolor\":\"white\",\"linecolor\":\"white\",\"minorgridcolor\":\"white\",\"startlinecolor\":\"#2a3f5f\"},\"type\":\"carpet\"}],\"choropleth\":[{\"colorbar\":{\"outlinewidth\":0,\"ticks\":\"\"},\"type\":\"choropleth\"}],\"contour\":[{\"colorbar\":{\"outlinewidth\":0,\"ticks\":\"\"},\"colorscale\":[[0.0,\"#0d0887\"],[0.1111111111111111,\"#46039f\"],[0.2222222222222222,\"#7201a8\"],[0.3333333333333333,\"#9c179e\"],[0.4444444444444444,\"#bd3786\"],[0.5555555555555556,\"#d8576b\"],[0.6666666666666666,\"#ed7953\"],[0.7777777777777778,\"#fb9f3a\"],[0.8888888888888888,\"#fdca26\"],[1.0,\"#f0f921\"]],\"type\":\"contour\"}],\"contourcarpet\":[{\"colorbar\":{\"outlinewidth\":0,\"ticks\":\"\"},\"type\":\"contourcarpet\"}],\"heatmap\":[{\"colorbar\":{\"outlinewidth\":0,\"ticks\":\"\"},\"colorscale\":[[0.0,\"#0d0887\"],[0.1111111111111111,\"#46039f\"],[0.2222222222222222,\"#7201a8\"],[0.3333333333333333,\"#9c179e\"],[0.4444444444444444,\"#bd3786\"],[0.5555555555555556,\"#d8576b\"],[0.6666666666666666,\"#ed7953\"],[0.7777777777777778,\"#fb9f3a\"],[0.8888888888888888,\"#fdca26\"],[1.0,\"#f0f921\"]],\"type\":\"heatmap\"}],\"heatmapgl\":[{\"colorbar\":{\"outlinewidth\":0,\"ticks\":\"\"},\"colorscale\":[[0.0,\"#0d0887\"],[0.1111111111111111,\"#46039f\"],[0.2222222222222222,\"#7201a8\"],[0.3333333333333333,\"#9c179e\"],[0.4444444444444444,\"#bd3786\"],[0.5555555555555556,\"#d8576b\"],[0.6666666666666666,\"#ed7953\"],[0.7777777777777778,\"#fb9f3a\"],[0.8888888888888888,\"#fdca26\"],[1.0,\"#f0f921\"]],\"type\":\"heatmapgl\"}],\"histogram\":[{\"marker\":{\"pattern\":{\"fillmode\":\"overlay\",\"size\":10,\"solidity\":0.2}},\"type\":\"histogram\"}],\"histogram2d\":[{\"colorbar\":{\"outlinewidth\":0,\"ticks\":\"\"},\"colorscale\":[[0.0,\"#0d0887\"],[0.1111111111111111,\"#46039f\"],[0.2222222222222222,\"#7201a8\"],[0.3333333333333333,\"#9c179e\"],[0.4444444444444444,\"#bd3786\"],[0.5555555555555556,\"#d8576b\"],[0.6666666666666666,\"#ed7953\"],[0.7777777777777778,\"#fb9f3a\"],[0.8888888888888888,\"#fdca26\"],[1.0,\"#f0f921\"]],\"type\":\"histogram2d\"}],\"histogram2dcontour\":[{\"colorbar\":{\"outlinewidth\":0,\"ticks\":\"\"},\"colorscale\":[[0.0,\"#0d0887\"],[0.1111111111111111,\"#46039f\"],[0.2222222222222222,\"#7201a8\"],[0.3333333333333333,\"#9c179e\"],[0.4444444444444444,\"#bd3786\"],[0.5555555555555556,\"#d8576b\"],[0.6666666666666666,\"#ed7953\"],[0.7777777777777778,\"#fb9f3a\"],[0.8888888888888888,\"#fdca26\"],[1.0,\"#f0f921\"]],\"type\":\"histogram2dcontour\"}],\"mesh3d\":[{\"colorbar\":{\"outlinewidth\":0,\"ticks\":\"\"},\"type\":\"mesh3d\"}],\"parcoords\":[{\"line\":{\"colorbar\":{\"outlinewidth\":0,\"ticks\":\"\"}},\"type\":\"parcoords\"}],\"pie\":[{\"automargin\":true,\"type\":\"pie\"}],\"scatter\":[{\"marker\":{\"colorbar\":{\"outlinewidth\":0,\"ticks\":\"\"}},\"type\":\"scatter\"}],\"scatter3d\":[{\"line\":{\"colorbar\":{\"outlinewidth\":0,\"ticks\":\"\"}},\"marker\":{\"colorbar\":{\"outlinewidth\":0,\"ticks\":\"\"}},\"type\":\"scatter3d\"}],\"scattercarpet\":[{\"marker\":{\"colorbar\":{\"outlinewidth\":0,\"ticks\":\"\"}},\"type\":\"scattercarpet\"}],\"scattergeo\":[{\"marker\":{\"colorbar\":{\"outlinewidth\":0,\"ticks\":\"\"}},\"type\":\"scattergeo\"}],\"scattergl\":[{\"marker\":{\"colorbar\":{\"outlinewidth\":0,\"ticks\":\"\"}},\"type\":\"scattergl\"}],\"scattermapbox\":[{\"marker\":{\"colorbar\":{\"outlinewidth\":0,\"ticks\":\"\"}},\"type\":\"scattermapbox\"}],\"scatterpolar\":[{\"marker\":{\"colorbar\":{\"outlinewidth\":0,\"ticks\":\"\"}},\"type\":\"scatterpolar\"}],\"scatterpolargl\":[{\"marker\":{\"colorbar\":{\"outlinewidth\":0,\"ticks\":\"\"}},\"type\":\"scatterpolargl\"}],\"scatterternary\":[{\"marker\":{\"colorbar\":{\"outlinewidth\":0,\"ticks\":\"\"}},\"type\":\"scatterternary\"}],\"surface\":[{\"colorbar\":{\"outlinewidth\":0,\"ticks\":\"\"},\"colorscale\":[[0.0,\"#0d0887\"],[0.1111111111111111,\"#46039f\"],[0.2222222222222222,\"#7201a8\"],[0.3333333333333333,\"#9c179e\"],[0.4444444444444444,\"#bd3786\"],[0.5555555555555556,\"#d8576b\"],[0.6666666666666666,\"#ed7953\"],[0.7777777777777778,\"#fb9f3a\"],[0.8888888888888888,\"#fdca26\"],[1.0,\"#f0f921\"]],\"type\":\"surface\"}],\"table\":[{\"cells\":{\"fill\":{\"color\":\"#EBF0F8\"},\"line\":{\"color\":\"white\"}},\"header\":{\"fill\":{\"color\":\"#C8D4E3\"},\"line\":{\"color\":\"white\"}},\"type\":\"table\"}]},\"layout\":{\"annotationdefaults\":{\"arrowcolor\":\"#2a3f5f\",\"arrowhead\":0,\"arrowwidth\":1},\"autotypenumbers\":\"strict\",\"coloraxis\":{\"colorbar\":{\"outlinewidth\":0,\"ticks\":\"\"}},\"colorscale\":{\"diverging\":[[0,\"#8e0152\"],[0.1,\"#c51b7d\"],[0.2,\"#de77ae\"],[0.3,\"#f1b6da\"],[0.4,\"#fde0ef\"],[0.5,\"#f7f7f7\"],[0.6,\"#e6f5d0\"],[0.7,\"#b8e186\"],[0.8,\"#7fbc41\"],[0.9,\"#4d9221\"],[1,\"#276419\"]],\"sequential\":[[0.0,\"#0d0887\"],[0.1111111111111111,\"#46039f\"],[0.2222222222222222,\"#7201a8\"],[0.3333333333333333,\"#9c179e\"],[0.4444444444444444,\"#bd3786\"],[0.5555555555555556,\"#d8576b\"],[0.6666666666666666,\"#ed7953\"],[0.7777777777777778,\"#fb9f3a\"],[0.8888888888888888,\"#fdca26\"],[1.0,\"#f0f921\"]],\"sequentialminus\":[[0.0,\"#0d0887\"],[0.1111111111111111,\"#46039f\"],[0.2222222222222222,\"#7201a8\"],[0.3333333333333333,\"#9c179e\"],[0.4444444444444444,\"#bd3786\"],[0.5555555555555556,\"#d8576b\"],[0.6666666666666666,\"#ed7953\"],[0.7777777777777778,\"#fb9f3a\"],[0.8888888888888888,\"#fdca26\"],[1.0,\"#f0f921\"]]},\"colorway\":[\"#636efa\",\"#EF553B\",\"#00cc96\",\"#ab63fa\",\"#FFA15A\",\"#19d3f3\",\"#FF6692\",\"#B6E880\",\"#FF97FF\",\"#FECB52\"],\"font\":{\"color\":\"#2a3f5f\"},\"geo\":{\"bgcolor\":\"white\",\"lakecolor\":\"white\",\"landcolor\":\"#E5ECF6\",\"showlakes\":true,\"showland\":true,\"subunitcolor\":\"white\"},\"hoverlabel\":{\"align\":\"left\"},\"hovermode\":\"closest\",\"mapbox\":{\"style\":\"light\"},\"paper_bgcolor\":\"white\",\"plot_bgcolor\":\"#E5ECF6\",\"polar\":{\"angularaxis\":{\"gridcolor\":\"white\",\"linecolor\":\"white\",\"ticks\":\"\"},\"bgcolor\":\"#E5ECF6\",\"radialaxis\":{\"gridcolor\":\"white\",\"linecolor\":\"white\",\"ticks\":\"\"}},\"scene\":{\"xaxis\":{\"backgroundcolor\":\"#E5ECF6\",\"gridcolor\":\"white\",\"gridwidth\":2,\"linecolor\":\"white\",\"showbackground\":true,\"ticks\":\"\",\"zerolinecolor\":\"white\"},\"yaxis\":{\"backgroundcolor\":\"#E5ECF6\",\"gridcolor\":\"white\",\"gridwidth\":2,\"linecolor\":\"white\",\"showbackground\":true,\"ticks\":\"\",\"zerolinecolor\":\"white\"},\"zaxis\":{\"backgroundcolor\":\"#E5ECF6\",\"gridcolor\":\"white\",\"gridwidth\":2,\"linecolor\":\"white\",\"showbackground\":true,\"ticks\":\"\",\"zerolinecolor\":\"white\"}},\"shapedefaults\":{\"line\":{\"color\":\"#2a3f5f\"}},\"ternary\":{\"aaxis\":{\"gridcolor\":\"white\",\"linecolor\":\"white\",\"ticks\":\"\"},\"baxis\":{\"gridcolor\":\"white\",\"linecolor\":\"white\",\"ticks\":\"\"},\"bgcolor\":\"#E5ECF6\",\"caxis\":{\"gridcolor\":\"white\",\"linecolor\":\"white\",\"ticks\":\"\"}},\"title\":{\"x\":0.05},\"xaxis\":{\"automargin\":true,\"gridcolor\":\"white\",\"linecolor\":\"white\",\"ticks\":\"\",\"title\":{\"standoff\":15},\"zerolinecolor\":\"white\",\"zerolinewidth\":2},\"yaxis\":{\"automargin\":true,\"gridcolor\":\"white\",\"linecolor\":\"white\",\"ticks\":\"\",\"title\":{\"standoff\":15},\"zerolinecolor\":\"white\",\"zerolinewidth\":2}}},\"xaxis\":{\"anchor\":\"y\",\"domain\":[0.0,1.0],\"scaleanchor\":\"y\",\"constrain\":\"domain\",\"title\":{\"text\":\"Validation Predictions\"},\"side\":\"top\"},\"yaxis\":{\"anchor\":\"x\",\"domain\":[0.0,1.0],\"autorange\":\"reversed\",\"constrain\":\"domain\",\"title\":{\"text\":\"Ground Truth\"}},\"coloraxis\":{\"colorbar\":{\"title\":{\"text\":\"Accuracy\"}},\"colorscale\":[[0.0,\"#0d0887\"],[0.1111111111111111,\"#46039f\"],[0.2222222222222222,\"#7201a8\"],[0.3333333333333333,\"#9c179e\"],[0.4444444444444444,\"#bd3786\"],[0.5555555555555556,\"#d8576b\"],[0.6666666666666666,\"#ed7953\"],[0.7777777777777778,\"#fb9f3a\"],[0.8888888888888888,\"#fdca26\"],[1.0,\"#f0f921\"]]},\"margin\":{\"t\":60}},                        {\"responsive\": true}                    ).then(function(){\n",
              "                            \n",
              "var gd = document.getElementById('73124032-e423-47f0-bf6e-d8d75c9d0c9d');\n",
              "var x = new MutationObserver(function (mutations, observer) {{\n",
              "        var display = window.getComputedStyle(gd).display;\n",
              "        if (!display || display === 'none') {{\n",
              "            console.log([gd, 'removed!']);\n",
              "            Plotly.purge(gd);\n",
              "            observer.disconnect();\n",
              "        }}\n",
              "}});\n",
              "\n",
              "// Listen for the removal of the full notebook cells\n",
              "var notebookContainer = gd.closest('#notebook-container');\n",
              "if (notebookContainer) {{\n",
              "    x.observe(notebookContainer, {childList: true});\n",
              "}}\n",
              "\n",
              "// Listen for the clearing of the current output cell\n",
              "var outputEl = gd.closest('.output');\n",
              "if (outputEl) {{\n",
              "    x.observe(outputEl, {childList: true});\n",
              "}}\n",
              "\n",
              "                        })                };                            </script>        </div>\n",
              "</body>\n",
              "</html>"
            ]
          },
          "metadata": {}
        }
      ]
    },
    {
      "cell_type": "code",
      "source": [
        "import plotly.graph_objects as go\n",
        "epochs = list(range(1, 26))\n",
        "\n",
        "fig = go.Figure()\n",
        "fig.add_trace(go.Scatter(x=epochs, y= history_1.history['sparse_categorical_accuracy'],\n",
        "                    mode='lines+markers',\n",
        "                    name='training accuracy'))\n",
        "fig.add_trace(go.Scatter(x=epochs, y= history_1.history['val_sparse_categorical_accuracy'],\n",
        "                    mode='lines+markers',\n",
        "                    name='validation accuracy'))\n",
        "\n",
        "fig.update_layout(title=\"Training Accuracy\", xaxis_title=\"Epochs\", yaxis_title=\"Accuracy\")\n",
        "fig.show()"
      ],
      "metadata": {
        "colab": {
          "base_uri": "https://localhost:8080/",
          "height": 542
        },
        "id": "rifD4RiKiti-",
        "outputId": "c6537706-19c4-4619-9445-c9603c42e58a"
      },
      "execution_count": null,
      "outputs": [
        {
          "output_type": "display_data",
          "data": {
            "text/html": [
              "<html>\n",
              "<head><meta charset=\"utf-8\" /></head>\n",
              "<body>\n",
              "    <div>            <script src=\"https://cdnjs.cloudflare.com/ajax/libs/mathjax/2.7.5/MathJax.js?config=TeX-AMS-MML_SVG\"></script><script type=\"text/javascript\">if (window.MathJax) {MathJax.Hub.Config({SVG: {font: \"STIX-Web\"}});}</script>                <script type=\"text/javascript\">window.PlotlyConfig = {MathJaxConfig: 'local'};</script>\n",
              "        <script src=\"https://cdn.plot.ly/plotly-2.8.3.min.js\"></script>                <div id=\"d5794a86-eb0b-4a25-8984-49fa8a66b967\" class=\"plotly-graph-div\" style=\"height:525px; width:100%;\"></div>            <script type=\"text/javascript\">                                    window.PLOTLYENV=window.PLOTLYENV || {};                                    if (document.getElementById(\"d5794a86-eb0b-4a25-8984-49fa8a66b967\")) {                    Plotly.newPlot(                        \"d5794a86-eb0b-4a25-8984-49fa8a66b967\",                        [{\"mode\":\"lines+markers\",\"name\":\"training accuracy\",\"x\":[1,2,3,4,5,6,7,8,9,10,11,12,13,14,15,16,17,18,19,20,21,22,23,24,25],\"y\":[0.2622649669647217,0.3088461458683014,0.3482905924320221,0.44923076033592224,0.5171794891357422,0.5882905721664429,0.5582906007766724,0.6469658017158508,0.6831623911857605,0.7051281929016113,0.7317948937416077,0.7588034272193909,0.7906410098075867,0.8265384435653687,0.8579914569854736,0.8894017338752747,0.902179479598999,0.9259401559829712,0.9379914402961731,0.9114530086517334,0.9519230723381042,0.8842307925224304,0.9422222375869751],\"type\":\"scatter\"},{\"mode\":\"lines+markers\",\"name\":\"validation accuracy\",\"x\":[1,2,3,4,5,6,7,8,9,10,11,12,13,14,15,16,17,18,19,20,21,22,23,24,25],\"y\":[0.3050000071525574,0.315769225358963,0.39153847098350525,0.574999988079071,0.5976923108100891,0.47846153378486633,0.6192307472229004,0.7153846025466919,0.7180769443511963,0.7292307615280151,0.763076901435852,0.7961538434028625,0.818461537361145,0.8600000143051147,0.8776922821998596,0.8873077034950256,0.8961538672447205,0.9196153879165649,0.9276922941207886,0.9219231009483337,0.930384635925293,0.9073076844215393,0.9242307543754578],\"type\":\"scatter\"}],                        {\"template\":{\"data\":{\"bar\":[{\"error_x\":{\"color\":\"#2a3f5f\"},\"error_y\":{\"color\":\"#2a3f5f\"},\"marker\":{\"line\":{\"color\":\"#E5ECF6\",\"width\":0.5},\"pattern\":{\"fillmode\":\"overlay\",\"size\":10,\"solidity\":0.2}},\"type\":\"bar\"}],\"barpolar\":[{\"marker\":{\"line\":{\"color\":\"#E5ECF6\",\"width\":0.5},\"pattern\":{\"fillmode\":\"overlay\",\"size\":10,\"solidity\":0.2}},\"type\":\"barpolar\"}],\"carpet\":[{\"aaxis\":{\"endlinecolor\":\"#2a3f5f\",\"gridcolor\":\"white\",\"linecolor\":\"white\",\"minorgridcolor\":\"white\",\"startlinecolor\":\"#2a3f5f\"},\"baxis\":{\"endlinecolor\":\"#2a3f5f\",\"gridcolor\":\"white\",\"linecolor\":\"white\",\"minorgridcolor\":\"white\",\"startlinecolor\":\"#2a3f5f\"},\"type\":\"carpet\"}],\"choropleth\":[{\"colorbar\":{\"outlinewidth\":0,\"ticks\":\"\"},\"type\":\"choropleth\"}],\"contour\":[{\"colorbar\":{\"outlinewidth\":0,\"ticks\":\"\"},\"colorscale\":[[0.0,\"#0d0887\"],[0.1111111111111111,\"#46039f\"],[0.2222222222222222,\"#7201a8\"],[0.3333333333333333,\"#9c179e\"],[0.4444444444444444,\"#bd3786\"],[0.5555555555555556,\"#d8576b\"],[0.6666666666666666,\"#ed7953\"],[0.7777777777777778,\"#fb9f3a\"],[0.8888888888888888,\"#fdca26\"],[1.0,\"#f0f921\"]],\"type\":\"contour\"}],\"contourcarpet\":[{\"colorbar\":{\"outlinewidth\":0,\"ticks\":\"\"},\"type\":\"contourcarpet\"}],\"heatmap\":[{\"colorbar\":{\"outlinewidth\":0,\"ticks\":\"\"},\"colorscale\":[[0.0,\"#0d0887\"],[0.1111111111111111,\"#46039f\"],[0.2222222222222222,\"#7201a8\"],[0.3333333333333333,\"#9c179e\"],[0.4444444444444444,\"#bd3786\"],[0.5555555555555556,\"#d8576b\"],[0.6666666666666666,\"#ed7953\"],[0.7777777777777778,\"#fb9f3a\"],[0.8888888888888888,\"#fdca26\"],[1.0,\"#f0f921\"]],\"type\":\"heatmap\"}],\"heatmapgl\":[{\"colorbar\":{\"outlinewidth\":0,\"ticks\":\"\"},\"colorscale\":[[0.0,\"#0d0887\"],[0.1111111111111111,\"#46039f\"],[0.2222222222222222,\"#7201a8\"],[0.3333333333333333,\"#9c179e\"],[0.4444444444444444,\"#bd3786\"],[0.5555555555555556,\"#d8576b\"],[0.6666666666666666,\"#ed7953\"],[0.7777777777777778,\"#fb9f3a\"],[0.8888888888888888,\"#fdca26\"],[1.0,\"#f0f921\"]],\"type\":\"heatmapgl\"}],\"histogram\":[{\"marker\":{\"pattern\":{\"fillmode\":\"overlay\",\"size\":10,\"solidity\":0.2}},\"type\":\"histogram\"}],\"histogram2d\":[{\"colorbar\":{\"outlinewidth\":0,\"ticks\":\"\"},\"colorscale\":[[0.0,\"#0d0887\"],[0.1111111111111111,\"#46039f\"],[0.2222222222222222,\"#7201a8\"],[0.3333333333333333,\"#9c179e\"],[0.4444444444444444,\"#bd3786\"],[0.5555555555555556,\"#d8576b\"],[0.6666666666666666,\"#ed7953\"],[0.7777777777777778,\"#fb9f3a\"],[0.8888888888888888,\"#fdca26\"],[1.0,\"#f0f921\"]],\"type\":\"histogram2d\"}],\"histogram2dcontour\":[{\"colorbar\":{\"outlinewidth\":0,\"ticks\":\"\"},\"colorscale\":[[0.0,\"#0d0887\"],[0.1111111111111111,\"#46039f\"],[0.2222222222222222,\"#7201a8\"],[0.3333333333333333,\"#9c179e\"],[0.4444444444444444,\"#bd3786\"],[0.5555555555555556,\"#d8576b\"],[0.6666666666666666,\"#ed7953\"],[0.7777777777777778,\"#fb9f3a\"],[0.8888888888888888,\"#fdca26\"],[1.0,\"#f0f921\"]],\"type\":\"histogram2dcontour\"}],\"mesh3d\":[{\"colorbar\":{\"outlinewidth\":0,\"ticks\":\"\"},\"type\":\"mesh3d\"}],\"parcoords\":[{\"line\":{\"colorbar\":{\"outlinewidth\":0,\"ticks\":\"\"}},\"type\":\"parcoords\"}],\"pie\":[{\"automargin\":true,\"type\":\"pie\"}],\"scatter\":[{\"marker\":{\"colorbar\":{\"outlinewidth\":0,\"ticks\":\"\"}},\"type\":\"scatter\"}],\"scatter3d\":[{\"line\":{\"colorbar\":{\"outlinewidth\":0,\"ticks\":\"\"}},\"marker\":{\"colorbar\":{\"outlinewidth\":0,\"ticks\":\"\"}},\"type\":\"scatter3d\"}],\"scattercarpet\":[{\"marker\":{\"colorbar\":{\"outlinewidth\":0,\"ticks\":\"\"}},\"type\":\"scattercarpet\"}],\"scattergeo\":[{\"marker\":{\"colorbar\":{\"outlinewidth\":0,\"ticks\":\"\"}},\"type\":\"scattergeo\"}],\"scattergl\":[{\"marker\":{\"colorbar\":{\"outlinewidth\":0,\"ticks\":\"\"}},\"type\":\"scattergl\"}],\"scattermapbox\":[{\"marker\":{\"colorbar\":{\"outlinewidth\":0,\"ticks\":\"\"}},\"type\":\"scattermapbox\"}],\"scatterpolar\":[{\"marker\":{\"colorbar\":{\"outlinewidth\":0,\"ticks\":\"\"}},\"type\":\"scatterpolar\"}],\"scatterpolargl\":[{\"marker\":{\"colorbar\":{\"outlinewidth\":0,\"ticks\":\"\"}},\"type\":\"scatterpolargl\"}],\"scatterternary\":[{\"marker\":{\"colorbar\":{\"outlinewidth\":0,\"ticks\":\"\"}},\"type\":\"scatterternary\"}],\"surface\":[{\"colorbar\":{\"outlinewidth\":0,\"ticks\":\"\"},\"colorscale\":[[0.0,\"#0d0887\"],[0.1111111111111111,\"#46039f\"],[0.2222222222222222,\"#7201a8\"],[0.3333333333333333,\"#9c179e\"],[0.4444444444444444,\"#bd3786\"],[0.5555555555555556,\"#d8576b\"],[0.6666666666666666,\"#ed7953\"],[0.7777777777777778,\"#fb9f3a\"],[0.8888888888888888,\"#fdca26\"],[1.0,\"#f0f921\"]],\"type\":\"surface\"}],\"table\":[{\"cells\":{\"fill\":{\"color\":\"#EBF0F8\"},\"line\":{\"color\":\"white\"}},\"header\":{\"fill\":{\"color\":\"#C8D4E3\"},\"line\":{\"color\":\"white\"}},\"type\":\"table\"}]},\"layout\":{\"annotationdefaults\":{\"arrowcolor\":\"#2a3f5f\",\"arrowhead\":0,\"arrowwidth\":1},\"autotypenumbers\":\"strict\",\"coloraxis\":{\"colorbar\":{\"outlinewidth\":0,\"ticks\":\"\"}},\"colorscale\":{\"diverging\":[[0,\"#8e0152\"],[0.1,\"#c51b7d\"],[0.2,\"#de77ae\"],[0.3,\"#f1b6da\"],[0.4,\"#fde0ef\"],[0.5,\"#f7f7f7\"],[0.6,\"#e6f5d0\"],[0.7,\"#b8e186\"],[0.8,\"#7fbc41\"],[0.9,\"#4d9221\"],[1,\"#276419\"]],\"sequential\":[[0.0,\"#0d0887\"],[0.1111111111111111,\"#46039f\"],[0.2222222222222222,\"#7201a8\"],[0.3333333333333333,\"#9c179e\"],[0.4444444444444444,\"#bd3786\"],[0.5555555555555556,\"#d8576b\"],[0.6666666666666666,\"#ed7953\"],[0.7777777777777778,\"#fb9f3a\"],[0.8888888888888888,\"#fdca26\"],[1.0,\"#f0f921\"]],\"sequentialminus\":[[0.0,\"#0d0887\"],[0.1111111111111111,\"#46039f\"],[0.2222222222222222,\"#7201a8\"],[0.3333333333333333,\"#9c179e\"],[0.4444444444444444,\"#bd3786\"],[0.5555555555555556,\"#d8576b\"],[0.6666666666666666,\"#ed7953\"],[0.7777777777777778,\"#fb9f3a\"],[0.8888888888888888,\"#fdca26\"],[1.0,\"#f0f921\"]]},\"colorway\":[\"#636efa\",\"#EF553B\",\"#00cc96\",\"#ab63fa\",\"#FFA15A\",\"#19d3f3\",\"#FF6692\",\"#B6E880\",\"#FF97FF\",\"#FECB52\"],\"font\":{\"color\":\"#2a3f5f\"},\"geo\":{\"bgcolor\":\"white\",\"lakecolor\":\"white\",\"landcolor\":\"#E5ECF6\",\"showlakes\":true,\"showland\":true,\"subunitcolor\":\"white\"},\"hoverlabel\":{\"align\":\"left\"},\"hovermode\":\"closest\",\"mapbox\":{\"style\":\"light\"},\"paper_bgcolor\":\"white\",\"plot_bgcolor\":\"#E5ECF6\",\"polar\":{\"angularaxis\":{\"gridcolor\":\"white\",\"linecolor\":\"white\",\"ticks\":\"\"},\"bgcolor\":\"#E5ECF6\",\"radialaxis\":{\"gridcolor\":\"white\",\"linecolor\":\"white\",\"ticks\":\"\"}},\"scene\":{\"xaxis\":{\"backgroundcolor\":\"#E5ECF6\",\"gridcolor\":\"white\",\"gridwidth\":2,\"linecolor\":\"white\",\"showbackground\":true,\"ticks\":\"\",\"zerolinecolor\":\"white\"},\"yaxis\":{\"backgroundcolor\":\"#E5ECF6\",\"gridcolor\":\"white\",\"gridwidth\":2,\"linecolor\":\"white\",\"showbackground\":true,\"ticks\":\"\",\"zerolinecolor\":\"white\"},\"zaxis\":{\"backgroundcolor\":\"#E5ECF6\",\"gridcolor\":\"white\",\"gridwidth\":2,\"linecolor\":\"white\",\"showbackground\":true,\"ticks\":\"\",\"zerolinecolor\":\"white\"}},\"shapedefaults\":{\"line\":{\"color\":\"#2a3f5f\"}},\"ternary\":{\"aaxis\":{\"gridcolor\":\"white\",\"linecolor\":\"white\",\"ticks\":\"\"},\"baxis\":{\"gridcolor\":\"white\",\"linecolor\":\"white\",\"ticks\":\"\"},\"bgcolor\":\"#E5ECF6\",\"caxis\":{\"gridcolor\":\"white\",\"linecolor\":\"white\",\"ticks\":\"\"}},\"title\":{\"x\":0.05},\"xaxis\":{\"automargin\":true,\"gridcolor\":\"white\",\"linecolor\":\"white\",\"ticks\":\"\",\"title\":{\"standoff\":15},\"zerolinecolor\":\"white\",\"zerolinewidth\":2},\"yaxis\":{\"automargin\":true,\"gridcolor\":\"white\",\"linecolor\":\"white\",\"ticks\":\"\",\"title\":{\"standoff\":15},\"zerolinecolor\":\"white\",\"zerolinewidth\":2}}},\"title\":{\"text\":\"Training Accuracy\"},\"xaxis\":{\"title\":{\"text\":\"Epochs\"}},\"yaxis\":{\"title\":{\"text\":\"Accuracy\"}}},                        {\"responsive\": true}                    ).then(function(){\n",
              "                            \n",
              "var gd = document.getElementById('d5794a86-eb0b-4a25-8984-49fa8a66b967');\n",
              "var x = new MutationObserver(function (mutations, observer) {{\n",
              "        var display = window.getComputedStyle(gd).display;\n",
              "        if (!display || display === 'none') {{\n",
              "            console.log([gd, 'removed!']);\n",
              "            Plotly.purge(gd);\n",
              "            observer.disconnect();\n",
              "        }}\n",
              "}});\n",
              "\n",
              "// Listen for the removal of the full notebook cells\n",
              "var notebookContainer = gd.closest('#notebook-container');\n",
              "if (notebookContainer) {{\n",
              "    x.observe(notebookContainer, {childList: true});\n",
              "}}\n",
              "\n",
              "// Listen for the clearing of the current output cell\n",
              "var outputEl = gd.closest('.output');\n",
              "if (outputEl) {{\n",
              "    x.observe(outputEl, {childList: true});\n",
              "}}\n",
              "\n",
              "                        })                };                            </script>        </div>\n",
              "</body>\n",
              "</html>"
            ]
          },
          "metadata": {}
        }
      ]
    },
    {
      "cell_type": "code",
      "source": [
        "import plotly.graph_objects as go\n",
        "epochs = list(range(1, 26))\n",
        "\n",
        "fig = go.Figure()\n",
        "fig.add_trace(go.Scatter(x=epochs, y= history_1.history['loss'],\n",
        "                    mode='lines+markers',\n",
        "                    name='training loss'))\n",
        "fig.add_trace(go.Scatter(x=epochs, y= history_1.history['val_loss'],\n",
        "                    mode='lines+markers',\n",
        "                    name='validation loss'))\n",
        "\n",
        "fig.update_layout(title=\"Training Loss\", xaxis_title=\"Epochs\", yaxis_title=\"Loss\")\n",
        "fig.show()"
      ],
      "metadata": {
        "colab": {
          "base_uri": "https://localhost:8080/",
          "height": 542
        },
        "id": "XdqEnF-RpOok",
        "outputId": "8d30f901-9042-4748-ce1a-3433f87dd462"
      },
      "execution_count": null,
      "outputs": [
        {
          "output_type": "display_data",
          "data": {
            "text/html": [
              "<html>\n",
              "<head><meta charset=\"utf-8\" /></head>\n",
              "<body>\n",
              "    <div>            <script src=\"https://cdnjs.cloudflare.com/ajax/libs/mathjax/2.7.5/MathJax.js?config=TeX-AMS-MML_SVG\"></script><script type=\"text/javascript\">if (window.MathJax) {MathJax.Hub.Config({SVG: {font: \"STIX-Web\"}});}</script>                <script type=\"text/javascript\">window.PlotlyConfig = {MathJaxConfig: 'local'};</script>\n",
              "        <script src=\"https://cdn.plot.ly/plotly-2.8.3.min.js\"></script>                <div id=\"3d0aa3d3-acbb-4b54-93e5-f1e30c71bf49\" class=\"plotly-graph-div\" style=\"height:525px; width:100%;\"></div>            <script type=\"text/javascript\">                                    window.PLOTLYENV=window.PLOTLYENV || {};                                    if (document.getElementById(\"3d0aa3d3-acbb-4b54-93e5-f1e30c71bf49\")) {                    Plotly.newPlot(                        \"3d0aa3d3-acbb-4b54-93e5-f1e30c71bf49\",                        [{\"mode\":\"lines+markers\",\"name\":\"training loss\",\"x\":[1,2,3,4,5,6,7,8,9,10,11,12,13,14,15,16,17,18,19,20,21,22,23,24,25],\"y\":[1.902178168296814,1.5680816173553467,1.5031144618988037,1.3156280517578125,1.2490544319152832,1.0868303775787354,1.0192619562149048,0.9256834387779236,0.8568652272224426,0.8026030659675598,0.7757775187492371,0.723640501499176,0.6643505692481995,0.5980867147445679,0.5291779637336731,0.46842461824417114,0.4320624768733978,0.36194244027137756,0.3072812855243683,0.4981449842453003,0.2416015863418579,0.6174529790878296,0.35582786798477173],\"type\":\"scatter\"},{\"mode\":\"lines+markers\",\"name\":\"validation loss\",\"x\":[1,2,3,4,5,6,7,8,9,10,11,12,13,14,15,16,17,18,19,20,21,22,23,24,25],\"y\":[1.5617247819900513,1.5359174013137817,1.419016718864441,1.1202011108398438,1.0860505104064941,1.1845470666885376,0.9531328678131104,0.8944259881973267,0.8758270740509033,0.832027792930603,0.7944511771202087,0.7649790644645691,0.732303261756897,0.6779011487960815,0.6097685098648071,0.5775581002235413,0.5604771375656128,0.47459670901298523,0.4771294593811035,0.4468502104282379,0.47186025977134705,0.549413800239563,0.5228239297866821],\"type\":\"scatter\"}],                        {\"template\":{\"data\":{\"bar\":[{\"error_x\":{\"color\":\"#2a3f5f\"},\"error_y\":{\"color\":\"#2a3f5f\"},\"marker\":{\"line\":{\"color\":\"#E5ECF6\",\"width\":0.5},\"pattern\":{\"fillmode\":\"overlay\",\"size\":10,\"solidity\":0.2}},\"type\":\"bar\"}],\"barpolar\":[{\"marker\":{\"line\":{\"color\":\"#E5ECF6\",\"width\":0.5},\"pattern\":{\"fillmode\":\"overlay\",\"size\":10,\"solidity\":0.2}},\"type\":\"barpolar\"}],\"carpet\":[{\"aaxis\":{\"endlinecolor\":\"#2a3f5f\",\"gridcolor\":\"white\",\"linecolor\":\"white\",\"minorgridcolor\":\"white\",\"startlinecolor\":\"#2a3f5f\"},\"baxis\":{\"endlinecolor\":\"#2a3f5f\",\"gridcolor\":\"white\",\"linecolor\":\"white\",\"minorgridcolor\":\"white\",\"startlinecolor\":\"#2a3f5f\"},\"type\":\"carpet\"}],\"choropleth\":[{\"colorbar\":{\"outlinewidth\":0,\"ticks\":\"\"},\"type\":\"choropleth\"}],\"contour\":[{\"colorbar\":{\"outlinewidth\":0,\"ticks\":\"\"},\"colorscale\":[[0.0,\"#0d0887\"],[0.1111111111111111,\"#46039f\"],[0.2222222222222222,\"#7201a8\"],[0.3333333333333333,\"#9c179e\"],[0.4444444444444444,\"#bd3786\"],[0.5555555555555556,\"#d8576b\"],[0.6666666666666666,\"#ed7953\"],[0.7777777777777778,\"#fb9f3a\"],[0.8888888888888888,\"#fdca26\"],[1.0,\"#f0f921\"]],\"type\":\"contour\"}],\"contourcarpet\":[{\"colorbar\":{\"outlinewidth\":0,\"ticks\":\"\"},\"type\":\"contourcarpet\"}],\"heatmap\":[{\"colorbar\":{\"outlinewidth\":0,\"ticks\":\"\"},\"colorscale\":[[0.0,\"#0d0887\"],[0.1111111111111111,\"#46039f\"],[0.2222222222222222,\"#7201a8\"],[0.3333333333333333,\"#9c179e\"],[0.4444444444444444,\"#bd3786\"],[0.5555555555555556,\"#d8576b\"],[0.6666666666666666,\"#ed7953\"],[0.7777777777777778,\"#fb9f3a\"],[0.8888888888888888,\"#fdca26\"],[1.0,\"#f0f921\"]],\"type\":\"heatmap\"}],\"heatmapgl\":[{\"colorbar\":{\"outlinewidth\":0,\"ticks\":\"\"},\"colorscale\":[[0.0,\"#0d0887\"],[0.1111111111111111,\"#46039f\"],[0.2222222222222222,\"#7201a8\"],[0.3333333333333333,\"#9c179e\"],[0.4444444444444444,\"#bd3786\"],[0.5555555555555556,\"#d8576b\"],[0.6666666666666666,\"#ed7953\"],[0.7777777777777778,\"#fb9f3a\"],[0.8888888888888888,\"#fdca26\"],[1.0,\"#f0f921\"]],\"type\":\"heatmapgl\"}],\"histogram\":[{\"marker\":{\"pattern\":{\"fillmode\":\"overlay\",\"size\":10,\"solidity\":0.2}},\"type\":\"histogram\"}],\"histogram2d\":[{\"colorbar\":{\"outlinewidth\":0,\"ticks\":\"\"},\"colorscale\":[[0.0,\"#0d0887\"],[0.1111111111111111,\"#46039f\"],[0.2222222222222222,\"#7201a8\"],[0.3333333333333333,\"#9c179e\"],[0.4444444444444444,\"#bd3786\"],[0.5555555555555556,\"#d8576b\"],[0.6666666666666666,\"#ed7953\"],[0.7777777777777778,\"#fb9f3a\"],[0.8888888888888888,\"#fdca26\"],[1.0,\"#f0f921\"]],\"type\":\"histogram2d\"}],\"histogram2dcontour\":[{\"colorbar\":{\"outlinewidth\":0,\"ticks\":\"\"},\"colorscale\":[[0.0,\"#0d0887\"],[0.1111111111111111,\"#46039f\"],[0.2222222222222222,\"#7201a8\"],[0.3333333333333333,\"#9c179e\"],[0.4444444444444444,\"#bd3786\"],[0.5555555555555556,\"#d8576b\"],[0.6666666666666666,\"#ed7953\"],[0.7777777777777778,\"#fb9f3a\"],[0.8888888888888888,\"#fdca26\"],[1.0,\"#f0f921\"]],\"type\":\"histogram2dcontour\"}],\"mesh3d\":[{\"colorbar\":{\"outlinewidth\":0,\"ticks\":\"\"},\"type\":\"mesh3d\"}],\"parcoords\":[{\"line\":{\"colorbar\":{\"outlinewidth\":0,\"ticks\":\"\"}},\"type\":\"parcoords\"}],\"pie\":[{\"automargin\":true,\"type\":\"pie\"}],\"scatter\":[{\"marker\":{\"colorbar\":{\"outlinewidth\":0,\"ticks\":\"\"}},\"type\":\"scatter\"}],\"scatter3d\":[{\"line\":{\"colorbar\":{\"outlinewidth\":0,\"ticks\":\"\"}},\"marker\":{\"colorbar\":{\"outlinewidth\":0,\"ticks\":\"\"}},\"type\":\"scatter3d\"}],\"scattercarpet\":[{\"marker\":{\"colorbar\":{\"outlinewidth\":0,\"ticks\":\"\"}},\"type\":\"scattercarpet\"}],\"scattergeo\":[{\"marker\":{\"colorbar\":{\"outlinewidth\":0,\"ticks\":\"\"}},\"type\":\"scattergeo\"}],\"scattergl\":[{\"marker\":{\"colorbar\":{\"outlinewidth\":0,\"ticks\":\"\"}},\"type\":\"scattergl\"}],\"scattermapbox\":[{\"marker\":{\"colorbar\":{\"outlinewidth\":0,\"ticks\":\"\"}},\"type\":\"scattermapbox\"}],\"scatterpolar\":[{\"marker\":{\"colorbar\":{\"outlinewidth\":0,\"ticks\":\"\"}},\"type\":\"scatterpolar\"}],\"scatterpolargl\":[{\"marker\":{\"colorbar\":{\"outlinewidth\":0,\"ticks\":\"\"}},\"type\":\"scatterpolargl\"}],\"scatterternary\":[{\"marker\":{\"colorbar\":{\"outlinewidth\":0,\"ticks\":\"\"}},\"type\":\"scatterternary\"}],\"surface\":[{\"colorbar\":{\"outlinewidth\":0,\"ticks\":\"\"},\"colorscale\":[[0.0,\"#0d0887\"],[0.1111111111111111,\"#46039f\"],[0.2222222222222222,\"#7201a8\"],[0.3333333333333333,\"#9c179e\"],[0.4444444444444444,\"#bd3786\"],[0.5555555555555556,\"#d8576b\"],[0.6666666666666666,\"#ed7953\"],[0.7777777777777778,\"#fb9f3a\"],[0.8888888888888888,\"#fdca26\"],[1.0,\"#f0f921\"]],\"type\":\"surface\"}],\"table\":[{\"cells\":{\"fill\":{\"color\":\"#EBF0F8\"},\"line\":{\"color\":\"white\"}},\"header\":{\"fill\":{\"color\":\"#C8D4E3\"},\"line\":{\"color\":\"white\"}},\"type\":\"table\"}]},\"layout\":{\"annotationdefaults\":{\"arrowcolor\":\"#2a3f5f\",\"arrowhead\":0,\"arrowwidth\":1},\"autotypenumbers\":\"strict\",\"coloraxis\":{\"colorbar\":{\"outlinewidth\":0,\"ticks\":\"\"}},\"colorscale\":{\"diverging\":[[0,\"#8e0152\"],[0.1,\"#c51b7d\"],[0.2,\"#de77ae\"],[0.3,\"#f1b6da\"],[0.4,\"#fde0ef\"],[0.5,\"#f7f7f7\"],[0.6,\"#e6f5d0\"],[0.7,\"#b8e186\"],[0.8,\"#7fbc41\"],[0.9,\"#4d9221\"],[1,\"#276419\"]],\"sequential\":[[0.0,\"#0d0887\"],[0.1111111111111111,\"#46039f\"],[0.2222222222222222,\"#7201a8\"],[0.3333333333333333,\"#9c179e\"],[0.4444444444444444,\"#bd3786\"],[0.5555555555555556,\"#d8576b\"],[0.6666666666666666,\"#ed7953\"],[0.7777777777777778,\"#fb9f3a\"],[0.8888888888888888,\"#fdca26\"],[1.0,\"#f0f921\"]],\"sequentialminus\":[[0.0,\"#0d0887\"],[0.1111111111111111,\"#46039f\"],[0.2222222222222222,\"#7201a8\"],[0.3333333333333333,\"#9c179e\"],[0.4444444444444444,\"#bd3786\"],[0.5555555555555556,\"#d8576b\"],[0.6666666666666666,\"#ed7953\"],[0.7777777777777778,\"#fb9f3a\"],[0.8888888888888888,\"#fdca26\"],[1.0,\"#f0f921\"]]},\"colorway\":[\"#636efa\",\"#EF553B\",\"#00cc96\",\"#ab63fa\",\"#FFA15A\",\"#19d3f3\",\"#FF6692\",\"#B6E880\",\"#FF97FF\",\"#FECB52\"],\"font\":{\"color\":\"#2a3f5f\"},\"geo\":{\"bgcolor\":\"white\",\"lakecolor\":\"white\",\"landcolor\":\"#E5ECF6\",\"showlakes\":true,\"showland\":true,\"subunitcolor\":\"white\"},\"hoverlabel\":{\"align\":\"left\"},\"hovermode\":\"closest\",\"mapbox\":{\"style\":\"light\"},\"paper_bgcolor\":\"white\",\"plot_bgcolor\":\"#E5ECF6\",\"polar\":{\"angularaxis\":{\"gridcolor\":\"white\",\"linecolor\":\"white\",\"ticks\":\"\"},\"bgcolor\":\"#E5ECF6\",\"radialaxis\":{\"gridcolor\":\"white\",\"linecolor\":\"white\",\"ticks\":\"\"}},\"scene\":{\"xaxis\":{\"backgroundcolor\":\"#E5ECF6\",\"gridcolor\":\"white\",\"gridwidth\":2,\"linecolor\":\"white\",\"showbackground\":true,\"ticks\":\"\",\"zerolinecolor\":\"white\"},\"yaxis\":{\"backgroundcolor\":\"#E5ECF6\",\"gridcolor\":\"white\",\"gridwidth\":2,\"linecolor\":\"white\",\"showbackground\":true,\"ticks\":\"\",\"zerolinecolor\":\"white\"},\"zaxis\":{\"backgroundcolor\":\"#E5ECF6\",\"gridcolor\":\"white\",\"gridwidth\":2,\"linecolor\":\"white\",\"showbackground\":true,\"ticks\":\"\",\"zerolinecolor\":\"white\"}},\"shapedefaults\":{\"line\":{\"color\":\"#2a3f5f\"}},\"ternary\":{\"aaxis\":{\"gridcolor\":\"white\",\"linecolor\":\"white\",\"ticks\":\"\"},\"baxis\":{\"gridcolor\":\"white\",\"linecolor\":\"white\",\"ticks\":\"\"},\"bgcolor\":\"#E5ECF6\",\"caxis\":{\"gridcolor\":\"white\",\"linecolor\":\"white\",\"ticks\":\"\"}},\"title\":{\"x\":0.05},\"xaxis\":{\"automargin\":true,\"gridcolor\":\"white\",\"linecolor\":\"white\",\"ticks\":\"\",\"title\":{\"standoff\":15},\"zerolinecolor\":\"white\",\"zerolinewidth\":2},\"yaxis\":{\"automargin\":true,\"gridcolor\":\"white\",\"linecolor\":\"white\",\"ticks\":\"\",\"title\":{\"standoff\":15},\"zerolinecolor\":\"white\",\"zerolinewidth\":2}}},\"title\":{\"text\":\"Training Loss\"},\"xaxis\":{\"title\":{\"text\":\"Epochs\"}},\"yaxis\":{\"title\":{\"text\":\"Loss\"}}},                        {\"responsive\": true}                    ).then(function(){\n",
              "                            \n",
              "var gd = document.getElementById('3d0aa3d3-acbb-4b54-93e5-f1e30c71bf49');\n",
              "var x = new MutationObserver(function (mutations, observer) {{\n",
              "        var display = window.getComputedStyle(gd).display;\n",
              "        if (!display || display === 'none') {{\n",
              "            console.log([gd, 'removed!']);\n",
              "            Plotly.purge(gd);\n",
              "            observer.disconnect();\n",
              "        }}\n",
              "}});\n",
              "\n",
              "// Listen for the removal of the full notebook cells\n",
              "var notebookContainer = gd.closest('#notebook-container');\n",
              "if (notebookContainer) {{\n",
              "    x.observe(notebookContainer, {childList: true});\n",
              "}}\n",
              "\n",
              "// Listen for the clearing of the current output cell\n",
              "var outputEl = gd.closest('.output');\n",
              "if (outputEl) {{\n",
              "    x.observe(outputEl, {childList: true});\n",
              "}}\n",
              "\n",
              "                        })                };                            </script>        </div>\n",
              "</body>\n",
              "</html>"
            ]
          },
          "metadata": {}
        }
      ]
    },
    {
      "cell_type": "markdown",
      "metadata": {
        "id": "DBrLqMGcccNN"
      },
      "source": [
        "## 3. Model 2\n",
        "### Binary Classification of Authors\n",
        "We created a model that makes predictions in a binary fashion. We adjusted the testing set for this model so that there was no data imbalance, and we calculated class weights to handle the imbalannce during model training."
      ]
    },
    {
      "cell_type": "code",
      "execution_count": null,
      "metadata": {
        "colab": {
          "base_uri": "https://localhost:8080/"
        },
        "id": "1tWbOdFREeNS",
        "outputId": "ffd8785a-99c0-4694-fb4f-6c87bc64f8fc"
      },
      "outputs": [
        {
          "output_type": "stream",
          "name": "stdout",
          "text": [
            "1000\n",
            "2000 2000\n"
          ]
        }
      ],
      "source": [
        "y_train_hem = [1 if i == 2 else 0 for i in y_train]\n",
        "y_val_hem = [1 if i == 2 else 0 for i in y_val]\n",
        "y_test_hem_temp = [1 if i == 2 else 0 for i in y_test]\n",
        "\n",
        "\n",
        "# creating a balanced test dataset\n",
        "init = y_test_hem_temp.count(1)\n",
        "count = 0\n",
        "X_test_hem = []\n",
        "y_test_hem = []\n",
        "for i in range(len(y_test_hem_temp)):\n",
        "  if y_test_hem_temp[i] == 1:\n",
        "    X_test_hem.append(X_test[i])\n",
        "    y_test_hem.append(y_test_hem_temp[i])\n",
        "  else:\n",
        "    if count < init:\n",
        "      X_test_hem.append(X_test[i])\n",
        "      y_test_hem.append(y_test_hem_temp[i])\n",
        "      count += 1\n",
        "    else:\n",
        "      continue\n",
        "\n",
        "print(init)\n",
        "print(len(X_test_hem), len(y_test_hem))"
      ]
    },
    {
      "cell_type": "code",
      "execution_count": null,
      "metadata": {
        "id": "GkUkdHJzEwh9"
      },
      "outputs": [],
      "source": [
        "train_ds_hem = tf.data.Dataset.from_tensor_slices((X_train, y_train_hem)) \n",
        "val_ds_hem = tf.data.Dataset.from_tensor_slices((X_val, y_val_hem))\n",
        "test_ds_hem = tf.data.Dataset.from_tensor_slices((X_test_hem, y_test_hem))"
      ]
    },
    {
      "cell_type": "code",
      "execution_count": null,
      "metadata": {
        "colab": {
          "base_uri": "https://localhost:8080/"
        },
        "id": "8Z6vYrWjd60-",
        "outputId": "c076ce55-ae3c-4f49-b7b6-5e70da7985ed"
      },
      "outputs": [
        {
          "output_type": "execute_result",
          "data": {
            "text/plain": [
              "{0: 0.6498555876471895, 1: 2.168272794662713}"
            ]
          },
          "metadata": {},
          "execution_count": 42
        }
      ],
      "source": [
        "train_ds_hem = train_ds_hem.batch(64).shuffle(100).prefetch(tf.data.AUTOTUNE)\n",
        "val_ds_hem = val_ds_hem.batch(64).prefetch(tf.data.AUTOTUNE)\n",
        "test_ds_hem = test_ds_hem.batch(64).prefetch(tf.data.AUTOTUNE)\n",
        "\n",
        "# Creating weights to handle class imbalance of the training data. \n",
        "class_weights = {1: len(y_train_hem)/(2*y_train_hem.count(1)), 0: len(y_train_hem)/(2*y_train_hem.count(0))}\n",
        "class_weights"
      ]
    },
    {
      "cell_type": "markdown",
      "source": [
        "### Model 2"
      ],
      "metadata": {
        "id": "KHcBeANz4AEg"
      }
    },
    {
      "cell_type": "code",
      "execution_count": null,
      "metadata": {
        "id": "c_JB6zlYD_Vy"
      },
      "outputs": [],
      "source": [
        "VOCAB_SIZE = 10000\n",
        "encoder_hem = tf.keras.layers.TextVectorization(\n",
        "    max_tokens=VOCAB_SIZE)\n",
        "encoder_hem.adapt(train_ds_hem.map(lambda text, label: text))\n",
        "\n",
        "model_hem = tf.keras.Sequential([\n",
        "    encoder,\n",
        "    tf.keras.layers.Embedding(\n",
        "        input_dim=len(encoder_hem.get_vocabulary()),\n",
        "        output_dim=64,\n",
        "        mask_zero=True),\n",
        "    tf.keras.layers.Bidirectional(tf.keras.layers.LSTM(64, return_sequences=True)),\n",
        "    tf.keras.layers.Bidirectional(tf.keras.layers.LSTM(32)),\n",
        "    tf.keras.layers.Dense(16, activation='relu'),\n",
        "    tf.keras.layers.Dropout(.2),\n",
        "    tf.keras.layers.Dense(1)\n",
        "])\n",
        "\n",
        "model_hem.compile(loss=\"binary_crossentropy\",\n",
        "              optimizer=tf.keras.optimizers.Adam(5e-5),\n",
        "              metrics=['accuracy'])"
      ]
    },
    {
      "cell_type": "code",
      "execution_count": null,
      "metadata": {
        "colab": {
          "base_uri": "https://localhost:8080/"
        },
        "id": "nzEhQxZJgkAf",
        "outputId": "13cabe9e-6adc-4594-f30d-453d61579ce3"
      },
      "outputs": [
        {
          "output_type": "stream",
          "name": "stdout",
          "text": [
            "Epoch 1/5\n",
            "366/366 [==============================] - 31s 38ms/step - loss: 1.9483 - accuracy: 0.7694 - val_loss: 0.6228 - val_accuracy: 0.7677\n",
            "Epoch 2/5\n",
            "366/366 [==============================] - 10s 26ms/step - loss: 0.7586 - accuracy: 0.7147 - val_loss: 0.4958 - val_accuracy: 0.8081\n",
            "Epoch 3/5\n",
            "366/366 [==============================] - 10s 28ms/step - loss: 0.6028 - accuracy: 0.8181 - val_loss: 0.4250 - val_accuracy: 0.8846\n",
            "Epoch 4/5\n",
            "366/366 [==============================] - 9s 25ms/step - loss: 0.4350 - accuracy: 0.8552 - val_loss: 0.3498 - val_accuracy: 0.9077\n",
            "Epoch 5/5\n",
            "366/366 [==============================] - 9s 25ms/step - loss: 0.3505 - accuracy: 0.8994 - val_loss: 0.2737 - val_accuracy: 0.9342\n"
          ]
        }
      ],
      "source": [
        "history_hem = model_hem.fit(train_ds_hem, epochs=5,\n",
        "                    validation_data=val_ds_hem,\n",
        "                    class_weight=class_weights)\n",
        "\n",
        "# This model trains much faster than the previous one. The number of 5 epochs was \n",
        "# chosen because we had a hard time finding a learning rate that didn't shoot past\n",
        "#  the optimal loss and result in a poor model. "
      ]
    },
    {
      "cell_type": "code",
      "execution_count": null,
      "metadata": {
        "id": "guInVwFSoVvg"
      },
      "outputs": [],
      "source": [
        "model_hem_path = os.path.join(models_path, \"modelhem\")\n",
        "# Save the entire model\n",
        "# model_hem.save(model_hem_path)\n",
        "\n",
        "model_hem = tf.keras.models.load_model(model_hem_path)"
      ]
    },
    {
      "cell_type": "code",
      "source": [
        "test_loss, test_acc = model_hem.evaluate(test_ds_hem)\n",
        "\n",
        "print('Test Loss:', test_loss)\n",
        "print('Test Accuracy:', test_acc)"
      ],
      "metadata": {
        "colab": {
          "base_uri": "https://localhost:8080/"
        },
        "id": "2YgK051pWf7I",
        "outputId": "5f3beaf6-235d-43e7-cafe-6035ad8ac309"
      },
      "execution_count": null,
      "outputs": [
        {
          "output_type": "stream",
          "name": "stdout",
          "text": [
            "32/32 [==============================] - 5s 14ms/step - loss: 1.0151 - accuracy: 0.6980\n",
            "Test Loss: 1.0150622129440308\n",
            "Test Accuracy: 0.6980000138282776\n"
          ]
        }
      ]
    },
    {
      "cell_type": "markdown",
      "source": [
        "### Sample Predictions on Unseen Novels\n",
        "In this section we wanted to show what some sample predictions looked like for our model."
      ],
      "metadata": {
        "id": "BRAiy03I0Yt0"
      }
    },
    {
      "cell_type": "code",
      "source": [
        "# passage from *A Farewell to Arms*\n",
        "output1 = model_hem.predict(np.array([\"If people bring so much courage to this world the world has to kill them to break them, \\\n",
        "so of course it kills them. The world breaks every one and afterward many are strong at the broken places. \\\n",
        "But those that will not break it kills. It kills the very good and the very gentle and the very brave impartially. \\\n",
        "If you are none of these you can be sure it will kill you too but there will be no special hurry.\"]))\n",
        "print(logistic.cdf(output1[0])) # 94 percent Hemingway -- correct\n",
        "\n",
        "# passage from *A Moveable Feast*\n",
        "output2 = model_hem.predict(np.array([\"You expected to be sad in the fall. Part of you died each year when the\\\n",
        " leaves fell from the trees and their branches were bare against the wind and the cold, wintery light. \\\n",
        " But you knew there would always be the spring, as you knew the river would flow again after it was frozen.”\"]))\n",
        "print(logistic.cdf(output2[0])) # 61 percent Hemingway -- correct (but not as good)\n",
        "\n",
        "# passage from *A Farewell to Arms*\n",
        "output3 = model_hem.predict(np.array([\"“The world breaks everyone and afterward many are strong at the broken places.\\\n",
        " But those that will not break it kills. It kills the very good and the very gentle and the very brave impartially. \\\n",
        " If you are none of these you can be sure it will kill you too but there will be no special hurry.\"]))\n",
        "print(logistic.cdf(output3[0])) # 87 percent Hemingway -- correct\n",
        "\n",
        "# beginning from *A Tale of Two Cities* by Charles Dickens\n",
        "output4 = model_hem.predict(np.array([\"It was the best of times, it was the worst of times, it was the age of wisdom, \\\n",
        "it was the age of foolishness, it was the epoch of belief, it was the epoch of incredulity, it was the season of Light, \\\n",
        "it was the season of Darkness, it was the spring of hope, it was the winter of despair.\"]))\n",
        "print(logistic.cdf(output4[0])) # 60 percent Hemingway -- wrong\n",
        "\n",
        "# passage from *The Innocents Abroad* by Mark Twain\n",
        "output5 = model_hem.predict(np.array([\"Travel is fatal to prejudice, bigotry, and narrow-mindedness, and many of our \\\n",
        "people need it sorely on these accounts. Broad, wholesome, charitable views of men and things cannot be acquired by\\\n",
        " vegetating in one little corner of the earth all one's lifetime.\"]))\n",
        "print(logistic.cdf(output5[0])) # 49 percent Hemingway -- correct\n",
        "\n",
        "# passage from *The Prisoner of Azkaban* by JK Rowling\n",
        "output6 = model_hem.predict(np.array([\"Mr. Moony presents his compliments to Professor Snape, and begs him to keep his abnormally large nose out of other people's business. \\\n",
        "Mr. Prongs agrees with Mr. Moony, and would like to add that Professor Snape is an ugly git. \\\n",
        "Mr. Padfoot would like to register his astonishment that an idiot like that ever became a professor. \\\n",
        "Mr. Wormtail bids Professor Snape good day, and advises him to wash his hair, the slimeball.\"]))\n",
        "print(logistic.cdf(output6[0])) # 48.8 percent Hemingway -- correct"
      ],
      "metadata": {
        "colab": {
          "base_uri": "https://localhost:8080/"
        },
        "id": "IAgMCAqUyg5z",
        "outputId": "bf40bcea-789b-4754-cfc4-465293ceac10"
      },
      "execution_count": null,
      "outputs": [
        {
          "output_type": "stream",
          "name": "stdout",
          "text": [
            "[0.94089621]\n",
            "[0.61032006]\n",
            "[0.87944988]\n",
            "[0.60728842]\n",
            "[0.49633349]\n",
            "[0.4881808]\n"
          ]
        }
      ]
    },
    {
      "cell_type": "markdown",
      "source": [
        "### Results (Accuracy)\n",
        "\n",
        "Exploration of the Validation results set told us that the optimal decision boundary was at the output of the model transformed by the sigmoid at 0.55. For brevity we are not showing the validattion results for the changed decision boundary, but rather the updated decision boundary results for the test set (completely unseen novels)."
      ],
      "metadata": {
        "id": "r6VSt5tSsWQ2"
      }
    },
    {
      "cell_type": "code",
      "source": [
        "predict_x = model_hem.predict(test_ds_hem).flatten()\n",
        "predictions_hem = [1 if logistic.cdf(i) > 0.55 else 0 for i in predict_x]\n",
        "\n",
        "y_test_labels = {0:\"Not Hemingway\", 1:\"Hemingway\"}\n",
        "labels = list(y_test_labels.values())\n",
        "\n",
        "\n",
        "print(classification_report(np.array(y_test_hem), predictions_hem))\n",
        "conf_matrix = pd.DataFrame(confusion_matrix(np.array(y_test_hem), predictions_hem), index=labels, columns=labels)\n",
        "conf_matrix = conf_matrix.astype('float') / conf_matrix.sum(axis=1)[:, np.newaxis]\n",
        "conf_matrix\n",
        "\n",
        "import plotly.express as px\n",
        "fig = px.imshow(conf_matrix,\n",
        "                labels=dict(x=\"Predictions\", y=\"Ground Truth\", color=\"Accuracy\"),\n",
        "                x=labels,\n",
        "                y=labels,\n",
        "                text_auto=True\n",
        "               )\n",
        "fig.update_xaxes(side=\"top\")\n",
        "fig.show()\n",
        "conf_matrix"
      ],
      "metadata": {
        "colab": {
          "base_uri": "https://localhost:8080/",
          "height": 889
        },
        "id": "pZvvjKxjwgNl",
        "outputId": "6c27ae78-0078-4229-d4c4-23f89c14c5bb"
      },
      "execution_count": null,
      "outputs": [
        {
          "output_type": "stream",
          "name": "stdout",
          "text": [
            "              precision    recall  f1-score   support\n",
            "\n",
            "           0       0.75      0.82      0.78      1000\n",
            "           1       0.80      0.73      0.77      1000\n",
            "\n",
            "    accuracy                           0.78      2000\n",
            "   macro avg       0.78      0.78      0.78      2000\n",
            "weighted avg       0.78      0.78      0.78      2000\n",
            "\n"
          ]
        },
        {
          "output_type": "stream",
          "name": "stderr",
          "text": [
            "/usr/local/lib/python3.7/dist-packages/ipykernel_launcher.py:10: FutureWarning:\n",
            "\n",
            "Support for multi-dimensional indexing (e.g. `obj[:, None]`) is deprecated and will be removed in a future version.  Convert to a numpy array before indexing instead.\n",
            "\n"
          ]
        },
        {
          "output_type": "display_data",
          "data": {
            "text/html": [
              "<html>\n",
              "<head><meta charset=\"utf-8\" /></head>\n",
              "<body>\n",
              "    <div>            <script src=\"https://cdnjs.cloudflare.com/ajax/libs/mathjax/2.7.5/MathJax.js?config=TeX-AMS-MML_SVG\"></script><script type=\"text/javascript\">if (window.MathJax) {MathJax.Hub.Config({SVG: {font: \"STIX-Web\"}});}</script>                <script type=\"text/javascript\">window.PlotlyConfig = {MathJaxConfig: 'local'};</script>\n",
              "        <script src=\"https://cdn.plot.ly/plotly-2.8.3.min.js\"></script>                <div id=\"673cc5a7-cbd1-46de-bae2-3ef9067f705b\" class=\"plotly-graph-div\" style=\"height:525px; width:100%;\"></div>            <script type=\"text/javascript\">                                    window.PLOTLYENV=window.PLOTLYENV || {};                                    if (document.getElementById(\"673cc5a7-cbd1-46de-bae2-3ef9067f705b\")) {                    Plotly.newPlot(                        \"673cc5a7-cbd1-46de-bae2-3ef9067f705b\",                        [{\"coloraxis\":\"coloraxis\",\"name\":\"0\",\"texttemplate\":\"%{z}\",\"x\":[\"Not Hemingway\",\"Hemingway\"],\"y\":[\"Not Hemingway\",\"Hemingway\"],\"z\":[[0.818,0.182],[0.267,0.733]],\"type\":\"heatmap\",\"xaxis\":\"x\",\"yaxis\":\"y\",\"hovertemplate\":\"Predictions: %{x}<br>Ground Truth: %{y}<br>Accuracy: %{z}<extra></extra>\"}],                        {\"template\":{\"data\":{\"bar\":[{\"error_x\":{\"color\":\"#2a3f5f\"},\"error_y\":{\"color\":\"#2a3f5f\"},\"marker\":{\"line\":{\"color\":\"#E5ECF6\",\"width\":0.5},\"pattern\":{\"fillmode\":\"overlay\",\"size\":10,\"solidity\":0.2}},\"type\":\"bar\"}],\"barpolar\":[{\"marker\":{\"line\":{\"color\":\"#E5ECF6\",\"width\":0.5},\"pattern\":{\"fillmode\":\"overlay\",\"size\":10,\"solidity\":0.2}},\"type\":\"barpolar\"}],\"carpet\":[{\"aaxis\":{\"endlinecolor\":\"#2a3f5f\",\"gridcolor\":\"white\",\"linecolor\":\"white\",\"minorgridcolor\":\"white\",\"startlinecolor\":\"#2a3f5f\"},\"baxis\":{\"endlinecolor\":\"#2a3f5f\",\"gridcolor\":\"white\",\"linecolor\":\"white\",\"minorgridcolor\":\"white\",\"startlinecolor\":\"#2a3f5f\"},\"type\":\"carpet\"}],\"choropleth\":[{\"colorbar\":{\"outlinewidth\":0,\"ticks\":\"\"},\"type\":\"choropleth\"}],\"contour\":[{\"colorbar\":{\"outlinewidth\":0,\"ticks\":\"\"},\"colorscale\":[[0.0,\"#0d0887\"],[0.1111111111111111,\"#46039f\"],[0.2222222222222222,\"#7201a8\"],[0.3333333333333333,\"#9c179e\"],[0.4444444444444444,\"#bd3786\"],[0.5555555555555556,\"#d8576b\"],[0.6666666666666666,\"#ed7953\"],[0.7777777777777778,\"#fb9f3a\"],[0.8888888888888888,\"#fdca26\"],[1.0,\"#f0f921\"]],\"type\":\"contour\"}],\"contourcarpet\":[{\"colorbar\":{\"outlinewidth\":0,\"ticks\":\"\"},\"type\":\"contourcarpet\"}],\"heatmap\":[{\"colorbar\":{\"outlinewidth\":0,\"ticks\":\"\"},\"colorscale\":[[0.0,\"#0d0887\"],[0.1111111111111111,\"#46039f\"],[0.2222222222222222,\"#7201a8\"],[0.3333333333333333,\"#9c179e\"],[0.4444444444444444,\"#bd3786\"],[0.5555555555555556,\"#d8576b\"],[0.6666666666666666,\"#ed7953\"],[0.7777777777777778,\"#fb9f3a\"],[0.8888888888888888,\"#fdca26\"],[1.0,\"#f0f921\"]],\"type\":\"heatmap\"}],\"heatmapgl\":[{\"colorbar\":{\"outlinewidth\":0,\"ticks\":\"\"},\"colorscale\":[[0.0,\"#0d0887\"],[0.1111111111111111,\"#46039f\"],[0.2222222222222222,\"#7201a8\"],[0.3333333333333333,\"#9c179e\"],[0.4444444444444444,\"#bd3786\"],[0.5555555555555556,\"#d8576b\"],[0.6666666666666666,\"#ed7953\"],[0.7777777777777778,\"#fb9f3a\"],[0.8888888888888888,\"#fdca26\"],[1.0,\"#f0f921\"]],\"type\":\"heatmapgl\"}],\"histogram\":[{\"marker\":{\"pattern\":{\"fillmode\":\"overlay\",\"size\":10,\"solidity\":0.2}},\"type\":\"histogram\"}],\"histogram2d\":[{\"colorbar\":{\"outlinewidth\":0,\"ticks\":\"\"},\"colorscale\":[[0.0,\"#0d0887\"],[0.1111111111111111,\"#46039f\"],[0.2222222222222222,\"#7201a8\"],[0.3333333333333333,\"#9c179e\"],[0.4444444444444444,\"#bd3786\"],[0.5555555555555556,\"#d8576b\"],[0.6666666666666666,\"#ed7953\"],[0.7777777777777778,\"#fb9f3a\"],[0.8888888888888888,\"#fdca26\"],[1.0,\"#f0f921\"]],\"type\":\"histogram2d\"}],\"histogram2dcontour\":[{\"colorbar\":{\"outlinewidth\":0,\"ticks\":\"\"},\"colorscale\":[[0.0,\"#0d0887\"],[0.1111111111111111,\"#46039f\"],[0.2222222222222222,\"#7201a8\"],[0.3333333333333333,\"#9c179e\"],[0.4444444444444444,\"#bd3786\"],[0.5555555555555556,\"#d8576b\"],[0.6666666666666666,\"#ed7953\"],[0.7777777777777778,\"#fb9f3a\"],[0.8888888888888888,\"#fdca26\"],[1.0,\"#f0f921\"]],\"type\":\"histogram2dcontour\"}],\"mesh3d\":[{\"colorbar\":{\"outlinewidth\":0,\"ticks\":\"\"},\"type\":\"mesh3d\"}],\"parcoords\":[{\"line\":{\"colorbar\":{\"outlinewidth\":0,\"ticks\":\"\"}},\"type\":\"parcoords\"}],\"pie\":[{\"automargin\":true,\"type\":\"pie\"}],\"scatter\":[{\"marker\":{\"colorbar\":{\"outlinewidth\":0,\"ticks\":\"\"}},\"type\":\"scatter\"}],\"scatter3d\":[{\"line\":{\"colorbar\":{\"outlinewidth\":0,\"ticks\":\"\"}},\"marker\":{\"colorbar\":{\"outlinewidth\":0,\"ticks\":\"\"}},\"type\":\"scatter3d\"}],\"scattercarpet\":[{\"marker\":{\"colorbar\":{\"outlinewidth\":0,\"ticks\":\"\"}},\"type\":\"scattercarpet\"}],\"scattergeo\":[{\"marker\":{\"colorbar\":{\"outlinewidth\":0,\"ticks\":\"\"}},\"type\":\"scattergeo\"}],\"scattergl\":[{\"marker\":{\"colorbar\":{\"outlinewidth\":0,\"ticks\":\"\"}},\"type\":\"scattergl\"}],\"scattermapbox\":[{\"marker\":{\"colorbar\":{\"outlinewidth\":0,\"ticks\":\"\"}},\"type\":\"scattermapbox\"}],\"scatterpolar\":[{\"marker\":{\"colorbar\":{\"outlinewidth\":0,\"ticks\":\"\"}},\"type\":\"scatterpolar\"}],\"scatterpolargl\":[{\"marker\":{\"colorbar\":{\"outlinewidth\":0,\"ticks\":\"\"}},\"type\":\"scatterpolargl\"}],\"scatterternary\":[{\"marker\":{\"colorbar\":{\"outlinewidth\":0,\"ticks\":\"\"}},\"type\":\"scatterternary\"}],\"surface\":[{\"colorbar\":{\"outlinewidth\":0,\"ticks\":\"\"},\"colorscale\":[[0.0,\"#0d0887\"],[0.1111111111111111,\"#46039f\"],[0.2222222222222222,\"#7201a8\"],[0.3333333333333333,\"#9c179e\"],[0.4444444444444444,\"#bd3786\"],[0.5555555555555556,\"#d8576b\"],[0.6666666666666666,\"#ed7953\"],[0.7777777777777778,\"#fb9f3a\"],[0.8888888888888888,\"#fdca26\"],[1.0,\"#f0f921\"]],\"type\":\"surface\"}],\"table\":[{\"cells\":{\"fill\":{\"color\":\"#EBF0F8\"},\"line\":{\"color\":\"white\"}},\"header\":{\"fill\":{\"color\":\"#C8D4E3\"},\"line\":{\"color\":\"white\"}},\"type\":\"table\"}]},\"layout\":{\"annotationdefaults\":{\"arrowcolor\":\"#2a3f5f\",\"arrowhead\":0,\"arrowwidth\":1},\"autotypenumbers\":\"strict\",\"coloraxis\":{\"colorbar\":{\"outlinewidth\":0,\"ticks\":\"\"}},\"colorscale\":{\"diverging\":[[0,\"#8e0152\"],[0.1,\"#c51b7d\"],[0.2,\"#de77ae\"],[0.3,\"#f1b6da\"],[0.4,\"#fde0ef\"],[0.5,\"#f7f7f7\"],[0.6,\"#e6f5d0\"],[0.7,\"#b8e186\"],[0.8,\"#7fbc41\"],[0.9,\"#4d9221\"],[1,\"#276419\"]],\"sequential\":[[0.0,\"#0d0887\"],[0.1111111111111111,\"#46039f\"],[0.2222222222222222,\"#7201a8\"],[0.3333333333333333,\"#9c179e\"],[0.4444444444444444,\"#bd3786\"],[0.5555555555555556,\"#d8576b\"],[0.6666666666666666,\"#ed7953\"],[0.7777777777777778,\"#fb9f3a\"],[0.8888888888888888,\"#fdca26\"],[1.0,\"#f0f921\"]],\"sequentialminus\":[[0.0,\"#0d0887\"],[0.1111111111111111,\"#46039f\"],[0.2222222222222222,\"#7201a8\"],[0.3333333333333333,\"#9c179e\"],[0.4444444444444444,\"#bd3786\"],[0.5555555555555556,\"#d8576b\"],[0.6666666666666666,\"#ed7953\"],[0.7777777777777778,\"#fb9f3a\"],[0.8888888888888888,\"#fdca26\"],[1.0,\"#f0f921\"]]},\"colorway\":[\"#636efa\",\"#EF553B\",\"#00cc96\",\"#ab63fa\",\"#FFA15A\",\"#19d3f3\",\"#FF6692\",\"#B6E880\",\"#FF97FF\",\"#FECB52\"],\"font\":{\"color\":\"#2a3f5f\"},\"geo\":{\"bgcolor\":\"white\",\"lakecolor\":\"white\",\"landcolor\":\"#E5ECF6\",\"showlakes\":true,\"showland\":true,\"subunitcolor\":\"white\"},\"hoverlabel\":{\"align\":\"left\"},\"hovermode\":\"closest\",\"mapbox\":{\"style\":\"light\"},\"paper_bgcolor\":\"white\",\"plot_bgcolor\":\"#E5ECF6\",\"polar\":{\"angularaxis\":{\"gridcolor\":\"white\",\"linecolor\":\"white\",\"ticks\":\"\"},\"bgcolor\":\"#E5ECF6\",\"radialaxis\":{\"gridcolor\":\"white\",\"linecolor\":\"white\",\"ticks\":\"\"}},\"scene\":{\"xaxis\":{\"backgroundcolor\":\"#E5ECF6\",\"gridcolor\":\"white\",\"gridwidth\":2,\"linecolor\":\"white\",\"showbackground\":true,\"ticks\":\"\",\"zerolinecolor\":\"white\"},\"yaxis\":{\"backgroundcolor\":\"#E5ECF6\",\"gridcolor\":\"white\",\"gridwidth\":2,\"linecolor\":\"white\",\"showbackground\":true,\"ticks\":\"\",\"zerolinecolor\":\"white\"},\"zaxis\":{\"backgroundcolor\":\"#E5ECF6\",\"gridcolor\":\"white\",\"gridwidth\":2,\"linecolor\":\"white\",\"showbackground\":true,\"ticks\":\"\",\"zerolinecolor\":\"white\"}},\"shapedefaults\":{\"line\":{\"color\":\"#2a3f5f\"}},\"ternary\":{\"aaxis\":{\"gridcolor\":\"white\",\"linecolor\":\"white\",\"ticks\":\"\"},\"baxis\":{\"gridcolor\":\"white\",\"linecolor\":\"white\",\"ticks\":\"\"},\"bgcolor\":\"#E5ECF6\",\"caxis\":{\"gridcolor\":\"white\",\"linecolor\":\"white\",\"ticks\":\"\"}},\"title\":{\"x\":0.05},\"xaxis\":{\"automargin\":true,\"gridcolor\":\"white\",\"linecolor\":\"white\",\"ticks\":\"\",\"title\":{\"standoff\":15},\"zerolinecolor\":\"white\",\"zerolinewidth\":2},\"yaxis\":{\"automargin\":true,\"gridcolor\":\"white\",\"linecolor\":\"white\",\"ticks\":\"\",\"title\":{\"standoff\":15},\"zerolinecolor\":\"white\",\"zerolinewidth\":2}}},\"xaxis\":{\"anchor\":\"y\",\"domain\":[0.0,1.0],\"scaleanchor\":\"y\",\"constrain\":\"domain\",\"title\":{\"text\":\"Predictions\"},\"side\":\"top\"},\"yaxis\":{\"anchor\":\"x\",\"domain\":[0.0,1.0],\"autorange\":\"reversed\",\"constrain\":\"domain\",\"title\":{\"text\":\"Ground Truth\"}},\"coloraxis\":{\"colorbar\":{\"title\":{\"text\":\"Accuracy\"}},\"colorscale\":[[0.0,\"#0d0887\"],[0.1111111111111111,\"#46039f\"],[0.2222222222222222,\"#7201a8\"],[0.3333333333333333,\"#9c179e\"],[0.4444444444444444,\"#bd3786\"],[0.5555555555555556,\"#d8576b\"],[0.6666666666666666,\"#ed7953\"],[0.7777777777777778,\"#fb9f3a\"],[0.8888888888888888,\"#fdca26\"],[1.0,\"#f0f921\"]]},\"margin\":{\"t\":60}},                        {\"responsive\": true}                    ).then(function(){\n",
              "                            \n",
              "var gd = document.getElementById('673cc5a7-cbd1-46de-bae2-3ef9067f705b');\n",
              "var x = new MutationObserver(function (mutations, observer) {{\n",
              "        var display = window.getComputedStyle(gd).display;\n",
              "        if (!display || display === 'none') {{\n",
              "            console.log([gd, 'removed!']);\n",
              "            Plotly.purge(gd);\n",
              "            observer.disconnect();\n",
              "        }}\n",
              "}});\n",
              "\n",
              "// Listen for the removal of the full notebook cells\n",
              "var notebookContainer = gd.closest('#notebook-container');\n",
              "if (notebookContainer) {{\n",
              "    x.observe(notebookContainer, {childList: true});\n",
              "}}\n",
              "\n",
              "// Listen for the clearing of the current output cell\n",
              "var outputEl = gd.closest('.output');\n",
              "if (outputEl) {{\n",
              "    x.observe(outputEl, {childList: true});\n",
              "}}\n",
              "\n",
              "                        })                };                            </script>        </div>\n",
              "</body>\n",
              "</html>"
            ]
          },
          "metadata": {}
        },
        {
          "output_type": "execute_result",
          "data": {
            "text/plain": [
              "               Not Hemingway  Hemingway\n",
              "Not Hemingway          0.818      0.182\n",
              "Hemingway              0.267      0.733"
            ],
            "text/html": [
              "\n",
              "  <div id=\"df-5c6b4bf0-9a90-4927-b2ae-eeae7bbf9fc1\">\n",
              "    <div class=\"colab-df-container\">\n",
              "      <div>\n",
              "<style scoped>\n",
              "    .dataframe tbody tr th:only-of-type {\n",
              "        vertical-align: middle;\n",
              "    }\n",
              "\n",
              "    .dataframe tbody tr th {\n",
              "        vertical-align: top;\n",
              "    }\n",
              "\n",
              "    .dataframe thead th {\n",
              "        text-align: right;\n",
              "    }\n",
              "</style>\n",
              "<table border=\"1\" class=\"dataframe\">\n",
              "  <thead>\n",
              "    <tr style=\"text-align: right;\">\n",
              "      <th></th>\n",
              "      <th>Not Hemingway</th>\n",
              "      <th>Hemingway</th>\n",
              "    </tr>\n",
              "  </thead>\n",
              "  <tbody>\n",
              "    <tr>\n",
              "      <th>Not Hemingway</th>\n",
              "      <td>0.818</td>\n",
              "      <td>0.182</td>\n",
              "    </tr>\n",
              "    <tr>\n",
              "      <th>Hemingway</th>\n",
              "      <td>0.267</td>\n",
              "      <td>0.733</td>\n",
              "    </tr>\n",
              "  </tbody>\n",
              "</table>\n",
              "</div>\n",
              "      <button class=\"colab-df-convert\" onclick=\"convertToInteractive('df-5c6b4bf0-9a90-4927-b2ae-eeae7bbf9fc1')\"\n",
              "              title=\"Convert this dataframe to an interactive table.\"\n",
              "              style=\"display:none;\">\n",
              "        \n",
              "  <svg xmlns=\"http://www.w3.org/2000/svg\" height=\"24px\"viewBox=\"0 0 24 24\"\n",
              "       width=\"24px\">\n",
              "    <path d=\"M0 0h24v24H0V0z\" fill=\"none\"/>\n",
              "    <path d=\"M18.56 5.44l.94 2.06.94-2.06 2.06-.94-2.06-.94-.94-2.06-.94 2.06-2.06.94zm-11 1L8.5 8.5l.94-2.06 2.06-.94-2.06-.94L8.5 2.5l-.94 2.06-2.06.94zm10 10l.94 2.06.94-2.06 2.06-.94-2.06-.94-.94-2.06-.94 2.06-2.06.94z\"/><path d=\"M17.41 7.96l-1.37-1.37c-.4-.4-.92-.59-1.43-.59-.52 0-1.04.2-1.43.59L10.3 9.45l-7.72 7.72c-.78.78-.78 2.05 0 2.83L4 21.41c.39.39.9.59 1.41.59.51 0 1.02-.2 1.41-.59l7.78-7.78 2.81-2.81c.8-.78.8-2.07 0-2.86zM5.41 20L4 18.59l7.72-7.72 1.47 1.35L5.41 20z\"/>\n",
              "  </svg>\n",
              "      </button>\n",
              "      \n",
              "  <style>\n",
              "    .colab-df-container {\n",
              "      display:flex;\n",
              "      flex-wrap:wrap;\n",
              "      gap: 12px;\n",
              "    }\n",
              "\n",
              "    .colab-df-convert {\n",
              "      background-color: #E8F0FE;\n",
              "      border: none;\n",
              "      border-radius: 50%;\n",
              "      cursor: pointer;\n",
              "      display: none;\n",
              "      fill: #1967D2;\n",
              "      height: 32px;\n",
              "      padding: 0 0 0 0;\n",
              "      width: 32px;\n",
              "    }\n",
              "\n",
              "    .colab-df-convert:hover {\n",
              "      background-color: #E2EBFA;\n",
              "      box-shadow: 0px 1px 2px rgba(60, 64, 67, 0.3), 0px 1px 3px 1px rgba(60, 64, 67, 0.15);\n",
              "      fill: #174EA6;\n",
              "    }\n",
              "\n",
              "    [theme=dark] .colab-df-convert {\n",
              "      background-color: #3B4455;\n",
              "      fill: #D2E3FC;\n",
              "    }\n",
              "\n",
              "    [theme=dark] .colab-df-convert:hover {\n",
              "      background-color: #434B5C;\n",
              "      box-shadow: 0px 1px 3px 1px rgba(0, 0, 0, 0.15);\n",
              "      filter: drop-shadow(0px 1px 2px rgba(0, 0, 0, 0.3));\n",
              "      fill: #FFFFFF;\n",
              "    }\n",
              "  </style>\n",
              "\n",
              "      <script>\n",
              "        const buttonEl =\n",
              "          document.querySelector('#df-5c6b4bf0-9a90-4927-b2ae-eeae7bbf9fc1 button.colab-df-convert');\n",
              "        buttonEl.style.display =\n",
              "          google.colab.kernel.accessAllowed ? 'block' : 'none';\n",
              "\n",
              "        async function convertToInteractive(key) {\n",
              "          const element = document.querySelector('#df-5c6b4bf0-9a90-4927-b2ae-eeae7bbf9fc1');\n",
              "          const dataTable =\n",
              "            await google.colab.kernel.invokeFunction('convertToInteractive',\n",
              "                                                     [key], {});\n",
              "          if (!dataTable) return;\n",
              "\n",
              "          const docLinkHtml = 'Like what you see? Visit the ' +\n",
              "            '<a target=\"_blank\" href=https://colab.research.google.com/notebooks/data_table.ipynb>data table notebook</a>'\n",
              "            + ' to learn more about interactive tables.';\n",
              "          element.innerHTML = '';\n",
              "          dataTable['output_type'] = 'display_data';\n",
              "          await google.colab.output.renderOutput(dataTable, element);\n",
              "          const docLink = document.createElement('div');\n",
              "          docLink.innerHTML = docLinkHtml;\n",
              "          element.appendChild(docLink);\n",
              "        }\n",
              "      </script>\n",
              "    </div>\n",
              "  </div>\n",
              "  "
            ]
          },
          "metadata": {},
          "execution_count": 46
        }
      ]
    },
    {
      "cell_type": "markdown",
      "metadata": {
        "id": "BOUdL1bmYV4y"
      },
      "source": [
        "# Model 3: Part of speech analysis. \n",
        "Training a model on only the part of speech rather than the vocabulary choices of each author. Our idea is that some authors may repeat certain words that make them easier to identify. While this is also of interest, we are also curious about the whether neural networks can pick up on sentence structure as well as on vocabulary choice. To test this choice. We will be encoding every word in our text corpus as it's part of speech (POS). We will then train this data on neural networks to see. \n",
        "\n",
        "For this model we chose a convolutional neural network instead. The reasons for this were two-fold. First, the CNN did far better in terms of predictions. And second, we really felt like a CNN would better be able to find complex patterns between the positions of each part of speech."
      ]
    },
    {
      "cell_type": "code",
      "execution_count": null,
      "metadata": {
        "colab": {
          "base_uri": "https://localhost:8080/"
        },
        "id": "xqdni7zrZ6k_",
        "outputId": "d68b2ffc-70f1-43bd-be50-7bf29bf105ac"
      },
      "outputs": [
        {
          "output_type": "stream",
          "name": "stdout",
          "text": [
            "[nltk_data] Downloading package averaged_perceptron_tagger to\n",
            "[nltk_data]     /root/nltk_data...\n",
            "[nltk_data]   Unzipping taggers/averaged_perceptron_tagger.zip.\n"
          ]
        },
        {
          "output_type": "execute_result",
          "data": {
            "text/plain": [
              "True"
            ]
          },
          "metadata": {},
          "execution_count": 47
        }
      ],
      "source": [
        "import nltk\n",
        "nltk.download('averaged_perceptron_tagger')"
      ]
    },
    {
      "cell_type": "markdown",
      "source": [
        "### Tag each word in the dataset with its part of speech (POS)"
      ],
      "metadata": {
        "id": "khYSnOuv5Zhn"
      }
    },
    {
      "cell_type": "code",
      "execution_count": null,
      "metadata": {
        "colab": {
          "base_uri": "https://localhost:8080/"
        },
        "id": "G2JSIcejcFeJ",
        "outputId": "e9a825b1-fb0d-4327-b1bd-73c675fc43dd"
      },
      "outputs": [
        {
          "output_type": "stream",
          "name": "stdout",
          "text": [
            "0\n",
            "100\n",
            "200\n",
            "300\n",
            "400\n",
            "500\n",
            "600\n",
            "700\n",
            "800\n",
            "900\n",
            "1000\n",
            "1100\n",
            "1200\n",
            "1300\n",
            "1400\n",
            "1500\n",
            "1600\n",
            "1700\n",
            "1800\n",
            "1900\n",
            "2000\n",
            "2100\n",
            "2200\n",
            "2300\n",
            "2400\n",
            "2500\n",
            "2600\n",
            "2700\n",
            "2800\n",
            "2900\n",
            "3000\n",
            "3100\n",
            "3200\n",
            "3300\n",
            "3400\n",
            "3500\n",
            "3600\n",
            "3700\n",
            "3800\n",
            "3900\n",
            "4000\n",
            "4100\n",
            "4200\n",
            "4300\n",
            "4400\n",
            "4500\n",
            "4600\n",
            "4700\n",
            "4800\n",
            "4900\n",
            "5000\n",
            "5100\n",
            "5200\n",
            "5300\n",
            "5400\n",
            "5500\n",
            "5600\n",
            "5700\n",
            "5800\n",
            "5900\n",
            "6000\n",
            "6100\n",
            "6200\n",
            "6300\n",
            "6400\n",
            "6500\n",
            "6600\n",
            "6700\n",
            "6800\n",
            "6900\n",
            "7000\n",
            "7100\n",
            "7200\n",
            "7300\n",
            "7400\n",
            "7500\n",
            "7600\n",
            "7700\n",
            "7800\n",
            "7900\n",
            "8000\n",
            "8100\n",
            "8200\n",
            "8300\n",
            "8400\n",
            "8500\n",
            "8600\n",
            "8700\n",
            "8800\n",
            "8900\n",
            "9000\n",
            "9100\n",
            "9200\n",
            "9300\n",
            "9400\n",
            "9500\n",
            "9600\n",
            "9700\n",
            "9800\n",
            "9900\n",
            "10000\n",
            "10100\n",
            "10200\n",
            "10300\n",
            "10400\n",
            "10500\n",
            "10600\n",
            "10700\n",
            "10800\n",
            "10900\n",
            "11000\n",
            "11100\n",
            "11200\n",
            "11300\n",
            "11400\n",
            "11500\n",
            "11600\n",
            "11700\n",
            "11800\n",
            "11900\n",
            "12000\n",
            "12100\n",
            "12200\n",
            "12300\n",
            "12400\n",
            "12500\n",
            "12600\n",
            "12700\n",
            "12800\n",
            "12900\n",
            "13000\n",
            "13100\n",
            "13200\n",
            "13300\n",
            "13400\n",
            "13500\n",
            "13600\n",
            "13700\n",
            "13800\n",
            "13900\n",
            "14000\n",
            "14100\n",
            "14200\n",
            "14300\n",
            "14400\n",
            "14500\n",
            "14600\n",
            "14700\n",
            "14800\n",
            "14900\n",
            "15000\n",
            "15100\n",
            "15200\n",
            "15300\n",
            "15400\n",
            "15500\n",
            "15600\n",
            "15700\n",
            "15800\n",
            "15900\n",
            "16000\n",
            "16100\n",
            "16200\n",
            "16300\n",
            "16400\n",
            "16500\n",
            "16600\n",
            "16700\n",
            "16800\n",
            "16900\n",
            "17000\n",
            "17100\n",
            "17200\n",
            "17300\n",
            "17400\n",
            "17500\n",
            "17600\n",
            "17700\n",
            "17800\n",
            "17900\n",
            "18000\n",
            "18100\n",
            "18200\n",
            "18300\n",
            "18400\n",
            "18500\n",
            "18600\n",
            "18700\n",
            "18800\n",
            "18900\n",
            "19000\n",
            "19100\n",
            "19200\n",
            "19300\n",
            "19400\n",
            "19500\n",
            "19600\n",
            "19700\n",
            "19800\n",
            "19900\n",
            "20000\n",
            "20100\n",
            "20200\n",
            "20300\n",
            "20400\n",
            "20500\n",
            "20600\n",
            "20700\n",
            "20800\n",
            "20900\n",
            "21000\n",
            "21100\n",
            "21200\n",
            "21300\n",
            "21400\n",
            "21500\n",
            "21600\n",
            "21700\n",
            "21800\n",
            "21900\n",
            "22000\n",
            "22100\n",
            "22200\n",
            "22300\n",
            "22400\n",
            "22500\n",
            "22600\n",
            "22700\n",
            "22800\n",
            "22900\n",
            "23000\n",
            "23100\n",
            "23200\n",
            "23300\n",
            "0\n",
            "100\n",
            "200\n",
            "300\n",
            "400\n",
            "500\n",
            "600\n",
            "700\n",
            "800\n",
            "900\n",
            "1000\n",
            "1100\n",
            "1200\n",
            "1300\n",
            "1400\n",
            "1500\n",
            "1600\n",
            "1700\n",
            "1800\n",
            "1900\n",
            "2000\n",
            "2100\n",
            "2200\n",
            "2300\n",
            "2400\n",
            "2500\n",
            "0\n",
            "100\n",
            "200\n",
            "300\n",
            "400\n",
            "500\n",
            "600\n",
            "700\n",
            "800\n",
            "900\n",
            "1000\n",
            "1100\n",
            "1200\n",
            "1300\n",
            "1400\n",
            "1500\n",
            "1600\n",
            "1700\n",
            "1800\n",
            "1900\n"
          ]
        }
      ],
      "source": [
        "def tag_pos(data):\n",
        "  tag_vecs = []\n",
        "  for text in data:\n",
        "    if len(tag_vecs) % 100 == 0:\n",
        "      print(len(tag_vecs))\n",
        "    tags = nltk.pos_tag(text)\n",
        "    tag_list = [j for i,j in tags]\n",
        "    tag_list = \" \".join(tag_list)\n",
        "    tag_vecs.append(tag_list)\n",
        "  return tag_vecs\n",
        "\n",
        "X_train_pos = tag_pos(X_train)\n",
        "X_val_pos = tag_pos(X_val)\n",
        "X_test_pos = tag_pos(X_test_hem)"
      ]
    },
    {
      "cell_type": "code",
      "execution_count": null,
      "metadata": {
        "id": "ioQKRR7vawc8",
        "colab": {
          "base_uri": "https://localhost:8080/",
          "height": 178
        },
        "outputId": "dee09ad5-7b3c-4fa1-daaf-41aa681d17bc"
      },
      "outputs": [
        {
          "output_type": "execute_result",
          "data": {
            "text/plain": [
              "'with open(os.path.join(pickle_path, \"X_train_pos.pkl\"), \\'wb\\') as f:\\n  pickle.dump(X_train_pos, f)\\n\\nwith open(os.path.join(pickle_path, \"X_val_pos.pkl\"), \\'wb\\') as f:\\n  pickle.dump(X_val_pos, f)\\n\\nwith open(os.path.join(pickle_path, \"X_test_pos.pkl\"), \\'wb\\') as f:\\n  pickle.dump(X_test_pos, f)\\n\\nwith open(os.path.join(pickle_path, \"y_train_pos.pkl\"), \\'wb\\') as f:\\n  pickle.dump(y_train_hem, f)\\n\\nwith open(os.path.join(pickle_path, \"y_val_pos.pkl\"), \\'wb\\') as f:\\n  pickle.dump(y_val_hem, f)\\n\\nwith open(os.path.join(pickle_path, \"y_test_pos.pkl\"), \\'wb\\') as f:\\n  pickle.dump(y_test_hem, f)'"
            ],
            "application/vnd.google.colaboratory.intrinsic+json": {
              "type": "string"
            }
          },
          "metadata": {},
          "execution_count": 48
        }
      ],
      "source": [
        "pickle_path = os.path.join(data_path, \"pickles\")\n",
        "import pickle\n",
        "\n",
        "# The below code just saves files that take a long time to generate for ease of\n",
        "# access. The chunk of code only needs to be run one time.\n",
        "\"\"\"with open(os.path.join(pickle_path, \"X_train_pos.pkl\"), 'wb') as f:\n",
        "  pickle.dump(X_train_pos, f)\n",
        "\n",
        "with open(os.path.join(pickle_path, \"X_val_pos.pkl\"), 'wb') as f:\n",
        "  pickle.dump(X_val_pos, f)\n",
        "\n",
        "with open(os.path.join(pickle_path, \"X_test_pos.pkl\"), 'wb') as f:\n",
        "  pickle.dump(X_test_pos, f)\n",
        "\n",
        "with open(os.path.join(pickle_path, \"y_train_pos.pkl\"), 'wb') as f:\n",
        "  pickle.dump(y_train_hem, f)\n",
        "\n",
        "with open(os.path.join(pickle_path, \"y_val_pos.pkl\"), 'wb') as f:\n",
        "  pickle.dump(y_val_hem, f)\n",
        "\n",
        "with open(os.path.join(pickle_path, \"y_test_pos.pkl\"), 'wb') as f:\n",
        "  pickle.dump(y_test_hem, f)\"\"\""
      ]
    },
    {
      "cell_type": "code",
      "execution_count": null,
      "metadata": {
        "id": "26t8H6TtCH81"
      },
      "outputs": [],
      "source": [
        "with open(os.path.join(pickle_path, \"X_train_pos.pkl\"), 'rb') as f:\n",
        "  X_train_pos = pickle.load(f)\n",
        "\n",
        "with open(os.path.join(pickle_path, \"X_test_pos.pkl\"), 'rb') as f:\n",
        "  X_test_pos = pickle.load(f)\n",
        "\n",
        "with open(os.path.join(pickle_path, \"X_val_pos.pkl\"), 'rb') as f:\n",
        "  X_val_pos = pickle.load(f)\n",
        "\n",
        "with open(os.path.join(pickle_path, \"y_train_pos.pkl\"), 'rb') as f:\n",
        "  y_train_pos = pickle.load(f)\n",
        "\n",
        "with open(os.path.join(pickle_path, \"y_test_pos.pkl\"), 'rb') as f:\n",
        "  y_test_pos = pickle.load(f)\n",
        "\n",
        "with open(os.path.join(pickle_path, \"y_val_pos.pkl\"), 'rb') as f:\n",
        "  y_val_pos = pickle.load(f)"
      ]
    },
    {
      "cell_type": "markdown",
      "source": [
        "### One hot encoding each part of speech so that we can use a CNN. Otherwises the Data set would not be two dimensional!"
      ],
      "metadata": {
        "id": "PlTyoGRQ5u2L"
      }
    },
    {
      "cell_type": "code",
      "execution_count": null,
      "metadata": {
        "colab": {
          "base_uri": "https://localhost:8080/"
        },
        "id": "UPsK6wzbpgqn",
        "outputId": "01223d61-7a6e-428f-da0d-ce489ca113cb"
      },
      "outputs": [
        {
          "output_type": "stream",
          "name": "stderr",
          "text": [
            "/usr/local/lib/python3.7/dist-packages/ipykernel_launcher.py:2: VisibleDeprecationWarning:\n",
            "\n",
            "Creating an ndarray from ragged nested sequences (which is a list-or-tuple of lists-or-tuples-or ndarrays with different lengths or shapes) is deprecated. If you meant to do this, you must specify 'dtype=object' when creating the ndarray.\n",
            "\n"
          ]
        }
      ],
      "source": [
        "temp = [i.split(\" \") for i in X_train_pos] + [i.split(\" \") for i in X_test_pos] + [i.split(\" \") for i in X_val_pos]\n",
        "pos = np.concatenate(np.array(temp).flatten()).tolist()\n",
        "final_pos = list(set(pos))\n",
        "\n",
        "from sklearn import preprocessing\n",
        "\n",
        "le = preprocessing.LabelEncoder()\n",
        "le.fit(final_pos)\n",
        "\n",
        "X_train_pos1 = [le.transform(i.split(\" \")).tolist() for i in X_train_pos]\n",
        "X_val_pos1 = [le.transform(i.split(\" \")).tolist() for i in X_val_pos]\n",
        "X_test_pos1 = [le.transform(i.split(\" \")).tolist() for i in X_test_pos]"
      ]
    },
    {
      "cell_type": "markdown",
      "source": [
        "### PAdding sequences so they are all the same length\n",
        "In our previous LSTM's, the model Text Vectorization handles this for us. Here, we had to do it ourselves. "
      ],
      "metadata": {
        "id": "EZoFW58u6CAd"
      }
    },
    {
      "cell_type": "code",
      "execution_count": null,
      "metadata": {
        "id": "pRyg54xS20rh"
      },
      "outputs": [],
      "source": [
        "from keras.preprocessing import sequence\n",
        "\n",
        "\n",
        "X_train_pos1 = sequence.pad_sequences(X_train_pos1, maxlen=max_len)\n",
        "X_val_pos1 = sequence.pad_sequences(X_val_pos1, maxlen=max_len)\n",
        "X_test_pos1 = sequence.pad_sequences(X_test_pos1, maxlen=max_len)"
      ]
    },
    {
      "cell_type": "code",
      "execution_count": null,
      "metadata": {
        "colab": {
          "base_uri": "https://localhost:8080/"
        },
        "id": "HKG_Jv1T4UMP",
        "outputId": "687407b7-5948-44e8-934f-a6af3fd258fb"
      },
      "outputs": [
        {
          "output_type": "execute_result",
          "data": {
            "text/plain": [
              "((23400, 363), (2000, 363))"
            ]
          },
          "metadata": {},
          "execution_count": 52
        }
      ],
      "source": [
        "X_train_pos1.shape, X_test_pos1.shape"
      ]
    },
    {
      "cell_type": "markdown",
      "source": [
        "### Model 3"
      ],
      "metadata": {
        "id": "CHFtvJNL6OTQ"
      }
    },
    {
      "cell_type": "code",
      "execution_count": null,
      "metadata": {
        "colab": {
          "base_uri": "https://localhost:8080/"
        },
        "id": "KdKZU1fbvTrS",
        "outputId": "7ba8cfc0-187b-4932-8c33-ed186427a076"
      },
      "outputs": [
        {
          "output_type": "stream",
          "name": "stdout",
          "text": [
            "Model: \"sequential_6\"\n",
            "_________________________________________________________________\n",
            " Layer (type)                Output Shape              Param #   \n",
            "=================================================================\n",
            " embedding_6 (Embedding)     (None, 363, 10)           330       \n",
            "                                                                 \n",
            " conv1d_3 (Conv1D)           (None, 363, 128)          5248      \n",
            "                                                                 \n",
            " max_pooling1d_3 (MaxPooling  (None, 181, 128)         0         \n",
            " 1D)                                                             \n",
            "                                                                 \n",
            " conv1d_4 (Conv1D)           (None, 181, 64)           32832     \n",
            "                                                                 \n",
            " max_pooling1d_4 (MaxPooling  (None, 90, 64)           0         \n",
            " 1D)                                                             \n",
            "                                                                 \n",
            " conv1d_5 (Conv1D)           (None, 90, 32)            8224      \n",
            "                                                                 \n",
            " max_pooling1d_5 (MaxPooling  (None, 45, 32)           0         \n",
            " 1D)                                                             \n",
            "                                                                 \n",
            " flatten_1 (Flatten)         (None, 1440)              0         \n",
            "                                                                 \n",
            " dense_12 (Dense)            (None, 256)               368896    \n",
            "                                                                 \n",
            " dropout_6 (Dropout)         (None, 256)               0         \n",
            "                                                                 \n",
            " dense_13 (Dense)            (None, 1)                 257       \n",
            "                                                                 \n",
            "=================================================================\n",
            "Total params: 415,787\n",
            "Trainable params: 415,787\n",
            "Non-trainable params: 0\n",
            "_________________________________________________________________\n"
          ]
        }
      ],
      "source": [
        "callback2 = tf.keras.callbacks.EarlyStopping(monitor='loss', patience=4)\n",
        "\n",
        "# Building the CNN Model\n",
        "model2 = Sequential()      # initilaizing the Sequential nature for CNN model\n",
        "\n",
        "model2.add(Embedding(len(final_pos), 10, input_length=max_len))\n",
        "model2.add(Conv1D(filters=128, kernel_size=4, padding='same', activation='relu'))\n",
        "model2.add(MaxPooling1D(pool_size=2))\n",
        "model2.add(Conv1D(filters=64, kernel_size=4, padding='same', activation='relu'))\n",
        "model2.add(MaxPooling1D(pool_size=2))\n",
        "model2.add(Conv1D(filters=32, kernel_size=4, padding='same', activation='relu'))\n",
        "model2.add(MaxPooling1D(pool_size=2))\n",
        "model2.add(Flatten())\n",
        "model2.add(Dense(256, activation='relu'))\n",
        "model2.add(Dropout(0.2))\n",
        "model2.add(Dense(1))\n",
        "model2.compile(loss='binary_crossentropy', optimizer=tf.keras.optimizers.Adam(1e-5), metrics=['accuracy'])\n",
        "model2.summary()"
      ]
    },
    {
      "cell_type": "code",
      "execution_count": null,
      "metadata": {
        "colab": {
          "base_uri": "https://localhost:8080/"
        },
        "id": "pW132376nPMe",
        "outputId": "b4bd27cc-765c-4823-a095-6f93bf3bba8f"
      },
      "outputs": [
        {
          "output_type": "stream",
          "name": "stdout",
          "text": [
            "Epoch 1/70\n",
            "390/390 [==============================] - 4s 7ms/step - loss: 0.9921 - accuracy: 0.7532 - val_loss: 0.6694 - val_accuracy: 0.6842\n",
            "Epoch 2/70\n",
            "390/390 [==============================] - 2s 6ms/step - loss: 0.6922 - accuracy: 0.5303 - val_loss: 0.6933 - val_accuracy: 0.4604\n",
            "Epoch 3/70\n",
            "390/390 [==============================] - 2s 6ms/step - loss: 0.6915 - accuracy: 0.5041 - val_loss: 0.6807 - val_accuracy: 0.5588\n",
            "Epoch 4/70\n",
            "390/390 [==============================] - 2s 6ms/step - loss: 0.6894 - accuracy: 0.5294 - val_loss: 0.7009 - val_accuracy: 0.4100\n",
            "Epoch 5/70\n",
            "390/390 [==============================] - 2s 6ms/step - loss: 0.6885 - accuracy: 0.5229 - val_loss: 0.6930 - val_accuracy: 0.4592\n",
            "Epoch 6/70\n",
            "390/390 [==============================] - 2s 6ms/step - loss: 0.6871 - accuracy: 0.5351 - val_loss: 0.6810 - val_accuracy: 0.5419\n",
            "Epoch 7/70\n",
            "390/390 [==============================] - 2s 6ms/step - loss: 0.6841 - accuracy: 0.5396 - val_loss: 0.6781 - val_accuracy: 0.5612\n",
            "Epoch 8/70\n",
            "390/390 [==============================] - 2s 6ms/step - loss: 0.6826 - accuracy: 0.5509 - val_loss: 0.7004 - val_accuracy: 0.4262\n",
            "Epoch 9/70\n",
            "390/390 [==============================] - 2s 6ms/step - loss: 0.6783 - accuracy: 0.5643 - val_loss: 0.6652 - val_accuracy: 0.6665\n",
            "Epoch 10/70\n",
            "390/390 [==============================] - 2s 6ms/step - loss: 0.6741 - accuracy: 0.5840 - val_loss: 0.6827 - val_accuracy: 0.5285\n",
            "Epoch 11/70\n",
            "390/390 [==============================] - 2s 6ms/step - loss: 0.6671 - accuracy: 0.6001 - val_loss: 0.6707 - val_accuracy: 0.6046\n",
            "Epoch 12/70\n",
            "390/390 [==============================] - 2s 6ms/step - loss: 0.6589 - accuracy: 0.6229 - val_loss: 0.6719 - val_accuracy: 0.5823\n",
            "Epoch 13/70\n",
            "390/390 [==============================] - 3s 6ms/step - loss: 0.6454 - accuracy: 0.6497 - val_loss: 0.6067 - val_accuracy: 0.7750\n",
            "Epoch 14/70\n",
            "390/390 [==============================] - 2s 6ms/step - loss: 0.6286 - accuracy: 0.6773 - val_loss: 0.6364 - val_accuracy: 0.6715\n",
            "Epoch 15/70\n",
            "390/390 [==============================] - 3s 6ms/step - loss: 0.6074 - accuracy: 0.6951 - val_loss: 0.5736 - val_accuracy: 0.7650\n",
            "Epoch 16/70\n",
            "390/390 [==============================] - 3s 6ms/step - loss: 0.5855 - accuracy: 0.7208 - val_loss: 0.5805 - val_accuracy: 0.7373\n",
            "Epoch 17/70\n",
            "390/390 [==============================] - 3s 6ms/step - loss: 0.5856 - accuracy: 0.7498 - val_loss: 0.5694 - val_accuracy: 0.7454\n",
            "Epoch 18/70\n",
            "390/390 [==============================] - 3s 6ms/step - loss: 0.5606 - accuracy: 0.7460 - val_loss: 0.5467 - val_accuracy: 0.7708\n",
            "Epoch 19/70\n",
            "390/390 [==============================] - 3s 6ms/step - loss: 0.5545 - accuracy: 0.7514 - val_loss: 0.5656 - val_accuracy: 0.7423\n",
            "Epoch 20/70\n",
            "390/390 [==============================] - 3s 6ms/step - loss: 0.5604 - accuracy: 0.7341 - val_loss: 0.5691 - val_accuracy: 0.7369\n",
            "Epoch 21/70\n",
            "390/390 [==============================] - 3s 6ms/step - loss: 0.5454 - accuracy: 0.7543 - val_loss: 0.5681 - val_accuracy: 0.7331\n",
            "Epoch 22/70\n",
            "390/390 [==============================] - 3s 6ms/step - loss: 0.5455 - accuracy: 0.7637 - val_loss: 0.5112 - val_accuracy: 0.7950\n",
            "Epoch 23/70\n",
            "390/390 [==============================] - 3s 6ms/step - loss: 0.5368 - accuracy: 0.7680 - val_loss: 0.4834 - val_accuracy: 0.8127\n",
            "Epoch 24/70\n",
            "390/390 [==============================] - 3s 6ms/step - loss: 0.5317 - accuracy: 0.7655 - val_loss: 0.5378 - val_accuracy: 0.7650\n",
            "Epoch 25/70\n",
            "390/390 [==============================] - 3s 6ms/step - loss: 0.5427 - accuracy: 0.7675 - val_loss: 0.4907 - val_accuracy: 0.8096\n",
            "Epoch 26/70\n",
            "390/390 [==============================] - 3s 7ms/step - loss: 0.5222 - accuracy: 0.7762 - val_loss: 0.5510 - val_accuracy: 0.7450\n",
            "Epoch 27/70\n",
            "390/390 [==============================] - 3s 6ms/step - loss: 0.5585 - accuracy: 0.7856 - val_loss: 0.5193 - val_accuracy: 0.7808\n",
            "Epoch 28/70\n",
            "390/390 [==============================] - 3s 6ms/step - loss: 0.5144 - accuracy: 0.7845 - val_loss: 0.5088 - val_accuracy: 0.7896\n",
            "Epoch 29/70\n",
            "390/390 [==============================] - 3s 6ms/step - loss: 0.5157 - accuracy: 0.7854 - val_loss: 0.5253 - val_accuracy: 0.7700\n",
            "Epoch 30/70\n",
            "390/390 [==============================] - 3s 6ms/step - loss: 0.5222 - accuracy: 0.7807 - val_loss: 0.5150 - val_accuracy: 0.7796\n",
            "Epoch 31/70\n",
            "390/390 [==============================] - 3s 6ms/step - loss: 0.5125 - accuracy: 0.7867 - val_loss: 0.5120 - val_accuracy: 0.7804\n",
            "Epoch 32/70\n",
            "390/390 [==============================] - 2s 6ms/step - loss: 0.5059 - accuracy: 0.7879 - val_loss: 0.4954 - val_accuracy: 0.7938\n",
            "Epoch 33/70\n",
            "390/390 [==============================] - 3s 6ms/step - loss: 0.5035 - accuracy: 0.7897 - val_loss: 0.5145 - val_accuracy: 0.7804\n",
            "Epoch 34/70\n",
            "390/390 [==============================] - 2s 6ms/step - loss: 0.5037 - accuracy: 0.7934 - val_loss: 0.4590 - val_accuracy: 0.8173\n",
            "Epoch 35/70\n",
            "390/390 [==============================] - 2s 6ms/step - loss: 0.5017 - accuracy: 0.7890 - val_loss: 0.5155 - val_accuracy: 0.7754\n",
            "Epoch 36/70\n",
            "390/390 [==============================] - 2s 6ms/step - loss: 0.5712 - accuracy: 0.8001 - val_loss: 0.5074 - val_accuracy: 0.7835\n",
            "Epoch 37/70\n",
            "390/390 [==============================] - 2s 6ms/step - loss: 0.4907 - accuracy: 0.7968 - val_loss: 0.4814 - val_accuracy: 0.8008\n",
            "Epoch 38/70\n",
            "390/390 [==============================] - 3s 6ms/step - loss: 0.4902 - accuracy: 0.8004 - val_loss: 0.4665 - val_accuracy: 0.8104\n",
            "Epoch 39/70\n",
            "390/390 [==============================] - 3s 6ms/step - loss: 0.4890 - accuracy: 0.8013 - val_loss: 0.5147 - val_accuracy: 0.7804\n",
            "Epoch 40/70\n",
            "390/390 [==============================] - 3s 6ms/step - loss: 0.4851 - accuracy: 0.8006 - val_loss: 0.4812 - val_accuracy: 0.7988\n",
            "Epoch 41/70\n",
            "390/390 [==============================] - 2s 6ms/step - loss: 0.4882 - accuracy: 0.8020 - val_loss: 0.4723 - val_accuracy: 0.8088\n",
            "Epoch 42/70\n",
            "390/390 [==============================] - 2s 6ms/step - loss: 0.4827 - accuracy: 0.8021 - val_loss: 0.4673 - val_accuracy: 0.8104\n",
            "Epoch 43/70\n",
            "390/390 [==============================] - 2s 6ms/step - loss: 0.4806 - accuracy: 0.8079 - val_loss: 0.4813 - val_accuracy: 0.8000\n",
            "Epoch 44/70\n",
            "390/390 [==============================] - 2s 6ms/step - loss: 0.4744 - accuracy: 0.8050 - val_loss: 0.4866 - val_accuracy: 0.7985\n",
            "Epoch 45/70\n",
            "390/390 [==============================] - 2s 6ms/step - loss: 0.4840 - accuracy: 0.7982 - val_loss: 0.4111 - val_accuracy: 0.8435\n",
            "Epoch 46/70\n",
            "390/390 [==============================] - 3s 6ms/step - loss: 0.4788 - accuracy: 0.8002 - val_loss: 0.4998 - val_accuracy: 0.7888\n",
            "Epoch 47/70\n",
            "390/390 [==============================] - 2s 6ms/step - loss: 0.5254 - accuracy: 0.8119 - val_loss: 0.4500 - val_accuracy: 0.8177\n",
            "Epoch 48/70\n",
            "390/390 [==============================] - 2s 6ms/step - loss: 0.4659 - accuracy: 0.8144 - val_loss: 0.4611 - val_accuracy: 0.8131\n",
            "Epoch 49/70\n",
            "390/390 [==============================] - 3s 6ms/step - loss: 0.4752 - accuracy: 0.7995 - val_loss: 0.4705 - val_accuracy: 0.8069\n",
            "Epoch 50/70\n",
            "390/390 [==============================] - 3s 6ms/step - loss: 0.5099 - accuracy: 0.8191 - val_loss: 0.4646 - val_accuracy: 0.8127\n",
            "Epoch 51/70\n",
            "390/390 [==============================] - 3s 7ms/step - loss: 0.4636 - accuracy: 0.8174 - val_loss: 0.4581 - val_accuracy: 0.8154\n",
            "Epoch 52/70\n",
            "390/390 [==============================] - 3s 7ms/step - loss: 0.4603 - accuracy: 0.8171 - val_loss: 0.4441 - val_accuracy: 0.8231\n",
            "Epoch 53/70\n",
            "390/390 [==============================] - 3s 7ms/step - loss: 0.4732 - accuracy: 0.8004 - val_loss: 0.4594 - val_accuracy: 0.8127\n",
            "Epoch 54/70\n",
            "390/390 [==============================] - 3s 6ms/step - loss: 0.4600 - accuracy: 0.8155 - val_loss: 0.4434 - val_accuracy: 0.8235\n",
            "Epoch 55/70\n",
            "390/390 [==============================] - 3s 6ms/step - loss: 0.4578 - accuracy: 0.8162 - val_loss: 0.4474 - val_accuracy: 0.8212\n",
            "Epoch 56/70\n",
            "390/390 [==============================] - 3s 6ms/step - loss: 0.4980 - accuracy: 0.7979 - val_loss: 0.4477 - val_accuracy: 0.8246\n",
            "Epoch 57/70\n",
            "390/390 [==============================] - 3s 6ms/step - loss: 0.4574 - accuracy: 0.8168 - val_loss: 0.4792 - val_accuracy: 0.7996\n",
            "Epoch 58/70\n",
            "390/390 [==============================] - 3s 6ms/step - loss: 0.4584 - accuracy: 0.8169 - val_loss: 0.4367 - val_accuracy: 0.8273\n",
            "Epoch 59/70\n",
            "390/390 [==============================] - 2s 6ms/step - loss: 0.4608 - accuracy: 0.8184 - val_loss: 0.4885 - val_accuracy: 0.7977\n",
            "Epoch 60/70\n",
            "390/390 [==============================] - 2s 6ms/step - loss: 0.4611 - accuracy: 0.8211 - val_loss: 0.4486 - val_accuracy: 0.8188\n",
            "Epoch 61/70\n",
            "390/390 [==============================] - 3s 6ms/step - loss: 0.4770 - accuracy: 0.8056 - val_loss: 0.4576 - val_accuracy: 0.8112\n"
          ]
        }
      ],
      "source": [
        "history_pos = model2.fit(X_train_pos1, np.array(y_train_pos), validation_data=(X_val_pos1, np.array(y_val_pos)),\n",
        "           epochs=70, batch_size=60, class_weight=class_weights, callbacks=[callback2])"
      ]
    },
    {
      "cell_type": "code",
      "source": [
        "model_pos_path = os.path.join(models_path, \"modelpos\")\n",
        "# Save the entire model as a SavedModel.\n",
        "# model2.save(model_pos_path)\n",
        "\n",
        "model_pos = tf.keras.models.load_model(model_pos_path)"
      ],
      "metadata": {
        "id": "N-lTZkA47rUK"
      },
      "execution_count": null,
      "outputs": []
    },
    {
      "cell_type": "code",
      "execution_count": null,
      "metadata": {
        "colab": {
          "base_uri": "https://localhost:8080/"
        },
        "id": "P1OvmJ6ngDcC",
        "outputId": "47f11d0d-0915-41cb-f2f3-406b3f261c03"
      },
      "outputs": [
        {
          "output_type": "stream",
          "name": "stdout",
          "text": [
            "63/63 [==============================] - 1s 5ms/step - loss: 0.8663 - accuracy: 0.5885\n",
            "Accuracy: 58.85%\n"
          ]
        }
      ],
      "source": [
        "scores = model_pos.evaluate(X_test_pos1, np.array(y_test_pos), verbose=1)\n",
        "print(\"Accuracy: %.2f%%\" % (scores[1]*100))"
      ]
    },
    {
      "cell_type": "markdown",
      "source": [
        "### Results"
      ],
      "metadata": {
        "id": "pWqLXcAR6s9a"
      }
    },
    {
      "cell_type": "code",
      "execution_count": null,
      "metadata": {
        "colab": {
          "base_uri": "https://localhost:8080/",
          "height": 889
        },
        "id": "UmyeOOMbx5Rd",
        "outputId": "dfb4cb47-20ab-4103-9e78-d16e437b53e1"
      },
      "outputs": [
        {
          "output_type": "stream",
          "name": "stdout",
          "text": [
            "              precision    recall  f1-score   support\n",
            "\n",
            "           0       0.64      0.78      0.70      1000\n",
            "           1       0.72      0.56      0.63      1000\n",
            "\n",
            "    accuracy                           0.67      2000\n",
            "   macro avg       0.68      0.67      0.66      2000\n",
            "weighted avg       0.68      0.67      0.66      2000\n",
            "\n"
          ]
        },
        {
          "output_type": "stream",
          "name": "stderr",
          "text": [
            "/usr/local/lib/python3.7/dist-packages/ipykernel_launcher.py:13: FutureWarning:\n",
            "\n",
            "Support for multi-dimensional indexing (e.g. `obj[:, None]`) is deprecated and will be removed in a future version.  Convert to a numpy array before indexing instead.\n",
            "\n"
          ]
        },
        {
          "output_type": "display_data",
          "data": {
            "text/html": [
              "<html>\n",
              "<head><meta charset=\"utf-8\" /></head>\n",
              "<body>\n",
              "    <div>            <script src=\"https://cdnjs.cloudflare.com/ajax/libs/mathjax/2.7.5/MathJax.js?config=TeX-AMS-MML_SVG\"></script><script type=\"text/javascript\">if (window.MathJax) {MathJax.Hub.Config({SVG: {font: \"STIX-Web\"}});}</script>                <script type=\"text/javascript\">window.PlotlyConfig = {MathJaxConfig: 'local'};</script>\n",
              "        <script src=\"https://cdn.plot.ly/plotly-2.8.3.min.js\"></script>                <div id=\"50a3cc5f-5ec5-4138-8c41-c72ce2bb662b\" class=\"plotly-graph-div\" style=\"height:525px; width:100%;\"></div>            <script type=\"text/javascript\">                                    window.PLOTLYENV=window.PLOTLYENV || {};                                    if (document.getElementById(\"50a3cc5f-5ec5-4138-8c41-c72ce2bb662b\")) {                    Plotly.newPlot(                        \"50a3cc5f-5ec5-4138-8c41-c72ce2bb662b\",                        [{\"coloraxis\":\"coloraxis\",\"name\":\"0\",\"texttemplate\":\"%{z}\",\"x\":[\"Not Hemingway\",\"Hemingway\"],\"y\":[\"Not Hemingway\",\"Hemingway\"],\"z\":[[0.782,0.218],[0.445,0.555]],\"type\":\"heatmap\",\"xaxis\":\"x\",\"yaxis\":\"y\",\"hovertemplate\":\"Predictions: %{x}<br>Ground Truth: %{y}<br>Accuracy: %{z}<extra></extra>\"}],                        {\"template\":{\"data\":{\"bar\":[{\"error_x\":{\"color\":\"#2a3f5f\"},\"error_y\":{\"color\":\"#2a3f5f\"},\"marker\":{\"line\":{\"color\":\"#E5ECF6\",\"width\":0.5},\"pattern\":{\"fillmode\":\"overlay\",\"size\":10,\"solidity\":0.2}},\"type\":\"bar\"}],\"barpolar\":[{\"marker\":{\"line\":{\"color\":\"#E5ECF6\",\"width\":0.5},\"pattern\":{\"fillmode\":\"overlay\",\"size\":10,\"solidity\":0.2}},\"type\":\"barpolar\"}],\"carpet\":[{\"aaxis\":{\"endlinecolor\":\"#2a3f5f\",\"gridcolor\":\"white\",\"linecolor\":\"white\",\"minorgridcolor\":\"white\",\"startlinecolor\":\"#2a3f5f\"},\"baxis\":{\"endlinecolor\":\"#2a3f5f\",\"gridcolor\":\"white\",\"linecolor\":\"white\",\"minorgridcolor\":\"white\",\"startlinecolor\":\"#2a3f5f\"},\"type\":\"carpet\"}],\"choropleth\":[{\"colorbar\":{\"outlinewidth\":0,\"ticks\":\"\"},\"type\":\"choropleth\"}],\"contour\":[{\"colorbar\":{\"outlinewidth\":0,\"ticks\":\"\"},\"colorscale\":[[0.0,\"#0d0887\"],[0.1111111111111111,\"#46039f\"],[0.2222222222222222,\"#7201a8\"],[0.3333333333333333,\"#9c179e\"],[0.4444444444444444,\"#bd3786\"],[0.5555555555555556,\"#d8576b\"],[0.6666666666666666,\"#ed7953\"],[0.7777777777777778,\"#fb9f3a\"],[0.8888888888888888,\"#fdca26\"],[1.0,\"#f0f921\"]],\"type\":\"contour\"}],\"contourcarpet\":[{\"colorbar\":{\"outlinewidth\":0,\"ticks\":\"\"},\"type\":\"contourcarpet\"}],\"heatmap\":[{\"colorbar\":{\"outlinewidth\":0,\"ticks\":\"\"},\"colorscale\":[[0.0,\"#0d0887\"],[0.1111111111111111,\"#46039f\"],[0.2222222222222222,\"#7201a8\"],[0.3333333333333333,\"#9c179e\"],[0.4444444444444444,\"#bd3786\"],[0.5555555555555556,\"#d8576b\"],[0.6666666666666666,\"#ed7953\"],[0.7777777777777778,\"#fb9f3a\"],[0.8888888888888888,\"#fdca26\"],[1.0,\"#f0f921\"]],\"type\":\"heatmap\"}],\"heatmapgl\":[{\"colorbar\":{\"outlinewidth\":0,\"ticks\":\"\"},\"colorscale\":[[0.0,\"#0d0887\"],[0.1111111111111111,\"#46039f\"],[0.2222222222222222,\"#7201a8\"],[0.3333333333333333,\"#9c179e\"],[0.4444444444444444,\"#bd3786\"],[0.5555555555555556,\"#d8576b\"],[0.6666666666666666,\"#ed7953\"],[0.7777777777777778,\"#fb9f3a\"],[0.8888888888888888,\"#fdca26\"],[1.0,\"#f0f921\"]],\"type\":\"heatmapgl\"}],\"histogram\":[{\"marker\":{\"pattern\":{\"fillmode\":\"overlay\",\"size\":10,\"solidity\":0.2}},\"type\":\"histogram\"}],\"histogram2d\":[{\"colorbar\":{\"outlinewidth\":0,\"ticks\":\"\"},\"colorscale\":[[0.0,\"#0d0887\"],[0.1111111111111111,\"#46039f\"],[0.2222222222222222,\"#7201a8\"],[0.3333333333333333,\"#9c179e\"],[0.4444444444444444,\"#bd3786\"],[0.5555555555555556,\"#d8576b\"],[0.6666666666666666,\"#ed7953\"],[0.7777777777777778,\"#fb9f3a\"],[0.8888888888888888,\"#fdca26\"],[1.0,\"#f0f921\"]],\"type\":\"histogram2d\"}],\"histogram2dcontour\":[{\"colorbar\":{\"outlinewidth\":0,\"ticks\":\"\"},\"colorscale\":[[0.0,\"#0d0887\"],[0.1111111111111111,\"#46039f\"],[0.2222222222222222,\"#7201a8\"],[0.3333333333333333,\"#9c179e\"],[0.4444444444444444,\"#bd3786\"],[0.5555555555555556,\"#d8576b\"],[0.6666666666666666,\"#ed7953\"],[0.7777777777777778,\"#fb9f3a\"],[0.8888888888888888,\"#fdca26\"],[1.0,\"#f0f921\"]],\"type\":\"histogram2dcontour\"}],\"mesh3d\":[{\"colorbar\":{\"outlinewidth\":0,\"ticks\":\"\"},\"type\":\"mesh3d\"}],\"parcoords\":[{\"line\":{\"colorbar\":{\"outlinewidth\":0,\"ticks\":\"\"}},\"type\":\"parcoords\"}],\"pie\":[{\"automargin\":true,\"type\":\"pie\"}],\"scatter\":[{\"marker\":{\"colorbar\":{\"outlinewidth\":0,\"ticks\":\"\"}},\"type\":\"scatter\"}],\"scatter3d\":[{\"line\":{\"colorbar\":{\"outlinewidth\":0,\"ticks\":\"\"}},\"marker\":{\"colorbar\":{\"outlinewidth\":0,\"ticks\":\"\"}},\"type\":\"scatter3d\"}],\"scattercarpet\":[{\"marker\":{\"colorbar\":{\"outlinewidth\":0,\"ticks\":\"\"}},\"type\":\"scattercarpet\"}],\"scattergeo\":[{\"marker\":{\"colorbar\":{\"outlinewidth\":0,\"ticks\":\"\"}},\"type\":\"scattergeo\"}],\"scattergl\":[{\"marker\":{\"colorbar\":{\"outlinewidth\":0,\"ticks\":\"\"}},\"type\":\"scattergl\"}],\"scattermapbox\":[{\"marker\":{\"colorbar\":{\"outlinewidth\":0,\"ticks\":\"\"}},\"type\":\"scattermapbox\"}],\"scatterpolar\":[{\"marker\":{\"colorbar\":{\"outlinewidth\":0,\"ticks\":\"\"}},\"type\":\"scatterpolar\"}],\"scatterpolargl\":[{\"marker\":{\"colorbar\":{\"outlinewidth\":0,\"ticks\":\"\"}},\"type\":\"scatterpolargl\"}],\"scatterternary\":[{\"marker\":{\"colorbar\":{\"outlinewidth\":0,\"ticks\":\"\"}},\"type\":\"scatterternary\"}],\"surface\":[{\"colorbar\":{\"outlinewidth\":0,\"ticks\":\"\"},\"colorscale\":[[0.0,\"#0d0887\"],[0.1111111111111111,\"#46039f\"],[0.2222222222222222,\"#7201a8\"],[0.3333333333333333,\"#9c179e\"],[0.4444444444444444,\"#bd3786\"],[0.5555555555555556,\"#d8576b\"],[0.6666666666666666,\"#ed7953\"],[0.7777777777777778,\"#fb9f3a\"],[0.8888888888888888,\"#fdca26\"],[1.0,\"#f0f921\"]],\"type\":\"surface\"}],\"table\":[{\"cells\":{\"fill\":{\"color\":\"#EBF0F8\"},\"line\":{\"color\":\"white\"}},\"header\":{\"fill\":{\"color\":\"#C8D4E3\"},\"line\":{\"color\":\"white\"}},\"type\":\"table\"}]},\"layout\":{\"annotationdefaults\":{\"arrowcolor\":\"#2a3f5f\",\"arrowhead\":0,\"arrowwidth\":1},\"autotypenumbers\":\"strict\",\"coloraxis\":{\"colorbar\":{\"outlinewidth\":0,\"ticks\":\"\"}},\"colorscale\":{\"diverging\":[[0,\"#8e0152\"],[0.1,\"#c51b7d\"],[0.2,\"#de77ae\"],[0.3,\"#f1b6da\"],[0.4,\"#fde0ef\"],[0.5,\"#f7f7f7\"],[0.6,\"#e6f5d0\"],[0.7,\"#b8e186\"],[0.8,\"#7fbc41\"],[0.9,\"#4d9221\"],[1,\"#276419\"]],\"sequential\":[[0.0,\"#0d0887\"],[0.1111111111111111,\"#46039f\"],[0.2222222222222222,\"#7201a8\"],[0.3333333333333333,\"#9c179e\"],[0.4444444444444444,\"#bd3786\"],[0.5555555555555556,\"#d8576b\"],[0.6666666666666666,\"#ed7953\"],[0.7777777777777778,\"#fb9f3a\"],[0.8888888888888888,\"#fdca26\"],[1.0,\"#f0f921\"]],\"sequentialminus\":[[0.0,\"#0d0887\"],[0.1111111111111111,\"#46039f\"],[0.2222222222222222,\"#7201a8\"],[0.3333333333333333,\"#9c179e\"],[0.4444444444444444,\"#bd3786\"],[0.5555555555555556,\"#d8576b\"],[0.6666666666666666,\"#ed7953\"],[0.7777777777777778,\"#fb9f3a\"],[0.8888888888888888,\"#fdca26\"],[1.0,\"#f0f921\"]]},\"colorway\":[\"#636efa\",\"#EF553B\",\"#00cc96\",\"#ab63fa\",\"#FFA15A\",\"#19d3f3\",\"#FF6692\",\"#B6E880\",\"#FF97FF\",\"#FECB52\"],\"font\":{\"color\":\"#2a3f5f\"},\"geo\":{\"bgcolor\":\"white\",\"lakecolor\":\"white\",\"landcolor\":\"#E5ECF6\",\"showlakes\":true,\"showland\":true,\"subunitcolor\":\"white\"},\"hoverlabel\":{\"align\":\"left\"},\"hovermode\":\"closest\",\"mapbox\":{\"style\":\"light\"},\"paper_bgcolor\":\"white\",\"plot_bgcolor\":\"#E5ECF6\",\"polar\":{\"angularaxis\":{\"gridcolor\":\"white\",\"linecolor\":\"white\",\"ticks\":\"\"},\"bgcolor\":\"#E5ECF6\",\"radialaxis\":{\"gridcolor\":\"white\",\"linecolor\":\"white\",\"ticks\":\"\"}},\"scene\":{\"xaxis\":{\"backgroundcolor\":\"#E5ECF6\",\"gridcolor\":\"white\",\"gridwidth\":2,\"linecolor\":\"white\",\"showbackground\":true,\"ticks\":\"\",\"zerolinecolor\":\"white\"},\"yaxis\":{\"backgroundcolor\":\"#E5ECF6\",\"gridcolor\":\"white\",\"gridwidth\":2,\"linecolor\":\"white\",\"showbackground\":true,\"ticks\":\"\",\"zerolinecolor\":\"white\"},\"zaxis\":{\"backgroundcolor\":\"#E5ECF6\",\"gridcolor\":\"white\",\"gridwidth\":2,\"linecolor\":\"white\",\"showbackground\":true,\"ticks\":\"\",\"zerolinecolor\":\"white\"}},\"shapedefaults\":{\"line\":{\"color\":\"#2a3f5f\"}},\"ternary\":{\"aaxis\":{\"gridcolor\":\"white\",\"linecolor\":\"white\",\"ticks\":\"\"},\"baxis\":{\"gridcolor\":\"white\",\"linecolor\":\"white\",\"ticks\":\"\"},\"bgcolor\":\"#E5ECF6\",\"caxis\":{\"gridcolor\":\"white\",\"linecolor\":\"white\",\"ticks\":\"\"}},\"title\":{\"x\":0.05},\"xaxis\":{\"automargin\":true,\"gridcolor\":\"white\",\"linecolor\":\"white\",\"ticks\":\"\",\"title\":{\"standoff\":15},\"zerolinecolor\":\"white\",\"zerolinewidth\":2},\"yaxis\":{\"automargin\":true,\"gridcolor\":\"white\",\"linecolor\":\"white\",\"ticks\":\"\",\"title\":{\"standoff\":15},\"zerolinecolor\":\"white\",\"zerolinewidth\":2}}},\"xaxis\":{\"anchor\":\"y\",\"domain\":[0.0,1.0],\"scaleanchor\":\"y\",\"constrain\":\"domain\",\"title\":{\"text\":\"Predictions\"},\"side\":\"top\"},\"yaxis\":{\"anchor\":\"x\",\"domain\":[0.0,1.0],\"autorange\":\"reversed\",\"constrain\":\"domain\",\"title\":{\"text\":\"Ground Truth\"}},\"coloraxis\":{\"colorbar\":{\"title\":{\"text\":\"Accuracy\"}},\"colorscale\":[[0.0,\"#0d0887\"],[0.1111111111111111,\"#46039f\"],[0.2222222222222222,\"#7201a8\"],[0.3333333333333333,\"#9c179e\"],[0.4444444444444444,\"#bd3786\"],[0.5555555555555556,\"#d8576b\"],[0.6666666666666666,\"#ed7953\"],[0.7777777777777778,\"#fb9f3a\"],[0.8888888888888888,\"#fdca26\"],[1.0,\"#f0f921\"]]},\"margin\":{\"t\":60}},                        {\"responsive\": true}                    ).then(function(){\n",
              "                            \n",
              "var gd = document.getElementById('50a3cc5f-5ec5-4138-8c41-c72ce2bb662b');\n",
              "var x = new MutationObserver(function (mutations, observer) {{\n",
              "        var display = window.getComputedStyle(gd).display;\n",
              "        if (!display || display === 'none') {{\n",
              "            console.log([gd, 'removed!']);\n",
              "            Plotly.purge(gd);\n",
              "            observer.disconnect();\n",
              "        }}\n",
              "}});\n",
              "\n",
              "// Listen for the removal of the full notebook cells\n",
              "var notebookContainer = gd.closest('#notebook-container');\n",
              "if (notebookContainer) {{\n",
              "    x.observe(notebookContainer, {childList: true});\n",
              "}}\n",
              "\n",
              "// Listen for the clearing of the current output cell\n",
              "var outputEl = gd.closest('.output');\n",
              "if (outputEl) {{\n",
              "    x.observe(outputEl, {childList: true});\n",
              "}}\n",
              "\n",
              "                        })                };                            </script>        </div>\n",
              "</body>\n",
              "</html>"
            ]
          },
          "metadata": {}
        },
        {
          "output_type": "execute_result",
          "data": {
            "text/plain": [
              "               Not Hemingway  Hemingway\n",
              "Not Hemingway          0.782      0.218\n",
              "Hemingway              0.445      0.555"
            ],
            "text/html": [
              "\n",
              "  <div id=\"df-6e37b5d3-44b4-42e7-a2bf-d7be5d7374bd\">\n",
              "    <div class=\"colab-df-container\">\n",
              "      <div>\n",
              "<style scoped>\n",
              "    .dataframe tbody tr th:only-of-type {\n",
              "        vertical-align: middle;\n",
              "    }\n",
              "\n",
              "    .dataframe tbody tr th {\n",
              "        vertical-align: top;\n",
              "    }\n",
              "\n",
              "    .dataframe thead th {\n",
              "        text-align: right;\n",
              "    }\n",
              "</style>\n",
              "<table border=\"1\" class=\"dataframe\">\n",
              "  <thead>\n",
              "    <tr style=\"text-align: right;\">\n",
              "      <th></th>\n",
              "      <th>Not Hemingway</th>\n",
              "      <th>Hemingway</th>\n",
              "    </tr>\n",
              "  </thead>\n",
              "  <tbody>\n",
              "    <tr>\n",
              "      <th>Not Hemingway</th>\n",
              "      <td>0.782</td>\n",
              "      <td>0.218</td>\n",
              "    </tr>\n",
              "    <tr>\n",
              "      <th>Hemingway</th>\n",
              "      <td>0.445</td>\n",
              "      <td>0.555</td>\n",
              "    </tr>\n",
              "  </tbody>\n",
              "</table>\n",
              "</div>\n",
              "      <button class=\"colab-df-convert\" onclick=\"convertToInteractive('df-6e37b5d3-44b4-42e7-a2bf-d7be5d7374bd')\"\n",
              "              title=\"Convert this dataframe to an interactive table.\"\n",
              "              style=\"display:none;\">\n",
              "        \n",
              "  <svg xmlns=\"http://www.w3.org/2000/svg\" height=\"24px\"viewBox=\"0 0 24 24\"\n",
              "       width=\"24px\">\n",
              "    <path d=\"M0 0h24v24H0V0z\" fill=\"none\"/>\n",
              "    <path d=\"M18.56 5.44l.94 2.06.94-2.06 2.06-.94-2.06-.94-.94-2.06-.94 2.06-2.06.94zm-11 1L8.5 8.5l.94-2.06 2.06-.94-2.06-.94L8.5 2.5l-.94 2.06-2.06.94zm10 10l.94 2.06.94-2.06 2.06-.94-2.06-.94-.94-2.06-.94 2.06-2.06.94z\"/><path d=\"M17.41 7.96l-1.37-1.37c-.4-.4-.92-.59-1.43-.59-.52 0-1.04.2-1.43.59L10.3 9.45l-7.72 7.72c-.78.78-.78 2.05 0 2.83L4 21.41c.39.39.9.59 1.41.59.51 0 1.02-.2 1.41-.59l7.78-7.78 2.81-2.81c.8-.78.8-2.07 0-2.86zM5.41 20L4 18.59l7.72-7.72 1.47 1.35L5.41 20z\"/>\n",
              "  </svg>\n",
              "      </button>\n",
              "      \n",
              "  <style>\n",
              "    .colab-df-container {\n",
              "      display:flex;\n",
              "      flex-wrap:wrap;\n",
              "      gap: 12px;\n",
              "    }\n",
              "\n",
              "    .colab-df-convert {\n",
              "      background-color: #E8F0FE;\n",
              "      border: none;\n",
              "      border-radius: 50%;\n",
              "      cursor: pointer;\n",
              "      display: none;\n",
              "      fill: #1967D2;\n",
              "      height: 32px;\n",
              "      padding: 0 0 0 0;\n",
              "      width: 32px;\n",
              "    }\n",
              "\n",
              "    .colab-df-convert:hover {\n",
              "      background-color: #E2EBFA;\n",
              "      box-shadow: 0px 1px 2px rgba(60, 64, 67, 0.3), 0px 1px 3px 1px rgba(60, 64, 67, 0.15);\n",
              "      fill: #174EA6;\n",
              "    }\n",
              "\n",
              "    [theme=dark] .colab-df-convert {\n",
              "      background-color: #3B4455;\n",
              "      fill: #D2E3FC;\n",
              "    }\n",
              "\n",
              "    [theme=dark] .colab-df-convert:hover {\n",
              "      background-color: #434B5C;\n",
              "      box-shadow: 0px 1px 3px 1px rgba(0, 0, 0, 0.15);\n",
              "      filter: drop-shadow(0px 1px 2px rgba(0, 0, 0, 0.3));\n",
              "      fill: #FFFFFF;\n",
              "    }\n",
              "  </style>\n",
              "\n",
              "      <script>\n",
              "        const buttonEl =\n",
              "          document.querySelector('#df-6e37b5d3-44b4-42e7-a2bf-d7be5d7374bd button.colab-df-convert');\n",
              "        buttonEl.style.display =\n",
              "          google.colab.kernel.accessAllowed ? 'block' : 'none';\n",
              "\n",
              "        async function convertToInteractive(key) {\n",
              "          const element = document.querySelector('#df-6e37b5d3-44b4-42e7-a2bf-d7be5d7374bd');\n",
              "          const dataTable =\n",
              "            await google.colab.kernel.invokeFunction('convertToInteractive',\n",
              "                                                     [key], {});\n",
              "          if (!dataTable) return;\n",
              "\n",
              "          const docLinkHtml = 'Like what you see? Visit the ' +\n",
              "            '<a target=\"_blank\" href=https://colab.research.google.com/notebooks/data_table.ipynb>data table notebook</a>'\n",
              "            + ' to learn more about interactive tables.';\n",
              "          element.innerHTML = '';\n",
              "          dataTable['output_type'] = 'display_data';\n",
              "          await google.colab.output.renderOutput(dataTable, element);\n",
              "          const docLink = document.createElement('div');\n",
              "          docLink.innerHTML = docLinkHtml;\n",
              "          element.appendChild(docLink);\n",
              "        }\n",
              "      </script>\n",
              "    </div>\n",
              "  </div>\n",
              "  "
            ]
          },
          "metadata": {},
          "execution_count": 61
        }
      ],
      "source": [
        "# manually tuning the decision boundary like we did in the previous part. I \n",
        "# oringinally did this on the validation data only which is how I got .57.\n",
        "\n",
        "from sklearn.metrics import confusion_matrix, classification_report\n",
        "\n",
        "predict_x = model_pos.predict(X_test_pos1) \n",
        "predictions = [1 if logistic.cdf(i) > .57 else 0 for i in predict_x]\n",
        "\n",
        "y_test_labels = {0:\"Not Hemingway\", 1:\"Hemingway\"}\n",
        "labels = list(y_test_labels.values())\n",
        "\n",
        "print(classification_report(np.array(y_test_pos), predictions))\n",
        "conf_matrix = pd.DataFrame(confusion_matrix(np.array(y_test_pos), predictions), index=labels, columns=labels)\n",
        "conf_matrix = conf_matrix.astype('float') / conf_matrix.sum(axis=1)[:, np.newaxis]\n",
        "\n",
        "\n",
        "import plotly.express as px\n",
        "fig = px.imshow(conf_matrix,\n",
        "                labels=dict(x=\"Predictions\", y=\"Ground Truth\", color=\"Accuracy\"),\n",
        "                x=labels,\n",
        "                y=labels,\n",
        "                text_auto=True\n",
        "               )\n",
        "fig.update_xaxes(side=\"top\")\n",
        "fig.show()\n",
        "\n",
        "conf_matrix"
      ]
    },
    {
      "cell_type": "code",
      "execution_count": null,
      "metadata": {
        "id": "K1reCyVv0caY",
        "colab": {
          "base_uri": "https://localhost:8080/",
          "height": 542
        },
        "outputId": "3b6c1855-55cc-4eae-a86c-9632d618f410"
      },
      "outputs": [
        {
          "output_type": "display_data",
          "data": {
            "text/html": [
              "<html>\n",
              "<head><meta charset=\"utf-8\" /></head>\n",
              "<body>\n",
              "    <div>            <script src=\"https://cdnjs.cloudflare.com/ajax/libs/mathjax/2.7.5/MathJax.js?config=TeX-AMS-MML_SVG\"></script><script type=\"text/javascript\">if (window.MathJax) {MathJax.Hub.Config({SVG: {font: \"STIX-Web\"}});}</script>                <script type=\"text/javascript\">window.PlotlyConfig = {MathJaxConfig: 'local'};</script>\n",
              "        <script src=\"https://cdn.plot.ly/plotly-2.8.3.min.js\"></script>                <div id=\"75ceb53d-d817-4feb-a82c-2efdf43adc9c\" class=\"plotly-graph-div\" style=\"height:525px; width:100%;\"></div>            <script type=\"text/javascript\">                                    window.PLOTLYENV=window.PLOTLYENV || {};                                    if (document.getElementById(\"75ceb53d-d817-4feb-a82c-2efdf43adc9c\")) {                    Plotly.newPlot(                        \"75ceb53d-d817-4feb-a82c-2efdf43adc9c\",                        [{\"mode\":\"lines+markers\",\"name\":\"training accuracy\",\"x\":[1,2,3,4,5,6,7,8,9,10,11,12,13,14,15,16,17,18,19,20,21,22,23,24,25,26,27,28,29,30,31,32,33,34,35,36,37,38,39,40,41,42,43,44,45,46,47,48],\"y\":[0.7532051205635071,0.5302991271018982,0.5040598511695862,0.5294444561004639,0.5229060053825378,0.5350854992866516,0.5395726561546326,0.5509401559829712,0.5643162131309509,0.5840170979499817,0.6001282334327698,0.622905969619751,0.6497436165809631,0.677264928817749,0.6951282024383545,0.7208119630813599,0.7498290538787842,0.7459828853607178,0.7513675093650818,0.7341452836990356,0.754273533821106,0.7637179493904114,0.7679914236068726,0.7654700875282288,0.7675213813781738,0.7761965990066528,0.7855982780456543,0.7845299243927002,0.7854273319244385,0.7806837558746338,0.7867094278335571,0.787948727607727,0.7897008657455444,0.793418824672699,0.7890170812606812,0.8000854849815369,0.7967521548271179,0.8004273772239685,0.8012820482254028,0.8005555272102356,0.8019658327102661,0.802094042301178,0.8079487085342407,0.8050427436828613,0.7981624007225037,0.8002136945724487,0.811923086643219,0.8143589496612549,0.7994871735572815,0.8190598487854004,0.8174359202384949,0.8170512914657593,0.8004273772239685,0.8155128359794617,0.8161538243293762,0.7979487180709839,0.8168376088142395,0.8169230818748474,0.8184188008308411,0.8211110830307007,0.8055555820465088],\"type\":\"scatter\"},{\"mode\":\"lines+markers\",\"name\":\"validation accuracy\",\"x\":[1,2,3,4,5,6,7,8,9,10,11,12,13,14,15,16,17,18,19,20,21,22,23,24,25,26,27,28,29,30,31,32,33,34,35,36,37,38,39,40,41,42,43,44,45,46,47,48],\"y\":[0.6842307448387146,0.4603846073150635,0.5588461756706238,0.4099999964237213,0.45923078060150146,0.5419231057167053,0.5611538290977478,0.42615383863449097,0.6665384769439697,0.5284615159034729,0.6046153903007507,0.5823076963424683,0.7749999761581421,0.6715384721755981,0.7649999856948853,0.7373076677322388,0.7453846335411072,0.7707692384719849,0.7423076629638672,0.736923098564148,0.7330769300460815,0.7950000166893005,0.8126922845840454,0.7649999856948853,0.8096153736114502,0.7450000047683716,0.7807692289352417,0.7896153926849365,0.7699999809265137,0.7796154022216797,0.7803846001625061,0.7938461303710938,0.7803846001625061,0.817307710647583,0.7753846049308777,0.7834615111351013,0.8007692098617554,0.8103846311569214,0.7803846001625061,0.7988461256027222,0.8088461756706238,0.8103846311569214,0.800000011920929,0.7984615564346313,0.8434615135192871,0.7888461351394653,0.8176922798156738,0.813076913356781,0.8069230914115906,0.8126922845840454,0.8153846263885498,0.8230769038200378,0.8126922845840454,0.8234615325927734,0.8211538195610046,0.8246153593063354,0.7996153831481934,0.8273077011108398,0.7976922988891602,0.8188461661338806,0.8111538290977478],\"type\":\"scatter\"}],                        {\"template\":{\"data\":{\"bar\":[{\"error_x\":{\"color\":\"#2a3f5f\"},\"error_y\":{\"color\":\"#2a3f5f\"},\"marker\":{\"line\":{\"color\":\"#E5ECF6\",\"width\":0.5},\"pattern\":{\"fillmode\":\"overlay\",\"size\":10,\"solidity\":0.2}},\"type\":\"bar\"}],\"barpolar\":[{\"marker\":{\"line\":{\"color\":\"#E5ECF6\",\"width\":0.5},\"pattern\":{\"fillmode\":\"overlay\",\"size\":10,\"solidity\":0.2}},\"type\":\"barpolar\"}],\"carpet\":[{\"aaxis\":{\"endlinecolor\":\"#2a3f5f\",\"gridcolor\":\"white\",\"linecolor\":\"white\",\"minorgridcolor\":\"white\",\"startlinecolor\":\"#2a3f5f\"},\"baxis\":{\"endlinecolor\":\"#2a3f5f\",\"gridcolor\":\"white\",\"linecolor\":\"white\",\"minorgridcolor\":\"white\",\"startlinecolor\":\"#2a3f5f\"},\"type\":\"carpet\"}],\"choropleth\":[{\"colorbar\":{\"outlinewidth\":0,\"ticks\":\"\"},\"type\":\"choropleth\"}],\"contour\":[{\"colorbar\":{\"outlinewidth\":0,\"ticks\":\"\"},\"colorscale\":[[0.0,\"#0d0887\"],[0.1111111111111111,\"#46039f\"],[0.2222222222222222,\"#7201a8\"],[0.3333333333333333,\"#9c179e\"],[0.4444444444444444,\"#bd3786\"],[0.5555555555555556,\"#d8576b\"],[0.6666666666666666,\"#ed7953\"],[0.7777777777777778,\"#fb9f3a\"],[0.8888888888888888,\"#fdca26\"],[1.0,\"#f0f921\"]],\"type\":\"contour\"}],\"contourcarpet\":[{\"colorbar\":{\"outlinewidth\":0,\"ticks\":\"\"},\"type\":\"contourcarpet\"}],\"heatmap\":[{\"colorbar\":{\"outlinewidth\":0,\"ticks\":\"\"},\"colorscale\":[[0.0,\"#0d0887\"],[0.1111111111111111,\"#46039f\"],[0.2222222222222222,\"#7201a8\"],[0.3333333333333333,\"#9c179e\"],[0.4444444444444444,\"#bd3786\"],[0.5555555555555556,\"#d8576b\"],[0.6666666666666666,\"#ed7953\"],[0.7777777777777778,\"#fb9f3a\"],[0.8888888888888888,\"#fdca26\"],[1.0,\"#f0f921\"]],\"type\":\"heatmap\"}],\"heatmapgl\":[{\"colorbar\":{\"outlinewidth\":0,\"ticks\":\"\"},\"colorscale\":[[0.0,\"#0d0887\"],[0.1111111111111111,\"#46039f\"],[0.2222222222222222,\"#7201a8\"],[0.3333333333333333,\"#9c179e\"],[0.4444444444444444,\"#bd3786\"],[0.5555555555555556,\"#d8576b\"],[0.6666666666666666,\"#ed7953\"],[0.7777777777777778,\"#fb9f3a\"],[0.8888888888888888,\"#fdca26\"],[1.0,\"#f0f921\"]],\"type\":\"heatmapgl\"}],\"histogram\":[{\"marker\":{\"pattern\":{\"fillmode\":\"overlay\",\"size\":10,\"solidity\":0.2}},\"type\":\"histogram\"}],\"histogram2d\":[{\"colorbar\":{\"outlinewidth\":0,\"ticks\":\"\"},\"colorscale\":[[0.0,\"#0d0887\"],[0.1111111111111111,\"#46039f\"],[0.2222222222222222,\"#7201a8\"],[0.3333333333333333,\"#9c179e\"],[0.4444444444444444,\"#bd3786\"],[0.5555555555555556,\"#d8576b\"],[0.6666666666666666,\"#ed7953\"],[0.7777777777777778,\"#fb9f3a\"],[0.8888888888888888,\"#fdca26\"],[1.0,\"#f0f921\"]],\"type\":\"histogram2d\"}],\"histogram2dcontour\":[{\"colorbar\":{\"outlinewidth\":0,\"ticks\":\"\"},\"colorscale\":[[0.0,\"#0d0887\"],[0.1111111111111111,\"#46039f\"],[0.2222222222222222,\"#7201a8\"],[0.3333333333333333,\"#9c179e\"],[0.4444444444444444,\"#bd3786\"],[0.5555555555555556,\"#d8576b\"],[0.6666666666666666,\"#ed7953\"],[0.7777777777777778,\"#fb9f3a\"],[0.8888888888888888,\"#fdca26\"],[1.0,\"#f0f921\"]],\"type\":\"histogram2dcontour\"}],\"mesh3d\":[{\"colorbar\":{\"outlinewidth\":0,\"ticks\":\"\"},\"type\":\"mesh3d\"}],\"parcoords\":[{\"line\":{\"colorbar\":{\"outlinewidth\":0,\"ticks\":\"\"}},\"type\":\"parcoords\"}],\"pie\":[{\"automargin\":true,\"type\":\"pie\"}],\"scatter\":[{\"marker\":{\"colorbar\":{\"outlinewidth\":0,\"ticks\":\"\"}},\"type\":\"scatter\"}],\"scatter3d\":[{\"line\":{\"colorbar\":{\"outlinewidth\":0,\"ticks\":\"\"}},\"marker\":{\"colorbar\":{\"outlinewidth\":0,\"ticks\":\"\"}},\"type\":\"scatter3d\"}],\"scattercarpet\":[{\"marker\":{\"colorbar\":{\"outlinewidth\":0,\"ticks\":\"\"}},\"type\":\"scattercarpet\"}],\"scattergeo\":[{\"marker\":{\"colorbar\":{\"outlinewidth\":0,\"ticks\":\"\"}},\"type\":\"scattergeo\"}],\"scattergl\":[{\"marker\":{\"colorbar\":{\"outlinewidth\":0,\"ticks\":\"\"}},\"type\":\"scattergl\"}],\"scattermapbox\":[{\"marker\":{\"colorbar\":{\"outlinewidth\":0,\"ticks\":\"\"}},\"type\":\"scattermapbox\"}],\"scatterpolar\":[{\"marker\":{\"colorbar\":{\"outlinewidth\":0,\"ticks\":\"\"}},\"type\":\"scatterpolar\"}],\"scatterpolargl\":[{\"marker\":{\"colorbar\":{\"outlinewidth\":0,\"ticks\":\"\"}},\"type\":\"scatterpolargl\"}],\"scatterternary\":[{\"marker\":{\"colorbar\":{\"outlinewidth\":0,\"ticks\":\"\"}},\"type\":\"scatterternary\"}],\"surface\":[{\"colorbar\":{\"outlinewidth\":0,\"ticks\":\"\"},\"colorscale\":[[0.0,\"#0d0887\"],[0.1111111111111111,\"#46039f\"],[0.2222222222222222,\"#7201a8\"],[0.3333333333333333,\"#9c179e\"],[0.4444444444444444,\"#bd3786\"],[0.5555555555555556,\"#d8576b\"],[0.6666666666666666,\"#ed7953\"],[0.7777777777777778,\"#fb9f3a\"],[0.8888888888888888,\"#fdca26\"],[1.0,\"#f0f921\"]],\"type\":\"surface\"}],\"table\":[{\"cells\":{\"fill\":{\"color\":\"#EBF0F8\"},\"line\":{\"color\":\"white\"}},\"header\":{\"fill\":{\"color\":\"#C8D4E3\"},\"line\":{\"color\":\"white\"}},\"type\":\"table\"}]},\"layout\":{\"annotationdefaults\":{\"arrowcolor\":\"#2a3f5f\",\"arrowhead\":0,\"arrowwidth\":1},\"autotypenumbers\":\"strict\",\"coloraxis\":{\"colorbar\":{\"outlinewidth\":0,\"ticks\":\"\"}},\"colorscale\":{\"diverging\":[[0,\"#8e0152\"],[0.1,\"#c51b7d\"],[0.2,\"#de77ae\"],[0.3,\"#f1b6da\"],[0.4,\"#fde0ef\"],[0.5,\"#f7f7f7\"],[0.6,\"#e6f5d0\"],[0.7,\"#b8e186\"],[0.8,\"#7fbc41\"],[0.9,\"#4d9221\"],[1,\"#276419\"]],\"sequential\":[[0.0,\"#0d0887\"],[0.1111111111111111,\"#46039f\"],[0.2222222222222222,\"#7201a8\"],[0.3333333333333333,\"#9c179e\"],[0.4444444444444444,\"#bd3786\"],[0.5555555555555556,\"#d8576b\"],[0.6666666666666666,\"#ed7953\"],[0.7777777777777778,\"#fb9f3a\"],[0.8888888888888888,\"#fdca26\"],[1.0,\"#f0f921\"]],\"sequentialminus\":[[0.0,\"#0d0887\"],[0.1111111111111111,\"#46039f\"],[0.2222222222222222,\"#7201a8\"],[0.3333333333333333,\"#9c179e\"],[0.4444444444444444,\"#bd3786\"],[0.5555555555555556,\"#d8576b\"],[0.6666666666666666,\"#ed7953\"],[0.7777777777777778,\"#fb9f3a\"],[0.8888888888888888,\"#fdca26\"],[1.0,\"#f0f921\"]]},\"colorway\":[\"#636efa\",\"#EF553B\",\"#00cc96\",\"#ab63fa\",\"#FFA15A\",\"#19d3f3\",\"#FF6692\",\"#B6E880\",\"#FF97FF\",\"#FECB52\"],\"font\":{\"color\":\"#2a3f5f\"},\"geo\":{\"bgcolor\":\"white\",\"lakecolor\":\"white\",\"landcolor\":\"#E5ECF6\",\"showlakes\":true,\"showland\":true,\"subunitcolor\":\"white\"},\"hoverlabel\":{\"align\":\"left\"},\"hovermode\":\"closest\",\"mapbox\":{\"style\":\"light\"},\"paper_bgcolor\":\"white\",\"plot_bgcolor\":\"#E5ECF6\",\"polar\":{\"angularaxis\":{\"gridcolor\":\"white\",\"linecolor\":\"white\",\"ticks\":\"\"},\"bgcolor\":\"#E5ECF6\",\"radialaxis\":{\"gridcolor\":\"white\",\"linecolor\":\"white\",\"ticks\":\"\"}},\"scene\":{\"xaxis\":{\"backgroundcolor\":\"#E5ECF6\",\"gridcolor\":\"white\",\"gridwidth\":2,\"linecolor\":\"white\",\"showbackground\":true,\"ticks\":\"\",\"zerolinecolor\":\"white\"},\"yaxis\":{\"backgroundcolor\":\"#E5ECF6\",\"gridcolor\":\"white\",\"gridwidth\":2,\"linecolor\":\"white\",\"showbackground\":true,\"ticks\":\"\",\"zerolinecolor\":\"white\"},\"zaxis\":{\"backgroundcolor\":\"#E5ECF6\",\"gridcolor\":\"white\",\"gridwidth\":2,\"linecolor\":\"white\",\"showbackground\":true,\"ticks\":\"\",\"zerolinecolor\":\"white\"}},\"shapedefaults\":{\"line\":{\"color\":\"#2a3f5f\"}},\"ternary\":{\"aaxis\":{\"gridcolor\":\"white\",\"linecolor\":\"white\",\"ticks\":\"\"},\"baxis\":{\"gridcolor\":\"white\",\"linecolor\":\"white\",\"ticks\":\"\"},\"bgcolor\":\"#E5ECF6\",\"caxis\":{\"gridcolor\":\"white\",\"linecolor\":\"white\",\"ticks\":\"\"}},\"title\":{\"x\":0.05},\"xaxis\":{\"automargin\":true,\"gridcolor\":\"white\",\"linecolor\":\"white\",\"ticks\":\"\",\"title\":{\"standoff\":15},\"zerolinecolor\":\"white\",\"zerolinewidth\":2},\"yaxis\":{\"automargin\":true,\"gridcolor\":\"white\",\"linecolor\":\"white\",\"ticks\":\"\",\"title\":{\"standoff\":15},\"zerolinecolor\":\"white\",\"zerolinewidth\":2}}},\"title\":{\"text\":\"Training Accuracy\"},\"xaxis\":{\"title\":{\"text\":\"Epochs\"}},\"yaxis\":{\"title\":{\"text\":\"Accuracy\"}}},                        {\"responsive\": true}                    ).then(function(){\n",
              "                            \n",
              "var gd = document.getElementById('75ceb53d-d817-4feb-a82c-2efdf43adc9c');\n",
              "var x = new MutationObserver(function (mutations, observer) {{\n",
              "        var display = window.getComputedStyle(gd).display;\n",
              "        if (!display || display === 'none') {{\n",
              "            console.log([gd, 'removed!']);\n",
              "            Plotly.purge(gd);\n",
              "            observer.disconnect();\n",
              "        }}\n",
              "}});\n",
              "\n",
              "// Listen for the removal of the full notebook cells\n",
              "var notebookContainer = gd.closest('#notebook-container');\n",
              "if (notebookContainer) {{\n",
              "    x.observe(notebookContainer, {childList: true});\n",
              "}}\n",
              "\n",
              "// Listen for the clearing of the current output cell\n",
              "var outputEl = gd.closest('.output');\n",
              "if (outputEl) {{\n",
              "    x.observe(outputEl, {childList: true});\n",
              "}}\n",
              "\n",
              "                        })                };                            </script>        </div>\n",
              "</body>\n",
              "</html>"
            ]
          },
          "metadata": {}
        }
      ],
      "source": [
        "import plotly.graph_objects as go\n",
        "epochs = list(range(1, 49))\n",
        "\n",
        "fig = go.Figure()\n",
        "fig.add_trace(go.Scatter(x=epochs, y= history_pos.history['accuracy'],\n",
        "                    mode='lines+markers',\n",
        "                    name='training accuracy'))\n",
        "fig.add_trace(go.Scatter(x=epochs, y= history_pos.history['val_accuracy'],\n",
        "                    mode='lines+markers',\n",
        "                    name='validation accuracy'))\n",
        "\n",
        "fig.update_layout(title=\"Training Accuracy\", xaxis_title=\"Epochs\", yaxis_title=\"Accuracy\")\n",
        "fig.show()"
      ]
    },
    {
      "cell_type": "code",
      "execution_count": null,
      "metadata": {
        "id": "g-H4qPzl09fz",
        "colab": {
          "base_uri": "https://localhost:8080/",
          "height": 542
        },
        "outputId": "0fc9d513-dccc-4df5-c584-31f51c914335"
      },
      "outputs": [
        {
          "output_type": "display_data",
          "data": {
            "text/html": [
              "<html>\n",
              "<head><meta charset=\"utf-8\" /></head>\n",
              "<body>\n",
              "    <div>            <script src=\"https://cdnjs.cloudflare.com/ajax/libs/mathjax/2.7.5/MathJax.js?config=TeX-AMS-MML_SVG\"></script><script type=\"text/javascript\">if (window.MathJax) {MathJax.Hub.Config({SVG: {font: \"STIX-Web\"}});}</script>                <script type=\"text/javascript\">window.PlotlyConfig = {MathJaxConfig: 'local'};</script>\n",
              "        <script src=\"https://cdn.plot.ly/plotly-2.8.3.min.js\"></script>                <div id=\"d1872eec-22d8-4f8f-a16a-e2091b22cba7\" class=\"plotly-graph-div\" style=\"height:525px; width:100%;\"></div>            <script type=\"text/javascript\">                                    window.PLOTLYENV=window.PLOTLYENV || {};                                    if (document.getElementById(\"d1872eec-22d8-4f8f-a16a-e2091b22cba7\")) {                    Plotly.newPlot(                        \"d1872eec-22d8-4f8f-a16a-e2091b22cba7\",                        [{\"mode\":\"lines+markers\",\"name\":\"training loss\",\"x\":[1,2,3,4,5,6,7,8,9,10,11,12,13,14,15,16,17,18,19,20,21,22,23,24,25,26,27,28,29,30,31,32,33,34,35,36,37,38,39,40,41,42,43,44,45,46,47,48],\"y\":[0.992064356803894,0.6922287940979004,0.6914688348770142,0.6894187927246094,0.6884577870368958,0.687098503112793,0.684097409248352,0.6826223731040955,0.6783395409584045,0.6740816235542297,0.6670862436294556,0.6588888168334961,0.6453971862792969,0.62861567735672,0.6073620915412903,0.585539698600769,0.5856309533119202,0.560633659362793,0.5545048713684082,0.5604332685470581,0.545417070388794,0.5455248355865479,0.536838710308075,0.531697690486908,0.542660653591156,0.522175669670105,0.5584732890129089,0.5144191384315491,0.5157179832458496,0.522203266620636,0.5125178098678589,0.5058833956718445,0.5034902095794678,0.5037192106246948,0.5017256736755371,0.5711673498153687,0.4906739592552185,0.4902378022670746,0.48904091119766235,0.48507875204086304,0.48824435472488403,0.4826577603816986,0.48055070638656616,0.4743771553039551,0.484031081199646,0.47884631156921387,0.5253556370735168,0.46593478322029114,0.4751897156238556,0.5099246501922607,0.46356600522994995,0.4602918326854706,0.47318217158317566,0.45999208092689514,0.4577617049217224,0.4980177581310272,0.45742592215538025,0.45836329460144043,0.4607726037502289,0.4610919654369354,0.47699403762817383],\"type\":\"scatter\"},{\"mode\":\"lines+markers\",\"name\":\"validation loss\",\"x\":[1,2,3,4,5,6,7,8,9,10,11,12,13,14,15,16,17,18,19,20,21,22,23,24,25,26,27,28,29,30,31,32,33,34,35,36,37,38,39,40,41,42,43,44,45,46,47,48],\"y\":[0.6694415807723999,0.6933004260063171,0.6807250380516052,0.7009363174438477,0.6929689049720764,0.6810241937637329,0.6780734062194824,0.7003666758537292,0.6651996970176697,0.682672381401062,0.6707016825675964,0.6718878746032715,0.6066939830780029,0.6363828182220459,0.5735849142074585,0.580545961856842,0.5694316029548645,0.5466662645339966,0.5656354427337646,0.5691016316413879,0.5681061148643494,0.5112302899360657,0.4834251403808594,0.5377659797668457,0.490652471780777,0.5510022640228271,0.5193333625793457,0.5088145732879639,0.5252540707588196,0.5149654150009155,0.5120251178741455,0.49542373418807983,0.5145455002784729,0.4590200185775757,0.5155186653137207,0.5073657035827637,0.481371134519577,0.4665400981903076,0.5146569609642029,0.4812423884868622,0.47226303815841675,0.4673025608062744,0.4812620282173157,0.4865624010562897,0.41111013293266296,0.4997972548007965,0.45001646876335144,0.46113383769989014,0.4704534113407135,0.46458375453948975,0.4581194221973419,0.44407427310943604,0.4594479501247406,0.4433591365814209,0.4473683536052704,0.44766098260879517,0.4792203903198242,0.43674349784851074,0.48847880959510803,0.4485737085342407,0.4575778841972351],\"type\":\"scatter\"}],                        {\"template\":{\"data\":{\"bar\":[{\"error_x\":{\"color\":\"#2a3f5f\"},\"error_y\":{\"color\":\"#2a3f5f\"},\"marker\":{\"line\":{\"color\":\"#E5ECF6\",\"width\":0.5},\"pattern\":{\"fillmode\":\"overlay\",\"size\":10,\"solidity\":0.2}},\"type\":\"bar\"}],\"barpolar\":[{\"marker\":{\"line\":{\"color\":\"#E5ECF6\",\"width\":0.5},\"pattern\":{\"fillmode\":\"overlay\",\"size\":10,\"solidity\":0.2}},\"type\":\"barpolar\"}],\"carpet\":[{\"aaxis\":{\"endlinecolor\":\"#2a3f5f\",\"gridcolor\":\"white\",\"linecolor\":\"white\",\"minorgridcolor\":\"white\",\"startlinecolor\":\"#2a3f5f\"},\"baxis\":{\"endlinecolor\":\"#2a3f5f\",\"gridcolor\":\"white\",\"linecolor\":\"white\",\"minorgridcolor\":\"white\",\"startlinecolor\":\"#2a3f5f\"},\"type\":\"carpet\"}],\"choropleth\":[{\"colorbar\":{\"outlinewidth\":0,\"ticks\":\"\"},\"type\":\"choropleth\"}],\"contour\":[{\"colorbar\":{\"outlinewidth\":0,\"ticks\":\"\"},\"colorscale\":[[0.0,\"#0d0887\"],[0.1111111111111111,\"#46039f\"],[0.2222222222222222,\"#7201a8\"],[0.3333333333333333,\"#9c179e\"],[0.4444444444444444,\"#bd3786\"],[0.5555555555555556,\"#d8576b\"],[0.6666666666666666,\"#ed7953\"],[0.7777777777777778,\"#fb9f3a\"],[0.8888888888888888,\"#fdca26\"],[1.0,\"#f0f921\"]],\"type\":\"contour\"}],\"contourcarpet\":[{\"colorbar\":{\"outlinewidth\":0,\"ticks\":\"\"},\"type\":\"contourcarpet\"}],\"heatmap\":[{\"colorbar\":{\"outlinewidth\":0,\"ticks\":\"\"},\"colorscale\":[[0.0,\"#0d0887\"],[0.1111111111111111,\"#46039f\"],[0.2222222222222222,\"#7201a8\"],[0.3333333333333333,\"#9c179e\"],[0.4444444444444444,\"#bd3786\"],[0.5555555555555556,\"#d8576b\"],[0.6666666666666666,\"#ed7953\"],[0.7777777777777778,\"#fb9f3a\"],[0.8888888888888888,\"#fdca26\"],[1.0,\"#f0f921\"]],\"type\":\"heatmap\"}],\"heatmapgl\":[{\"colorbar\":{\"outlinewidth\":0,\"ticks\":\"\"},\"colorscale\":[[0.0,\"#0d0887\"],[0.1111111111111111,\"#46039f\"],[0.2222222222222222,\"#7201a8\"],[0.3333333333333333,\"#9c179e\"],[0.4444444444444444,\"#bd3786\"],[0.5555555555555556,\"#d8576b\"],[0.6666666666666666,\"#ed7953\"],[0.7777777777777778,\"#fb9f3a\"],[0.8888888888888888,\"#fdca26\"],[1.0,\"#f0f921\"]],\"type\":\"heatmapgl\"}],\"histogram\":[{\"marker\":{\"pattern\":{\"fillmode\":\"overlay\",\"size\":10,\"solidity\":0.2}},\"type\":\"histogram\"}],\"histogram2d\":[{\"colorbar\":{\"outlinewidth\":0,\"ticks\":\"\"},\"colorscale\":[[0.0,\"#0d0887\"],[0.1111111111111111,\"#46039f\"],[0.2222222222222222,\"#7201a8\"],[0.3333333333333333,\"#9c179e\"],[0.4444444444444444,\"#bd3786\"],[0.5555555555555556,\"#d8576b\"],[0.6666666666666666,\"#ed7953\"],[0.7777777777777778,\"#fb9f3a\"],[0.8888888888888888,\"#fdca26\"],[1.0,\"#f0f921\"]],\"type\":\"histogram2d\"}],\"histogram2dcontour\":[{\"colorbar\":{\"outlinewidth\":0,\"ticks\":\"\"},\"colorscale\":[[0.0,\"#0d0887\"],[0.1111111111111111,\"#46039f\"],[0.2222222222222222,\"#7201a8\"],[0.3333333333333333,\"#9c179e\"],[0.4444444444444444,\"#bd3786\"],[0.5555555555555556,\"#d8576b\"],[0.6666666666666666,\"#ed7953\"],[0.7777777777777778,\"#fb9f3a\"],[0.8888888888888888,\"#fdca26\"],[1.0,\"#f0f921\"]],\"type\":\"histogram2dcontour\"}],\"mesh3d\":[{\"colorbar\":{\"outlinewidth\":0,\"ticks\":\"\"},\"type\":\"mesh3d\"}],\"parcoords\":[{\"line\":{\"colorbar\":{\"outlinewidth\":0,\"ticks\":\"\"}},\"type\":\"parcoords\"}],\"pie\":[{\"automargin\":true,\"type\":\"pie\"}],\"scatter\":[{\"marker\":{\"colorbar\":{\"outlinewidth\":0,\"ticks\":\"\"}},\"type\":\"scatter\"}],\"scatter3d\":[{\"line\":{\"colorbar\":{\"outlinewidth\":0,\"ticks\":\"\"}},\"marker\":{\"colorbar\":{\"outlinewidth\":0,\"ticks\":\"\"}},\"type\":\"scatter3d\"}],\"scattercarpet\":[{\"marker\":{\"colorbar\":{\"outlinewidth\":0,\"ticks\":\"\"}},\"type\":\"scattercarpet\"}],\"scattergeo\":[{\"marker\":{\"colorbar\":{\"outlinewidth\":0,\"ticks\":\"\"}},\"type\":\"scattergeo\"}],\"scattergl\":[{\"marker\":{\"colorbar\":{\"outlinewidth\":0,\"ticks\":\"\"}},\"type\":\"scattergl\"}],\"scattermapbox\":[{\"marker\":{\"colorbar\":{\"outlinewidth\":0,\"ticks\":\"\"}},\"type\":\"scattermapbox\"}],\"scatterpolar\":[{\"marker\":{\"colorbar\":{\"outlinewidth\":0,\"ticks\":\"\"}},\"type\":\"scatterpolar\"}],\"scatterpolargl\":[{\"marker\":{\"colorbar\":{\"outlinewidth\":0,\"ticks\":\"\"}},\"type\":\"scatterpolargl\"}],\"scatterternary\":[{\"marker\":{\"colorbar\":{\"outlinewidth\":0,\"ticks\":\"\"}},\"type\":\"scatterternary\"}],\"surface\":[{\"colorbar\":{\"outlinewidth\":0,\"ticks\":\"\"},\"colorscale\":[[0.0,\"#0d0887\"],[0.1111111111111111,\"#46039f\"],[0.2222222222222222,\"#7201a8\"],[0.3333333333333333,\"#9c179e\"],[0.4444444444444444,\"#bd3786\"],[0.5555555555555556,\"#d8576b\"],[0.6666666666666666,\"#ed7953\"],[0.7777777777777778,\"#fb9f3a\"],[0.8888888888888888,\"#fdca26\"],[1.0,\"#f0f921\"]],\"type\":\"surface\"}],\"table\":[{\"cells\":{\"fill\":{\"color\":\"#EBF0F8\"},\"line\":{\"color\":\"white\"}},\"header\":{\"fill\":{\"color\":\"#C8D4E3\"},\"line\":{\"color\":\"white\"}},\"type\":\"table\"}]},\"layout\":{\"annotationdefaults\":{\"arrowcolor\":\"#2a3f5f\",\"arrowhead\":0,\"arrowwidth\":1},\"autotypenumbers\":\"strict\",\"coloraxis\":{\"colorbar\":{\"outlinewidth\":0,\"ticks\":\"\"}},\"colorscale\":{\"diverging\":[[0,\"#8e0152\"],[0.1,\"#c51b7d\"],[0.2,\"#de77ae\"],[0.3,\"#f1b6da\"],[0.4,\"#fde0ef\"],[0.5,\"#f7f7f7\"],[0.6,\"#e6f5d0\"],[0.7,\"#b8e186\"],[0.8,\"#7fbc41\"],[0.9,\"#4d9221\"],[1,\"#276419\"]],\"sequential\":[[0.0,\"#0d0887\"],[0.1111111111111111,\"#46039f\"],[0.2222222222222222,\"#7201a8\"],[0.3333333333333333,\"#9c179e\"],[0.4444444444444444,\"#bd3786\"],[0.5555555555555556,\"#d8576b\"],[0.6666666666666666,\"#ed7953\"],[0.7777777777777778,\"#fb9f3a\"],[0.8888888888888888,\"#fdca26\"],[1.0,\"#f0f921\"]],\"sequentialminus\":[[0.0,\"#0d0887\"],[0.1111111111111111,\"#46039f\"],[0.2222222222222222,\"#7201a8\"],[0.3333333333333333,\"#9c179e\"],[0.4444444444444444,\"#bd3786\"],[0.5555555555555556,\"#d8576b\"],[0.6666666666666666,\"#ed7953\"],[0.7777777777777778,\"#fb9f3a\"],[0.8888888888888888,\"#fdca26\"],[1.0,\"#f0f921\"]]},\"colorway\":[\"#636efa\",\"#EF553B\",\"#00cc96\",\"#ab63fa\",\"#FFA15A\",\"#19d3f3\",\"#FF6692\",\"#B6E880\",\"#FF97FF\",\"#FECB52\"],\"font\":{\"color\":\"#2a3f5f\"},\"geo\":{\"bgcolor\":\"white\",\"lakecolor\":\"white\",\"landcolor\":\"#E5ECF6\",\"showlakes\":true,\"showland\":true,\"subunitcolor\":\"white\"},\"hoverlabel\":{\"align\":\"left\"},\"hovermode\":\"closest\",\"mapbox\":{\"style\":\"light\"},\"paper_bgcolor\":\"white\",\"plot_bgcolor\":\"#E5ECF6\",\"polar\":{\"angularaxis\":{\"gridcolor\":\"white\",\"linecolor\":\"white\",\"ticks\":\"\"},\"bgcolor\":\"#E5ECF6\",\"radialaxis\":{\"gridcolor\":\"white\",\"linecolor\":\"white\",\"ticks\":\"\"}},\"scene\":{\"xaxis\":{\"backgroundcolor\":\"#E5ECF6\",\"gridcolor\":\"white\",\"gridwidth\":2,\"linecolor\":\"white\",\"showbackground\":true,\"ticks\":\"\",\"zerolinecolor\":\"white\"},\"yaxis\":{\"backgroundcolor\":\"#E5ECF6\",\"gridcolor\":\"white\",\"gridwidth\":2,\"linecolor\":\"white\",\"showbackground\":true,\"ticks\":\"\",\"zerolinecolor\":\"white\"},\"zaxis\":{\"backgroundcolor\":\"#E5ECF6\",\"gridcolor\":\"white\",\"gridwidth\":2,\"linecolor\":\"white\",\"showbackground\":true,\"ticks\":\"\",\"zerolinecolor\":\"white\"}},\"shapedefaults\":{\"line\":{\"color\":\"#2a3f5f\"}},\"ternary\":{\"aaxis\":{\"gridcolor\":\"white\",\"linecolor\":\"white\",\"ticks\":\"\"},\"baxis\":{\"gridcolor\":\"white\",\"linecolor\":\"white\",\"ticks\":\"\"},\"bgcolor\":\"#E5ECF6\",\"caxis\":{\"gridcolor\":\"white\",\"linecolor\":\"white\",\"ticks\":\"\"}},\"title\":{\"x\":0.05},\"xaxis\":{\"automargin\":true,\"gridcolor\":\"white\",\"linecolor\":\"white\",\"ticks\":\"\",\"title\":{\"standoff\":15},\"zerolinecolor\":\"white\",\"zerolinewidth\":2},\"yaxis\":{\"automargin\":true,\"gridcolor\":\"white\",\"linecolor\":\"white\",\"ticks\":\"\",\"title\":{\"standoff\":15},\"zerolinecolor\":\"white\",\"zerolinewidth\":2}}},\"title\":{\"text\":\"Training Loss\"},\"xaxis\":{\"title\":{\"text\":\"Epochs\"}},\"yaxis\":{\"title\":{\"text\":\"Loss\"}}},                        {\"responsive\": true}                    ).then(function(){\n",
              "                            \n",
              "var gd = document.getElementById('d1872eec-22d8-4f8f-a16a-e2091b22cba7');\n",
              "var x = new MutationObserver(function (mutations, observer) {{\n",
              "        var display = window.getComputedStyle(gd).display;\n",
              "        if (!display || display === 'none') {{\n",
              "            console.log([gd, 'removed!']);\n",
              "            Plotly.purge(gd);\n",
              "            observer.disconnect();\n",
              "        }}\n",
              "}});\n",
              "\n",
              "// Listen for the removal of the full notebook cells\n",
              "var notebookContainer = gd.closest('#notebook-container');\n",
              "if (notebookContainer) {{\n",
              "    x.observe(notebookContainer, {childList: true});\n",
              "}}\n",
              "\n",
              "// Listen for the clearing of the current output cell\n",
              "var outputEl = gd.closest('.output');\n",
              "if (outputEl) {{\n",
              "    x.observe(outputEl, {childList: true});\n",
              "}}\n",
              "\n",
              "                        })                };                            </script>        </div>\n",
              "</body>\n",
              "</html>"
            ]
          },
          "metadata": {}
        }
      ],
      "source": [
        "fig = go.Figure()\n",
        "fig.add_trace(go.Scatter(x=epochs, y= history_pos.history['loss'],\n",
        "                    mode='lines+markers',\n",
        "                    name='training loss'))\n",
        "fig.add_trace(go.Scatter(x=epochs, y= history_pos.history['val_loss'],\n",
        "                    mode='lines+markers',\n",
        "                    name='validation loss'))\n",
        "\n",
        "fig.update_layout(title=\"Training Loss\", xaxis_title=\"Epochs\", yaxis_title=\"Loss\")\n",
        "fig.show()"
      ]
    },
    {
      "cell_type": "markdown",
      "source": [
        "### Please see our poster and powerpoint for a more in depth treatment of the methods we used and our conclusions about the effectiveness of the project."
      ],
      "metadata": {
        "id": "lN85dmUC6yfr"
      }
    }
  ],
  "metadata": {
    "accelerator": "GPU",
    "colab": {
      "collapsed_sections": [],
      "machine_shape": "hm",
      "name": "Final_Project.ipynb",
      "provenance": []
    },
    "kernelspec": {
      "display_name": "Python 3",
      "name": "python3"
    },
    "language_info": {
      "name": "python"
    }
  },
  "nbformat": 4,
  "nbformat_minor": 0
}