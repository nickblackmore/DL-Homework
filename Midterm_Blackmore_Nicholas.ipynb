{
  "cells": [
    {
      "cell_type": "code",
      "execution_count": null,
      "metadata": {
        "colab": {
          "base_uri": "https://localhost:8080/"
        },
        "id": "GAXG8qcyZ32U",
        "outputId": "ec3c6e8a-d82c-412e-d437-3715064314d8"
      },
      "outputs": [
        {
          "output_type": "stream",
          "name": "stdout",
          "text": [
            "Drive already mounted at /content/drive; to attempt to forcibly remount, call drive.mount(\"/content/drive\", force_remount=True).\n"
          ]
        }
      ],
      "source": [
        "from google.colab import drive\n",
        "import sys\n",
        "\n",
        "# Mount Google Drive\n",
        "drive.mount('/content/drive')\n",
        "\n",
        "abs_path = '/content/drive/My Drive/Deep Learning Midterm/'\n",
        "data_path = '/content/drive/My Drive/Deep Learning Midterm/data/'\n",
        "\n",
        "import os\n",
        "import numpy as np \n",
        "import pandas as pd \n",
        "import matplotlib.pyplot as plt\n",
        "from tensorflow.keras.models import Sequential\n",
        "from tensorflow.keras.layers import Dense, LSTM, Dropout, Bidirectional\n",
        "from tensorflow.keras.metrics import MeanSquaredError\n",
        "import seaborn as sns\n",
        "from sklearn.preprocessing import MinMaxScaler, StandardScaler, RobustScaler\n",
        "import tensorflow as tf\n",
        "\n",
        "import matplotlib.pylab as pylab\n",
        "params = {'legend.fontsize': 'large',\n",
        "          'figure.titlesize': 'large',\n",
        "          'figure.figsize': (11, 8),\n",
        "         'axes.labelsize': 'large',\n",
        "         'axes.titlesize':'large',\n",
        "         'xtick.labelsize':'large',\n",
        "         'ytick.labelsize':'large'}\n",
        "pylab.rcParams.update(params)"
      ]
    },
    {
      "cell_type": "markdown",
      "source": [
        "# How Well Can Deep NN's Predict Crypto Prices?\n",
        "## Predicting a minor coin (Shiba Inu) using other coins\n",
        "**Overview:** In this project we will attempt to use some of the most popular coins like Bitcoin, Ether, and Cardano to predict the price of a relatively new, trendy, coin: Shiba Inu. For this project we will collect high-frequency trading patterns for the coins and see if Neural Networks can outpredict the simple forecasting methods. "
      ],
      "metadata": {
        "id": "Ce7fc7jL5ClJ"
      }
    },
    {
      "cell_type": "markdown",
      "source": [
        "### Data Collection"
      ],
      "metadata": {
        "id": "nE4KM2ni5fID"
      }
    },
    {
      "cell_type": "code",
      "execution_count": null,
      "metadata": {
        "colab": {
          "base_uri": "https://localhost:8080/"
        },
        "id": "7BECvjYv3pXB",
        "outputId": "82cff900-c3f6-4ff5-df8e-bc53fb3ba43f"
      },
      "outputs": [
        {
          "output_type": "stream",
          "name": "stdout",
          "text": [
            "Requirement already satisfied: yfinance in /usr/local/lib/python3.7/dist-packages (0.1.70)\n",
            "Requirement already satisfied: multitasking>=0.0.7 in /usr/local/lib/python3.7/dist-packages (from yfinance) (0.0.10)\n",
            "Requirement already satisfied: lxml>=4.5.1 in /usr/local/lib/python3.7/dist-packages (from yfinance) (4.8.0)\n",
            "Requirement already satisfied: pandas>=0.24.0 in /usr/local/lib/python3.7/dist-packages (from yfinance) (1.3.5)\n",
            "Requirement already satisfied: numpy>=1.15 in /usr/local/lib/python3.7/dist-packages (from yfinance) (1.21.5)\n",
            "Requirement already satisfied: requests>=2.26 in /usr/local/lib/python3.7/dist-packages (from yfinance) (2.27.1)\n",
            "Requirement already satisfied: python-dateutil>=2.7.3 in /usr/local/lib/python3.7/dist-packages (from pandas>=0.24.0->yfinance) (2.8.2)\n",
            "Requirement already satisfied: pytz>=2017.3 in /usr/local/lib/python3.7/dist-packages (from pandas>=0.24.0->yfinance) (2018.9)\n",
            "Requirement already satisfied: six>=1.5 in /usr/local/lib/python3.7/dist-packages (from python-dateutil>=2.7.3->pandas>=0.24.0->yfinance) (1.15.0)\n",
            "Requirement already satisfied: charset-normalizer~=2.0.0 in /usr/local/lib/python3.7/dist-packages (from requests>=2.26->yfinance) (2.0.12)\n",
            "Requirement already satisfied: urllib3<1.27,>=1.21.1 in /usr/local/lib/python3.7/dist-packages (from requests>=2.26->yfinance) (1.24.3)\n",
            "Requirement already satisfied: certifi>=2017.4.17 in /usr/local/lib/python3.7/dist-packages (from requests>=2.26->yfinance) (2021.10.8)\n",
            "Requirement already satisfied: idna<4,>=2.5 in /usr/local/lib/python3.7/dist-packages (from requests>=2.26->yfinance) (2.10)\n"
          ]
        }
      ],
      "source": [
        "#### Crypto currency prices via API\n",
        "!pip install yfinance\n",
        "import yfinance as yf"
      ]
    },
    {
      "cell_type": "code",
      "execution_count": null,
      "metadata": {
        "colab": {
          "base_uri": "https://localhost:8080/"
        },
        "id": "4pEaTudM-Chq",
        "outputId": "d355722c-338e-46bc-a885-c865ed18950d"
      },
      "outputs": [
        {
          "output_type": "stream",
          "name": "stdout",
          "text": [
            "[*********************100%***********************]  1 of 1 completed\n",
            "[*********************100%***********************]  1 of 1 completed\n",
            "[*********************100%***********************]  1 of 1 completed\n",
            "[*********************100%***********************]  1 of 1 completed\n",
            "[*********************100%***********************]  1 of 1 completed\n",
            "[*********************100%***********************]  1 of 1 completed\n",
            "[*********************100%***********************]  1 of 1 completed\n"
          ]
        }
      ],
      "source": [
        "# save crypto prices in Google Drive\n",
        "tickers = [\"BTC-USD\", \"ETH-USD\", \"ATOM-USD\", \"DOGE-USD\", \"ADA-USD\", \"XRP-USD\", \"SHIB-USD\"]\n",
        "tickers  = tickers\n",
        "for ticker in tickers:\n",
        "  crypto_data = yf.download(tickers=ticker, period='1mo', interval=\"2m\", group_by='ticker', threads=True)\n",
        "  crypto_data.to_csv(os.path.join(data_path, \"coin_\"+ ticker + \".csv\"))\n"
      ]
    },
    {
      "cell_type": "code",
      "execution_count": null,
      "metadata": {
        "colab": {
          "base_uri": "https://localhost:8080/"
        },
        "id": "t3oIPQ5Lhprx",
        "outputId": "fdd680b6-d8e4-45a0-b843-fe1120834819"
      },
      "outputs": [
        {
          "output_type": "execute_result",
          "data": {
            "text/plain": [
              "['coin_BTC-USD.csv',\n",
              " 'coin_ETH-USD.csv',\n",
              " 'coin_ATOM-USD.csv',\n",
              " 'coin_DOGE-USD.csv',\n",
              " 'coin_ADA-USD.csv',\n",
              " 'coin_XRP-USD.csv',\n",
              " 'coin_SHIB-USD.csv']"
            ]
          },
          "metadata": {},
          "execution_count": 283
        }
      ],
      "source": [
        "os.listdir(data_path)"
      ]
    },
    {
      "cell_type": "code",
      "execution_count": null,
      "metadata": {
        "colab": {
          "base_uri": "https://localhost:8080/",
          "height": 331
        },
        "id": "6uQcrFHajIzJ",
        "outputId": "72174bf7-9f47-41c3-a21c-3fb0b9861168"
      },
      "outputs": [
        {
          "output_type": "stream",
          "name": "stdout",
          "text": [
            "datetime64[ns, UTC]\n",
            "datetime64[ns, UTC]\n",
            "datetime64[ns, UTC]\n",
            "datetime64[ns, UTC]\n",
            "datetime64[ns, UTC]\n",
            "datetime64[ns, UTC]\n",
            "datetime64[ns, UTC]\n"
          ]
        },
        {
          "output_type": "execute_result",
          "data": {
            "text/plain": [
              "                       Datetime      Open      High       Low     Close  \\\n",
              "20066 2022-03-22 09:18:00+00:00  0.000024  0.000024  0.000024  0.000024   \n",
              "20067 2022-03-22 09:20:00+00:00  0.000024  0.000024  0.000024  0.000024   \n",
              "20068 2022-03-22 09:22:00+00:00  0.000024  0.000024  0.000024  0.000024   \n",
              "20069 2022-03-22 09:24:00+00:00  0.000024  0.000024  0.000024  0.000024   \n",
              "20070 2022-03-22 09:26:00+00:00  0.000024  0.000024  0.000024  0.000024   \n",
              "\n",
              "       Adj Close  Volume  \n",
              "20066   0.000024  397440  \n",
              "20067   0.000024  136640  \n",
              "20068   0.000024    6720  \n",
              "20069   0.000024  745792  \n",
              "20070   0.000024       0  "
            ],
            "text/html": [
              "\n",
              "  <div id=\"df-0928e806-d3cf-4202-ad12-14e4daee2610\">\n",
              "    <div class=\"colab-df-container\">\n",
              "      <div>\n",
              "<style scoped>\n",
              "    .dataframe tbody tr th:only-of-type {\n",
              "        vertical-align: middle;\n",
              "    }\n",
              "\n",
              "    .dataframe tbody tr th {\n",
              "        vertical-align: top;\n",
              "    }\n",
              "\n",
              "    .dataframe thead th {\n",
              "        text-align: right;\n",
              "    }\n",
              "</style>\n",
              "<table border=\"1\" class=\"dataframe\">\n",
              "  <thead>\n",
              "    <tr style=\"text-align: right;\">\n",
              "      <th></th>\n",
              "      <th>Datetime</th>\n",
              "      <th>Open</th>\n",
              "      <th>High</th>\n",
              "      <th>Low</th>\n",
              "      <th>Close</th>\n",
              "      <th>Adj Close</th>\n",
              "      <th>Volume</th>\n",
              "    </tr>\n",
              "  </thead>\n",
              "  <tbody>\n",
              "    <tr>\n",
              "      <th>20066</th>\n",
              "      <td>2022-03-22 09:18:00+00:00</td>\n",
              "      <td>0.000024</td>\n",
              "      <td>0.000024</td>\n",
              "      <td>0.000024</td>\n",
              "      <td>0.000024</td>\n",
              "      <td>0.000024</td>\n",
              "      <td>397440</td>\n",
              "    </tr>\n",
              "    <tr>\n",
              "      <th>20067</th>\n",
              "      <td>2022-03-22 09:20:00+00:00</td>\n",
              "      <td>0.000024</td>\n",
              "      <td>0.000024</td>\n",
              "      <td>0.000024</td>\n",
              "      <td>0.000024</td>\n",
              "      <td>0.000024</td>\n",
              "      <td>136640</td>\n",
              "    </tr>\n",
              "    <tr>\n",
              "      <th>20068</th>\n",
              "      <td>2022-03-22 09:22:00+00:00</td>\n",
              "      <td>0.000024</td>\n",
              "      <td>0.000024</td>\n",
              "      <td>0.000024</td>\n",
              "      <td>0.000024</td>\n",
              "      <td>0.000024</td>\n",
              "      <td>6720</td>\n",
              "    </tr>\n",
              "    <tr>\n",
              "      <th>20069</th>\n",
              "      <td>2022-03-22 09:24:00+00:00</td>\n",
              "      <td>0.000024</td>\n",
              "      <td>0.000024</td>\n",
              "      <td>0.000024</td>\n",
              "      <td>0.000024</td>\n",
              "      <td>0.000024</td>\n",
              "      <td>745792</td>\n",
              "    </tr>\n",
              "    <tr>\n",
              "      <th>20070</th>\n",
              "      <td>2022-03-22 09:26:00+00:00</td>\n",
              "      <td>0.000024</td>\n",
              "      <td>0.000024</td>\n",
              "      <td>0.000024</td>\n",
              "      <td>0.000024</td>\n",
              "      <td>0.000024</td>\n",
              "      <td>0</td>\n",
              "    </tr>\n",
              "  </tbody>\n",
              "</table>\n",
              "</div>\n",
              "      <button class=\"colab-df-convert\" onclick=\"convertToInteractive('df-0928e806-d3cf-4202-ad12-14e4daee2610')\"\n",
              "              title=\"Convert this dataframe to an interactive table.\"\n",
              "              style=\"display:none;\">\n",
              "        \n",
              "  <svg xmlns=\"http://www.w3.org/2000/svg\" height=\"24px\"viewBox=\"0 0 24 24\"\n",
              "       width=\"24px\">\n",
              "    <path d=\"M0 0h24v24H0V0z\" fill=\"none\"/>\n",
              "    <path d=\"M18.56 5.44l.94 2.06.94-2.06 2.06-.94-2.06-.94-.94-2.06-.94 2.06-2.06.94zm-11 1L8.5 8.5l.94-2.06 2.06-.94-2.06-.94L8.5 2.5l-.94 2.06-2.06.94zm10 10l.94 2.06.94-2.06 2.06-.94-2.06-.94-.94-2.06-.94 2.06-2.06.94z\"/><path d=\"M17.41 7.96l-1.37-1.37c-.4-.4-.92-.59-1.43-.59-.52 0-1.04.2-1.43.59L10.3 9.45l-7.72 7.72c-.78.78-.78 2.05 0 2.83L4 21.41c.39.39.9.59 1.41.59.51 0 1.02-.2 1.41-.59l7.78-7.78 2.81-2.81c.8-.78.8-2.07 0-2.86zM5.41 20L4 18.59l7.72-7.72 1.47 1.35L5.41 20z\"/>\n",
              "  </svg>\n",
              "      </button>\n",
              "      \n",
              "  <style>\n",
              "    .colab-df-container {\n",
              "      display:flex;\n",
              "      flex-wrap:wrap;\n",
              "      gap: 12px;\n",
              "    }\n",
              "\n",
              "    .colab-df-convert {\n",
              "      background-color: #E8F0FE;\n",
              "      border: none;\n",
              "      border-radius: 50%;\n",
              "      cursor: pointer;\n",
              "      display: none;\n",
              "      fill: #1967D2;\n",
              "      height: 32px;\n",
              "      padding: 0 0 0 0;\n",
              "      width: 32px;\n",
              "    }\n",
              "\n",
              "    .colab-df-convert:hover {\n",
              "      background-color: #E2EBFA;\n",
              "      box-shadow: 0px 1px 2px rgba(60, 64, 67, 0.3), 0px 1px 3px 1px rgba(60, 64, 67, 0.15);\n",
              "      fill: #174EA6;\n",
              "    }\n",
              "\n",
              "    [theme=dark] .colab-df-convert {\n",
              "      background-color: #3B4455;\n",
              "      fill: #D2E3FC;\n",
              "    }\n",
              "\n",
              "    [theme=dark] .colab-df-convert:hover {\n",
              "      background-color: #434B5C;\n",
              "      box-shadow: 0px 1px 3px 1px rgba(0, 0, 0, 0.15);\n",
              "      filter: drop-shadow(0px 1px 2px rgba(0, 0, 0, 0.3));\n",
              "      fill: #FFFFFF;\n",
              "    }\n",
              "  </style>\n",
              "\n",
              "      <script>\n",
              "        const buttonEl =\n",
              "          document.querySelector('#df-0928e806-d3cf-4202-ad12-14e4daee2610 button.colab-df-convert');\n",
              "        buttonEl.style.display =\n",
              "          google.colab.kernel.accessAllowed ? 'block' : 'none';\n",
              "\n",
              "        async function convertToInteractive(key) {\n",
              "          const element = document.querySelector('#df-0928e806-d3cf-4202-ad12-14e4daee2610');\n",
              "          const dataTable =\n",
              "            await google.colab.kernel.invokeFunction('convertToInteractive',\n",
              "                                                     [key], {});\n",
              "          if (!dataTable) return;\n",
              "\n",
              "          const docLinkHtml = 'Like what you see? Visit the ' +\n",
              "            '<a target=\"_blank\" href=https://colab.research.google.com/notebooks/data_table.ipynb>data table notebook</a>'\n",
              "            + ' to learn more about interactive tables.';\n",
              "          element.innerHTML = '';\n",
              "          dataTable['output_type'] = 'display_data';\n",
              "          await google.colab.output.renderOutput(dataTable, element);\n",
              "          const docLink = document.createElement('div');\n",
              "          docLink.innerHTML = docLinkHtml;\n",
              "          element.appendChild(docLink);\n",
              "        }\n",
              "      </script>\n",
              "    </div>\n",
              "  </div>\n",
              "  "
            ]
          },
          "metadata": {},
          "execution_count": 284
        }
      ],
      "source": [
        "# Filtering out the data and handling Datetimes\n",
        "coin_dataframes = dict()\n",
        "\n",
        "def date_format(date_str):\n",
        "    return pd.to_datetime(date_str)\n",
        "\n",
        "\n",
        "for fn in os.listdir(data_path):\n",
        "    coin_name = fn.split(\"_\")[1][:-4]\n",
        "    df = pd.read_csv(os.path.join(data_path, fn), parse_dates=['Datetime'], dayfirst=True)\n",
        "    coin_dataframes[coin_name] = df.sort_values('Datetime')\n",
        "    df['Datetime'] = pd.to_datetime(df['Datetime'], utc=True)\n",
        "    print(df['Datetime'].dtype)\n",
        "\n",
        "coin_dataframes['SHIB-USD'].tail()"
      ]
    },
    {
      "cell_type": "code",
      "execution_count": null,
      "metadata": {
        "colab": {
          "base_uri": "https://localhost:8080/"
        },
        "id": "hzz1Gbf73Z9A",
        "outputId": "b14abd36-e296-417d-8260-4169ac075a3c"
      },
      "outputs": [
        {
          "output_type": "stream",
          "name": "stdout",
          "text": [
            "BTC-USD 2022-02-22 09:28:00+00:00 2022-03-22 09:26:00+00:00 (19966, 7)\n",
            "ETH-USD 2022-02-22 09:28:00+00:00 2022-03-22 09:26:00+00:00 (20101, 7)\n",
            "ATOM-USD 2022-02-22 09:28:00+00:00 2022-03-22 09:26:00+00:00 (20103, 7)\n",
            "DOGE-USD 2022-02-22 09:28:00+00:00 2022-03-22 09:26:00+00:00 (20042, 7)\n",
            "ADA-USD 2022-02-22 09:28:00+00:00 2022-03-22 09:26:00+00:00 (20103, 7)\n",
            "XRP-USD 2022-02-22 09:28:00+00:00 2022-03-22 09:26:00+00:00 (20017, 7)\n",
            "SHIB-USD 2022-02-22 09:28:00+00:00 2022-03-22 09:26:00+00:00 (20071, 7)\n"
          ]
        }
      ],
      "source": [
        "coin_names = []\n",
        "for fn in os.listdir(data_path):\n",
        "    coin_name = fn.split(\"_\")[1][:-4]\n",
        "    coin_names.append(coin_name)\n",
        "\n",
        "for name in coin_names:\n",
        "  print(name, coin_dataframes[name]['Datetime'].min(),\n",
        "        coin_dataframes[name]['Datetime'].max(), coin_dataframes[name].shape)\n"
      ]
    },
    {
      "cell_type": "code",
      "execution_count": null,
      "metadata": {
        "colab": {
          "base_uri": "https://localhost:8080/",
          "height": 206
        },
        "id": "9TFYeGLqrpjD",
        "outputId": "7e80c205-934d-462e-ce7d-9e502904ba75"
      },
      "outputs": [
        {
          "output_type": "execute_result",
          "data": {
            "text/plain": [
              "        BTC-USD                  Datetime      ETH-USD   ATOM-USD  DOGE-USD  \\\n",
              "0  37071.628906 2022-02-22 09:28:00+00:00  2541.579834  23.736961  0.127906   \n",
              "1  37068.906250 2022-02-22 09:30:00+00:00  2541.201660  23.733599  0.127918   \n",
              "2  37093.632812 2022-02-22 09:32:00+00:00  2541.557373  23.750843  0.128060   \n",
              "3  37149.937500 2022-02-22 09:34:00+00:00  2544.920654  23.806026  0.128187   \n",
              "4  37223.550781 2022-02-22 09:36:00+00:00  2550.543701  23.845989  0.128365   \n",
              "\n",
              "    ADA-USD   XRP-USD  SHIB-USD  \n",
              "0  0.841923  0.689876  0.000024  \n",
              "1  0.841909  0.689850  0.000024  \n",
              "2  0.842479  0.690322  0.000024  \n",
              "3  0.844554  0.691489  0.000024  \n",
              "4  0.846691  0.693543  0.000024  "
            ],
            "text/html": [
              "\n",
              "  <div id=\"df-fbe7877e-b227-4ac6-a00f-beac82261f8d\">\n",
              "    <div class=\"colab-df-container\">\n",
              "      <div>\n",
              "<style scoped>\n",
              "    .dataframe tbody tr th:only-of-type {\n",
              "        vertical-align: middle;\n",
              "    }\n",
              "\n",
              "    .dataframe tbody tr th {\n",
              "        vertical-align: top;\n",
              "    }\n",
              "\n",
              "    .dataframe thead th {\n",
              "        text-align: right;\n",
              "    }\n",
              "</style>\n",
              "<table border=\"1\" class=\"dataframe\">\n",
              "  <thead>\n",
              "    <tr style=\"text-align: right;\">\n",
              "      <th></th>\n",
              "      <th>BTC-USD</th>\n",
              "      <th>Datetime</th>\n",
              "      <th>ETH-USD</th>\n",
              "      <th>ATOM-USD</th>\n",
              "      <th>DOGE-USD</th>\n",
              "      <th>ADA-USD</th>\n",
              "      <th>XRP-USD</th>\n",
              "      <th>SHIB-USD</th>\n",
              "    </tr>\n",
              "  </thead>\n",
              "  <tbody>\n",
              "    <tr>\n",
              "      <th>0</th>\n",
              "      <td>37071.628906</td>\n",
              "      <td>2022-02-22 09:28:00+00:00</td>\n",
              "      <td>2541.579834</td>\n",
              "      <td>23.736961</td>\n",
              "      <td>0.127906</td>\n",
              "      <td>0.841923</td>\n",
              "      <td>0.689876</td>\n",
              "      <td>0.000024</td>\n",
              "    </tr>\n",
              "    <tr>\n",
              "      <th>1</th>\n",
              "      <td>37068.906250</td>\n",
              "      <td>2022-02-22 09:30:00+00:00</td>\n",
              "      <td>2541.201660</td>\n",
              "      <td>23.733599</td>\n",
              "      <td>0.127918</td>\n",
              "      <td>0.841909</td>\n",
              "      <td>0.689850</td>\n",
              "      <td>0.000024</td>\n",
              "    </tr>\n",
              "    <tr>\n",
              "      <th>2</th>\n",
              "      <td>37093.632812</td>\n",
              "      <td>2022-02-22 09:32:00+00:00</td>\n",
              "      <td>2541.557373</td>\n",
              "      <td>23.750843</td>\n",
              "      <td>0.128060</td>\n",
              "      <td>0.842479</td>\n",
              "      <td>0.690322</td>\n",
              "      <td>0.000024</td>\n",
              "    </tr>\n",
              "    <tr>\n",
              "      <th>3</th>\n",
              "      <td>37149.937500</td>\n",
              "      <td>2022-02-22 09:34:00+00:00</td>\n",
              "      <td>2544.920654</td>\n",
              "      <td>23.806026</td>\n",
              "      <td>0.128187</td>\n",
              "      <td>0.844554</td>\n",
              "      <td>0.691489</td>\n",
              "      <td>0.000024</td>\n",
              "    </tr>\n",
              "    <tr>\n",
              "      <th>4</th>\n",
              "      <td>37223.550781</td>\n",
              "      <td>2022-02-22 09:36:00+00:00</td>\n",
              "      <td>2550.543701</td>\n",
              "      <td>23.845989</td>\n",
              "      <td>0.128365</td>\n",
              "      <td>0.846691</td>\n",
              "      <td>0.693543</td>\n",
              "      <td>0.000024</td>\n",
              "    </tr>\n",
              "  </tbody>\n",
              "</table>\n",
              "</div>\n",
              "      <button class=\"colab-df-convert\" onclick=\"convertToInteractive('df-fbe7877e-b227-4ac6-a00f-beac82261f8d')\"\n",
              "              title=\"Convert this dataframe to an interactive table.\"\n",
              "              style=\"display:none;\">\n",
              "        \n",
              "  <svg xmlns=\"http://www.w3.org/2000/svg\" height=\"24px\"viewBox=\"0 0 24 24\"\n",
              "       width=\"24px\">\n",
              "    <path d=\"M0 0h24v24H0V0z\" fill=\"none\"/>\n",
              "    <path d=\"M18.56 5.44l.94 2.06.94-2.06 2.06-.94-2.06-.94-.94-2.06-.94 2.06-2.06.94zm-11 1L8.5 8.5l.94-2.06 2.06-.94-2.06-.94L8.5 2.5l-.94 2.06-2.06.94zm10 10l.94 2.06.94-2.06 2.06-.94-2.06-.94-.94-2.06-.94 2.06-2.06.94z\"/><path d=\"M17.41 7.96l-1.37-1.37c-.4-.4-.92-.59-1.43-.59-.52 0-1.04.2-1.43.59L10.3 9.45l-7.72 7.72c-.78.78-.78 2.05 0 2.83L4 21.41c.39.39.9.59 1.41.59.51 0 1.02-.2 1.41-.59l7.78-7.78 2.81-2.81c.8-.78.8-2.07 0-2.86zM5.41 20L4 18.59l7.72-7.72 1.47 1.35L5.41 20z\"/>\n",
              "  </svg>\n",
              "      </button>\n",
              "      \n",
              "  <style>\n",
              "    .colab-df-container {\n",
              "      display:flex;\n",
              "      flex-wrap:wrap;\n",
              "      gap: 12px;\n",
              "    }\n",
              "\n",
              "    .colab-df-convert {\n",
              "      background-color: #E8F0FE;\n",
              "      border: none;\n",
              "      border-radius: 50%;\n",
              "      cursor: pointer;\n",
              "      display: none;\n",
              "      fill: #1967D2;\n",
              "      height: 32px;\n",
              "      padding: 0 0 0 0;\n",
              "      width: 32px;\n",
              "    }\n",
              "\n",
              "    .colab-df-convert:hover {\n",
              "      background-color: #E2EBFA;\n",
              "      box-shadow: 0px 1px 2px rgba(60, 64, 67, 0.3), 0px 1px 3px 1px rgba(60, 64, 67, 0.15);\n",
              "      fill: #174EA6;\n",
              "    }\n",
              "\n",
              "    [theme=dark] .colab-df-convert {\n",
              "      background-color: #3B4455;\n",
              "      fill: #D2E3FC;\n",
              "    }\n",
              "\n",
              "    [theme=dark] .colab-df-convert:hover {\n",
              "      background-color: #434B5C;\n",
              "      box-shadow: 0px 1px 3px 1px rgba(0, 0, 0, 0.15);\n",
              "      filter: drop-shadow(0px 1px 2px rgba(0, 0, 0, 0.3));\n",
              "      fill: #FFFFFF;\n",
              "    }\n",
              "  </style>\n",
              "\n",
              "      <script>\n",
              "        const buttonEl =\n",
              "          document.querySelector('#df-fbe7877e-b227-4ac6-a00f-beac82261f8d button.colab-df-convert');\n",
              "        buttonEl.style.display =\n",
              "          google.colab.kernel.accessAllowed ? 'block' : 'none';\n",
              "\n",
              "        async function convertToInteractive(key) {\n",
              "          const element = document.querySelector('#df-fbe7877e-b227-4ac6-a00f-beac82261f8d');\n",
              "          const dataTable =\n",
              "            await google.colab.kernel.invokeFunction('convertToInteractive',\n",
              "                                                     [key], {});\n",
              "          if (!dataTable) return;\n",
              "\n",
              "          const docLinkHtml = 'Like what you see? Visit the ' +\n",
              "            '<a target=\"_blank\" href=https://colab.research.google.com/notebooks/data_table.ipynb>data table notebook</a>'\n",
              "            + ' to learn more about interactive tables.';\n",
              "          element.innerHTML = '';\n",
              "          dataTable['output_type'] = 'display_data';\n",
              "          await google.colab.output.renderOutput(dataTable, element);\n",
              "          const docLink = document.createElement('div');\n",
              "          docLink.innerHTML = docLinkHtml;\n",
              "          element.appendChild(docLink);\n",
              "        }\n",
              "      </script>\n",
              "    </div>\n",
              "  </div>\n",
              "  "
            ]
          },
          "metadata": {},
          "execution_count": 286
        }
      ],
      "source": [
        "# Building the master dataframe\n",
        "\n",
        "series_test = coin_dataframes['ETH-USD']['Datetime'].astype(str)\n",
        "dataframes = []\n",
        "for name in coin_names:\n",
        "  coin_dataframes[name]['Datetime'] = coin_dataframes[name]['Datetime'].astype(str)\n",
        "  coin_dataframes[name][name] = coin_dataframes[name]['Close']\n",
        "  coin_dataframes[name] = coin_dataframes[name][[name, 'Datetime']]\n",
        "  dataframes.append(coin_dataframes[name])\n",
        "\n",
        "from functools import reduce\n",
        "full_data = reduce(lambda  left,right: pd.merge(left,right,on=['Datetime'],\n",
        "                                            how='outer'), dataframes)\n",
        "\n",
        "\n",
        "full_data['Datetime'] = pd.to_datetime(full_data['Datetime'])\n",
        "full_data = full_data.sort_values(by='Datetime')\n",
        "full_data.head()"
      ]
    },
    {
      "cell_type": "markdown",
      "source": [
        "### Data Preprocessing\n",
        "- Fill in the null values\n",
        "- Min Max Scaler\n",
        "- Visualize the Data"
      ],
      "metadata": {
        "id": "mQLdZg-y59hW"
      }
    },
    {
      "cell_type": "code",
      "execution_count": null,
      "metadata": {
        "id": "2tEBlFZWxXVo"
      },
      "outputs": [],
      "source": [
        "# fill null values with previous value (indicating no change)\n",
        "full_data = full_data.ffill()"
      ]
    },
    {
      "cell_type": "code",
      "execution_count": null,
      "metadata": {
        "id": "d431ahlmq8f7"
      },
      "outputs": [],
      "source": [
        "full_data.set_index(\"Datetime\", drop=True, inplace=True)"
      ]
    },
    {
      "cell_type": "code",
      "execution_count": null,
      "metadata": {
        "colab": {
          "base_uri": "https://localhost:8080/"
        },
        "id": "WOIRvCdVxumo",
        "outputId": "fc7c499b-80fb-411c-da36-08cea1293bf6"
      },
      "outputs": [
        {
          "output_type": "execute_result",
          "data": {
            "text/plain": [
              "(20126, 7)"
            ]
          },
          "metadata": {},
          "execution_count": 290
        }
      ],
      "source": [
        "full_data.shape"
      ]
    },
    {
      "cell_type": "code",
      "execution_count": null,
      "metadata": {
        "colab": {
          "base_uri": "https://localhost:8080/",
          "height": 380
        },
        "id": "GX_wWTVTomJc",
        "outputId": "796cbfae-b53c-40e9-a501-9715945805f2"
      },
      "outputs": [
        {
          "output_type": "stream",
          "name": "stdout",
          "text": [
            "BTC-USD     39968.968654\n",
            "ETH-USD      2708.503871\n",
            "ATOM-USD       28.344236\n",
            "DOGE-USD        0.121752\n",
            "ADA-USD         0.855788\n",
            "XRP-USD         0.757068\n",
            "SHIB-USD        0.000024\n",
            "dtype: float64\n"
          ]
        },
        {
          "output_type": "execute_result",
          "data": {
            "text/plain": [
              "                            BTC-USD   ETH-USD  ATOM-USD  DOGE-USD   ADA-USD  \\\n",
              "Datetime                                                                      \n",
              "2022-02-22 09:28:00+00:00 -1.529999 -1.127382 -2.068593  0.978676 -0.273813   \n",
              "2022-02-22 09:30:00+00:00 -1.531437 -1.129936 -2.070103  0.980548 -0.274086   \n",
              "2022-02-22 09:32:00+00:00 -1.518379 -1.127534 -2.062361  1.003149 -0.262839   \n",
              "2022-02-22 09:34:00+00:00 -1.488646 -1.104819 -2.037584  1.023305 -0.221859   \n",
              "2022-02-22 09:36:00+00:00 -1.449773 -1.066841 -2.019642  1.051613 -0.179652   \n",
              "\n",
              "                            XRP-USD  SHIB-USD  \n",
              "Datetime                                       \n",
              "2022-02-22 09:28:00+00:00 -1.776551  0.361026  \n",
              "2022-02-22 09:30:00+00:00 -1.777239  0.360221  \n",
              "2022-02-22 09:32:00+00:00 -1.764766  0.372236  \n",
              "2022-02-22 09:34:00+00:00 -1.733904  0.401412  \n",
              "2022-02-22 09:36:00+00:00 -1.679581  0.443408  "
            ],
            "text/html": [
              "\n",
              "  <div id=\"df-5cbbed2c-3a42-4550-8746-38525227254c\">\n",
              "    <div class=\"colab-df-container\">\n",
              "      <div>\n",
              "<style scoped>\n",
              "    .dataframe tbody tr th:only-of-type {\n",
              "        vertical-align: middle;\n",
              "    }\n",
              "\n",
              "    .dataframe tbody tr th {\n",
              "        vertical-align: top;\n",
              "    }\n",
              "\n",
              "    .dataframe thead th {\n",
              "        text-align: right;\n",
              "    }\n",
              "</style>\n",
              "<table border=\"1\" class=\"dataframe\">\n",
              "  <thead>\n",
              "    <tr style=\"text-align: right;\">\n",
              "      <th></th>\n",
              "      <th>BTC-USD</th>\n",
              "      <th>ETH-USD</th>\n",
              "      <th>ATOM-USD</th>\n",
              "      <th>DOGE-USD</th>\n",
              "      <th>ADA-USD</th>\n",
              "      <th>XRP-USD</th>\n",
              "      <th>SHIB-USD</th>\n",
              "    </tr>\n",
              "    <tr>\n",
              "      <th>Datetime</th>\n",
              "      <th></th>\n",
              "      <th></th>\n",
              "      <th></th>\n",
              "      <th></th>\n",
              "      <th></th>\n",
              "      <th></th>\n",
              "      <th></th>\n",
              "    </tr>\n",
              "  </thead>\n",
              "  <tbody>\n",
              "    <tr>\n",
              "      <th>2022-02-22 09:28:00+00:00</th>\n",
              "      <td>-1.529999</td>\n",
              "      <td>-1.127382</td>\n",
              "      <td>-2.068593</td>\n",
              "      <td>0.978676</td>\n",
              "      <td>-0.273813</td>\n",
              "      <td>-1.776551</td>\n",
              "      <td>0.361026</td>\n",
              "    </tr>\n",
              "    <tr>\n",
              "      <th>2022-02-22 09:30:00+00:00</th>\n",
              "      <td>-1.531437</td>\n",
              "      <td>-1.129936</td>\n",
              "      <td>-2.070103</td>\n",
              "      <td>0.980548</td>\n",
              "      <td>-0.274086</td>\n",
              "      <td>-1.777239</td>\n",
              "      <td>0.360221</td>\n",
              "    </tr>\n",
              "    <tr>\n",
              "      <th>2022-02-22 09:32:00+00:00</th>\n",
              "      <td>-1.518379</td>\n",
              "      <td>-1.127534</td>\n",
              "      <td>-2.062361</td>\n",
              "      <td>1.003149</td>\n",
              "      <td>-0.262839</td>\n",
              "      <td>-1.764766</td>\n",
              "      <td>0.372236</td>\n",
              "    </tr>\n",
              "    <tr>\n",
              "      <th>2022-02-22 09:34:00+00:00</th>\n",
              "      <td>-1.488646</td>\n",
              "      <td>-1.104819</td>\n",
              "      <td>-2.037584</td>\n",
              "      <td>1.023305</td>\n",
              "      <td>-0.221859</td>\n",
              "      <td>-1.733904</td>\n",
              "      <td>0.401412</td>\n",
              "    </tr>\n",
              "    <tr>\n",
              "      <th>2022-02-22 09:36:00+00:00</th>\n",
              "      <td>-1.449773</td>\n",
              "      <td>-1.066841</td>\n",
              "      <td>-2.019642</td>\n",
              "      <td>1.051613</td>\n",
              "      <td>-0.179652</td>\n",
              "      <td>-1.679581</td>\n",
              "      <td>0.443408</td>\n",
              "    </tr>\n",
              "  </tbody>\n",
              "</table>\n",
              "</div>\n",
              "      <button class=\"colab-df-convert\" onclick=\"convertToInteractive('df-5cbbed2c-3a42-4550-8746-38525227254c')\"\n",
              "              title=\"Convert this dataframe to an interactive table.\"\n",
              "              style=\"display:none;\">\n",
              "        \n",
              "  <svg xmlns=\"http://www.w3.org/2000/svg\" height=\"24px\"viewBox=\"0 0 24 24\"\n",
              "       width=\"24px\">\n",
              "    <path d=\"M0 0h24v24H0V0z\" fill=\"none\"/>\n",
              "    <path d=\"M18.56 5.44l.94 2.06.94-2.06 2.06-.94-2.06-.94-.94-2.06-.94 2.06-2.06.94zm-11 1L8.5 8.5l.94-2.06 2.06-.94-2.06-.94L8.5 2.5l-.94 2.06-2.06.94zm10 10l.94 2.06.94-2.06 2.06-.94-2.06-.94-.94-2.06-.94 2.06-2.06.94z\"/><path d=\"M17.41 7.96l-1.37-1.37c-.4-.4-.92-.59-1.43-.59-.52 0-1.04.2-1.43.59L10.3 9.45l-7.72 7.72c-.78.78-.78 2.05 0 2.83L4 21.41c.39.39.9.59 1.41.59.51 0 1.02-.2 1.41-.59l7.78-7.78 2.81-2.81c.8-.78.8-2.07 0-2.86zM5.41 20L4 18.59l7.72-7.72 1.47 1.35L5.41 20z\"/>\n",
              "  </svg>\n",
              "      </button>\n",
              "      \n",
              "  <style>\n",
              "    .colab-df-container {\n",
              "      display:flex;\n",
              "      flex-wrap:wrap;\n",
              "      gap: 12px;\n",
              "    }\n",
              "\n",
              "    .colab-df-convert {\n",
              "      background-color: #E8F0FE;\n",
              "      border: none;\n",
              "      border-radius: 50%;\n",
              "      cursor: pointer;\n",
              "      display: none;\n",
              "      fill: #1967D2;\n",
              "      height: 32px;\n",
              "      padding: 0 0 0 0;\n",
              "      width: 32px;\n",
              "    }\n",
              "\n",
              "    .colab-df-convert:hover {\n",
              "      background-color: #E2EBFA;\n",
              "      box-shadow: 0px 1px 2px rgba(60, 64, 67, 0.3), 0px 1px 3px 1px rgba(60, 64, 67, 0.15);\n",
              "      fill: #174EA6;\n",
              "    }\n",
              "\n",
              "    [theme=dark] .colab-df-convert {\n",
              "      background-color: #3B4455;\n",
              "      fill: #D2E3FC;\n",
              "    }\n",
              "\n",
              "    [theme=dark] .colab-df-convert:hover {\n",
              "      background-color: #434B5C;\n",
              "      box-shadow: 0px 1px 3px 1px rgba(0, 0, 0, 0.15);\n",
              "      filter: drop-shadow(0px 1px 2px rgba(0, 0, 0, 0.3));\n",
              "      fill: #FFFFFF;\n",
              "    }\n",
              "  </style>\n",
              "\n",
              "      <script>\n",
              "        const buttonEl =\n",
              "          document.querySelector('#df-5cbbed2c-3a42-4550-8746-38525227254c button.colab-df-convert');\n",
              "        buttonEl.style.display =\n",
              "          google.colab.kernel.accessAllowed ? 'block' : 'none';\n",
              "\n",
              "        async function convertToInteractive(key) {\n",
              "          const element = document.querySelector('#df-5cbbed2c-3a42-4550-8746-38525227254c');\n",
              "          const dataTable =\n",
              "            await google.colab.kernel.invokeFunction('convertToInteractive',\n",
              "                                                     [key], {});\n",
              "          if (!dataTable) return;\n",
              "\n",
              "          const docLinkHtml = 'Like what you see? Visit the ' +\n",
              "            '<a target=\"_blank\" href=https://colab.research.google.com/notebooks/data_table.ipynb>data table notebook</a>'\n",
              "            + ' to learn more about interactive tables.';\n",
              "          element.innerHTML = '';\n",
              "          dataTable['output_type'] = 'display_data';\n",
              "          await google.colab.output.renderOutput(dataTable, element);\n",
              "          const docLink = document.createElement('div');\n",
              "          docLink.innerHTML = docLinkHtml;\n",
              "          element.appendChild(docLink);\n",
              "        }\n",
              "      </script>\n",
              "    </div>\n",
              "  </div>\n",
              "  "
            ]
          },
          "metadata": {},
          "execution_count": 291
        }
      ],
      "source": [
        "# Standardize the data temporarily so that they can be displayed together\n",
        "# train_df and test_df will not actually be used later. \n",
        "\n",
        "training_set = full_data[:20000].copy()\n",
        "test_set = full_data[20000:].copy()\n",
        "\n",
        "train_mean = training_set.mean()\n",
        "train_std = training_set.std()\n",
        "print(train_mean)\n",
        "\n",
        "train_df = (test_set - train_mean) / train_std\n",
        "test_df = (test_set - train_mean) / train_std\n",
        "\n",
        "\n",
        "df_std = (full_data - train_mean) / train_std\n",
        "df_std.head()"
      ]
    },
    {
      "cell_type": "code",
      "source": [
        "# Displaying the distributions of the coin prices\n",
        "\n",
        "import plotly.graph_objects as go\n",
        "\n",
        "fig = go.Figure()\n",
        "\n",
        "\n",
        "for coin in coin_names:\n",
        "  fig.add_trace(go.Violin(y=df_std[coin],\n",
        "                          name=coin,\n",
        "                          box_visible=False,\n",
        "                          meanline_visible=True))\n",
        "fig.update_layout(\n",
        "    title_text=\"Standardized Prices of the 7 Cryptocurrencies\",\n",
        "    violingap=0, violingroupgap=0, violinmode='overlay',\n",
        "    xaxis_title=\"Coins\",\n",
        "    yaxis_title=\"Standardized Closing Price\",)\n",
        "fig.show()"
      ],
      "metadata": {
        "colab": {
          "base_uri": "https://localhost:8080/",
          "height": 542
        },
        "id": "_GygaXRW7EDB",
        "outputId": "d32b212d-6340-4431-b964-c2f0b6ea89e4"
      },
      "execution_count": null,
      "outputs": []
    },
    {
      "cell_type": "code",
      "source": [
        "# Viewing the trends in coin prices all together.\n",
        "# We can see that they tend to move together\n",
        "\n",
        "import plotly.express as px\n",
        "\n",
        "fig = px.area(df_std, labels={\n",
        "                     \"Datetime\": \"Date\",\n",
        "                     \"value\": \"Standardized Closing Price\"\n",
        "                 },\n",
        "                title=\"Standardized Coin Trends\")\n",
        "\n",
        "fig.show()"
      ],
      "metadata": {
        "colab": {
          "base_uri": "https://localhost:8080/",
          "height": 542
        },
        "id": "R7dox_9k-ZTd",
        "outputId": "c2dbc7b8-1dc4-4989-e99a-061f35352487"
      },
      "execution_count": null,
      "outputs": []
    },
    {
      "cell_type": "code",
      "execution_count": null,
      "metadata": {
        "id": "plYenGAqsCED"
      },
      "outputs": [],
      "source": [
        "# Apply a min-max scaler to the data\n",
        "\n",
        "scaler= MinMaxScaler(feature_range=(0,1))\n",
        "training_set = scaler.fit_transform(training_set)\n",
        "test_set = scaler.transform(test_set)"
      ]
    },
    {
      "cell_type": "markdown",
      "source": [
        "### Creating the datasets to be passed to the model\n",
        "Creating the training and testing dataset involves creating datasets that all have 100 time steps, all stored in the same vector."
      ],
      "metadata": {
        "id": "FWrI6WWI644o"
      }
    },
    {
      "cell_type": "code",
      "execution_count": null,
      "metadata": {
        "colab": {
          "base_uri": "https://localhost:8080/"
        },
        "id": "zlSMHL1YnCOf",
        "outputId": "ad5ed086-d92f-45f5-e22f-0b7eaf9edacd"
      },
      "outputs": [
        {
          "output_type": "execute_result",
          "data": {
            "text/plain": [
              "((19899, 100, 7), (19899, 1))"
            ]
          },
          "metadata": {},
          "execution_count": 295
        }
      ],
      "source": [
        "target_index = list(full_data.columns).index(\"SHIB-USD\")\n",
        "X_train = []\n",
        "y_train = []\n",
        "\n",
        "past_window = 100 # number of days to look behind\n",
        "future_window = 1 #number of days to look in the future\n",
        "\n",
        "for i in range(past_window, len(training_set) - future_window):\n",
        "  \n",
        "  y_train.append(training_set[i+1:i+1+future_window, target_index])\n",
        "  X_train.append(training_set[i-past_window:i, :])\n",
        "\n",
        "X_train, y_train = np.array(X_train), np.array(y_train)\n",
        "X_train.shape, y_train.shape\n",
        "\n"
      ]
    },
    {
      "cell_type": "markdown",
      "source": [
        "### Building the Models\n",
        "Model 0"
      ],
      "metadata": {
        "id": "F44T-nHM8xHD"
      }
    },
    {
      "cell_type": "code",
      "execution_count": null,
      "metadata": {
        "colab": {
          "base_uri": "https://localhost:8080/"
        },
        "id": "QJnhuLjm7T5g",
        "outputId": "67fc6d1c-3c2f-44e9-ddde-39a836060765"
      },
      "outputs": [
        {
          "output_type": "stream",
          "name": "stdout",
          "text": [
            "Epoch 1/25\n",
            "622/622 [==============================] - 17s 15ms/step - loss: 0.0019\n",
            "Epoch 2/25\n",
            "622/622 [==============================] - 9s 15ms/step - loss: 9.1388e-04\n",
            "Epoch 3/25\n",
            "622/622 [==============================] - 9s 15ms/step - loss: 6.9069e-04\n",
            "Epoch 4/25\n",
            "622/622 [==============================] - 10s 15ms/step - loss: 5.7317e-04\n",
            "Epoch 5/25\n",
            "622/622 [==============================] - 10s 15ms/step - loss: 4.6305e-04\n",
            "Epoch 6/25\n",
            "622/622 [==============================] - 10s 16ms/step - loss: 4.1923e-04\n",
            "Epoch 7/25\n",
            "622/622 [==============================] - 10s 15ms/step - loss: 3.8268e-04\n",
            "Epoch 8/25\n",
            "622/622 [==============================] - 9s 15ms/step - loss: 3.5761e-04\n",
            "Epoch 9/25\n",
            "622/622 [==============================] - 9s 15ms/step - loss: 3.3281e-04\n",
            "Epoch 10/25\n",
            "622/622 [==============================] - 9s 15ms/step - loss: 3.3551e-04\n",
            "Epoch 11/25\n",
            "622/622 [==============================] - 10s 15ms/step - loss: 3.2623e-04\n",
            "Epoch 12/25\n",
            "622/622 [==============================] - 9s 15ms/step - loss: 3.2149e-04\n",
            "Epoch 13/25\n",
            "622/622 [==============================] - 9s 15ms/step - loss: 3.2976e-04\n",
            "Epoch 14/25\n",
            "622/622 [==============================] - 10s 15ms/step - loss: 3.2256e-04\n",
            "Epoch 15/25\n",
            "622/622 [==============================] - 10s 15ms/step - loss: 3.1185e-04\n",
            "Epoch 16/25\n",
            "622/622 [==============================] - 9s 15ms/step - loss: 3.2199e-04\n",
            "Epoch 17/25\n",
            "622/622 [==============================] - 9s 15ms/step - loss: 3.0340e-04\n",
            "Epoch 18/25\n",
            "622/622 [==============================] - 9s 15ms/step - loss: 2.9605e-04\n",
            "Epoch 19/25\n",
            "622/622 [==============================] - 10s 15ms/step - loss: 3.0679e-04\n",
            "Epoch 20/25\n",
            "622/622 [==============================] - 9s 15ms/step - loss: 3.0939e-04\n",
            "Epoch 21/25\n",
            "622/622 [==============================] - 10s 15ms/step - loss: 2.9891e-04\n",
            "Epoch 22/25\n",
            "622/622 [==============================] - 10s 15ms/step - loss: 2.9439e-04\n",
            "Epoch 23/25\n",
            "622/622 [==============================] - 9s 15ms/step - loss: 3.1069e-04\n",
            "Epoch 24/25\n",
            "622/622 [==============================] - 9s 15ms/step - loss: 2.9145e-04\n",
            "Epoch 25/25\n",
            "622/622 [==============================] - 9s 15ms/step - loss: 3.1068e-04\n"
          ]
        },
        {
          "output_type": "execute_result",
          "data": {
            "text/plain": [
              "<keras.callbacks.History at 0x7f5cdb2a2950>"
            ]
          },
          "metadata": {},
          "execution_count": 296
        }
      ],
      "source": [
        "multi_lstm_model = tf.keras.Sequential([\n",
        "    Bidirectional(LSTM(units=60, return_sequences=True, input_shape=(past_window, X_train.shape[2]))),\n",
        "    Dropout(.2),\n",
        "    LSTM(units=60, return_sequences=False), \n",
        "    Dropout(.2),\n",
        "\n",
        "    Dense(units=1, activation='relu')\n",
        "])\n",
        "\n",
        "multi_lstm_model.compile(optimizer='adam', loss='mean_squared_error')\n",
        "\n",
        "multi_lstm_model.fit(x = X_train, y = y_train, epochs=25, batch_size=32)"
      ]
    },
    {
      "cell_type": "markdown",
      "source": [
        "Model 1"
      ],
      "metadata": {
        "id": "8ks43nLp84fX"
      }
    },
    {
      "cell_type": "code",
      "source": [
        "multi_lstm_model_1 = tf.keras.Sequential([\n",
        "    Bidirectional(LSTM(units=30, return_sequences=True, input_shape=(past_window, X_train.shape[2]))),\n",
        "    Dropout(.2),\n",
        "    Bidirectional(LSTM(units=30, return_sequences=True)), \n",
        "    Dropout(.2),\n",
        "    LSTM(units=30, return_sequences=False), \n",
        "    Dropout(.2),\n",
        "\n",
        "    Dense(units=1, activation='relu')\n",
        "])\n",
        "\n",
        "multi_lstm_model_1.compile(optimizer='adam', loss='mean_squared_error')\n",
        "\n",
        "multi_lstm_model_1.fit(x = X_train, y = y_train, epochs=25, batch_size=32)"
      ],
      "metadata": {
        "colab": {
          "base_uri": "https://localhost:8080/"
        },
        "id": "kb5rM8yZj0S6",
        "outputId": "bda9d693-19c9-4396-e65e-2c3be1c3a4fb"
      },
      "execution_count": null,
      "outputs": [
        {
          "output_type": "stream",
          "name": "stdout",
          "text": [
            "Epoch 1/25\n",
            "622/622 [==============================] - 23s 22ms/step - loss: 0.0049\n",
            "Epoch 2/25\n",
            "622/622 [==============================] - 14s 22ms/step - loss: 0.0015\n",
            "Epoch 3/25\n",
            "622/622 [==============================] - 14s 22ms/step - loss: 0.0010\n",
            "Epoch 4/25\n",
            "622/622 [==============================] - 14s 22ms/step - loss: 8.3160e-04\n",
            "Epoch 5/25\n",
            "622/622 [==============================] - 13s 22ms/step - loss: 7.0061e-04\n",
            "Epoch 6/25\n",
            "622/622 [==============================] - 14s 23ms/step - loss: 6.1841e-04\n",
            "Epoch 7/25\n",
            "622/622 [==============================] - 14s 23ms/step - loss: 6.1416e-04\n",
            "Epoch 8/25\n",
            "622/622 [==============================] - 14s 23ms/step - loss: 6.0104e-04\n",
            "Epoch 9/25\n",
            "622/622 [==============================] - 14s 23ms/step - loss: 5.6537e-04\n",
            "Epoch 10/25\n",
            "622/622 [==============================] - 13s 22ms/step - loss: 5.8535e-04\n",
            "Epoch 11/25\n",
            "622/622 [==============================] - 14s 22ms/step - loss: 5.7414e-04\n",
            "Epoch 12/25\n",
            "622/622 [==============================] - 14s 22ms/step - loss: 5.6146e-04\n",
            "Epoch 13/25\n",
            "622/622 [==============================] - 14s 22ms/step - loss: 5.2921e-04\n",
            "Epoch 14/25\n",
            "622/622 [==============================] - 14s 22ms/step - loss: 5.4045e-04\n",
            "Epoch 15/25\n",
            "622/622 [==============================] - 14s 22ms/step - loss: 5.5451e-04\n",
            "Epoch 16/25\n",
            "622/622 [==============================] - 14s 22ms/step - loss: 5.2924e-04\n",
            "Epoch 17/25\n",
            "622/622 [==============================] - 14s 22ms/step - loss: 5.1277e-04\n",
            "Epoch 18/25\n",
            "622/622 [==============================] - 14s 22ms/step - loss: 5.3211e-04\n",
            "Epoch 19/25\n",
            "622/622 [==============================] - 14s 22ms/step - loss: 5.2273e-04\n",
            "Epoch 20/25\n",
            "622/622 [==============================] - 14s 22ms/step - loss: 5.1295e-04\n",
            "Epoch 21/25\n",
            "622/622 [==============================] - 14s 22ms/step - loss: 5.0646e-04\n",
            "Epoch 22/25\n",
            "622/622 [==============================] - 14s 22ms/step - loss: 5.1271e-04\n",
            "Epoch 23/25\n",
            "622/622 [==============================] - 14s 22ms/step - loss: 5.1474e-04\n",
            "Epoch 24/25\n",
            "622/622 [==============================] - 14s 22ms/step - loss: 5.0442e-04\n",
            "Epoch 25/25\n",
            "622/622 [==============================] - 14s 22ms/step - loss: 5.0841e-04\n"
          ]
        },
        {
          "output_type": "execute_result",
          "data": {
            "text/plain": [
              "<keras.callbacks.History at 0x7f5cb9fdec10>"
            ]
          },
          "metadata": {},
          "execution_count": 297
        }
      ]
    },
    {
      "cell_type": "markdown",
      "source": [
        "Model 2"
      ],
      "metadata": {
        "id": "Xsz9ykkT86vK"
      }
    },
    {
      "cell_type": "code",
      "source": [
        "multi_lstm_model_2 = tf.keras.Sequential([\n",
        "    Bidirectional(LSTM(units=30, return_sequences=True, input_shape=(past_window, X_train.shape[2]))),\n",
        "    Dropout(.2),\n",
        "    Bidirectional(LSTM(units=30, return_sequences=True)), \n",
        "    Dropout(.2),\n",
        "    LSTM(units=30, return_sequences=False), \n",
        "    Dropout(.2),\n",
        "\n",
        "    Dense(units=20, activation='relu'),\n",
        "    Dense(units=1, activation='relu')\n",
        "])\n",
        "\n",
        "multi_lstm_model_2.compile(optimizer='adam', loss='mean_squared_error')\n",
        "\n",
        "multi_lstm_model_2.fit(x = X_train, y = y_train, epochs=25, batch_size=32)"
      ],
      "metadata": {
        "colab": {
          "base_uri": "https://localhost:8080/"
        },
        "id": "UCEkx_cIkTf_",
        "outputId": "9bc6de52-cda4-4baf-f11d-7ee77d90525e"
      },
      "execution_count": null,
      "outputs": [
        {
          "output_type": "stream",
          "name": "stdout",
          "text": [
            "Epoch 1/25\n",
            "622/622 [==============================] - 23s 22ms/step - loss: 0.0030\n",
            "Epoch 2/25\n",
            "622/622 [==============================] - 14s 22ms/step - loss: 7.7991e-04\n",
            "Epoch 3/25\n",
            "622/622 [==============================] - 14s 22ms/step - loss: 5.4019e-04\n",
            "Epoch 4/25\n",
            "622/622 [==============================] - 14s 22ms/step - loss: 4.3866e-04\n",
            "Epoch 5/25\n",
            "622/622 [==============================] - 14s 22ms/step - loss: 4.0016e-04\n",
            "Epoch 6/25\n",
            "622/622 [==============================] - 14s 22ms/step - loss: 3.5883e-04\n",
            "Epoch 7/25\n",
            "622/622 [==============================] - 14s 22ms/step - loss: 3.3809e-04\n",
            "Epoch 8/25\n",
            "622/622 [==============================] - 14s 22ms/step - loss: 3.2226e-04\n",
            "Epoch 9/25\n",
            "622/622 [==============================] - 14s 22ms/step - loss: 2.9337e-04\n",
            "Epoch 10/25\n",
            "622/622 [==============================] - 14s 22ms/step - loss: 2.9536e-04\n",
            "Epoch 11/25\n",
            "622/622 [==============================] - 14s 22ms/step - loss: 2.7379e-04\n",
            "Epoch 12/25\n",
            "622/622 [==============================] - 14s 22ms/step - loss: 2.5908e-04\n",
            "Epoch 13/25\n",
            "622/622 [==============================] - 14s 22ms/step - loss: 2.5717e-04\n",
            "Epoch 14/25\n",
            "622/622 [==============================] - 14s 22ms/step - loss: 2.5296e-04\n",
            "Epoch 15/25\n",
            "622/622 [==============================] - 14s 22ms/step - loss: 2.3591e-04\n",
            "Epoch 16/25\n",
            "622/622 [==============================] - 14s 22ms/step - loss: 2.2819e-04\n",
            "Epoch 17/25\n",
            "622/622 [==============================] - 14s 22ms/step - loss: 2.1599e-04\n",
            "Epoch 18/25\n",
            "622/622 [==============================] - 14s 22ms/step - loss: 2.1554e-04\n",
            "Epoch 19/25\n",
            "622/622 [==============================] - 14s 22ms/step - loss: 2.0908e-04\n",
            "Epoch 20/25\n",
            "622/622 [==============================] - 14s 22ms/step - loss: 2.0419e-04\n",
            "Epoch 21/25\n",
            "622/622 [==============================] - 14s 22ms/step - loss: 1.9905e-04\n",
            "Epoch 22/25\n",
            "622/622 [==============================] - 14s 22ms/step - loss: 1.9128e-04\n",
            "Epoch 23/25\n",
            "622/622 [==============================] - 14s 22ms/step - loss: 1.7871e-04\n",
            "Epoch 24/25\n",
            "622/622 [==============================] - 14s 22ms/step - loss: 1.7887e-04\n",
            "Epoch 25/25\n",
            "622/622 [==============================] - 14s 22ms/step - loss: 1.6873e-04\n"
          ]
        },
        {
          "output_type": "execute_result",
          "data": {
            "text/plain": [
              "<keras.callbacks.History at 0x7f5cb6ff5850>"
            ]
          },
          "metadata": {},
          "execution_count": 298
        }
      ]
    },
    {
      "cell_type": "markdown",
      "source": [
        "### Evaluating the Model"
      ],
      "metadata": {
        "id": "8OHpKP6p8-Kp"
      }
    },
    {
      "cell_type": "code",
      "execution_count": null,
      "metadata": {
        "colab": {
          "base_uri": "https://localhost:8080/"
        },
        "id": "j6_GLGLQ4Lvi",
        "outputId": "18ce78c6-63fa-4395-8475-2d0aa3b7910d"
      },
      "outputs": [
        {
          "output_type": "execute_result",
          "data": {
            "text/plain": [
              "(125, 100, 7)"
            ]
          },
          "metadata": {},
          "execution_count": 299
        }
      ],
      "source": [
        "# Prepare X-test to produce predictions\n",
        "X_test = []\n",
        "\n",
        "inputs = full_data[full_data.shape[0] - test_set.shape[0] - past_window: ]\n",
        "input_index = inputs.index[100:]\n",
        "inputs = scaler.transform(inputs)\n",
        "\n",
        "for i in range(past_window, len(inputs)-future_window):\n",
        "    X_test.append(inputs[i-past_window:i])\n",
        "\n",
        "X_test = np.array(X_test)\n",
        "X_test.shape"
      ]
    },
    {
      "cell_type": "code",
      "execution_count": null,
      "metadata": {
        "colab": {
          "base_uri": "https://localhost:8080/"
        },
        "id": "WlM3_FBX4-rT",
        "outputId": "3f308936-be24-45aa-86ac-c596f7957098"
      },
      "outputs": [
        {
          "output_type": "execute_result",
          "data": {
            "text/plain": [
              "(125, 1)"
            ]
          },
          "metadata": {},
          "execution_count": 300
        }
      ],
      "source": [
        "# Y-value predictions\n",
        "y_reals = []\n",
        "\n",
        "outputs = full_data[20000:]\n",
        "outputs = outputs['SHIB-USD']\n",
        "\n",
        "for i in range(0 , len(outputs) - future_window):\n",
        "\n",
        "  y_reals.append(outputs[i: i+future_window])\n",
        "\n",
        "y_reals = np.array(y_reals)\n",
        "y_reals.shape\n"
      ]
    },
    {
      "cell_type": "code",
      "execution_count": null,
      "metadata": {
        "id": "a_Hgm8slAuD0"
      },
      "outputs": [],
      "source": [
        "# Undoing the Min-Max Transformation\n",
        "\n",
        "def unscale_y(y_pred):\n",
        "    t = np.zeros(shape=(len(y_pred), X_train.shape[2]))\n",
        "    t[:, target_index] = y_pred\n",
        "    t = scaler.inverse_transform(t)[:, target_index]\n",
        "    return t\n",
        "\n",
        "y_pred_0 = multi_lstm_model.predict(X_test)\n",
        "y_pred_0 = np.array([unscale_y(i) for i in y_pred_0])\n",
        "\n",
        "y_pred_1 = multi_lstm_model_1.predict(X_test)\n",
        "y_pred_1 = np.array([unscale_y(i) for i in y_pred_1])\n",
        "\n",
        "y_pred_2 = multi_lstm_model_2.predict(X_test)\n",
        "y_pred_2 = np.array([unscale_y(i) for i in y_pred_2])\n"
      ]
    },
    {
      "cell_type": "code",
      "execution_count": null,
      "metadata": {
        "colab": {
          "base_uri": "https://localhost:8080/"
        },
        "id": "ybUOfn5kcRrm",
        "outputId": "f14b56e8-b8f7-487d-a9af-d8bd090e7d39"
      },
      "outputs": [
        {
          "output_type": "execute_result",
          "data": {
            "text/plain": [
              "(125, 1)"
            ]
          },
          "metadata": {},
          "execution_count": 302
        }
      ],
      "source": [
        "# Buidling a Naive Model for Comparison\n",
        "naive_predictions = full_data[19999:-2]['SHIB-USD'].values\n",
        "naive_predictions = naive_predictions.reshape(125, 1)\n",
        "naive_predictions.shape"
      ]
    },
    {
      "cell_type": "markdown",
      "source": [
        "# Results"
      ],
      "metadata": {
        "id": "6vK9UO0fI71u"
      }
    },
    {
      "cell_type": "code",
      "execution_count": null,
      "metadata": {
        "colab": {
          "base_uri": "https://localhost:8080/"
        },
        "id": "C8VPs6C2tJBk",
        "outputId": "67614542-4c0d-4fed-9eec-b27b62d2d25c"
      },
      "outputs": [
        {
          "output_type": "execute_result",
          "data": {
            "text/plain": [
              "(1.829856597103712e-15,\n",
              " 1.185950830695644e-15,\n",
              " 6.341972960957398e-15,\n",
              " 4.228821839630876e-16)"
            ]
          },
          "metadata": {},
          "execution_count": 303
        }
      ],
      "source": [
        "mse_naive = (np.square(y_reals - naive_predictions)).mean()\n",
        "mse_lstm_0 = (np.square(y_reals - y_pred_0)).mean()\n",
        "mse_lstm_1 = (np.square(y_reals - y_pred_1)).mean()\n",
        "mse_lstm_2 = (np.square(y_reals - y_pred_2)).mean()\n",
        "mse_lstm_0, mse_lstm_1, mse_lstm_2, mse_naive"
      ]
    },
    {
      "cell_type": "code",
      "execution_count": null,
      "metadata": {
        "colab": {
          "base_uri": "https://localhost:8080/"
        },
        "id": "iAo0_WSKMna2",
        "outputId": "26f9b4d4-07cd-4aa0-fff7-3b5ff4afb126"
      },
      "outputs": [
        {
          "output_type": "execute_result",
          "data": {
            "text/plain": [
              "(0.6451612903225806,\n",
              " 0.5645161290322581,\n",
              " 0.5161290322580645,\n",
              " 0.5564516129032258)"
            ]
          },
          "metadata": {},
          "execution_count": 304
        }
      ],
      "source": [
        "# predicting the general direction of the movement\n",
        "def predict_percent(predictions):\n",
        "  correct, total = 0, 0\n",
        "  for i in range(predictions.shape[0] - 1):\n",
        "    if (predictions[i] < predictions[i+1] and y_reals[i] < y_reals[i +1]) or \\\n",
        "    (predictions[i] > predictions[i+1] and y_reals[i] > y_reals[i +1]):\n",
        "      correct += 1\n",
        "    total += 1\n",
        "  return np.sum(correct) / np.sum(total)\n",
        "\n",
        "accuracy_naive = predict_percent(naive_predictions)\n",
        "accuracy_lstm_0 = predict_percent(y_pred_0)\n",
        "accuracy_lstm_1 = predict_percent(y_pred_1)\n",
        "accuracy_lstm_2 = predict_percent(y_pred_2)\n",
        "accuracy_naive, accuracy_lstm_0, accuracy_lstm_1, accuracy_lstm_2\n"
      ]
    },
    {
      "cell_type": "code",
      "execution_count": null,
      "metadata": {
        "colab": {
          "base_uri": "https://localhost:8080/"
        },
        "id": "E6ITcEcdnZam",
        "outputId": "390a7ee7-8cb8-43d2-a8e8-b311cbef4568"
      },
      "outputs": [
        {
          "output_type": "stream",
          "name": "stdout",
          "text": [
            "0.9606069916115946\n",
            "0.8295422247309017\n",
            "0.8895243810368049\n",
            "0.409222228969944\n"
          ]
        }
      ],
      "source": [
        "# calculate r-squared\n",
        "def r_squared(predictions):\n",
        "  rss = np.sum(np.square(y_reals - predictions))\n",
        "  tss = np.sum(np.square(y_reals - np.mean(y_reals)))\n",
        "  return 1 - (rss/tss)\n",
        "\n",
        "print(r_squared(naive_predictions))\n",
        "print(r_squared(y_pred_0))\n",
        "print(r_squared(y_pred_1))\n",
        "print(r_squared(y_pred_2))\n"
      ]
    },
    {
      "cell_type": "code",
      "execution_count": null,
      "metadata": {
        "colab": {
          "base_uri": "https://localhost:8080/"
        },
        "id": "bzpkwPmQnjl3",
        "outputId": "840f38a8-4eb9-4f10-8388-d5a01ed9b4f5"
      },
      "outputs": [
        {
          "output_type": "stream",
          "name": "stdout",
          "text": [
            "7.927466201196748e-13\n"
          ]
        },
        {
          "output_type": "execute_result",
          "data": {
            "text/plain": [
              "1.3418694118051768e-12"
            ]
          },
          "metadata": {},
          "execution_count": 306
        }
      ],
      "source": [
        "print(np.sum(np.square(y_reals - y_pred_2)))\n",
        "np.sum(np.square(y_reals - np.mean(y_reals)))"
      ]
    },
    {
      "cell_type": "code",
      "execution_count": null,
      "metadata": {
        "id": "_O7SvNAiNvYU",
        "colab": {
          "base_uri": "https://localhost:8080/",
          "height": 542
        },
        "outputId": "6b73ee48-0855-4a3e-edac-a284dfbc683d"
      },
      "outputs": [
        {
          "output_type": "display_data",
          "data": {
            "text/html": [
              "<html>\n",
              "<head><meta charset=\"utf-8\" /></head>\n",
              "<body>\n",
              "    <div>            <script src=\"https://cdnjs.cloudflare.com/ajax/libs/mathjax/2.7.5/MathJax.js?config=TeX-AMS-MML_SVG\"></script><script type=\"text/javascript\">if (window.MathJax) {MathJax.Hub.Config({SVG: {font: \"STIX-Web\"}});}</script>                <script type=\"text/javascript\">window.PlotlyConfig = {MathJaxConfig: 'local'};</script>\n",
              "        <script src=\"https://cdn.plot.ly/plotly-2.8.3.min.js\"></script>                <div id=\"4b3716eb-f443-4832-9cee-e7fa55445e38\" class=\"plotly-graph-div\" style=\"height:525px; width:100%;\"></div>            <script type=\"text/javascript\">                                    window.PLOTLYENV=window.PLOTLYENV || {};                                    if (document.getElementById(\"4b3716eb-f443-4832-9cee-e7fa55445e38\")) {                    Plotly.newPlot(                        \"4b3716eb-f443-4832-9cee-e7fa55445e38\",                        [{\"mode\":\"lines\",\"name\":\"LSTM 0: MSE 1.8e-15\",\"x\":[\"2022-03-22T05:16:00+00:00\",\"2022-03-22T05:18:00+00:00\",\"2022-03-22T05:20:00+00:00\",\"2022-03-22T05:22:00+00:00\",\"2022-03-22T05:24:00+00:00\",\"2022-03-22T05:26:00+00:00\",\"2022-03-22T05:28:00+00:00\",\"2022-03-22T05:30:00+00:00\",\"2022-03-22T05:32:00+00:00\",\"2022-03-22T05:34:00+00:00\",\"2022-03-22T05:36:00+00:00\",\"2022-03-22T05:38:00+00:00\",\"2022-03-22T05:40:00+00:00\",\"2022-03-22T05:42:00+00:00\",\"2022-03-22T05:44:00+00:00\",\"2022-03-22T05:46:00+00:00\",\"2022-03-22T05:48:00+00:00\",\"2022-03-22T05:50:00+00:00\",\"2022-03-22T05:52:00+00:00\",\"2022-03-22T05:54:00+00:00\",\"2022-03-22T05:56:00+00:00\",\"2022-03-22T05:58:00+00:00\",\"2022-03-22T06:00:00+00:00\",\"2022-03-22T06:02:00+00:00\",\"2022-03-22T06:04:00+00:00\",\"2022-03-22T06:06:00+00:00\",\"2022-03-22T06:08:00+00:00\",\"2022-03-22T06:10:00+00:00\",\"2022-03-22T06:12:00+00:00\",\"2022-03-22T06:14:00+00:00\",\"2022-03-22T06:16:00+00:00\",\"2022-03-22T06:18:00+00:00\",\"2022-03-22T06:20:00+00:00\",\"2022-03-22T06:22:00+00:00\",\"2022-03-22T06:24:00+00:00\",\"2022-03-22T06:26:00+00:00\",\"2022-03-22T06:28:00+00:00\",\"2022-03-22T06:30:00+00:00\",\"2022-03-22T06:32:00+00:00\",\"2022-03-22T06:34:00+00:00\",\"2022-03-22T06:36:00+00:00\",\"2022-03-22T06:38:00+00:00\",\"2022-03-22T06:40:00+00:00\",\"2022-03-22T06:42:00+00:00\",\"2022-03-22T06:44:00+00:00\",\"2022-03-22T06:46:00+00:00\",\"2022-03-22T06:48:00+00:00\",\"2022-03-22T06:50:00+00:00\",\"2022-03-22T06:52:00+00:00\",\"2022-03-22T06:54:00+00:00\",\"2022-03-22T06:56:00+00:00\",\"2022-03-22T06:58:00+00:00\",\"2022-03-22T07:00:00+00:00\",\"2022-03-22T07:02:00+00:00\",\"2022-03-22T07:04:00+00:00\",\"2022-03-22T07:06:00+00:00\",\"2022-03-22T07:08:00+00:00\",\"2022-03-22T07:10:00+00:00\",\"2022-03-22T07:12:00+00:00\",\"2022-03-22T07:14:00+00:00\",\"2022-03-22T07:16:00+00:00\",\"2022-03-22T07:18:00+00:00\",\"2022-03-22T07:20:00+00:00\",\"2022-03-22T07:22:00+00:00\",\"2022-03-22T07:24:00+00:00\",\"2022-03-22T07:26:00+00:00\",\"2022-03-22T07:28:00+00:00\",\"2022-03-22T07:30:00+00:00\",\"2022-03-22T07:32:00+00:00\",\"2022-03-22T07:34:00+00:00\",\"2022-03-22T07:36:00+00:00\",\"2022-03-22T07:38:00+00:00\",\"2022-03-22T07:40:00+00:00\",\"2022-03-22T07:42:00+00:00\",\"2022-03-22T07:44:00+00:00\",\"2022-03-22T07:46:00+00:00\",\"2022-03-22T07:48:00+00:00\",\"2022-03-22T07:50:00+00:00\",\"2022-03-22T07:52:00+00:00\",\"2022-03-22T07:54:00+00:00\",\"2022-03-22T07:56:00+00:00\",\"2022-03-22T07:58:00+00:00\",\"2022-03-22T08:00:00+00:00\",\"2022-03-22T08:02:00+00:00\",\"2022-03-22T08:04:00+00:00\",\"2022-03-22T08:06:00+00:00\",\"2022-03-22T08:08:00+00:00\",\"2022-03-22T08:10:00+00:00\",\"2022-03-22T08:12:00+00:00\",\"2022-03-22T08:14:00+00:00\",\"2022-03-22T08:16:00+00:00\",\"2022-03-22T08:18:00+00:00\",\"2022-03-22T08:20:00+00:00\",\"2022-03-22T08:22:00+00:00\",\"2022-03-22T08:24:00+00:00\",\"2022-03-22T08:26:00+00:00\",\"2022-03-22T08:28:00+00:00\",\"2022-03-22T08:30:00+00:00\",\"2022-03-22T08:32:00+00:00\",\"2022-03-22T08:34:00+00:00\",\"2022-03-22T08:36:00+00:00\",\"2022-03-22T08:38:00+00:00\",\"2022-03-22T08:40:00+00:00\",\"2022-03-22T08:42:00+00:00\",\"2022-03-22T08:44:00+00:00\",\"2022-03-22T08:46:00+00:00\",\"2022-03-22T08:48:00+00:00\",\"2022-03-22T08:50:00+00:00\",\"2022-03-22T08:52:00+00:00\",\"2022-03-22T08:54:00+00:00\",\"2022-03-22T08:56:00+00:00\",\"2022-03-22T08:58:00+00:00\",\"2022-03-22T09:00:00+00:00\",\"2022-03-22T09:02:00+00:00\",\"2022-03-22T09:04:00+00:00\",\"2022-03-22T09:06:00+00:00\",\"2022-03-22T09:08:00+00:00\",\"2022-03-22T09:10:00+00:00\",\"2022-03-22T09:12:00+00:00\",\"2022-03-22T09:14:00+00:00\",\"2022-03-22T09:16:00+00:00\",\"2022-03-22T09:18:00+00:00\",\"2022-03-22T09:20:00+00:00\",\"2022-03-22T09:22:00+00:00\",\"2022-03-22T09:24:00+00:00\",\"2022-03-22T09:26:00+00:00\"],\"y\":[2.3831047244154863e-05,2.3803064424936176e-05,2.374982463930687e-05,2.3726841446953415e-05,2.3725711140401554e-05,2.3711502355711114e-05,2.3705762425214495e-05,2.370110717663112e-05,2.3731039133055287e-05,2.375144124308859e-05,2.3756297634910476e-05,2.3759937515935426e-05,2.37633111070023e-05,2.3763491412064523e-05,2.375005824623055e-05,2.374350145922333e-05,2.37439487122913e-05,2.372710729821304e-05,2.371690470775182e-05,2.3713663164917862e-05,2.3715532678354987e-05,2.3721339949063408e-05,2.373310693819101e-05,2.373000928844807e-05,2.369464032280579e-05,2.3628201197615414e-05,2.3596507647572388e-05,2.3560418997125788e-05,2.3508765545085273e-05,2.3497158242192826e-05,2.350141471388676e-05,2.3515474341104804e-05,2.3509481720302006e-05,2.350473741593364e-05,2.347905864096505e-05,2.3458802398165782e-05,2.3442184500946896e-05,2.3411437662155147e-05,2.3404308812371438e-05,2.340633537985303e-05,2.3416400877049178e-05,2.3437798613210734e-05,2.345138115586633e-05,2.3465428280178598e-05,2.3471671617144558e-05,2.3468482060076715e-05,2.3458217613134294e-05,2.3456274837056315e-05,2.345365558797117e-05,2.344460523898422e-05,2.3432531599641306e-05,2.343245724025433e-05,2.3447893064504466e-05,2.3469820967740707e-05,2.3479748494274888e-05,2.348416794244234e-05,2.3487094719139694e-05,2.34922623675106e-05,2.3505364754714608e-05,2.352934532799011e-05,2.3541380581218802e-05,2.3549111983321153e-05,2.3574112969187232e-05,2.3582020508716547e-05,2.358501813521329e-05,2.3571173689584103e-05,2.3558022387503117e-05,2.3541685695989545e-05,2.3542143258471047e-05,2.354574606947712e-05,2.3539789202597854e-05,2.3538669644157976e-05,2.353991796059241e-05,2.3545838415500474e-05,2.3557972156530795e-05,2.3565933217270793e-05,2.357582433183377e-05,2.3585806915023205e-05,2.358725900688684e-05,2.3586953892116097e-05,2.3593683745661143e-05,2.3594718196602065e-05,2.3592025904225288e-05,2.3590233601715052e-05,2.3581938472106728e-05,2.3554636293530467e-05,2.354241634825507e-05,2.3545252095024417e-05,2.3563114579740926e-05,2.3606833073599112e-05,2.363639937486668e-05,2.3659476009989605e-05,2.3654580135307378e-05,2.364863928092147e-05,2.366211543920337e-05,2.368701662117248e-05,2.3698820022271283e-05,2.3699661884593433e-05,2.369198904873392e-05,2.3689871012625875e-05,2.369802861027068e-05,2.3724376181023596e-05,2.3739759800158392e-05,2.3745405629837865e-05,2.3746275568860702e-05,2.375018415268519e-05,2.3765470600113705e-05,2.3796570591156277e-05,2.380533271526274e-05,2.37752645429704e-05,2.3753092065349272e-05,2.3743043019344932e-05,2.371874680253593e-05,2.3717397146759957e-05,2.372236738082916e-05,2.3730504140297672e-05,2.3693412186499974e-05,2.3670940955235602e-05,2.36633837164172e-05,2.3645104468174872e-05,2.3640663304434234e-05,2.3656443287617004e-05,2.367028444300783e-05,2.367166064003992e-05,2.3639935723057847e-05],\"type\":\"scatter\"},{\"mode\":\"lines\",\"name\":\"LSTM 1: MSE 1.2e-15\",\"x\":[\"2022-03-22T05:16:00+00:00\",\"2022-03-22T05:18:00+00:00\",\"2022-03-22T05:20:00+00:00\",\"2022-03-22T05:22:00+00:00\",\"2022-03-22T05:24:00+00:00\",\"2022-03-22T05:26:00+00:00\",\"2022-03-22T05:28:00+00:00\",\"2022-03-22T05:30:00+00:00\",\"2022-03-22T05:32:00+00:00\",\"2022-03-22T05:34:00+00:00\",\"2022-03-22T05:36:00+00:00\",\"2022-03-22T05:38:00+00:00\",\"2022-03-22T05:40:00+00:00\",\"2022-03-22T05:42:00+00:00\",\"2022-03-22T05:44:00+00:00\",\"2022-03-22T05:46:00+00:00\",\"2022-03-22T05:48:00+00:00\",\"2022-03-22T05:50:00+00:00\",\"2022-03-22T05:52:00+00:00\",\"2022-03-22T05:54:00+00:00\",\"2022-03-22T05:56:00+00:00\",\"2022-03-22T05:58:00+00:00\",\"2022-03-22T06:00:00+00:00\",\"2022-03-22T06:02:00+00:00\",\"2022-03-22T06:04:00+00:00\",\"2022-03-22T06:06:00+00:00\",\"2022-03-22T06:08:00+00:00\",\"2022-03-22T06:10:00+00:00\",\"2022-03-22T06:12:00+00:00\",\"2022-03-22T06:14:00+00:00\",\"2022-03-22T06:16:00+00:00\",\"2022-03-22T06:18:00+00:00\",\"2022-03-22T06:20:00+00:00\",\"2022-03-22T06:22:00+00:00\",\"2022-03-22T06:24:00+00:00\",\"2022-03-22T06:26:00+00:00\",\"2022-03-22T06:28:00+00:00\",\"2022-03-22T06:30:00+00:00\",\"2022-03-22T06:32:00+00:00\",\"2022-03-22T06:34:00+00:00\",\"2022-03-22T06:36:00+00:00\",\"2022-03-22T06:38:00+00:00\",\"2022-03-22T06:40:00+00:00\",\"2022-03-22T06:42:00+00:00\",\"2022-03-22T06:44:00+00:00\",\"2022-03-22T06:46:00+00:00\",\"2022-03-22T06:48:00+00:00\",\"2022-03-22T06:50:00+00:00\",\"2022-03-22T06:52:00+00:00\",\"2022-03-22T06:54:00+00:00\",\"2022-03-22T06:56:00+00:00\",\"2022-03-22T06:58:00+00:00\",\"2022-03-22T07:00:00+00:00\",\"2022-03-22T07:02:00+00:00\",\"2022-03-22T07:04:00+00:00\",\"2022-03-22T07:06:00+00:00\",\"2022-03-22T07:08:00+00:00\",\"2022-03-22T07:10:00+00:00\",\"2022-03-22T07:12:00+00:00\",\"2022-03-22T07:14:00+00:00\",\"2022-03-22T07:16:00+00:00\",\"2022-03-22T07:18:00+00:00\",\"2022-03-22T07:20:00+00:00\",\"2022-03-22T07:22:00+00:00\",\"2022-03-22T07:24:00+00:00\",\"2022-03-22T07:26:00+00:00\",\"2022-03-22T07:28:00+00:00\",\"2022-03-22T07:30:00+00:00\",\"2022-03-22T07:32:00+00:00\",\"2022-03-22T07:34:00+00:00\",\"2022-03-22T07:36:00+00:00\",\"2022-03-22T07:38:00+00:00\",\"2022-03-22T07:40:00+00:00\",\"2022-03-22T07:42:00+00:00\",\"2022-03-22T07:44:00+00:00\",\"2022-03-22T07:46:00+00:00\",\"2022-03-22T07:48:00+00:00\",\"2022-03-22T07:50:00+00:00\",\"2022-03-22T07:52:00+00:00\",\"2022-03-22T07:54:00+00:00\",\"2022-03-22T07:56:00+00:00\",\"2022-03-22T07:58:00+00:00\",\"2022-03-22T08:00:00+00:00\",\"2022-03-22T08:02:00+00:00\",\"2022-03-22T08:04:00+00:00\",\"2022-03-22T08:06:00+00:00\",\"2022-03-22T08:08:00+00:00\",\"2022-03-22T08:10:00+00:00\",\"2022-03-22T08:12:00+00:00\",\"2022-03-22T08:14:00+00:00\",\"2022-03-22T08:16:00+00:00\",\"2022-03-22T08:18:00+00:00\",\"2022-03-22T08:20:00+00:00\",\"2022-03-22T08:22:00+00:00\",\"2022-03-22T08:24:00+00:00\",\"2022-03-22T08:26:00+00:00\",\"2022-03-22T08:28:00+00:00\",\"2022-03-22T08:30:00+00:00\",\"2022-03-22T08:32:00+00:00\",\"2022-03-22T08:34:00+00:00\",\"2022-03-22T08:36:00+00:00\",\"2022-03-22T08:38:00+00:00\",\"2022-03-22T08:40:00+00:00\",\"2022-03-22T08:42:00+00:00\",\"2022-03-22T08:44:00+00:00\",\"2022-03-22T08:46:00+00:00\",\"2022-03-22T08:48:00+00:00\",\"2022-03-22T08:50:00+00:00\",\"2022-03-22T08:52:00+00:00\",\"2022-03-22T08:54:00+00:00\",\"2022-03-22T08:56:00+00:00\",\"2022-03-22T08:58:00+00:00\",\"2022-03-22T09:00:00+00:00\",\"2022-03-22T09:02:00+00:00\",\"2022-03-22T09:04:00+00:00\",\"2022-03-22T09:06:00+00:00\",\"2022-03-22T09:08:00+00:00\",\"2022-03-22T09:10:00+00:00\",\"2022-03-22T09:12:00+00:00\",\"2022-03-22T09:14:00+00:00\",\"2022-03-22T09:16:00+00:00\",\"2022-03-22T09:18:00+00:00\",\"2022-03-22T09:20:00+00:00\",\"2022-03-22T09:22:00+00:00\",\"2022-03-22T09:24:00+00:00\",\"2022-03-22T09:26:00+00:00\"],\"y\":[2.3772831521376526e-05,2.3752418882580466e-05,2.3713426487105043e-05,2.3687881295813936e-05,2.3677512877339286e-05,2.3663218765800665e-05,2.3654364076321626e-05,2.3646887338668472e-05,2.3662478242820055e-05,2.3678340701311092e-05,2.368640244334496e-05,2.369210091683822e-05,2.36966679870335e-05,2.369888758183231e-05,2.369179229247989e-05,2.3686483821907105e-05,2.3685132191988114e-05,2.3673684794680046e-05,2.3664184779783663e-05,2.365898686121983e-05,2.3657931352753394e-05,2.3660685062912922e-05,2.3668594795934478e-05,2.3668899472006772e-05,2.3646412447598265e-05,2.3598758609310247e-05,2.3565863025519076e-05,2.3532348876915903e-05,2.348979710158078e-05,2.3468858902043743e-05,2.3461143293085528e-05,2.346404221243142e-05,2.345850364452254e-05,2.3453736527834867e-05,2.343619560908091e-05,2.3419959598861205e-05,2.3405117333611523e-05,2.3381278679284024e-05,2.337025155508936e-05,2.3367137234805386e-05,2.337147530441069e-05,2.3385222358984372e-05,2.3396953813537668e-05,2.3409233421802024e-05,2.341713679369608e-05,2.3418595904734888e-05,2.3413938682008496e-05,2.3412774156977675e-05,2.341089981785762e-05,2.3404531671183138e-05,2.3394924833214612e-05,2.3392368976055234e-05,2.3401069243680497e-05,2.341679395085879e-05,2.3427266560214895e-05,2.3433208072648474e-05,2.3436820315671185e-05,2.3441788136898922e-05,2.3452396523424753e-05,2.3470831290266977e-05,2.348355749355163e-05,2.3492709620578568e-05,2.3511860123939075e-05,2.3522362345440436e-05,2.352838041075323e-05,2.3521931104865827e-05,2.3512552609439604e-05,2.3499391436643532e-05,2.3495901590487876e-05,2.3496551302889702e-05,2.349220753020457e-05,2.3489730200067426e-05,2.348885543536166e-05,2.349151328991025e-05,2.3499582489817736e-05,2.350713972863614e-05,2.3516457464327283e-05,2.352627334210639e-05,2.353073534402332e-05,2.3532168352504457e-05,2.353719890761029e-05,2.3539262325761532e-05,2.353853123479756e-05,2.3537171050258828e-05,2.3531443622667984e-05,2.3512885362212585e-05,2.3500449796649883e-05,2.3497951408987223e-05,2.350721167518165e-05,2.3536480319552093e-05,2.3562142204630428e-05,2.3584108713330113e-05,2.358822502086984e-05,2.358807959233425e-05,2.359817382427876e-05,2.3617470414222527e-05,2.36309590754102e-05,2.363623683709161e-05,2.3633328705078305e-05,2.3631952508046213e-05,2.3637454225285444e-05,2.365605065250584e-05,2.3670876466563713e-05,2.367880659906311e-05,2.3681741491681758e-05,2.3685756021181494e-05,2.369669408959117e-05,2.3719545014362482e-05,2.373220585157835e-05,2.3718811949255493e-05,2.370305214620134e-05,2.3692453630390595e-05,2.3674299849904462e-05,2.366843181946096e-05,2.366832082875356e-05,2.3672092758011426e-05,2.3649154970947364e-05,2.362951685426165e-05,2.361834868851588e-05,2.3602579014746643e-05,2.3594800452561108e-05,2.3601224971986186e-05,2.3610365912202694e-05,2.3613602190655274e-05,2.3595061478137804e-05],\"type\":\"scatter\"},{\"mode\":\"lines\",\"name\":\"LSTM 2: MSE 6.3e-15\",\"x\":[\"2022-03-22T05:16:00+00:00\",\"2022-03-22T05:18:00+00:00\",\"2022-03-22T05:20:00+00:00\",\"2022-03-22T05:22:00+00:00\",\"2022-03-22T05:24:00+00:00\",\"2022-03-22T05:26:00+00:00\",\"2022-03-22T05:28:00+00:00\",\"2022-03-22T05:30:00+00:00\",\"2022-03-22T05:32:00+00:00\",\"2022-03-22T05:34:00+00:00\",\"2022-03-22T05:36:00+00:00\",\"2022-03-22T05:38:00+00:00\",\"2022-03-22T05:40:00+00:00\",\"2022-03-22T05:42:00+00:00\",\"2022-03-22T05:44:00+00:00\",\"2022-03-22T05:46:00+00:00\",\"2022-03-22T05:48:00+00:00\",\"2022-03-22T05:50:00+00:00\",\"2022-03-22T05:52:00+00:00\",\"2022-03-22T05:54:00+00:00\",\"2022-03-22T05:56:00+00:00\",\"2022-03-22T05:58:00+00:00\",\"2022-03-22T06:00:00+00:00\",\"2022-03-22T06:02:00+00:00\",\"2022-03-22T06:04:00+00:00\",\"2022-03-22T06:06:00+00:00\",\"2022-03-22T06:08:00+00:00\",\"2022-03-22T06:10:00+00:00\",\"2022-03-22T06:12:00+00:00\",\"2022-03-22T06:14:00+00:00\",\"2022-03-22T06:16:00+00:00\",\"2022-03-22T06:18:00+00:00\",\"2022-03-22T06:20:00+00:00\",\"2022-03-22T06:22:00+00:00\",\"2022-03-22T06:24:00+00:00\",\"2022-03-22T06:26:00+00:00\",\"2022-03-22T06:28:00+00:00\",\"2022-03-22T06:30:00+00:00\",\"2022-03-22T06:32:00+00:00\",\"2022-03-22T06:34:00+00:00\",\"2022-03-22T06:36:00+00:00\",\"2022-03-22T06:38:00+00:00\",\"2022-03-22T06:40:00+00:00\",\"2022-03-22T06:42:00+00:00\",\"2022-03-22T06:44:00+00:00\",\"2022-03-22T06:46:00+00:00\",\"2022-03-22T06:48:00+00:00\",\"2022-03-22T06:50:00+00:00\",\"2022-03-22T06:52:00+00:00\",\"2022-03-22T06:54:00+00:00\",\"2022-03-22T06:56:00+00:00\",\"2022-03-22T06:58:00+00:00\",\"2022-03-22T07:00:00+00:00\",\"2022-03-22T07:02:00+00:00\",\"2022-03-22T07:04:00+00:00\",\"2022-03-22T07:06:00+00:00\",\"2022-03-22T07:08:00+00:00\",\"2022-03-22T07:10:00+00:00\",\"2022-03-22T07:12:00+00:00\",\"2022-03-22T07:14:00+00:00\",\"2022-03-22T07:16:00+00:00\",\"2022-03-22T07:18:00+00:00\",\"2022-03-22T07:20:00+00:00\",\"2022-03-22T07:22:00+00:00\",\"2022-03-22T07:24:00+00:00\",\"2022-03-22T07:26:00+00:00\",\"2022-03-22T07:28:00+00:00\",\"2022-03-22T07:30:00+00:00\",\"2022-03-22T07:32:00+00:00\",\"2022-03-22T07:34:00+00:00\",\"2022-03-22T07:36:00+00:00\",\"2022-03-22T07:38:00+00:00\",\"2022-03-22T07:40:00+00:00\",\"2022-03-22T07:42:00+00:00\",\"2022-03-22T07:44:00+00:00\",\"2022-03-22T07:46:00+00:00\",\"2022-03-22T07:48:00+00:00\",\"2022-03-22T07:50:00+00:00\",\"2022-03-22T07:52:00+00:00\",\"2022-03-22T07:54:00+00:00\",\"2022-03-22T07:56:00+00:00\",\"2022-03-22T07:58:00+00:00\",\"2022-03-22T08:00:00+00:00\",\"2022-03-22T08:02:00+00:00\",\"2022-03-22T08:04:00+00:00\",\"2022-03-22T08:06:00+00:00\",\"2022-03-22T08:08:00+00:00\",\"2022-03-22T08:10:00+00:00\",\"2022-03-22T08:12:00+00:00\",\"2022-03-22T08:14:00+00:00\",\"2022-03-22T08:16:00+00:00\",\"2022-03-22T08:18:00+00:00\",\"2022-03-22T08:20:00+00:00\",\"2022-03-22T08:22:00+00:00\",\"2022-03-22T08:24:00+00:00\",\"2022-03-22T08:26:00+00:00\",\"2022-03-22T08:28:00+00:00\",\"2022-03-22T08:30:00+00:00\",\"2022-03-22T08:32:00+00:00\",\"2022-03-22T08:34:00+00:00\",\"2022-03-22T08:36:00+00:00\",\"2022-03-22T08:38:00+00:00\",\"2022-03-22T08:40:00+00:00\",\"2022-03-22T08:42:00+00:00\",\"2022-03-22T08:44:00+00:00\",\"2022-03-22T08:46:00+00:00\",\"2022-03-22T08:48:00+00:00\",\"2022-03-22T08:50:00+00:00\",\"2022-03-22T08:52:00+00:00\",\"2022-03-22T08:54:00+00:00\",\"2022-03-22T08:56:00+00:00\",\"2022-03-22T08:58:00+00:00\",\"2022-03-22T09:00:00+00:00\",\"2022-03-22T09:02:00+00:00\",\"2022-03-22T09:04:00+00:00\",\"2022-03-22T09:06:00+00:00\",\"2022-03-22T09:08:00+00:00\",\"2022-03-22T09:10:00+00:00\",\"2022-03-22T09:12:00+00:00\",\"2022-03-22T09:14:00+00:00\",\"2022-03-22T09:16:00+00:00\",\"2022-03-22T09:18:00+00:00\",\"2022-03-22T09:20:00+00:00\",\"2022-03-22T09:22:00+00:00\",\"2022-03-22T09:24:00+00:00\",\"2022-03-22T09:26:00+00:00\"],\"y\":[2.368952575694712e-05,2.3668712367118603e-05,2.362112214010558e-05,2.359952282200706e-05,2.3605813757754654e-05,2.3597300814366785e-05,2.358486239726417e-05,2.3577632646837368e-05,2.3606316506176323e-05,2.3628553253120117e-05,2.3627944778372424e-05,2.362498970562516e-05,2.363065944437006e-05,2.3634926444826753e-05,2.3621281387642285e-05,2.3610926349470306e-05,2.361271909067899e-05,2.3601618484494247e-05,2.359073832427974e-05,2.358831363795638e-05,2.3592439596861968e-05,2.359785072287164e-05,2.360681793850265e-05,2.3603960695509338e-05,2.356912935481536e-05,2.3507076994758043e-05,2.348273383721508e-05,2.346376714850438e-05,2.3421349395545192e-05,2.340485915957474e-05,2.3410352541543455e-05,2.342404168792197e-05,2.341427845395665e-05,2.340414144891344e-05,2.3385815259937152e-05,2.3373045625506125e-05,2.3361217437944995e-05,2.333328331425406e-05,2.332338408376979e-05,2.332810579516807e-05,2.3339341301125645e-05,2.3355852155923163e-05,2.3365042449715097e-05,2.3374521845784413e-05,2.3380646514820127e-05,2.337915976577908e-05,2.3369804082672166e-05,2.3367559262712582e-05,2.3367317759216832e-05,2.336008471855167e-05,2.33484763189131e-05,2.3348341199791047e-05,2.336430850721121e-05,2.3384558827581427e-05,2.3390912058508668e-05,2.339133540251121e-05,2.339443217485725e-05,2.3402138790497277e-05,2.3414520176801623e-05,2.3432902080480835e-05,2.3441456700221286e-05,2.3445857503704687e-05,2.3467142275015825e-05,2.3477340039794115e-05,2.347826525482143e-05,2.3464972911189337e-05,2.345334696361284e-05,2.3440681081364818e-05,2.3441141714735458e-05,2.3445853774767877e-05,2.3440577987229484e-05,2.343702365240194e-05,2.343837528232093e-05,2.344493470151884e-05,2.3455890537215667e-05,2.346292791837292e-05,2.3470040097615597e-05,2.3478244197295914e-05,2.3479852904505567e-05,2.3478481533156405e-05,2.3484395188238522e-05,2.3487303320251827e-05,2.348475228877538e-05,2.3482376517329e-05,2.347609106531201e-05,2.345344194182688e-05,2.34419298364977e-05,2.3447458094993048e-05,2.346579569012899e-05,2.3501501795528734e-05,2.3524166712157998e-05,2.3538483636015927e-05,2.353321881593874e-05,2.3528827883170423e-05,2.3543311731787903e-05,2.3568100168255816e-05,2.3577789700881833e-05,2.3574023913402242e-05,2.35657458930334e-05,2.3566362045003936e-05,2.3577611150613405e-05,2.360205893773627e-05,2.3614476736011817e-05,2.361455899197086e-05,2.3613538140681833e-05,2.3619500710640927e-05,2.3634273442186565e-05,2.3659973932728345e-05,2.3667470631160893e-05,2.363964749817736e-05,2.3619047973842355e-05,2.3616097288079572e-05,2.3599389896377248e-05,2.3593923713712324e-05,2.359796763600809e-05,2.3606080486411177e-05,2.3573755868650375e-05,2.354912295078236e-05,2.354699789549914e-05,2.353739983149958e-05,2.353067831322505e-05,2.3541637658509464e-05,2.355545051785038e-05,2.3555373526272715e-05,2.3525135797030134e-05],\"type\":\"scatter\"},{\"mode\":\"lines+markers\",\"name\":\"Real Values\",\"x\":[\"2022-03-22T05:16:00+00:00\",\"2022-03-22T05:18:00+00:00\",\"2022-03-22T05:20:00+00:00\",\"2022-03-22T05:22:00+00:00\",\"2022-03-22T05:24:00+00:00\",\"2022-03-22T05:26:00+00:00\",\"2022-03-22T05:28:00+00:00\",\"2022-03-22T05:30:00+00:00\",\"2022-03-22T05:32:00+00:00\",\"2022-03-22T05:34:00+00:00\",\"2022-03-22T05:36:00+00:00\",\"2022-03-22T05:38:00+00:00\",\"2022-03-22T05:40:00+00:00\",\"2022-03-22T05:42:00+00:00\",\"2022-03-22T05:44:00+00:00\",\"2022-03-22T05:46:00+00:00\",\"2022-03-22T05:48:00+00:00\",\"2022-03-22T05:50:00+00:00\",\"2022-03-22T05:52:00+00:00\",\"2022-03-22T05:54:00+00:00\",\"2022-03-22T05:56:00+00:00\",\"2022-03-22T05:58:00+00:00\",\"2022-03-22T06:00:00+00:00\",\"2022-03-22T06:02:00+00:00\",\"2022-03-22T06:04:00+00:00\",\"2022-03-22T06:06:00+00:00\",\"2022-03-22T06:08:00+00:00\",\"2022-03-22T06:10:00+00:00\",\"2022-03-22T06:12:00+00:00\",\"2022-03-22T06:14:00+00:00\",\"2022-03-22T06:16:00+00:00\",\"2022-03-22T06:18:00+00:00\",\"2022-03-22T06:20:00+00:00\",\"2022-03-22T06:22:00+00:00\",\"2022-03-22T06:24:00+00:00\",\"2022-03-22T06:26:00+00:00\",\"2022-03-22T06:28:00+00:00\",\"2022-03-22T06:30:00+00:00\",\"2022-03-22T06:32:00+00:00\",\"2022-03-22T06:34:00+00:00\",\"2022-03-22T06:36:00+00:00\",\"2022-03-22T06:38:00+00:00\",\"2022-03-22T06:40:00+00:00\",\"2022-03-22T06:42:00+00:00\",\"2022-03-22T06:44:00+00:00\",\"2022-03-22T06:46:00+00:00\",\"2022-03-22T06:48:00+00:00\",\"2022-03-22T06:50:00+00:00\",\"2022-03-22T06:52:00+00:00\",\"2022-03-22T06:54:00+00:00\",\"2022-03-22T06:56:00+00:00\",\"2022-03-22T06:58:00+00:00\",\"2022-03-22T07:00:00+00:00\",\"2022-03-22T07:02:00+00:00\",\"2022-03-22T07:04:00+00:00\",\"2022-03-22T07:06:00+00:00\",\"2022-03-22T07:08:00+00:00\",\"2022-03-22T07:10:00+00:00\",\"2022-03-22T07:12:00+00:00\",\"2022-03-22T07:14:00+00:00\",\"2022-03-22T07:16:00+00:00\",\"2022-03-22T07:18:00+00:00\",\"2022-03-22T07:20:00+00:00\",\"2022-03-22T07:22:00+00:00\",\"2022-03-22T07:24:00+00:00\",\"2022-03-22T07:26:00+00:00\",\"2022-03-22T07:28:00+00:00\",\"2022-03-22T07:30:00+00:00\",\"2022-03-22T07:32:00+00:00\",\"2022-03-22T07:34:00+00:00\",\"2022-03-22T07:36:00+00:00\",\"2022-03-22T07:38:00+00:00\",\"2022-03-22T07:40:00+00:00\",\"2022-03-22T07:42:00+00:00\",\"2022-03-22T07:44:00+00:00\",\"2022-03-22T07:46:00+00:00\",\"2022-03-22T07:48:00+00:00\",\"2022-03-22T07:50:00+00:00\",\"2022-03-22T07:52:00+00:00\",\"2022-03-22T07:54:00+00:00\",\"2022-03-22T07:56:00+00:00\",\"2022-03-22T07:58:00+00:00\",\"2022-03-22T08:00:00+00:00\",\"2022-03-22T08:02:00+00:00\",\"2022-03-22T08:04:00+00:00\",\"2022-03-22T08:06:00+00:00\",\"2022-03-22T08:08:00+00:00\",\"2022-03-22T08:10:00+00:00\",\"2022-03-22T08:12:00+00:00\",\"2022-03-22T08:14:00+00:00\",\"2022-03-22T08:16:00+00:00\",\"2022-03-22T08:18:00+00:00\",\"2022-03-22T08:20:00+00:00\",\"2022-03-22T08:22:00+00:00\",\"2022-03-22T08:24:00+00:00\",\"2022-03-22T08:26:00+00:00\",\"2022-03-22T08:28:00+00:00\",\"2022-03-22T08:30:00+00:00\",\"2022-03-22T08:32:00+00:00\",\"2022-03-22T08:34:00+00:00\",\"2022-03-22T08:36:00+00:00\",\"2022-03-22T08:38:00+00:00\",\"2022-03-22T08:40:00+00:00\",\"2022-03-22T08:42:00+00:00\",\"2022-03-22T08:44:00+00:00\",\"2022-03-22T08:46:00+00:00\",\"2022-03-22T08:48:00+00:00\",\"2022-03-22T08:50:00+00:00\",\"2022-03-22T08:52:00+00:00\",\"2022-03-22T08:54:00+00:00\",\"2022-03-22T08:56:00+00:00\",\"2022-03-22T08:58:00+00:00\",\"2022-03-22T09:00:00+00:00\",\"2022-03-22T09:02:00+00:00\",\"2022-03-22T09:04:00+00:00\",\"2022-03-22T09:06:00+00:00\",\"2022-03-22T09:08:00+00:00\",\"2022-03-22T09:10:00+00:00\",\"2022-03-22T09:12:00+00:00\",\"2022-03-22T09:14:00+00:00\",\"2022-03-22T09:16:00+00:00\",\"2022-03-22T09:18:00+00:00\",\"2022-03-22T09:20:00+00:00\",\"2022-03-22T09:22:00+00:00\",\"2022-03-22T09:24:00+00:00\",\"2022-03-22T09:26:00+00:00\"],\"y\":[2.3751341359457e-05,2.368944296904374e-05,2.3693119146628305e-05,2.369837784499396e-05,2.367002707615029e-05,2.367100205447059e-05,2.366493754379917e-05,2.371150185354054e-05,2.3716393116046675e-05,2.3711641915724613e-05,2.3720103854429908e-05,2.372424023633357e-05,2.372290509811137e-05,2.370233778492548e-05,2.3703538317931816e-05,2.3707740183454007e-05,2.3678661818848923e-05,2.3677102944930084e-05,2.367816887272056e-05,2.3680006052018143e-05,2.3686767235631123e-05,2.37007589021232e-05,2.368729474255815e-05,2.363466592214536e-05,2.3563816284877248e-05,2.3567754396935925e-05,2.352449155296199e-05,2.3470051019103263e-05,2.3484763005399145e-05,2.3487387807108465e-05,2.349768328713253e-05,2.3476181013393216e-05,2.347701411054004e-05,2.3444148609996773e-05,2.3432585294358432e-05,2.341783510928508e-05,2.337992009415757e-05,2.338953345315531e-05,2.3392136426991783e-05,2.3403150407830253e-05,2.3426719053532e-05,2.343059713894036e-05,2.344421045563649e-05,2.344731728953775e-05,2.344026870559901e-05,2.3429069187841375e-05,2.343451342312619e-05,2.343068808841053e-05,2.3419070203090087e-05,2.3408101696986705e-05,2.3416007024934515e-05,2.343592859688215e-05,2.345527900615707e-05,2.3455892005586065e-05,2.3459471776732244e-05,2.3464144760509956e-05,2.3471939130104147e-05,2.3487009457312524e-05,2.3512731786468063e-05,2.35149527725298e-05,2.352063893340528e-05,2.3555914594908245e-05,2.355007018195465e-05,2.3554703147965483e-05,2.353461059101392e-05,2.35261886700755e-05,2.350910108361859e-05,2.352082447032444e-05,2.3522130504716188e-05,2.350935938011389e-05,2.3512875486630943e-05,2.351369039388373e-05,2.352076808165293e-05,2.353511263208929e-05,2.353859781578649e-05,2.3549120669486e-05,2.3557988242828287e-05,2.355423021072056e-05,2.3555299776489846e-05,2.3567119569634087e-05,2.356291224714369e-05,2.3560223780805245e-05,2.3560643967357464e-05,2.354880780330859e-05,2.351288094359916e-05,2.3515414795838296e-05,2.352515184611548e-05,2.354673961235676e-05,2.359645986871328e-05,2.3608157789567485e-05,2.3627249902347103e-05,2.3610382413608025e-05,2.361101724090986e-05,2.363686144235544e-05,2.366259650443681e-05,2.366191438341048e-05,2.3658149075345136e-05,2.364867577853147e-05,2.365317050134763e-05,2.3666643755859692e-05,2.370085167058278e-05,2.370261245232541e-05,2.370447691646405e-05,2.370867514400743e-05,2.3710930690867823e-05,2.372807648498565e-05,2.376345219090581e-05,2.3755992515361868e-05,2.3712074835202657e-05,2.3706368665443733e-05,2.37030690186657e-05,2.366907574469224e-05,2.3684033294557597e-05,2.3687549401074648e-05,2.369288813497405e-05,2.363136991334613e-05,2.3628539565834217e-05,2.3628424969501797e-05,2.3602293367730454e-05,2.3607612092746425e-05,2.363070052524563e-05,2.3636443074792624e-05,2.3629425413673744e-05,2.358352139708586e-05,2.357783705519978e-05],\"type\":\"scatter\"}],                        {\"template\":{\"data\":{\"bar\":[{\"error_x\":{\"color\":\"#2a3f5f\"},\"error_y\":{\"color\":\"#2a3f5f\"},\"marker\":{\"line\":{\"color\":\"#E5ECF6\",\"width\":0.5},\"pattern\":{\"fillmode\":\"overlay\",\"size\":10,\"solidity\":0.2}},\"type\":\"bar\"}],\"barpolar\":[{\"marker\":{\"line\":{\"color\":\"#E5ECF6\",\"width\":0.5},\"pattern\":{\"fillmode\":\"overlay\",\"size\":10,\"solidity\":0.2}},\"type\":\"barpolar\"}],\"carpet\":[{\"aaxis\":{\"endlinecolor\":\"#2a3f5f\",\"gridcolor\":\"white\",\"linecolor\":\"white\",\"minorgridcolor\":\"white\",\"startlinecolor\":\"#2a3f5f\"},\"baxis\":{\"endlinecolor\":\"#2a3f5f\",\"gridcolor\":\"white\",\"linecolor\":\"white\",\"minorgridcolor\":\"white\",\"startlinecolor\":\"#2a3f5f\"},\"type\":\"carpet\"}],\"choropleth\":[{\"colorbar\":{\"outlinewidth\":0,\"ticks\":\"\"},\"type\":\"choropleth\"}],\"contour\":[{\"colorbar\":{\"outlinewidth\":0,\"ticks\":\"\"},\"colorscale\":[[0.0,\"#0d0887\"],[0.1111111111111111,\"#46039f\"],[0.2222222222222222,\"#7201a8\"],[0.3333333333333333,\"#9c179e\"],[0.4444444444444444,\"#bd3786\"],[0.5555555555555556,\"#d8576b\"],[0.6666666666666666,\"#ed7953\"],[0.7777777777777778,\"#fb9f3a\"],[0.8888888888888888,\"#fdca26\"],[1.0,\"#f0f921\"]],\"type\":\"contour\"}],\"contourcarpet\":[{\"colorbar\":{\"outlinewidth\":0,\"ticks\":\"\"},\"type\":\"contourcarpet\"}],\"heatmap\":[{\"colorbar\":{\"outlinewidth\":0,\"ticks\":\"\"},\"colorscale\":[[0.0,\"#0d0887\"],[0.1111111111111111,\"#46039f\"],[0.2222222222222222,\"#7201a8\"],[0.3333333333333333,\"#9c179e\"],[0.4444444444444444,\"#bd3786\"],[0.5555555555555556,\"#d8576b\"],[0.6666666666666666,\"#ed7953\"],[0.7777777777777778,\"#fb9f3a\"],[0.8888888888888888,\"#fdca26\"],[1.0,\"#f0f921\"]],\"type\":\"heatmap\"}],\"heatmapgl\":[{\"colorbar\":{\"outlinewidth\":0,\"ticks\":\"\"},\"colorscale\":[[0.0,\"#0d0887\"],[0.1111111111111111,\"#46039f\"],[0.2222222222222222,\"#7201a8\"],[0.3333333333333333,\"#9c179e\"],[0.4444444444444444,\"#bd3786\"],[0.5555555555555556,\"#d8576b\"],[0.6666666666666666,\"#ed7953\"],[0.7777777777777778,\"#fb9f3a\"],[0.8888888888888888,\"#fdca26\"],[1.0,\"#f0f921\"]],\"type\":\"heatmapgl\"}],\"histogram\":[{\"marker\":{\"pattern\":{\"fillmode\":\"overlay\",\"size\":10,\"solidity\":0.2}},\"type\":\"histogram\"}],\"histogram2d\":[{\"colorbar\":{\"outlinewidth\":0,\"ticks\":\"\"},\"colorscale\":[[0.0,\"#0d0887\"],[0.1111111111111111,\"#46039f\"],[0.2222222222222222,\"#7201a8\"],[0.3333333333333333,\"#9c179e\"],[0.4444444444444444,\"#bd3786\"],[0.5555555555555556,\"#d8576b\"],[0.6666666666666666,\"#ed7953\"],[0.7777777777777778,\"#fb9f3a\"],[0.8888888888888888,\"#fdca26\"],[1.0,\"#f0f921\"]],\"type\":\"histogram2d\"}],\"histogram2dcontour\":[{\"colorbar\":{\"outlinewidth\":0,\"ticks\":\"\"},\"colorscale\":[[0.0,\"#0d0887\"],[0.1111111111111111,\"#46039f\"],[0.2222222222222222,\"#7201a8\"],[0.3333333333333333,\"#9c179e\"],[0.4444444444444444,\"#bd3786\"],[0.5555555555555556,\"#d8576b\"],[0.6666666666666666,\"#ed7953\"],[0.7777777777777778,\"#fb9f3a\"],[0.8888888888888888,\"#fdca26\"],[1.0,\"#f0f921\"]],\"type\":\"histogram2dcontour\"}],\"mesh3d\":[{\"colorbar\":{\"outlinewidth\":0,\"ticks\":\"\"},\"type\":\"mesh3d\"}],\"parcoords\":[{\"line\":{\"colorbar\":{\"outlinewidth\":0,\"ticks\":\"\"}},\"type\":\"parcoords\"}],\"pie\":[{\"automargin\":true,\"type\":\"pie\"}],\"scatter\":[{\"marker\":{\"colorbar\":{\"outlinewidth\":0,\"ticks\":\"\"}},\"type\":\"scatter\"}],\"scatter3d\":[{\"line\":{\"colorbar\":{\"outlinewidth\":0,\"ticks\":\"\"}},\"marker\":{\"colorbar\":{\"outlinewidth\":0,\"ticks\":\"\"}},\"type\":\"scatter3d\"}],\"scattercarpet\":[{\"marker\":{\"colorbar\":{\"outlinewidth\":0,\"ticks\":\"\"}},\"type\":\"scattercarpet\"}],\"scattergeo\":[{\"marker\":{\"colorbar\":{\"outlinewidth\":0,\"ticks\":\"\"}},\"type\":\"scattergeo\"}],\"scattergl\":[{\"marker\":{\"colorbar\":{\"outlinewidth\":0,\"ticks\":\"\"}},\"type\":\"scattergl\"}],\"scattermapbox\":[{\"marker\":{\"colorbar\":{\"outlinewidth\":0,\"ticks\":\"\"}},\"type\":\"scattermapbox\"}],\"scatterpolar\":[{\"marker\":{\"colorbar\":{\"outlinewidth\":0,\"ticks\":\"\"}},\"type\":\"scatterpolar\"}],\"scatterpolargl\":[{\"marker\":{\"colorbar\":{\"outlinewidth\":0,\"ticks\":\"\"}},\"type\":\"scatterpolargl\"}],\"scatterternary\":[{\"marker\":{\"colorbar\":{\"outlinewidth\":0,\"ticks\":\"\"}},\"type\":\"scatterternary\"}],\"surface\":[{\"colorbar\":{\"outlinewidth\":0,\"ticks\":\"\"},\"colorscale\":[[0.0,\"#0d0887\"],[0.1111111111111111,\"#46039f\"],[0.2222222222222222,\"#7201a8\"],[0.3333333333333333,\"#9c179e\"],[0.4444444444444444,\"#bd3786\"],[0.5555555555555556,\"#d8576b\"],[0.6666666666666666,\"#ed7953\"],[0.7777777777777778,\"#fb9f3a\"],[0.8888888888888888,\"#fdca26\"],[1.0,\"#f0f921\"]],\"type\":\"surface\"}],\"table\":[{\"cells\":{\"fill\":{\"color\":\"#EBF0F8\"},\"line\":{\"color\":\"white\"}},\"header\":{\"fill\":{\"color\":\"#C8D4E3\"},\"line\":{\"color\":\"white\"}},\"type\":\"table\"}]},\"layout\":{\"annotationdefaults\":{\"arrowcolor\":\"#2a3f5f\",\"arrowhead\":0,\"arrowwidth\":1},\"autotypenumbers\":\"strict\",\"coloraxis\":{\"colorbar\":{\"outlinewidth\":0,\"ticks\":\"\"}},\"colorscale\":{\"diverging\":[[0,\"#8e0152\"],[0.1,\"#c51b7d\"],[0.2,\"#de77ae\"],[0.3,\"#f1b6da\"],[0.4,\"#fde0ef\"],[0.5,\"#f7f7f7\"],[0.6,\"#e6f5d0\"],[0.7,\"#b8e186\"],[0.8,\"#7fbc41\"],[0.9,\"#4d9221\"],[1,\"#276419\"]],\"sequential\":[[0.0,\"#0d0887\"],[0.1111111111111111,\"#46039f\"],[0.2222222222222222,\"#7201a8\"],[0.3333333333333333,\"#9c179e\"],[0.4444444444444444,\"#bd3786\"],[0.5555555555555556,\"#d8576b\"],[0.6666666666666666,\"#ed7953\"],[0.7777777777777778,\"#fb9f3a\"],[0.8888888888888888,\"#fdca26\"],[1.0,\"#f0f921\"]],\"sequentialminus\":[[0.0,\"#0d0887\"],[0.1111111111111111,\"#46039f\"],[0.2222222222222222,\"#7201a8\"],[0.3333333333333333,\"#9c179e\"],[0.4444444444444444,\"#bd3786\"],[0.5555555555555556,\"#d8576b\"],[0.6666666666666666,\"#ed7953\"],[0.7777777777777778,\"#fb9f3a\"],[0.8888888888888888,\"#fdca26\"],[1.0,\"#f0f921\"]]},\"colorway\":[\"#636efa\",\"#EF553B\",\"#00cc96\",\"#ab63fa\",\"#FFA15A\",\"#19d3f3\",\"#FF6692\",\"#B6E880\",\"#FF97FF\",\"#FECB52\"],\"font\":{\"color\":\"#2a3f5f\"},\"geo\":{\"bgcolor\":\"white\",\"lakecolor\":\"white\",\"landcolor\":\"#E5ECF6\",\"showlakes\":true,\"showland\":true,\"subunitcolor\":\"white\"},\"hoverlabel\":{\"align\":\"left\"},\"hovermode\":\"closest\",\"mapbox\":{\"style\":\"light\"},\"paper_bgcolor\":\"white\",\"plot_bgcolor\":\"#E5ECF6\",\"polar\":{\"angularaxis\":{\"gridcolor\":\"white\",\"linecolor\":\"white\",\"ticks\":\"\"},\"bgcolor\":\"#E5ECF6\",\"radialaxis\":{\"gridcolor\":\"white\",\"linecolor\":\"white\",\"ticks\":\"\"}},\"scene\":{\"xaxis\":{\"backgroundcolor\":\"#E5ECF6\",\"gridcolor\":\"white\",\"gridwidth\":2,\"linecolor\":\"white\",\"showbackground\":true,\"ticks\":\"\",\"zerolinecolor\":\"white\"},\"yaxis\":{\"backgroundcolor\":\"#E5ECF6\",\"gridcolor\":\"white\",\"gridwidth\":2,\"linecolor\":\"white\",\"showbackground\":true,\"ticks\":\"\",\"zerolinecolor\":\"white\"},\"zaxis\":{\"backgroundcolor\":\"#E5ECF6\",\"gridcolor\":\"white\",\"gridwidth\":2,\"linecolor\":\"white\",\"showbackground\":true,\"ticks\":\"\",\"zerolinecolor\":\"white\"}},\"shapedefaults\":{\"line\":{\"color\":\"#2a3f5f\"}},\"ternary\":{\"aaxis\":{\"gridcolor\":\"white\",\"linecolor\":\"white\",\"ticks\":\"\"},\"baxis\":{\"gridcolor\":\"white\",\"linecolor\":\"white\",\"ticks\":\"\"},\"bgcolor\":\"#E5ECF6\",\"caxis\":{\"gridcolor\":\"white\",\"linecolor\":\"white\",\"ticks\":\"\"}},\"title\":{\"x\":0.05},\"xaxis\":{\"automargin\":true,\"gridcolor\":\"white\",\"linecolor\":\"white\",\"ticks\":\"\",\"title\":{\"standoff\":15},\"zerolinecolor\":\"white\",\"zerolinewidth\":2},\"yaxis\":{\"automargin\":true,\"gridcolor\":\"white\",\"linecolor\":\"white\",\"ticks\":\"\",\"title\":{\"standoff\":15},\"zerolinecolor\":\"white\",\"zerolinewidth\":2}}},\"title\":{\"text\":\"Predictions of 4 Models\"},\"xaxis\":{\"title\":{\"text\":\"Date/Time\"}},\"yaxis\":{\"title\":{\"text\":\"Shiba Price\"}}},                        {\"responsive\": true}                    ).then(function(){\n",
              "                            \n",
              "var gd = document.getElementById('4b3716eb-f443-4832-9cee-e7fa55445e38');\n",
              "var x = new MutationObserver(function (mutations, observer) {{\n",
              "        var display = window.getComputedStyle(gd).display;\n",
              "        if (!display || display === 'none') {{\n",
              "            console.log([gd, 'removed!']);\n",
              "            Plotly.purge(gd);\n",
              "            observer.disconnect();\n",
              "        }}\n",
              "}});\n",
              "\n",
              "// Listen for the removal of the full notebook cells\n",
              "var notebookContainer = gd.closest('#notebook-container');\n",
              "if (notebookContainer) {{\n",
              "    x.observe(notebookContainer, {childList: true});\n",
              "}}\n",
              "\n",
              "// Listen for the clearing of the current output cell\n",
              "var outputEl = gd.closest('.output');\n",
              "if (outputEl) {{\n",
              "    x.observe(outputEl, {childList: true});\n",
              "}}\n",
              "\n",
              "                        })                };                            </script>        </div>\n",
              "</body>\n",
              "</html>"
            ]
          },
          "metadata": {}
        }
      ],
      "source": [
        "import plotly.graph_objects as go\n",
        "\n",
        "\n",
        "# Create traces\n",
        "fig = go.Figure()\n",
        "fig.add_trace(go.Scatter(x=input_index, y=y_pred_0.reshape(125,),\n",
        "                    mode='lines',\n",
        "                    name='LSTM 0: MSE 1.8e-15'))\n",
        "fig.add_trace(go.Scatter(x=input_index, y=y_pred_1.reshape(125,),\n",
        "                    mode='lines',\n",
        "                    name='LSTM 1: MSE 1.2e-15'))\n",
        "fig.add_trace(go.Scatter(x=input_index, y=y_pred_2.reshape(125,),\n",
        "                    mode='lines', name='LSTM 2: MSE 6.3e-15'))\n",
        "fig.add_trace(go.Scatter(x=input_index, y=y_reals.reshape(125,),\n",
        "                    mode='lines+markers', name='Real Values'))\n",
        "\n",
        "fig.update_layout(\n",
        "    title_text=\"Predictions of 4 Models\",\n",
        "    xaxis_title=\"Date/Time\",\n",
        "    yaxis_title=\"Shiba Price\",)\n",
        "fig.show()\n"
      ]
    },
    {
      "cell_type": "code",
      "execution_count": null,
      "metadata": {
        "id": "He7uEdnTNvdv",
        "colab": {
          "base_uri": "https://localhost:8080/",
          "height": 542
        },
        "outputId": "eea5ccc1-5664-46ec-b85c-6c45c3b9b61e"
      },
      "outputs": [
        {
          "output_type": "display_data",
          "data": {
            "text/html": [
              "<html>\n",
              "<head><meta charset=\"utf-8\" /></head>\n",
              "<body>\n",
              "    <div>            <script src=\"https://cdnjs.cloudflare.com/ajax/libs/mathjax/2.7.5/MathJax.js?config=TeX-AMS-MML_SVG\"></script><script type=\"text/javascript\">if (window.MathJax) {MathJax.Hub.Config({SVG: {font: \"STIX-Web\"}});}</script>                <script type=\"text/javascript\">window.PlotlyConfig = {MathJaxConfig: 'local'};</script>\n",
              "        <script src=\"https://cdn.plot.ly/plotly-2.8.3.min.js\"></script>                <div id=\"70633013-55db-43c6-bdfd-28e29a497fa9\" class=\"plotly-graph-div\" style=\"height:525px; width:100%;\"></div>            <script type=\"text/javascript\">                                    window.PLOTLYENV=window.PLOTLYENV || {};                                    if (document.getElementById(\"70633013-55db-43c6-bdfd-28e29a497fa9\")) {                    Plotly.newPlot(                        \"70633013-55db-43c6-bdfd-28e29a497fa9\",                        [{\"name\":\"R-Squared\",\"text\":[\"0.83\",\"0.89\",\"0.41\",\"0.96\"],\"x\":[\"LSTM 0\",\"LSTM 1\",\"LSTM 2\",\"Naive Predictions\"],\"y\":[0.83,0.89,0.41,0.96],\"type\":\"bar\"},{\"name\":\"Binary Accuracy\",\"text\":[\"0.56\",\"0.52\",\"0.56\",\"0.65\"],\"x\":[\"LSTM 0\",\"LSTM 1\",\"LSTM 2\",\"Naive Predictions\"],\"y\":[0.56,0.52,0.56,0.65],\"type\":\"bar\"}],                        {\"template\":{\"data\":{\"bar\":[{\"error_x\":{\"color\":\"#2a3f5f\"},\"error_y\":{\"color\":\"#2a3f5f\"},\"marker\":{\"line\":{\"color\":\"#E5ECF6\",\"width\":0.5},\"pattern\":{\"fillmode\":\"overlay\",\"size\":10,\"solidity\":0.2}},\"type\":\"bar\"}],\"barpolar\":[{\"marker\":{\"line\":{\"color\":\"#E5ECF6\",\"width\":0.5},\"pattern\":{\"fillmode\":\"overlay\",\"size\":10,\"solidity\":0.2}},\"type\":\"barpolar\"}],\"carpet\":[{\"aaxis\":{\"endlinecolor\":\"#2a3f5f\",\"gridcolor\":\"white\",\"linecolor\":\"white\",\"minorgridcolor\":\"white\",\"startlinecolor\":\"#2a3f5f\"},\"baxis\":{\"endlinecolor\":\"#2a3f5f\",\"gridcolor\":\"white\",\"linecolor\":\"white\",\"minorgridcolor\":\"white\",\"startlinecolor\":\"#2a3f5f\"},\"type\":\"carpet\"}],\"choropleth\":[{\"colorbar\":{\"outlinewidth\":0,\"ticks\":\"\"},\"type\":\"choropleth\"}],\"contour\":[{\"colorbar\":{\"outlinewidth\":0,\"ticks\":\"\"},\"colorscale\":[[0.0,\"#0d0887\"],[0.1111111111111111,\"#46039f\"],[0.2222222222222222,\"#7201a8\"],[0.3333333333333333,\"#9c179e\"],[0.4444444444444444,\"#bd3786\"],[0.5555555555555556,\"#d8576b\"],[0.6666666666666666,\"#ed7953\"],[0.7777777777777778,\"#fb9f3a\"],[0.8888888888888888,\"#fdca26\"],[1.0,\"#f0f921\"]],\"type\":\"contour\"}],\"contourcarpet\":[{\"colorbar\":{\"outlinewidth\":0,\"ticks\":\"\"},\"type\":\"contourcarpet\"}],\"heatmap\":[{\"colorbar\":{\"outlinewidth\":0,\"ticks\":\"\"},\"colorscale\":[[0.0,\"#0d0887\"],[0.1111111111111111,\"#46039f\"],[0.2222222222222222,\"#7201a8\"],[0.3333333333333333,\"#9c179e\"],[0.4444444444444444,\"#bd3786\"],[0.5555555555555556,\"#d8576b\"],[0.6666666666666666,\"#ed7953\"],[0.7777777777777778,\"#fb9f3a\"],[0.8888888888888888,\"#fdca26\"],[1.0,\"#f0f921\"]],\"type\":\"heatmap\"}],\"heatmapgl\":[{\"colorbar\":{\"outlinewidth\":0,\"ticks\":\"\"},\"colorscale\":[[0.0,\"#0d0887\"],[0.1111111111111111,\"#46039f\"],[0.2222222222222222,\"#7201a8\"],[0.3333333333333333,\"#9c179e\"],[0.4444444444444444,\"#bd3786\"],[0.5555555555555556,\"#d8576b\"],[0.6666666666666666,\"#ed7953\"],[0.7777777777777778,\"#fb9f3a\"],[0.8888888888888888,\"#fdca26\"],[1.0,\"#f0f921\"]],\"type\":\"heatmapgl\"}],\"histogram\":[{\"marker\":{\"pattern\":{\"fillmode\":\"overlay\",\"size\":10,\"solidity\":0.2}},\"type\":\"histogram\"}],\"histogram2d\":[{\"colorbar\":{\"outlinewidth\":0,\"ticks\":\"\"},\"colorscale\":[[0.0,\"#0d0887\"],[0.1111111111111111,\"#46039f\"],[0.2222222222222222,\"#7201a8\"],[0.3333333333333333,\"#9c179e\"],[0.4444444444444444,\"#bd3786\"],[0.5555555555555556,\"#d8576b\"],[0.6666666666666666,\"#ed7953\"],[0.7777777777777778,\"#fb9f3a\"],[0.8888888888888888,\"#fdca26\"],[1.0,\"#f0f921\"]],\"type\":\"histogram2d\"}],\"histogram2dcontour\":[{\"colorbar\":{\"outlinewidth\":0,\"ticks\":\"\"},\"colorscale\":[[0.0,\"#0d0887\"],[0.1111111111111111,\"#46039f\"],[0.2222222222222222,\"#7201a8\"],[0.3333333333333333,\"#9c179e\"],[0.4444444444444444,\"#bd3786\"],[0.5555555555555556,\"#d8576b\"],[0.6666666666666666,\"#ed7953\"],[0.7777777777777778,\"#fb9f3a\"],[0.8888888888888888,\"#fdca26\"],[1.0,\"#f0f921\"]],\"type\":\"histogram2dcontour\"}],\"mesh3d\":[{\"colorbar\":{\"outlinewidth\":0,\"ticks\":\"\"},\"type\":\"mesh3d\"}],\"parcoords\":[{\"line\":{\"colorbar\":{\"outlinewidth\":0,\"ticks\":\"\"}},\"type\":\"parcoords\"}],\"pie\":[{\"automargin\":true,\"type\":\"pie\"}],\"scatter\":[{\"marker\":{\"colorbar\":{\"outlinewidth\":0,\"ticks\":\"\"}},\"type\":\"scatter\"}],\"scatter3d\":[{\"line\":{\"colorbar\":{\"outlinewidth\":0,\"ticks\":\"\"}},\"marker\":{\"colorbar\":{\"outlinewidth\":0,\"ticks\":\"\"}},\"type\":\"scatter3d\"}],\"scattercarpet\":[{\"marker\":{\"colorbar\":{\"outlinewidth\":0,\"ticks\":\"\"}},\"type\":\"scattercarpet\"}],\"scattergeo\":[{\"marker\":{\"colorbar\":{\"outlinewidth\":0,\"ticks\":\"\"}},\"type\":\"scattergeo\"}],\"scattergl\":[{\"marker\":{\"colorbar\":{\"outlinewidth\":0,\"ticks\":\"\"}},\"type\":\"scattergl\"}],\"scattermapbox\":[{\"marker\":{\"colorbar\":{\"outlinewidth\":0,\"ticks\":\"\"}},\"type\":\"scattermapbox\"}],\"scatterpolar\":[{\"marker\":{\"colorbar\":{\"outlinewidth\":0,\"ticks\":\"\"}},\"type\":\"scatterpolar\"}],\"scatterpolargl\":[{\"marker\":{\"colorbar\":{\"outlinewidth\":0,\"ticks\":\"\"}},\"type\":\"scatterpolargl\"}],\"scatterternary\":[{\"marker\":{\"colorbar\":{\"outlinewidth\":0,\"ticks\":\"\"}},\"type\":\"scatterternary\"}],\"surface\":[{\"colorbar\":{\"outlinewidth\":0,\"ticks\":\"\"},\"colorscale\":[[0.0,\"#0d0887\"],[0.1111111111111111,\"#46039f\"],[0.2222222222222222,\"#7201a8\"],[0.3333333333333333,\"#9c179e\"],[0.4444444444444444,\"#bd3786\"],[0.5555555555555556,\"#d8576b\"],[0.6666666666666666,\"#ed7953\"],[0.7777777777777778,\"#fb9f3a\"],[0.8888888888888888,\"#fdca26\"],[1.0,\"#f0f921\"]],\"type\":\"surface\"}],\"table\":[{\"cells\":{\"fill\":{\"color\":\"#EBF0F8\"},\"line\":{\"color\":\"white\"}},\"header\":{\"fill\":{\"color\":\"#C8D4E3\"},\"line\":{\"color\":\"white\"}},\"type\":\"table\"}]},\"layout\":{\"annotationdefaults\":{\"arrowcolor\":\"#2a3f5f\",\"arrowhead\":0,\"arrowwidth\":1},\"autotypenumbers\":\"strict\",\"coloraxis\":{\"colorbar\":{\"outlinewidth\":0,\"ticks\":\"\"}},\"colorscale\":{\"diverging\":[[0,\"#8e0152\"],[0.1,\"#c51b7d\"],[0.2,\"#de77ae\"],[0.3,\"#f1b6da\"],[0.4,\"#fde0ef\"],[0.5,\"#f7f7f7\"],[0.6,\"#e6f5d0\"],[0.7,\"#b8e186\"],[0.8,\"#7fbc41\"],[0.9,\"#4d9221\"],[1,\"#276419\"]],\"sequential\":[[0.0,\"#0d0887\"],[0.1111111111111111,\"#46039f\"],[0.2222222222222222,\"#7201a8\"],[0.3333333333333333,\"#9c179e\"],[0.4444444444444444,\"#bd3786\"],[0.5555555555555556,\"#d8576b\"],[0.6666666666666666,\"#ed7953\"],[0.7777777777777778,\"#fb9f3a\"],[0.8888888888888888,\"#fdca26\"],[1.0,\"#f0f921\"]],\"sequentialminus\":[[0.0,\"#0d0887\"],[0.1111111111111111,\"#46039f\"],[0.2222222222222222,\"#7201a8\"],[0.3333333333333333,\"#9c179e\"],[0.4444444444444444,\"#bd3786\"],[0.5555555555555556,\"#d8576b\"],[0.6666666666666666,\"#ed7953\"],[0.7777777777777778,\"#fb9f3a\"],[0.8888888888888888,\"#fdca26\"],[1.0,\"#f0f921\"]]},\"colorway\":[\"#636efa\",\"#EF553B\",\"#00cc96\",\"#ab63fa\",\"#FFA15A\",\"#19d3f3\",\"#FF6692\",\"#B6E880\",\"#FF97FF\",\"#FECB52\"],\"font\":{\"color\":\"#2a3f5f\"},\"geo\":{\"bgcolor\":\"white\",\"lakecolor\":\"white\",\"landcolor\":\"#E5ECF6\",\"showlakes\":true,\"showland\":true,\"subunitcolor\":\"white\"},\"hoverlabel\":{\"align\":\"left\"},\"hovermode\":\"closest\",\"mapbox\":{\"style\":\"light\"},\"paper_bgcolor\":\"white\",\"plot_bgcolor\":\"#E5ECF6\",\"polar\":{\"angularaxis\":{\"gridcolor\":\"white\",\"linecolor\":\"white\",\"ticks\":\"\"},\"bgcolor\":\"#E5ECF6\",\"radialaxis\":{\"gridcolor\":\"white\",\"linecolor\":\"white\",\"ticks\":\"\"}},\"scene\":{\"xaxis\":{\"backgroundcolor\":\"#E5ECF6\",\"gridcolor\":\"white\",\"gridwidth\":2,\"linecolor\":\"white\",\"showbackground\":true,\"ticks\":\"\",\"zerolinecolor\":\"white\"},\"yaxis\":{\"backgroundcolor\":\"#E5ECF6\",\"gridcolor\":\"white\",\"gridwidth\":2,\"linecolor\":\"white\",\"showbackground\":true,\"ticks\":\"\",\"zerolinecolor\":\"white\"},\"zaxis\":{\"backgroundcolor\":\"#E5ECF6\",\"gridcolor\":\"white\",\"gridwidth\":2,\"linecolor\":\"white\",\"showbackground\":true,\"ticks\":\"\",\"zerolinecolor\":\"white\"}},\"shapedefaults\":{\"line\":{\"color\":\"#2a3f5f\"}},\"ternary\":{\"aaxis\":{\"gridcolor\":\"white\",\"linecolor\":\"white\",\"ticks\":\"\"},\"baxis\":{\"gridcolor\":\"white\",\"linecolor\":\"white\",\"ticks\":\"\"},\"bgcolor\":\"#E5ECF6\",\"caxis\":{\"gridcolor\":\"white\",\"linecolor\":\"white\",\"ticks\":\"\"}},\"title\":{\"x\":0.05},\"xaxis\":{\"automargin\":true,\"gridcolor\":\"white\",\"linecolor\":\"white\",\"ticks\":\"\",\"title\":{\"standoff\":15},\"zerolinecolor\":\"white\",\"zerolinewidth\":2},\"yaxis\":{\"automargin\":true,\"gridcolor\":\"white\",\"linecolor\":\"white\",\"ticks\":\"\",\"title\":{\"standoff\":15},\"zerolinecolor\":\"white\",\"zerolinewidth\":2}}},\"title\":{\"text\":\"Accuracy for 4 Models\"},\"barmode\":\"group\",\"yaxis\":{\"title\":{\"text\":\"Percent\"}}},                        {\"responsive\": true}                    ).then(function(){\n",
              "                            \n",
              "var gd = document.getElementById('70633013-55db-43c6-bdfd-28e29a497fa9');\n",
              "var x = new MutationObserver(function (mutations, observer) {{\n",
              "        var display = window.getComputedStyle(gd).display;\n",
              "        if (!display || display === 'none') {{\n",
              "            console.log([gd, 'removed!']);\n",
              "            Plotly.purge(gd);\n",
              "            observer.disconnect();\n",
              "        }}\n",
              "}});\n",
              "\n",
              "// Listen for the removal of the full notebook cells\n",
              "var notebookContainer = gd.closest('#notebook-container');\n",
              "if (notebookContainer) {{\n",
              "    x.observe(notebookContainer, {childList: true});\n",
              "}}\n",
              "\n",
              "// Listen for the clearing of the current output cell\n",
              "var outputEl = gd.closest('.output');\n",
              "if (outputEl) {{\n",
              "    x.observe(outputEl, {childList: true});\n",
              "}}\n",
              "\n",
              "                        })                };                            </script>        </div>\n",
              "</body>\n",
              "</html>"
            ]
          },
          "metadata": {}
        }
      ],
      "source": [
        "binary_accuracy = [accuracy_lstm_0, accuracy_lstm_1, accuracy_lstm_2, accuracy_naive]\n",
        "binary_accuracy = [round(i, 2) for i in binary_accuracy]\n",
        "r_squareds = [r_squared(y_pred_0), r_squared(y_pred_1), r_squared(y_pred_2), r_squared(naive_predictions)]\n",
        "r_squareds = [round(i, 2) for i in r_squareds]\n",
        "fig = go.Figure(data=[\n",
        "                      go.Bar(name = 'R-Squared', x=['LSTM 0', 'LSTM 1', 'LSTM 2', 'Naive Predictions'], y=r_squareds, text=r_squareds),\n",
        "                      go.Bar(name = 'Binary Accuracy', x=['LSTM 0', 'LSTM 1', 'LSTM 2', 'Naive Predictions'], y=binary_accuracy, text=binary_accuracy)])\n",
        "fig.update_layout(barmode='group', title_text='Accuracy for 4 Models', yaxis_title='Percent')\n",
        "fig.show()"
      ]
    },
    {
      "cell_type": "markdown",
      "source": [
        "# Conclusion\n",
        "While the LSTMS seem able to track the true prices in general, they are not able to outperform the naive models. Indeed, many people believe that for processes with so much noise, like currency prices, simpler models may perform best. \n",
        "\n",
        "Also, the LSTM with 2 Bidirectional, and just one dense output layer seems to perform best. It may be the case that making the model deeper and deeper may in fact improve accuracy over time. \n",
        "\n",
        "However, there are also other methods that can be attempted for predicting crytpocurrency prices. First, an LSTM may put too much weight on the past-- only the most recent prices may matter. Second, an LSTM doesn't fully capture complex autoregressive behavior. \n",
        "\n",
        "It also may be true that the Shiba Inu coin is simply independent of the other coin prices. Purchases of Shiba Inu may not be heavily invested in other coins. It may be a reasonable strategy to see if other coins have had better performance."
      ],
      "metadata": {
        "id": "Sfy86s0ZJAe7"
      }
    }
  ],
  "metadata": {
    "accelerator": "GPU",
    "colab": {
      "collapsed_sections": [],
      "machine_shape": "hm",
      "name": "Midterm Project.ipynb",
      "provenance": []
    },
    "kernelspec": {
      "display_name": "Python 3",
      "name": "python3"
    },
    "language_info": {
      "name": "python"
    }
  },
  "nbformat": 4,
  "nbformat_minor": 0
}